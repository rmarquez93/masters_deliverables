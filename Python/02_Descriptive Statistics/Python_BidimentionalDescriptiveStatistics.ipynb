{
  "nbformat": 4,
  "nbformat_minor": 0,
  "metadata": {
    "colab": {
      "name": "M2_AI3_MarquezRodrigo.ipynb",
      "provenance": [],
      "collapsed_sections": []
    },
    "kernelspec": {
      "name": "python3",
      "display_name": "Python 3"
    },
    "language_info": {
      "name": "python"
    }
  },
  "cells": [
    {
      "cell_type": "code",
      "execution_count": null,
      "metadata": {
        "id": "VK2YLN5F5d4U"
      },
      "outputs": [],
      "source": [
        "import pandas as pd\n",
        "import numpy as np\n",
        "import matplotlib.pyplot as plt\n",
        "import seaborn as sns\n"
      ]
    },
    {
      "cell_type": "code",
      "source": [
        "url = \"https://raw.githubusercontent.com/md-lorente/data/master/datos_ventas.csv\"\n",
        "\n",
        "datav_df = pd.read_csv(url, sep= \";\")\n",
        "\n",
        "#Modificación de valores numéricos para que se puedan tratar como tales.\n",
        "\n",
        "datav_df[\"Inversion\"].replace(\",\",\".\", inplace=True, regex=True)\n",
        "datav_df[\"Inversion\"] = datav_df[\"Inversion\"].astype(np.float64)\n",
        "datav_df[\"Ventas\"].replace(\",\",\".\", inplace=True, regex=True)\n",
        "datav_df[\"Ventas\"] = datav_df[\"Ventas\"].astype(np.float64)\n",
        "\n",
        "datav_df.head(5)"
      ],
      "metadata": {
        "colab": {
          "base_uri": "https://localhost:8080/",
          "height": 206
        },
        "id": "bjRkq3BL5juk",
        "outputId": "220f9ec8-6f82-45b6-cf20-9413ccb65226"
      },
      "execution_count": null,
      "outputs": [
        {
          "output_type": "execute_result",
          "data": {
            "text/html": [
              "\n",
              "  <div id=\"df-b84d525e-b148-406b-b789-b072e13ae8e1\">\n",
              "    <div class=\"colab-df-container\">\n",
              "      <div>\n",
              "<style scoped>\n",
              "    .dataframe tbody tr th:only-of-type {\n",
              "        vertical-align: middle;\n",
              "    }\n",
              "\n",
              "    .dataframe tbody tr th {\n",
              "        vertical-align: top;\n",
              "    }\n",
              "\n",
              "    .dataframe thead th {\n",
              "        text-align: right;\n",
              "    }\n",
              "</style>\n",
              "<table border=\"1\" class=\"dataframe\">\n",
              "  <thead>\n",
              "    <tr style=\"text-align: right;\">\n",
              "      <th></th>\n",
              "      <th>Fecha_anual</th>\n",
              "      <th>Inversion</th>\n",
              "      <th>Ventas</th>\n",
              "    </tr>\n",
              "  </thead>\n",
              "  <tbody>\n",
              "    <tr>\n",
              "      <th>0</th>\n",
              "      <td>1980</td>\n",
              "      <td>1.0</td>\n",
              "      <td>4.61</td>\n",
              "    </tr>\n",
              "    <tr>\n",
              "      <th>1</th>\n",
              "      <td>1981</td>\n",
              "      <td>1.5</td>\n",
              "      <td>5.18</td>\n",
              "    </tr>\n",
              "    <tr>\n",
              "      <th>2</th>\n",
              "      <td>1982</td>\n",
              "      <td>2.0</td>\n",
              "      <td>5.09</td>\n",
              "    </tr>\n",
              "    <tr>\n",
              "      <th>3</th>\n",
              "      <td>1983</td>\n",
              "      <td>2.5</td>\n",
              "      <td>5.44</td>\n",
              "    </tr>\n",
              "    <tr>\n",
              "      <th>4</th>\n",
              "      <td>1984</td>\n",
              "      <td>3.0</td>\n",
              "      <td>0.62</td>\n",
              "    </tr>\n",
              "  </tbody>\n",
              "</table>\n",
              "</div>\n",
              "      <button class=\"colab-df-convert\" onclick=\"convertToInteractive('df-b84d525e-b148-406b-b789-b072e13ae8e1')\"\n",
              "              title=\"Convert this dataframe to an interactive table.\"\n",
              "              style=\"display:none;\">\n",
              "        \n",
              "  <svg xmlns=\"http://www.w3.org/2000/svg\" height=\"24px\"viewBox=\"0 0 24 24\"\n",
              "       width=\"24px\">\n",
              "    <path d=\"M0 0h24v24H0V0z\" fill=\"none\"/>\n",
              "    <path d=\"M18.56 5.44l.94 2.06.94-2.06 2.06-.94-2.06-.94-.94-2.06-.94 2.06-2.06.94zm-11 1L8.5 8.5l.94-2.06 2.06-.94-2.06-.94L8.5 2.5l-.94 2.06-2.06.94zm10 10l.94 2.06.94-2.06 2.06-.94-2.06-.94-.94-2.06-.94 2.06-2.06.94z\"/><path d=\"M17.41 7.96l-1.37-1.37c-.4-.4-.92-.59-1.43-.59-.52 0-1.04.2-1.43.59L10.3 9.45l-7.72 7.72c-.78.78-.78 2.05 0 2.83L4 21.41c.39.39.9.59 1.41.59.51 0 1.02-.2 1.41-.59l7.78-7.78 2.81-2.81c.8-.78.8-2.07 0-2.86zM5.41 20L4 18.59l7.72-7.72 1.47 1.35L5.41 20z\"/>\n",
              "  </svg>\n",
              "      </button>\n",
              "      \n",
              "  <style>\n",
              "    .colab-df-container {\n",
              "      display:flex;\n",
              "      flex-wrap:wrap;\n",
              "      gap: 12px;\n",
              "    }\n",
              "\n",
              "    .colab-df-convert {\n",
              "      background-color: #E8F0FE;\n",
              "      border: none;\n",
              "      border-radius: 50%;\n",
              "      cursor: pointer;\n",
              "      display: none;\n",
              "      fill: #1967D2;\n",
              "      height: 32px;\n",
              "      padding: 0 0 0 0;\n",
              "      width: 32px;\n",
              "    }\n",
              "\n",
              "    .colab-df-convert:hover {\n",
              "      background-color: #E2EBFA;\n",
              "      box-shadow: 0px 1px 2px rgba(60, 64, 67, 0.3), 0px 1px 3px 1px rgba(60, 64, 67, 0.15);\n",
              "      fill: #174EA6;\n",
              "    }\n",
              "\n",
              "    [theme=dark] .colab-df-convert {\n",
              "      background-color: #3B4455;\n",
              "      fill: #D2E3FC;\n",
              "    }\n",
              "\n",
              "    [theme=dark] .colab-df-convert:hover {\n",
              "      background-color: #434B5C;\n",
              "      box-shadow: 0px 1px 3px 1px rgba(0, 0, 0, 0.15);\n",
              "      filter: drop-shadow(0px 1px 2px rgba(0, 0, 0, 0.3));\n",
              "      fill: #FFFFFF;\n",
              "    }\n",
              "  </style>\n",
              "\n",
              "      <script>\n",
              "        const buttonEl =\n",
              "          document.querySelector('#df-b84d525e-b148-406b-b789-b072e13ae8e1 button.colab-df-convert');\n",
              "        buttonEl.style.display =\n",
              "          google.colab.kernel.accessAllowed ? 'block' : 'none';\n",
              "\n",
              "        async function convertToInteractive(key) {\n",
              "          const element = document.querySelector('#df-b84d525e-b148-406b-b789-b072e13ae8e1');\n",
              "          const dataTable =\n",
              "            await google.colab.kernel.invokeFunction('convertToInteractive',\n",
              "                                                     [key], {});\n",
              "          if (!dataTable) return;\n",
              "\n",
              "          const docLinkHtml = 'Like what you see? Visit the ' +\n",
              "            '<a target=\"_blank\" href=https://colab.research.google.com/notebooks/data_table.ipynb>data table notebook</a>'\n",
              "            + ' to learn more about interactive tables.';\n",
              "          element.innerHTML = '';\n",
              "          dataTable['output_type'] = 'display_data';\n",
              "          await google.colab.output.renderOutput(dataTable, element);\n",
              "          const docLink = document.createElement('div');\n",
              "          docLink.innerHTML = docLinkHtml;\n",
              "          element.appendChild(docLink);\n",
              "        }\n",
              "      </script>\n",
              "    </div>\n",
              "  </div>\n",
              "  "
            ],
            "text/plain": [
              "   Fecha_anual  Inversion  Ventas\n",
              "0         1980        1.0    4.61\n",
              "1         1981        1.5    5.18\n",
              "2         1982        2.0    5.09\n",
              "3         1983        2.5    5.44\n",
              "4         1984        3.0    0.62"
            ]
          },
          "metadata": {},
          "execution_count": 2
        }
      ]
    },
    {
      "cell_type": "code",
      "source": [
        "#Revisión de datos nulos del data set.\n",
        "\n",
        "print(\"Datos nulos: \\n{}\".format(datav_df.isnull().any()))\n",
        "\n",
        "print(\"\\nForma: \\n{}\\n\".format(datav_df.shape))\n",
        "\n",
        "print(datav_df.info())"
      ],
      "metadata": {
        "colab": {
          "base_uri": "https://localhost:8080/"
        },
        "id": "HZ_77-zzH6Dn",
        "outputId": "4c219f96-feb2-435e-d371-70acd6a7a58f"
      },
      "execution_count": null,
      "outputs": [
        {
          "output_type": "stream",
          "name": "stdout",
          "text": [
            "Datos nulos: \n",
            "Fecha_anual    False\n",
            "Inversion      False\n",
            "Ventas         False\n",
            "dtype: bool\n",
            "\n",
            "Forma: \n",
            "(38, 3)\n",
            "\n",
            "<class 'pandas.core.frame.DataFrame'>\n",
            "RangeIndex: 38 entries, 0 to 37\n",
            "Data columns (total 3 columns):\n",
            " #   Column       Non-Null Count  Dtype  \n",
            "---  ------       --------------  -----  \n",
            " 0   Fecha_anual  38 non-null     int64  \n",
            " 1   Inversion    38 non-null     float64\n",
            " 2   Ventas       38 non-null     float64\n",
            "dtypes: float64(2), int64(1)\n",
            "memory usage: 1.0 KB\n",
            "None\n"
          ]
        }
      ]
    },
    {
      "cell_type": "markdown",
      "source": [
        "El dataset está compuesto por tres variables con 38 observaciones. De las mismas, no se encontraron valores nulos al ser explorado. Se puede decir entonces que hay calidad suficiente para continuar con el estudio del mismo.\n",
        "\n",
        "Con respecto al análisis de las variables, si bien el año refiere al tiempo (el cual es una variable cuantitativa continua que puede tomar infinitos valores), lo tomaremos como una variable categórica ordinal a efectos del análisis. Esto se debe a que no se van a realizar operaciones con la variable, sino que permite principalmente categorizar y ordenar la información en función del tiempo.\n",
        "Para el caso de las dos restantes variables (ventas e inversión), ambas son variables cuantitativas continuas que pueden tomar infinitos valores y se comportan de manera similar a variables analizadas en prácticas anteriores (ej.: Precio)."
      ],
      "metadata": {
        "id": "KcEzTgypKkgJ"
      }
    },
    {
      "cell_type": "markdown",
      "source": [
        "Para la recta de regresión, voy a tomar a \"X\" como el valor de la inversión y a \"Y\" como el valor de las ventas. El motivo principal por el cual tomo este criterio es que la inversión es un valor que deberíamos poder controlar dentro de una compañía, mientras que las ventas es una variable que responde a la misma. Si tomamos la inversión como aquella destinada a potenciar las ventas (ej.: inversión en mercadeo, logística, producción, etc.) podemos decir que la inversión será una variable explicativa de las ventas."
      ],
      "metadata": {
        "id": "N4ZzQUOdNAnq"
      }
    },
    {
      "cell_type": "code",
      "source": [
        "#Regla Sturges para intervalos\n",
        "print(1+3.22*np.log10(len(datav_df)))"
      ],
      "metadata": {
        "colab": {
          "base_uri": "https://localhost:8080/"
        },
        "id": "B-M5zx9yPTqE",
        "outputId": "2b7e5940-9525-42a7-f3c2-7d12516500e9"
      },
      "execution_count": null,
      "outputs": [
        {
          "output_type": "stream",
          "name": "stdout",
          "text": [
            "6.086903181106129\n"
          ]
        }
      ]
    },
    {
      "cell_type": "code",
      "source": [
        "#Tomando 6 intervalos, genero un tabla de doble entrada para tener una primera exploración de la relación de ambas variables\n",
        "\n",
        "inversion = pd.qcut(datav_df[\"Inversion\"], 6)\n",
        "ventas = pd.qcut(datav_df[\"Ventas\"], 6)\n",
        "pd.crosstab(ventas, inversion)\n"
      ],
      "metadata": {
        "colab": {
          "base_uri": "https://localhost:8080/",
          "height": 269
        },
        "id": "QyFGCMlGMoze",
        "outputId": "75c8a30c-80d9-44eb-9d74-04b288226be0"
      },
      "execution_count": null,
      "outputs": [
        {
          "output_type": "execute_result",
          "data": {
            "text/html": [
              "\n",
              "  <div id=\"df-61a5cb6f-aff2-4404-a7cf-ab784f8802a4\">\n",
              "    <div class=\"colab-df-container\">\n",
              "      <div>\n",
              "<style scoped>\n",
              "    .dataframe tbody tr th:only-of-type {\n",
              "        vertical-align: middle;\n",
              "    }\n",
              "\n",
              "    .dataframe tbody tr th {\n",
              "        vertical-align: top;\n",
              "    }\n",
              "\n",
              "    .dataframe thead th {\n",
              "        text-align: right;\n",
              "    }\n",
              "</style>\n",
              "<table border=\"1\" class=\"dataframe\">\n",
              "  <thead>\n",
              "    <tr style=\"text-align: right;\">\n",
              "      <th>Inversion</th>\n",
              "      <th>(0.999, 4.083]</th>\n",
              "      <th>(4.083, 7.167]</th>\n",
              "      <th>(7.167, 10.25]</th>\n",
              "      <th>(10.25, 13.333]</th>\n",
              "      <th>(13.333, 16.417]</th>\n",
              "      <th>(16.417, 19.5]</th>\n",
              "    </tr>\n",
              "    <tr>\n",
              "      <th>Ventas</th>\n",
              "      <th></th>\n",
              "      <th></th>\n",
              "      <th></th>\n",
              "      <th></th>\n",
              "      <th></th>\n",
              "      <th></th>\n",
              "    </tr>\n",
              "  </thead>\n",
              "  <tbody>\n",
              "    <tr>\n",
              "      <th>(0.619, 6.498]</th>\n",
              "      <td>7</td>\n",
              "      <td>0</td>\n",
              "      <td>0</td>\n",
              "      <td>0</td>\n",
              "      <td>0</td>\n",
              "      <td>0</td>\n",
              "    </tr>\n",
              "    <tr>\n",
              "      <th>(6.498, 8.433]</th>\n",
              "      <td>0</td>\n",
              "      <td>6</td>\n",
              "      <td>0</td>\n",
              "      <td>0</td>\n",
              "      <td>0</td>\n",
              "      <td>0</td>\n",
              "    </tr>\n",
              "    <tr>\n",
              "      <th>(8.433, 11.08]</th>\n",
              "      <td>0</td>\n",
              "      <td>0</td>\n",
              "      <td>5</td>\n",
              "      <td>1</td>\n",
              "      <td>0</td>\n",
              "      <td>0</td>\n",
              "    </tr>\n",
              "    <tr>\n",
              "      <th>(11.08, 12.55]</th>\n",
              "      <td>0</td>\n",
              "      <td>0</td>\n",
              "      <td>1</td>\n",
              "      <td>4</td>\n",
              "      <td>1</td>\n",
              "      <td>0</td>\n",
              "    </tr>\n",
              "    <tr>\n",
              "      <th>(12.55, 15.025]</th>\n",
              "      <td>0</td>\n",
              "      <td>0</td>\n",
              "      <td>0</td>\n",
              "      <td>1</td>\n",
              "      <td>4</td>\n",
              "      <td>1</td>\n",
              "    </tr>\n",
              "    <tr>\n",
              "      <th>(15.025, 17.45]</th>\n",
              "      <td>0</td>\n",
              "      <td>0</td>\n",
              "      <td>0</td>\n",
              "      <td>0</td>\n",
              "      <td>1</td>\n",
              "      <td>6</td>\n",
              "    </tr>\n",
              "  </tbody>\n",
              "</table>\n",
              "</div>\n",
              "      <button class=\"colab-df-convert\" onclick=\"convertToInteractive('df-61a5cb6f-aff2-4404-a7cf-ab784f8802a4')\"\n",
              "              title=\"Convert this dataframe to an interactive table.\"\n",
              "              style=\"display:none;\">\n",
              "        \n",
              "  <svg xmlns=\"http://www.w3.org/2000/svg\" height=\"24px\"viewBox=\"0 0 24 24\"\n",
              "       width=\"24px\">\n",
              "    <path d=\"M0 0h24v24H0V0z\" fill=\"none\"/>\n",
              "    <path d=\"M18.56 5.44l.94 2.06.94-2.06 2.06-.94-2.06-.94-.94-2.06-.94 2.06-2.06.94zm-11 1L8.5 8.5l.94-2.06 2.06-.94-2.06-.94L8.5 2.5l-.94 2.06-2.06.94zm10 10l.94 2.06.94-2.06 2.06-.94-2.06-.94-.94-2.06-.94 2.06-2.06.94z\"/><path d=\"M17.41 7.96l-1.37-1.37c-.4-.4-.92-.59-1.43-.59-.52 0-1.04.2-1.43.59L10.3 9.45l-7.72 7.72c-.78.78-.78 2.05 0 2.83L4 21.41c.39.39.9.59 1.41.59.51 0 1.02-.2 1.41-.59l7.78-7.78 2.81-2.81c.8-.78.8-2.07 0-2.86zM5.41 20L4 18.59l7.72-7.72 1.47 1.35L5.41 20z\"/>\n",
              "  </svg>\n",
              "      </button>\n",
              "      \n",
              "  <style>\n",
              "    .colab-df-container {\n",
              "      display:flex;\n",
              "      flex-wrap:wrap;\n",
              "      gap: 12px;\n",
              "    }\n",
              "\n",
              "    .colab-df-convert {\n",
              "      background-color: #E8F0FE;\n",
              "      border: none;\n",
              "      border-radius: 50%;\n",
              "      cursor: pointer;\n",
              "      display: none;\n",
              "      fill: #1967D2;\n",
              "      height: 32px;\n",
              "      padding: 0 0 0 0;\n",
              "      width: 32px;\n",
              "    }\n",
              "\n",
              "    .colab-df-convert:hover {\n",
              "      background-color: #E2EBFA;\n",
              "      box-shadow: 0px 1px 2px rgba(60, 64, 67, 0.3), 0px 1px 3px 1px rgba(60, 64, 67, 0.15);\n",
              "      fill: #174EA6;\n",
              "    }\n",
              "\n",
              "    [theme=dark] .colab-df-convert {\n",
              "      background-color: #3B4455;\n",
              "      fill: #D2E3FC;\n",
              "    }\n",
              "\n",
              "    [theme=dark] .colab-df-convert:hover {\n",
              "      background-color: #434B5C;\n",
              "      box-shadow: 0px 1px 3px 1px rgba(0, 0, 0, 0.15);\n",
              "      filter: drop-shadow(0px 1px 2px rgba(0, 0, 0, 0.3));\n",
              "      fill: #FFFFFF;\n",
              "    }\n",
              "  </style>\n",
              "\n",
              "      <script>\n",
              "        const buttonEl =\n",
              "          document.querySelector('#df-61a5cb6f-aff2-4404-a7cf-ab784f8802a4 button.colab-df-convert');\n",
              "        buttonEl.style.display =\n",
              "          google.colab.kernel.accessAllowed ? 'block' : 'none';\n",
              "\n",
              "        async function convertToInteractive(key) {\n",
              "          const element = document.querySelector('#df-61a5cb6f-aff2-4404-a7cf-ab784f8802a4');\n",
              "          const dataTable =\n",
              "            await google.colab.kernel.invokeFunction('convertToInteractive',\n",
              "                                                     [key], {});\n",
              "          if (!dataTable) return;\n",
              "\n",
              "          const docLinkHtml = 'Like what you see? Visit the ' +\n",
              "            '<a target=\"_blank\" href=https://colab.research.google.com/notebooks/data_table.ipynb>data table notebook</a>'\n",
              "            + ' to learn more about interactive tables.';\n",
              "          element.innerHTML = '';\n",
              "          dataTable['output_type'] = 'display_data';\n",
              "          await google.colab.output.renderOutput(dataTable, element);\n",
              "          const docLink = document.createElement('div');\n",
              "          docLink.innerHTML = docLinkHtml;\n",
              "          element.appendChild(docLink);\n",
              "        }\n",
              "      </script>\n",
              "    </div>\n",
              "  </div>\n",
              "  "
            ],
            "text/plain": [
              "Inversion        (0.999, 4.083]  ...  (16.417, 19.5]\n",
              "Ventas                           ...                \n",
              "(0.619, 6.498]                7  ...               0\n",
              "(6.498, 8.433]                0  ...               0\n",
              "(8.433, 11.08]                0  ...               0\n",
              "(11.08, 12.55]                0  ...               0\n",
              "(12.55, 15.025]               0  ...               1\n",
              "(15.025, 17.45]               0  ...               6\n",
              "\n",
              "[6 rows x 6 columns]"
            ]
          },
          "metadata": {},
          "execution_count": 14
        }
      ]
    },
    {
      "cell_type": "code",
      "source": [
        "#Cálculo de la covarianza\n",
        "\n",
        "covarianza_ventas_inversion = datav_df[\"Inversion\"].cov(datav_df[\"Ventas\"])\n",
        "\n",
        "print(\"Covarianza: {}\".format(covarianza_ventas_inversion))"
      ],
      "metadata": {
        "colab": {
          "base_uri": "https://localhost:8080/"
        },
        "id": "K_6ImeQ9RACt",
        "outputId": "c21229c0-98fc-44d0-8f95-521f17fb89d4"
      },
      "execution_count": null,
      "outputs": [
        {
          "output_type": "stream",
          "name": "stdout",
          "text": [
            "Covarianza: 22.92993243243243\n"
          ]
        }
      ]
    },
    {
      "cell_type": "markdown",
      "source": [
        "A partir de la tabla de doble entrada anterior, se puede ver que existe relación entre ambas variables. De todas maneras, por la forma en que se segmentaron las variables, no se ve una relación de dependencia funcional recíproca a simple vista. Para analizar la relación de ambas variables debo seguir adelante con el análisis.\n",
        "\n",
        "Adicionalmente, al calcular la covarianza (2,93), podemos notar que ambas variables varían en el mismo sentido y es por tanto una nube de puntos creciente. \n",
        "\n",
        "Lo expuesto anteriormente se puede visualizar gráficamente en la nube de puntos generada debajo."
      ],
      "metadata": {
        "id": "ZEpx_SryP2px"
      }
    },
    {
      "cell_type": "code",
      "source": [
        "plt.figure(figsize= (10,5))\n",
        "sns.scatterplot(y= datav_df[\"Ventas\"],x =datav_df[\"Inversion\"]).set_title(\"Gráfico de dispersión: ventas en función de inversión (en millones de Eur)\")\n",
        "plt.show()"
      ],
      "metadata": {
        "colab": {
          "base_uri": "https://localhost:8080/",
          "height": 350
        },
        "id": "C-OuhhCf-1ib",
        "outputId": "b68fe3ea-8342-4169-9b6c-ffcdb9156253"
      },
      "execution_count": null,
      "outputs": [
        {
          "output_type": "display_data",
          "data": {
            "image/png": "[encoded data removed]",
            "text/plain": [
              "<Figure size 720x360 with 1 Axes>"
            ]
          },
          "metadata": {
            "needs_background": "light"
          }
        }
      ]
    },
    {
      "cell_type": "markdown",
      "source": [
        "A simple vista se puede percibir cierta \"linealidad\"; si se dibujara una línea imaginaria, la misma podría pasar por la mayoría de los puntos graficados.\n",
        "\n",
        "Con lo anterior como premisa, voy a generar un modelo de regresión lineal que intente predecir el nivel de ventas en función de la inversión realizada. Posteriormente voy a analizar valores como su coeficiente de determinación para entender la bondad de ajuste y eficacia del modelo."
      ],
      "metadata": {
        "id": "5tvfy8zMSM-q"
      }
    },
    {
      "cell_type": "code",
      "source": [
        "#Modelo de regresión lineal sin ajustar valores distorsionantes\n",
        "\n",
        "#La función va a ser del estilo Ventas = Ordenada en el origen + Inversión * pendiente + error aleatorio\n",
        "\n",
        "#Pendiente \n",
        "\n",
        "pendiente = covarianza_ventas_inversion/ datav_df[\"Inversion\"].var()\n",
        "\n",
        "#Ordenada en el origen\n",
        "\n",
        "ordenada = datav_df[\"Ventas\"].mean() - pendiente*datav_df[\"Inversion\"].mean()\n",
        "\n",
        "def modelo_regresion (x, pend, ord):\n",
        "  yestimado= []\n",
        "  for i in x:\n",
        "    y = ord + pend*i\n",
        "    yestimado.append(y)\n",
        "  yestimado_serie = pd.Series(yestimado)\n",
        "  return(yestimado_serie)\n",
        "\n",
        "plt.figure(figsize=(10,7))\n",
        "sns.scatterplot(y= datav_df[\"Ventas\"],x =datav_df[\"Inversion\"])\n",
        "plt.plot(datav_df[\"Inversion\"], modelo_regresion(datav_df[\"Inversion\"],pendiente,ordenada), color=\"Red\")\n",
        "plt.title(\"Gráfico de dispersión entre ventas e inversión ajustado a un modelo de regresión lineal\")\n",
        "plt.legend(labels = [\"Modelo\",\"Información Real\"])\n",
        "plt.show()\n"
      ],
      "metadata": {
        "colab": {
          "base_uri": "https://localhost:8080/",
          "height": 458
        },
        "id": "WCSEUoOLSe9f",
        "outputId": "3ad635b3-0813-4759-a951-d26a6e999c51"
      },
      "execution_count": null,
      "outputs": [
        {
          "output_type": "display_data",
          "data": {
            "image/png": "[encoded data removed]",
            "text/plain": [
              "<Figure size 720x504 with 1 Axes>"
            ]
          },
          "metadata": {
            "needs_background": "light"
          }
        }
      ]
    },
    {
      "cell_type": "markdown",
      "source": [
        "En el gráfico superior se puede notar el mismo gráfico de dispersión generado anteriormente pero con la adición de una recta que denota el modelo de regresión lineal y su comportamiento en comparación a la información real.\n",
        "\n",
        "El modelo generado fue:\n",
        "\n",
        "y= 2.8805 + 0.7427 * x + ε\n",
        "\n",
        "El primer valor (2.8805) representa la ordenada en el origen. Es el punto en el cual, siendo inversión = 0 las ventas se encontrarían. Por otro lado, el valor 0.7427 representa la pendiente de la recta y su significado matemático refiere a la sensibilidad que tienen las ventas sobre la inversión realizada. Una pendiente mayor significaría que cualquier cambio marginal en X genera una respuesta mucho mayor en Y. Por último, epsilon representa el error aleatorio. Este error representa el ajuste que hace el modelo y es la diferencia entre el resultado real y el resultado teórico que surge a partir del modelo.\n",
        "\n",
        "Por otro lado, se puede ver que dos valores de inversión no generaron el retorno esperado en las ventas en los años 1.984 y 1.986. Al analizar la situación macroeconómica de España por medio del indicador del crecimiento del PBI, no se notan caídas significativas durante ese período (Fuente: https://ourworldindata.org/grapher/national-gdp?time=1980..latest&country=~ESP).\n",
        " Dicho lo anterior, no se encuentra un motivo macroeconómico que permita explicar esta caída, y por lo tanto, conviene mantener estos valores dentro del dataset.\n",
        "\n",
        "A pesar de lo anterior, se muestra graficamente la diferencia entre los dos modelos: uno con todos los valores y otro sin los referentes a 1.984 y 1.986 con el fin de demostrar el peso relativo que tienen los mismos en el modelo. Cabe repetir que el modelo de referencia a utilizar es aquel que incluye todos los valores del dataset."
      ],
      "metadata": {
        "id": "NvVYHzYTrxwl"
      }
    },
    {
      "cell_type": "code",
      "source": [
        "#Modelo ajustado sin valores \"distorsionantes\" (años 1984 & 1986)\n",
        "\n",
        "inversion_sub1 = pd.DataFrame(datav_df.copy())\n",
        "inversion_sub1.drop(datav_df[(datav_df[\"Fecha_anual\"]== 1984)].index,inplace = True)\n",
        "inversion_sub1.drop(datav_df[(datav_df[\"Fecha_anual\"]== 1986)].index,inplace = True)\n",
        "pendiente_sub1= inversion_sub1[\"Inversion\"].cov(inversion_sub1[\"Ventas\"]) / inversion_sub1[\"Inversion\"].var()\n",
        "ordenada_sub1= inversion_sub1[\"Ventas\"].mean() - pendiente_sub1*inversion_sub1[\"Inversion\"].mean()\n",
        "\n",
        "plt.figure(figsize= (20,10))\n",
        "plt.subplot(2,2,1)\n",
        "sns.scatterplot(x=inversion_sub1[\"Inversion\"], y=inversion_sub1[\"Ventas\"])\n",
        "plt.plot(inversion_sub1[\"Inversion\"], modelo_regresion(inversion_sub1[\"Inversion\"], pendiente_sub1, ordenada_sub1), color=\"brown\")\n",
        "plt.legend(labels=[\"Modelo\",\"Información real\"])\n",
        "ax = plt.gca()\n",
        "ax.set_ylim(bottom= 0)\n",
        "plt.title(\"Gráfico de dispersión entre ventas e inversión ajustado a un modelo de regresión lineal sin outliers\")\n",
        "\n",
        "plt.subplot(2,2,2)\n",
        "sns.scatterplot(y= datav_df[\"Ventas\"],x =datav_df[\"Inversion\"])\n",
        "plt.plot(datav_df[\"Inversion\"], modelo_regresion(datav_df[\"Inversion\"],pendiente,ordenada), color=\"Red\")\n",
        "ax = plt.gca()\n",
        "ax.set_ylim(bottom= 0)\n",
        "plt.legend(labels=[\"Modelo\",\"Información real\"])\n",
        "plt.title(\"Gráfico de dispersión entre ventas e inversión ajustado a un modelo de regresión lineal\")\n",
        "\n",
        "plt.show()"
      ],
      "metadata": {
        "colab": {
          "base_uri": "https://localhost:8080/",
          "height": 325
        },
        "id": "AXIdubFXuKYM",
        "outputId": "8846e16f-ec14-4fc5-884e-0476dae78f06"
      },
      "execution_count": null,
      "outputs": [
        {
          "output_type": "display_data",
          "data": {
            "image/png": "[encoded data removed]",
            "text/plain": [
              "<Figure size 1440x720 with 2 Axes>"
            ]
          },
          "metadata": {
            "needs_background": "light"
          }
        }
      ]
    },
    {
      "cell_type": "markdown",
      "source": [
        "A nivel gráfico se explicita que la recta de regresión cubre mas puntos de lo que originalmente lo hacía, principalmente debido a que los valores de 1984 y 1986 fueron eliminados y su importancia relativa desestimada. El modelo tendría un mejor ajuste (ej.: mejor correlación de Pearson) pero no representaría fielmente la realidad. Es por esto que se decide continuar incluyendo en el modelo dichos valores."
      ],
      "metadata": {
        "id": "JA1ieCGhNk2X"
      }
    },
    {
      "cell_type": "code",
      "source": [
        "#Calculo de ventas con una inversión = 7\n",
        "\n",
        "print(\"Si se invirtieran 7 Millones Eur, se obtendrían {} Millones Eur de ventas según el modelo generado, con un error aleatorio del mismo\".\\\n",
        "      format(modelo_regresion([7], pendiente, ordenada)[0]))\n",
        "\n",
        "print(\"\\nCuando se invirtieron 7 Millones Eur en el pasado, se obtuvieron {} Millones Eur de ventas\".format(datav_df.loc\\\n",
        "                                                                                              [(datav_df['Inversion']== 7)][\"Ventas\"].values[0]))"
      ],
      "metadata": {
        "colab": {
          "base_uri": "https://localhost:8080/"
        },
        "id": "026FsZLdT6Nh",
        "outputId": "691309ef-765c-4157-c58e-40bc363077e0"
      },
      "execution_count": null,
      "outputs": [
        {
          "output_type": "stream",
          "name": "stdout",
          "text": [
            "Si se invirtieran 7 Millones Eur, se obtendrían 8.079217638691322 Millones Eur de ventas según el modelo generado, con un error aleatorio del mismo\n",
            "\n",
            "Cuando se invirtieron 7 Millones Eur en el pasado, se obtuvieron 8.22 Millones Eur de ventas\n"
          ]
        }
      ]
    },
    {
      "cell_type": "markdown",
      "source": [
        "Al comparar el valor real contra el devuelto por el modelo al invertir 7 millones de euros, se puede notar de forma mas explícita a lo que se refiere el error (ε) del modelo. \n",
        "\n",
        "Mientras que en el dato real muestra que se obtuvieron 8.22 millones de euros en ventas, el modelo devuelve un valor menor (8.08 millones Eur) y, por lo tanto, en este caso el error del modelo es de 0.14 millones de euros. \n",
        "\n",
        "Esta diferencia se nota a nivel gráfico debajo, donde la línea roja representa el modelo y el punto azul el valor real. Este gráfico es una ampliación del modelo que se viene analizando. El eje de las ordenadas ha cambiado solamente para mostrar un intervalo menor y poder detallar de forma mas fiel la diferencia entre ambos valores. Como se puede observar, el valor del modelo se encuentra levemente por debajo del real, como se mostró anteriormente."
      ],
      "metadata": {
        "id": "9rIIw6yJYsSr"
      }
    },
    {
      "cell_type": "code",
      "source": [
        "fig, ax= plt.subplots()\n",
        "sns.scatterplot(y= datav_df[\"Ventas\"],x =datav_df[\"Inversion\"])\n",
        "ax = plt.gca()\n",
        "ax.set_ylim(bottom= 8, top= 8.5)\n",
        "ax.annotate(datav_df.loc[(datav_df[\"Inversion\"]== 7),[\"Ventas\"]].values[0],\\\n",
        "            (datav_df.loc[(datav_df[\"Inversion\"]== 7),[\"Inversion\"]].values[0]\\\n",
        "             , datav_df.loc[(datav_df[\"Inversion\"]== 7),[\"Ventas\"]].values[0])\\\n",
        "            , arrowprops=dict(facecolor='Blue', shrink=0.05)\n",
        "            , textcoords=\"offset points\"\n",
        "            , xytext=(-20,70)\n",
        "            , ha='center')\n",
        "\n",
        "\n",
        "plt.plot(datav_df[\"Inversion\"], modelo_regresion(datav_df[\"Inversion\"],pendiente,ordenada), color=\"Red\")\n",
        "plt.title(\"Gráfico de dispersión entre ventas e inversión ajustado a un modelo de regresión lineal\")\n",
        "plt.legend(labels=[\"Modelo\",\"Dato real\"])\n",
        "ax.set_xlim(left = 6.9, right= 7.1)\n",
        "\n",
        "ax.annotate(round(modelo_regresion([7],pendiente,ordenada)[0],2), (7, (modelo_regresion([7],pendiente,ordenada)))\\\n",
        "            , arrowprops=dict(facecolor='Red', shrink=0.05)\n",
        "            , textcoords=\"offset points\"\n",
        "            , xytext=(-60,70)\n",
        "            , ha='center')\n",
        "plt.show()"
      ],
      "metadata": {
        "colab": {
          "base_uri": "https://localhost:8080/",
          "height": 350
        },
        "id": "I3xRTqzfaVZB",
        "outputId": "b3fa1f8d-2189-4a77-c26b-03fae714cf6d"
      },
      "execution_count": null,
      "outputs": [
        {
          "output_type": "stream",
          "name": "stderr",
          "text": [
            "/usr/local/lib/python3.7/dist-packages/matplotlib/text.py:1165: FutureWarning: elementwise comparison failed; returning scalar instead, but in the future will perform elementwise comparison\n",
            "  if s != self._text:\n"
          ]
        },
        {
          "output_type": "display_data",
          "data": {
            "image/png": "[encoded data removed]",
            "text/plain": [
              "<Figure size 432x288 with 1 Axes>"
            ]
          },
          "metadata": {
            "needs_background": "light"
          }
        }
      ]
    },
    {
      "cell_type": "code",
      "source": [
        "# Coeficiente de correlación de Pearson\n",
        "print(\"Coeficiente de correlación de Pearson: {}\\n\".format(covarianza_ventas_inversion/(datav_df[\"Inversion\"].std()*datav_df[\"Ventas\"].std())))\n",
        "\n",
        "# Coeficiente de determinación\n",
        "\n",
        "numerador = ((modelo_regresion(datav_df[\"Inversion\"],pendiente, ordenada)-datav_df[\"Ventas\"].mean())**2).sum()\n",
        "denominador = ((datav_df[\"Ventas\"]-datav_df[\"Ventas\"].mean())**2).sum()\n",
        "\n",
        "print(\"Coeficiente de determinación: {}\\n\".format(numerador/denominador))\n",
        "\n",
        "# SCE\n",
        "#Aclarar que nos va a servir para comparar modelos; no nos va a servir mucho ahora\n",
        "\n",
        "print(\"SCE: {}\".format(((modelo_regresion(datav_df[\"Inversion\"],pendiente, ordenada) - datav_df[\"Ventas\"])**2).sum()))"
      ],
      "metadata": {
        "colab": {
          "base_uri": "https://localhost:8080/"
        },
        "id": "6X5pZIpQjagB",
        "outputId": "9f2d5e23-1db3-461c-fbac-78397702d4a2"
      },
      "execution_count": null,
      "outputs": [
        {
          "output_type": "stream",
          "name": "stdout",
          "text": [
            "Coeficiente de correlación de Pearson: 0.9562823420491506\n",
            "\n",
            "Coeficiente de determinación: 0.9144759177150084\n",
            "\n",
            "SCE: 58.92728845606739\n"
          ]
        }
      ]
    },
    {
      "cell_type": "markdown",
      "source": [
        "Analizando estos valores, lo que hago es verificar la eficacia del modelo en representar los datos que utilizamos para su confección.\n",
        "\n",
        "Mediante el coeficiente de correlación de Pearson, mido el ajuste o relación mútua que tienen las variables. Su fórmula matemática se expresa como la división de la covarianza de ambas entre la desviación típica de ventas multiplicada por la desviación típica de inversión. El coeficiente toma valores entre -1 y 1; cuanto mas cerca de +1 se encuentre se tiene una mayor relación directa entre ambas, lo cual sucede en este caso (0.96). Esto quiere decir que cuando la inversión varía, las ventas varían a su vez en la misma dirección.\n",
        "\n",
        "Por otro lado, el coeficiente de determinación es una forma de calcular la bondad de ajuste. La misma, mide la similitud que existe entre los valores reales y los valores calculados a partir del modelo generado. En el caso de la regresión lineal, se puede definir como el cuadrado del coeficiente de correlación de Pearson, aunque en este caso decidí hacer la fórmula matemática propia del coeficiente. Toma valores entre 0 y 1; cuanto mas cerca de 1, mejor es el ajuste que hace el modelo a los datos reales que tenemos. En este caso, se tiene un número alto de coeficiente de determinación (0.91), lo cual quiere decir que el modelo ajusta correctamente. El coeficiente de determinación recibe críticas al decir que no penaliza la inclusión de variables extra; en este caso se utiliza este coeficiente porque solamente se están analizando dos variables (ventas e inversión).\n",
        "\n",
        "Por último punto, el SCE mide la suma al cuadrado de los errores del modelo. Los errores son la diferencia entre el valor real de las ventas y el valor predicho a partir del modelo. Lo que se busca al modelizar es minimizar este valor. Este valor por si mismo es poco explicativo en este contexto pero puede ser de gran utilidad si quisieramos comparar distintos modelos para entender cual genera menor error.\n",
        "\n",
        "\n",
        "Como conclusión, se puede decir que el modelo generado (tomando en cuenta los valores de 1984 y 1985) es eficaz al predecir el valor de ventas en función de las ventas para las condiciones y dataset analizado. Ambas variables se encuentran fuertemente correladas y mantienen una relación lineal, por lo cual, a mayor inversión realizada, mayor será el nivel de ventas."
      ],
      "metadata": {
        "id": "z6R_J2WCOU3T"
      }
    }
  ]
}