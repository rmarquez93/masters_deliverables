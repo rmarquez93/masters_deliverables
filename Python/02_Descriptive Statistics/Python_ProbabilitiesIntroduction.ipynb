{
  "nbformat": 4,
  "nbformat_minor": 0,
  "metadata": {
    "colab": {
      "name": "M2_AG1_Grupo13.ipynb",
      "provenance": [],
      "collapsed_sections": []
    },
    "kernelspec": {
      "name": "python3",
      "display_name": "Python 3"
    },
    "language_info": {
      "name": "python"
    }
  },
  "cells": [
    {
      "cell_type": "markdown",
      "source": [
        "# Grupo 13\n",
        "# Alumnos: \n",
        "- José Ignacio Dagrava.\n",
        "- Rodrigo Andres Marquez Brizuela\n",
        "\n",
        "------------------------------"
      ],
      "metadata": {
        "id": "gAUZTsd-XtkZ"
      }
    },
    {
      "cell_type": "markdown",
      "source": [
        "# Preparación Actividad"
      ],
      "metadata": {
        "id": "A9ejXDnCasey"
      }
    },
    {
      "cell_type": "code",
      "execution_count": null,
      "metadata": {
        "id": "FnKkEZIBbEgj"
      },
      "outputs": [],
      "source": [
        "#Importamos las librerias a usar\n",
        "import numpy as np\n",
        "import pandas as pd\n",
        "import matplotlib.pyplot as plt\n",
        "import seaborn as sns"
      ]
    },
    {
      "cell_type": "code",
      "source": [
        "#Creamos el Dataframe leyendo el CSV desde la url indicando a pandas que use\n",
        "# los separadores \",\" y \".\" para los miles y decimales, respectivamente.\n",
        "url= \"https://raw.githubusercontent.com/md-lorente/data/master/worlddometer_covid_ue.csv\"\n",
        "df= pd.read_csv(url, sep= \";\", thousands=\",\", decimal= \".\")\n",
        "# Visualización del dataframe (La cabecera de los 10 paises con mayores casos)\n",
        "df.head(10)"
      ],
      "metadata": {
        "id": "G22rBryZbLXn",
        "colab": {
          "base_uri": "https://localhost:8080/",
          "height": 442
        },
        "outputId": "21db1887-9863-4c72-b23e-b77c2c7229d4"
      },
      "execution_count": null,
      "outputs": [
        {
          "output_type": "execute_result",
          "data": {
            "text/html": [
              "\n",
              "  <div id=\"df-6922fab7-7906-4795-8a6a-062ca1f6d325\">\n",
              "    <div class=\"colab-df-container\">\n",
              "      <div>\n",
              "<style scoped>\n",
              "    .dataframe tbody tr th:only-of-type {\n",
              "        vertical-align: middle;\n",
              "    }\n",
              "\n",
              "    .dataframe tbody tr th {\n",
              "        vertical-align: top;\n",
              "    }\n",
              "\n",
              "    .dataframe thead th {\n",
              "        text-align: right;\n",
              "    }\n",
              "</style>\n",
              "<table border=\"1\" class=\"dataframe\">\n",
              "  <thead>\n",
              "    <tr style=\"text-align: right;\">\n",
              "      <th></th>\n",
              "      <th>Num</th>\n",
              "      <th>Country</th>\n",
              "      <th>Total Cases</th>\n",
              "      <th>New Cases</th>\n",
              "      <th>Total Deaths</th>\n",
              "      <th>New Deaths</th>\n",
              "      <th>Total Recovered</th>\n",
              "      <th>Active Cases</th>\n",
              "      <th>Serious Critical</th>\n",
              "      <th>Total Cases per 1M pop</th>\n",
              "      <th>Deaths per 1M pop</th>\n",
              "      <th>Total Tests</th>\n",
              "      <th>Tests per 1M pop</th>\n",
              "      <th>Population</th>\n",
              "    </tr>\n",
              "  </thead>\n",
              "  <tbody>\n",
              "    <tr>\n",
              "      <th>0</th>\n",
              "      <td>0</td>\n",
              "      <td>Europe</td>\n",
              "      <td>3543710</td>\n",
              "      <td>10493.0</td>\n",
              "      <td>207347.0</td>\n",
              "      <td>149.0</td>\n",
              "      <td>2063335.0</td>\n",
              "      <td>1273028.0</td>\n",
              "      <td>5619.0</td>\n",
              "      <td>NaN</td>\n",
              "      <td>NaN</td>\n",
              "      <td>NaN</td>\n",
              "      <td>NaN</td>\n",
              "      <td>NaN</td>\n",
              "    </tr>\n",
              "    <tr>\n",
              "      <th>1</th>\n",
              "      <td>1</td>\n",
              "      <td>Russia</td>\n",
              "      <td>990326</td>\n",
              "      <td>498.0</td>\n",
              "      <td>17093.0</td>\n",
              "      <td>68.0</td>\n",
              "      <td>806982.0</td>\n",
              "      <td>166251.0</td>\n",
              "      <td>23.0</td>\n",
              "      <td>6786.0</td>\n",
              "      <td>117.0</td>\n",
              "      <td>36400000.0</td>\n",
              "      <td>249409.0</td>\n",
              "      <td>145944843.0</td>\n",
              "    </tr>\n",
              "    <tr>\n",
              "      <th>2</th>\n",
              "      <td>2</td>\n",
              "      <td>Spain</td>\n",
              "      <td>455621</td>\n",
              "      <td>NaN</td>\n",
              "      <td>29011.0</td>\n",
              "      <td>NaN</td>\n",
              "      <td>NaN</td>\n",
              "      <td>NaN</td>\n",
              "      <td>751.0</td>\n",
              "      <td>9744.0</td>\n",
              "      <td>620.0</td>\n",
              "      <td>8517446.0</td>\n",
              "      <td>182161.0</td>\n",
              "      <td>46757783.0</td>\n",
              "    </tr>\n",
              "    <tr>\n",
              "      <th>3</th>\n",
              "      <td>3</td>\n",
              "      <td>UK</td>\n",
              "      <td>332752</td>\n",
              "      <td>NaN</td>\n",
              "      <td>41498.0</td>\n",
              "      <td>NaN</td>\n",
              "      <td>NaN</td>\n",
              "      <td>NaN</td>\n",
              "      <td>60.0</td>\n",
              "      <td>4897.0</td>\n",
              "      <td>611.0</td>\n",
              "      <td>16273209.0</td>\n",
              "      <td>239508.0</td>\n",
              "      <td>67944393.0</td>\n",
              "    </tr>\n",
              "    <tr>\n",
              "      <th>4</th>\n",
              "      <td>4</td>\n",
              "      <td>France</td>\n",
              "      <td>272530</td>\n",
              "      <td>NaN</td>\n",
              "      <td>30602.0</td>\n",
              "      <td>NaN</td>\n",
              "      <td>86177.0</td>\n",
              "      <td>155751.0</td>\n",
              "      <td>387.0</td>\n",
              "      <td>4174.0</td>\n",
              "      <td>469.0</td>\n",
              "      <td>6175223.0</td>\n",
              "      <td>94571.0</td>\n",
              "      <td>65297356.0</td>\n",
              "    </tr>\n",
              "    <tr>\n",
              "      <th>5</th>\n",
              "      <td>5</td>\n",
              "      <td>Italy</td>\n",
              "      <td>266853</td>\n",
              "      <td>NaN</td>\n",
              "      <td>35473.0</td>\n",
              "      <td>NaN</td>\n",
              "      <td>208224.0</td>\n",
              "      <td>23156.0</td>\n",
              "      <td>79.0</td>\n",
              "      <td>4415.0</td>\n",
              "      <td>587.0</td>\n",
              "      <td>8509618.0</td>\n",
              "      <td>140778.0</td>\n",
              "      <td>60447003.0</td>\n",
              "    </tr>\n",
              "    <tr>\n",
              "      <th>6</th>\n",
              "      <td>6</td>\n",
              "      <td>Germany</td>\n",
              "      <td>242825</td>\n",
              "      <td>NaN</td>\n",
              "      <td>9363.0</td>\n",
              "      <td>NaN</td>\n",
              "      <td>217484.0</td>\n",
              "      <td>15978.0</td>\n",
              "      <td>245.0</td>\n",
              "      <td>2897.0</td>\n",
              "      <td>112.0</td>\n",
              "      <td>11208091.0</td>\n",
              "      <td>133703.0</td>\n",
              "      <td>83828051.0</td>\n",
              "    </tr>\n",
              "    <tr>\n",
              "      <th>7</th>\n",
              "      <td>7</td>\n",
              "      <td>Ukraine</td>\n",
              "      <td>119074</td>\n",
              "      <td>2096.0</td>\n",
              "      <td>2527.0</td>\n",
              "      <td>35.0</td>\n",
              "      <td>56734.0</td>\n",
              "      <td>59813.0</td>\n",
              "      <td>177.0</td>\n",
              "      <td>2725.0</td>\n",
              "      <td>58.0</td>\n",
              "      <td>1536171.0</td>\n",
              "      <td>35161.0</td>\n",
              "      <td>43689434.0</td>\n",
              "    </tr>\n",
              "    <tr>\n",
              "      <th>8</th>\n",
              "      <td>8</td>\n",
              "      <td>Romania</td>\n",
              "      <td>86785</td>\n",
              "      <td>952.0</td>\n",
              "      <td>3578.0</td>\n",
              "      <td>39.0</td>\n",
              "      <td>37665.0</td>\n",
              "      <td>45542.0</td>\n",
              "      <td>492.0</td>\n",
              "      <td>4516.0</td>\n",
              "      <td>186.0</td>\n",
              "      <td>1795633.0</td>\n",
              "      <td>93445.0</td>\n",
              "      <td>19216003.0</td>\n",
              "    </tr>\n",
              "    <tr>\n",
              "      <th>9</th>\n",
              "      <td>9</td>\n",
              "      <td>Belgium</td>\n",
              "      <td>84599</td>\n",
              "      <td>647.0</td>\n",
              "      <td>9891.0</td>\n",
              "      <td>5.0</td>\n",
              "      <td>18403.0</td>\n",
              "      <td>56305.0</td>\n",
              "      <td>72.0</td>\n",
              "      <td>7294.0</td>\n",
              "      <td>853.0</td>\n",
              "      <td>2261043.0</td>\n",
              "      <td>194953.0</td>\n",
              "      <td>11597901.0</td>\n",
              "    </tr>\n",
              "  </tbody>\n",
              "</table>\n",
              "</div>\n",
              "      <button class=\"colab-df-convert\" onclick=\"convertToInteractive('df-6922fab7-7906-4795-8a6a-062ca1f6d325')\"\n",
              "              title=\"Convert this dataframe to an interactive table.\"\n",
              "              style=\"display:none;\">\n",
              "        \n",
              "  <svg xmlns=\"http://www.w3.org/2000/svg\" height=\"24px\"viewBox=\"0 0 24 24\"\n",
              "       width=\"24px\">\n",
              "    <path d=\"M0 0h24v24H0V0z\" fill=\"none\"/>\n",
              "    <path d=\"M18.56 5.44l.94 2.06.94-2.06 2.06-.94-2.06-.94-.94-2.06-.94 2.06-2.06.94zm-11 1L8.5 8.5l.94-2.06 2.06-.94-2.06-.94L8.5 2.5l-.94 2.06-2.06.94zm10 10l.94 2.06.94-2.06 2.06-.94-2.06-.94-.94-2.06-.94 2.06-2.06.94z\"/><path d=\"M17.41 7.96l-1.37-1.37c-.4-.4-.92-.59-1.43-.59-.52 0-1.04.2-1.43.59L10.3 9.45l-7.72 7.72c-.78.78-.78 2.05 0 2.83L4 21.41c.39.39.9.59 1.41.59.51 0 1.02-.2 1.41-.59l7.78-7.78 2.81-2.81c.8-.78.8-2.07 0-2.86zM5.41 20L4 18.59l7.72-7.72 1.47 1.35L5.41 20z\"/>\n",
              "  </svg>\n",
              "      </button>\n",
              "      \n",
              "  <style>\n",
              "    .colab-df-container {\n",
              "      display:flex;\n",
              "      flex-wrap:wrap;\n",
              "      gap: 12px;\n",
              "    }\n",
              "\n",
              "    .colab-df-convert {\n",
              "      background-color: #E8F0FE;\n",
              "      border: none;\n",
              "      border-radius: 50%;\n",
              "      cursor: pointer;\n",
              "      display: none;\n",
              "      fill: #1967D2;\n",
              "      height: 32px;\n",
              "      padding: 0 0 0 0;\n",
              "      width: 32px;\n",
              "    }\n",
              "\n",
              "    .colab-df-convert:hover {\n",
              "      background-color: #E2EBFA;\n",
              "      box-shadow: 0px 1px 2px rgba(60, 64, 67, 0.3), 0px 1px 3px 1px rgba(60, 64, 67, 0.15);\n",
              "      fill: #174EA6;\n",
              "    }\n",
              "\n",
              "    [theme=dark] .colab-df-convert {\n",
              "      background-color: #3B4455;\n",
              "      fill: #D2E3FC;\n",
              "    }\n",
              "\n",
              "    [theme=dark] .colab-df-convert:hover {\n",
              "      background-color: #434B5C;\n",
              "      box-shadow: 0px 1px 3px 1px rgba(0, 0, 0, 0.15);\n",
              "      filter: drop-shadow(0px 1px 2px rgba(0, 0, 0, 0.3));\n",
              "      fill: #FFFFFF;\n",
              "    }\n",
              "  </style>\n",
              "\n",
              "      <script>\n",
              "        const buttonEl =\n",
              "          document.querySelector('#df-6922fab7-7906-4795-8a6a-062ca1f6d325 button.colab-df-convert');\n",
              "        buttonEl.style.display =\n",
              "          google.colab.kernel.accessAllowed ? 'block' : 'none';\n",
              "\n",
              "        async function convertToInteractive(key) {\n",
              "          const element = document.querySelector('#df-6922fab7-7906-4795-8a6a-062ca1f6d325');\n",
              "          const dataTable =\n",
              "            await google.colab.kernel.invokeFunction('convertToInteractive',\n",
              "                                                     [key], {});\n",
              "          if (!dataTable) return;\n",
              "\n",
              "          const docLinkHtml = 'Like what you see? Visit the ' +\n",
              "            '<a target=\"_blank\" href=https://colab.research.google.com/notebooks/data_table.ipynb>data table notebook</a>'\n",
              "            + ' to learn more about interactive tables.';\n",
              "          element.innerHTML = '';\n",
              "          dataTable['output_type'] = 'display_data';\n",
              "          await google.colab.output.renderOutput(dataTable, element);\n",
              "          const docLink = document.createElement('div');\n",
              "          docLink.innerHTML = docLinkHtml;\n",
              "          element.appendChild(docLink);\n",
              "        }\n",
              "      </script>\n",
              "    </div>\n",
              "  </div>\n",
              "  "
            ],
            "text/plain": [
              "   Num  Country  Total Cases  ...  Total Tests  Tests per 1M pop  Population \n",
              "0    0   Europe      3543710  ...          NaN               NaN          NaN\n",
              "1    1   Russia       990326  ...   36400000.0          249409.0  145944843.0\n",
              "2    2    Spain       455621  ...    8517446.0          182161.0   46757783.0\n",
              "3    3       UK       332752  ...   16273209.0          239508.0   67944393.0\n",
              "4    4   France       272530  ...    6175223.0           94571.0   65297356.0\n",
              "5    5    Italy       266853  ...    8509618.0          140778.0   60447003.0\n",
              "6    6  Germany       242825  ...   11208091.0          133703.0   83828051.0\n",
              "7    7  Ukraine       119074  ...    1536171.0           35161.0   43689434.0\n",
              "8    8  Romania        86785  ...    1795633.0           93445.0   19216003.0\n",
              "9    9  Belgium        84599  ...    2261043.0          194953.0   11597901.0\n",
              "\n",
              "[10 rows x 14 columns]"
            ]
          },
          "metadata": {},
          "execution_count": 3
        }
      ]
    },
    {
      "cell_type": "code",
      "source": [
        "# Utilizamos el metodo describe para analizar las variables\n",
        "# y encontrar si hay valores faltantes\n",
        "df.info()"
      ],
      "metadata": {
        "id": "ugwiFX48YRpL",
        "colab": {
          "base_uri": "https://localhost:8080/"
        },
        "outputId": "dd8be28f-ba3e-44c1-d64c-4abdb7fd5671"
      },
      "execution_count": null,
      "outputs": [
        {
          "output_type": "stream",
          "name": "stdout",
          "text": [
            "<class 'pandas.core.frame.DataFrame'>\n",
            "RangeIndex: 49 entries, 0 to 48\n",
            "Data columns (total 14 columns):\n",
            " #   Column                  Non-Null Count  Dtype  \n",
            "---  ------                  --------------  -----  \n",
            " 0   Num                     49 non-null     int64  \n",
            " 1   Country                 49 non-null     object \n",
            " 2   Total Cases             49 non-null     int64  \n",
            " 3   New Cases               17 non-null     float64\n",
            " 4   Total Deaths            46 non-null     float64\n",
            " 5   New Deaths              7 non-null      float64\n",
            " 6   Total Recovered         45 non-null     float64\n",
            " 7   Active Cases            45 non-null     float64\n",
            " 8   Serious Critical        37 non-null     float64\n",
            " 9   Total Cases per 1M pop  48 non-null     float64\n",
            " 10  Deaths per 1M pop       45 non-null     float64\n",
            " 11  Total Tests             47 non-null     float64\n",
            " 12  Tests per 1M pop        47 non-null     float64\n",
            " 13  Population              48 non-null     float64\n",
            "dtypes: float64(11), int64(2), object(1)\n",
            "memory usage: 5.5+ KB\n"
          ]
        }
      ]
    },
    {
      "cell_type": "markdown",
      "source": [
        "Se observa que el dataset cuenta con 49 observaciones y que algunas de sus variables tiene valores faltantes, porque lo que la calidad del dataset no es la mejor que podriamos esperar. Mas alla de estos comentarios debemos destacar que aunque los 6 paises con mayores casos por Covid-19 son: Rusia, España, UK, Francia, Italia y Alemania, se va a optar por eliminar Rusia del estudio e incluir a Ucrania en su lugar, ya que éste tiene una población similar al resto de los paises que a afectos del análisis y realizar comparaciones se ajusta mejor. Habiendo dicho esto, nuestro espacio muestral queda:\n",
        "\n",
        "    S = {Spain, UK, France, Italy, Germany, Ukraine}\n",
        "  \n",
        "Como el dataset tiene información de muchos otros paises, filtraremos los paises de nuestro universo para estudiarlos con mayor facilidad y realizar comparatorias entre ellos que sean de mayor objetividad."
      ],
      "metadata": {
        "id": "dAU4Y9mMYKul"
      }
    },
    {
      "cell_type": "code",
      "source": [
        "covid_df = df[(df[\"Country\"] == \"Ukraine\") | (df[\"Country\"] == \"Spain\")|\\\n",
        "                    (df[\"Country\"] == \"France\")| (df[\"Country\"] == \"UK\")|\\\n",
        "                    (df[\"Country\"] == \"Italy\") | (df[\"Country\"] == \"Germany\")]"
      ],
      "metadata": {
        "id": "Bn8mabiqct8R"
      },
      "execution_count": null,
      "outputs": []
    },
    {
      "cell_type": "code",
      "source": [
        "covid_df"
      ],
      "metadata": {
        "colab": {
          "base_uri": "https://localhost:8080/",
          "height": 316
        },
        "id": "EFvqUwCvhphs",
        "outputId": "32900c5e-000e-4150-afc5-800ec7b9b01f"
      },
      "execution_count": null,
      "outputs": [
        {
          "output_type": "execute_result",
          "data": {
            "text/html": [
              "\n",
              "  <div id=\"df-62a3d3a4-185b-49f7-b9ad-bf465d993dcd\">\n",
              "    <div class=\"colab-df-container\">\n",
              "      <div>\n",
              "<style scoped>\n",
              "    .dataframe tbody tr th:only-of-type {\n",
              "        vertical-align: middle;\n",
              "    }\n",
              "\n",
              "    .dataframe tbody tr th {\n",
              "        vertical-align: top;\n",
              "    }\n",
              "\n",
              "    .dataframe thead th {\n",
              "        text-align: right;\n",
              "    }\n",
              "</style>\n",
              "<table border=\"1\" class=\"dataframe\">\n",
              "  <thead>\n",
              "    <tr style=\"text-align: right;\">\n",
              "      <th></th>\n",
              "      <th>Num</th>\n",
              "      <th>Country</th>\n",
              "      <th>Total Cases</th>\n",
              "      <th>New Cases</th>\n",
              "      <th>Total Deaths</th>\n",
              "      <th>New Deaths</th>\n",
              "      <th>Total Recovered</th>\n",
              "      <th>Active Cases</th>\n",
              "      <th>Serious Critical</th>\n",
              "      <th>Total Cases per 1M pop</th>\n",
              "      <th>Deaths per 1M pop</th>\n",
              "      <th>Total Tests</th>\n",
              "      <th>Tests per 1M pop</th>\n",
              "      <th>Population</th>\n",
              "    </tr>\n",
              "  </thead>\n",
              "  <tbody>\n",
              "    <tr>\n",
              "      <th>2</th>\n",
              "      <td>2</td>\n",
              "      <td>Spain</td>\n",
              "      <td>455621</td>\n",
              "      <td>NaN</td>\n",
              "      <td>29011.0</td>\n",
              "      <td>NaN</td>\n",
              "      <td>NaN</td>\n",
              "      <td>NaN</td>\n",
              "      <td>751.0</td>\n",
              "      <td>9744.0</td>\n",
              "      <td>620.0</td>\n",
              "      <td>8517446.0</td>\n",
              "      <td>182161.0</td>\n",
              "      <td>46757783.0</td>\n",
              "    </tr>\n",
              "    <tr>\n",
              "      <th>3</th>\n",
              "      <td>3</td>\n",
              "      <td>UK</td>\n",
              "      <td>332752</td>\n",
              "      <td>NaN</td>\n",
              "      <td>41498.0</td>\n",
              "      <td>NaN</td>\n",
              "      <td>NaN</td>\n",
              "      <td>NaN</td>\n",
              "      <td>60.0</td>\n",
              "      <td>4897.0</td>\n",
              "      <td>611.0</td>\n",
              "      <td>16273209.0</td>\n",
              "      <td>239508.0</td>\n",
              "      <td>67944393.0</td>\n",
              "    </tr>\n",
              "    <tr>\n",
              "      <th>4</th>\n",
              "      <td>4</td>\n",
              "      <td>France</td>\n",
              "      <td>272530</td>\n",
              "      <td>NaN</td>\n",
              "      <td>30602.0</td>\n",
              "      <td>NaN</td>\n",
              "      <td>86177.0</td>\n",
              "      <td>155751.0</td>\n",
              "      <td>387.0</td>\n",
              "      <td>4174.0</td>\n",
              "      <td>469.0</td>\n",
              "      <td>6175223.0</td>\n",
              "      <td>94571.0</td>\n",
              "      <td>65297356.0</td>\n",
              "    </tr>\n",
              "    <tr>\n",
              "      <th>5</th>\n",
              "      <td>5</td>\n",
              "      <td>Italy</td>\n",
              "      <td>266853</td>\n",
              "      <td>NaN</td>\n",
              "      <td>35473.0</td>\n",
              "      <td>NaN</td>\n",
              "      <td>208224.0</td>\n",
              "      <td>23156.0</td>\n",
              "      <td>79.0</td>\n",
              "      <td>4415.0</td>\n",
              "      <td>587.0</td>\n",
              "      <td>8509618.0</td>\n",
              "      <td>140778.0</td>\n",
              "      <td>60447003.0</td>\n",
              "    </tr>\n",
              "    <tr>\n",
              "      <th>6</th>\n",
              "      <td>6</td>\n",
              "      <td>Germany</td>\n",
              "      <td>242825</td>\n",
              "      <td>NaN</td>\n",
              "      <td>9363.0</td>\n",
              "      <td>NaN</td>\n",
              "      <td>217484.0</td>\n",
              "      <td>15978.0</td>\n",
              "      <td>245.0</td>\n",
              "      <td>2897.0</td>\n",
              "      <td>112.0</td>\n",
              "      <td>11208091.0</td>\n",
              "      <td>133703.0</td>\n",
              "      <td>83828051.0</td>\n",
              "    </tr>\n",
              "    <tr>\n",
              "      <th>7</th>\n",
              "      <td>7</td>\n",
              "      <td>Ukraine</td>\n",
              "      <td>119074</td>\n",
              "      <td>2096.0</td>\n",
              "      <td>2527.0</td>\n",
              "      <td>35.0</td>\n",
              "      <td>56734.0</td>\n",
              "      <td>59813.0</td>\n",
              "      <td>177.0</td>\n",
              "      <td>2725.0</td>\n",
              "      <td>58.0</td>\n",
              "      <td>1536171.0</td>\n",
              "      <td>35161.0</td>\n",
              "      <td>43689434.0</td>\n",
              "    </tr>\n",
              "  </tbody>\n",
              "</table>\n",
              "</div>\n",
              "      <button class=\"colab-df-convert\" onclick=\"convertToInteractive('df-62a3d3a4-185b-49f7-b9ad-bf465d993dcd')\"\n",
              "              title=\"Convert this dataframe to an interactive table.\"\n",
              "              style=\"display:none;\">\n",
              "        \n",
              "  <svg xmlns=\"http://www.w3.org/2000/svg\" height=\"24px\"viewBox=\"0 0 24 24\"\n",
              "       width=\"24px\">\n",
              "    <path d=\"M0 0h24v24H0V0z\" fill=\"none\"/>\n",
              "    <path d=\"M18.56 5.44l.94 2.06.94-2.06 2.06-.94-2.06-.94-.94-2.06-.94 2.06-2.06.94zm-11 1L8.5 8.5l.94-2.06 2.06-.94-2.06-.94L8.5 2.5l-.94 2.06-2.06.94zm10 10l.94 2.06.94-2.06 2.06-.94-2.06-.94-.94-2.06-.94 2.06-2.06.94z\"/><path d=\"M17.41 7.96l-1.37-1.37c-.4-.4-.92-.59-1.43-.59-.52 0-1.04.2-1.43.59L10.3 9.45l-7.72 7.72c-.78.78-.78 2.05 0 2.83L4 21.41c.39.39.9.59 1.41.59.51 0 1.02-.2 1.41-.59l7.78-7.78 2.81-2.81c.8-.78.8-2.07 0-2.86zM5.41 20L4 18.59l7.72-7.72 1.47 1.35L5.41 20z\"/>\n",
              "  </svg>\n",
              "      </button>\n",
              "      \n",
              "  <style>\n",
              "    .colab-df-container {\n",
              "      display:flex;\n",
              "      flex-wrap:wrap;\n",
              "      gap: 12px;\n",
              "    }\n",
              "\n",
              "    .colab-df-convert {\n",
              "      background-color: #E8F0FE;\n",
              "      border: none;\n",
              "      border-radius: 50%;\n",
              "      cursor: pointer;\n",
              "      display: none;\n",
              "      fill: #1967D2;\n",
              "      height: 32px;\n",
              "      padding: 0 0 0 0;\n",
              "      width: 32px;\n",
              "    }\n",
              "\n",
              "    .colab-df-convert:hover {\n",
              "      background-color: #E2EBFA;\n",
              "      box-shadow: 0px 1px 2px rgba(60, 64, 67, 0.3), 0px 1px 3px 1px rgba(60, 64, 67, 0.15);\n",
              "      fill: #174EA6;\n",
              "    }\n",
              "\n",
              "    [theme=dark] .colab-df-convert {\n",
              "      background-color: #3B4455;\n",
              "      fill: #D2E3FC;\n",
              "    }\n",
              "\n",
              "    [theme=dark] .colab-df-convert:hover {\n",
              "      background-color: #434B5C;\n",
              "      box-shadow: 0px 1px 3px 1px rgba(0, 0, 0, 0.15);\n",
              "      filter: drop-shadow(0px 1px 2px rgba(0, 0, 0, 0.3));\n",
              "      fill: #FFFFFF;\n",
              "    }\n",
              "  </style>\n",
              "\n",
              "      <script>\n",
              "        const buttonEl =\n",
              "          document.querySelector('#df-62a3d3a4-185b-49f7-b9ad-bf465d993dcd button.colab-df-convert');\n",
              "        buttonEl.style.display =\n",
              "          google.colab.kernel.accessAllowed ? 'block' : 'none';\n",
              "\n",
              "        async function convertToInteractive(key) {\n",
              "          const element = document.querySelector('#df-62a3d3a4-185b-49f7-b9ad-bf465d993dcd');\n",
              "          const dataTable =\n",
              "            await google.colab.kernel.invokeFunction('convertToInteractive',\n",
              "                                                     [key], {});\n",
              "          if (!dataTable) return;\n",
              "\n",
              "          const docLinkHtml = 'Like what you see? Visit the ' +\n",
              "            '<a target=\"_blank\" href=https://colab.research.google.com/notebooks/data_table.ipynb>data table notebook</a>'\n",
              "            + ' to learn more about interactive tables.';\n",
              "          element.innerHTML = '';\n",
              "          dataTable['output_type'] = 'display_data';\n",
              "          await google.colab.output.renderOutput(dataTable, element);\n",
              "          const docLink = document.createElement('div');\n",
              "          docLink.innerHTML = docLinkHtml;\n",
              "          element.appendChild(docLink);\n",
              "        }\n",
              "      </script>\n",
              "    </div>\n",
              "  </div>\n",
              "  "
            ],
            "text/plain": [
              "   Num  Country  Total Cases  ...  Total Tests  Tests per 1M pop  Population \n",
              "2    2    Spain       455621  ...    8517446.0          182161.0   46757783.0\n",
              "3    3       UK       332752  ...   16273209.0          239508.0   67944393.0\n",
              "4    4   France       272530  ...    6175223.0           94571.0   65297356.0\n",
              "5    5    Italy       266853  ...    8509618.0          140778.0   60447003.0\n",
              "6    6  Germany       242825  ...   11208091.0          133703.0   83828051.0\n",
              "7    7  Ukraine       119074  ...    1536171.0           35161.0   43689434.0\n",
              "\n",
              "[6 rows x 14 columns]"
            ]
          },
          "metadata": {},
          "execution_count": 6
        }
      ]
    },
    {
      "cell_type": "code",
      "source": [
        "covid_df.info()"
      ],
      "metadata": {
        "colab": {
          "base_uri": "https://localhost:8080/"
        },
        "id": "jpe9jdC6bbte",
        "outputId": "8155ab14-5127-408f-e760-c0b5961713bc"
      },
      "execution_count": null,
      "outputs": [
        {
          "output_type": "stream",
          "name": "stdout",
          "text": [
            "<class 'pandas.core.frame.DataFrame'>\n",
            "Int64Index: 6 entries, 2 to 7\n",
            "Data columns (total 14 columns):\n",
            " #   Column                  Non-Null Count  Dtype  \n",
            "---  ------                  --------------  -----  \n",
            " 0   Num                     6 non-null      int64  \n",
            " 1   Country                 6 non-null      object \n",
            " 2   Total Cases             6 non-null      int64  \n",
            " 3   New Cases               1 non-null      float64\n",
            " 4   Total Deaths            6 non-null      float64\n",
            " 5   New Deaths              1 non-null      float64\n",
            " 6   Total Recovered         4 non-null      float64\n",
            " 7   Active Cases            4 non-null      float64\n",
            " 8   Serious Critical        6 non-null      float64\n",
            " 9   Total Cases per 1M pop  6 non-null      float64\n",
            " 10  Deaths per 1M pop       6 non-null      float64\n",
            " 11  Total Tests             6 non-null      float64\n",
            " 12  Tests per 1M pop        6 non-null      float64\n",
            " 13  Population              6 non-null      float64\n",
            "dtypes: float64(11), int64(2), object(1)\n",
            "memory usage: 720.0+ bytes\n"
          ]
        }
      ]
    },
    {
      "cell_type": "markdown",
      "source": [
        "Habiendo reducido el dataset a los 6 paises de objeto de estudio, observamos ahora que algunas de las variables aun siguen con valores faltantes pero dado que nuestro estudio se aplica directamente sobre las variables Total Cases, Country, Total Deaths, Deaths Per 1M pop, Test per 1M pop y total Cases per 1M pop, los valores faltantes de estas otras no nos afectara la calidad de nuestra conclusiones y estudio."
      ],
      "metadata": {
        "id": "S9es6rQjIMvc"
      }
    },
    {
      "cell_type": "markdown",
      "source": [
        "# Análisis de las variables\n",
        "Las variables que se encuentran en el dataset son:\n",
        "\n",
        "Country: Es una variable cualtitativa nominal que se utilizará como categórica a efectos del análisis. Da información sobre el \"nombre\" de la observación y permite entender a cual nos referimos.\n",
        "\n",
        "El resto de las variables son cuantitativas discretas ya que refieren a casos por personas, test por millón de habitantes y a población en general (en el caso de Population). Son variables que no pueden tomar infinitos valores dentro de un intervalo; se computan de a valores enteros por cada caso/test/persona del dataset. A efectos del análisis serán tomadas como variables analíticas."
      ],
      "metadata": {
        "id": "vqI0BTV71aRB"
      }
    },
    {
      "cell_type": "markdown",
      "source": [
        "Antes de comenzar con el análisis probabilístico solicitado en la práctica, procedemos a hacer un análisis de algunas variables de interés que puedan explicar una mayor supervivencia en ciertos países. Con tal motivo, realizaremos un análisis de estadística unidimensional para las variables:\n",
        "\n",
        "Total Cases per 1 M Pop\n",
        "\n",
        "Deaths per 1 M Pop\n",
        "\n",
        "Tests per 1 M Pop\n",
        "\n",
        "\n",
        "El motivo de análisis de estas tres variables en particular es que en los tres casos, se toma como base de cálculo el millón de población. Por este motivo, la situación de las variables en cada país se hacen comparables entre ellas. Si se compararan variables absolutas (ej.: Total de muertes en España VS total de muertes en Alemania, se tendría que tomar en cuenta el tamaño de la población de ambos países) los estadísticos arrojados podrían ser mas difícilmente comparables por la diferencia de escalas de cada país."
      ],
      "metadata": {
        "id": "bA32dKHj3rHS"
      }
    },
    {
      "cell_type": "code",
      "source": [
        "# Análisis estadístico unidimensional: Total Cases per 1 M pop\n",
        "\n",
        "print(covid_df[\"Total Cases per 1M pop\"].describe())\n",
        "\n",
        "print(\"\\nCoeficiente de variación de Spearman: {}\".format(covid_df[\"Total Cases per 1M pop\"].std()/covid_df[\"Total Cases per 1M pop\"].mean()))\n",
        "\n"
      ],
      "metadata": {
        "id": "x7gjIwkSfwDa",
        "colab": {
          "base_uri": "https://localhost:8080/"
        },
        "outputId": "2dc14343-b659-49d5-e9e0-a2784e6ed691"
      },
      "execution_count": null,
      "outputs": [
        {
          "output_type": "stream",
          "name": "stdout",
          "text": [
            "count       6.000000\n",
            "mean     4808.666667\n",
            "std      2565.900596\n",
            "min      2725.000000\n",
            "25%      3216.250000\n",
            "50%      4294.500000\n",
            "75%      4776.500000\n",
            "max      9744.000000\n",
            "Name: Total Cases per 1M pop, dtype: float64\n",
            "\n",
            "Coeficiente de variación de Spearman: 0.5335991811241632\n"
          ]
        }
      ]
    },
    {
      "cell_type": "code",
      "source": [
        "data_sin_spain_df= pd.DataFrame(covid_df.copy())\n",
        "data_sin_spain_df = data_sin_spain_df[data_sin_spain_df[\"Total Cases per 1M pop\"] != 9744]\n",
        "\n",
        "print(data_sin_spain_df[\"Total Cases per 1M pop\"].describe())\n",
        "\n",
        "print(\"\\nCoeficiente de Spearman: {}\".format(data_sin_spain_df[\"Total Cases per 1M pop\"].std()/data_sin_spain_df[\"Total Cases per 1M pop\"].mean()))"
      ],
      "metadata": {
        "colab": {
          "base_uri": "https://localhost:8080/"
        },
        "id": "8-doejrH8g6D",
        "outputId": "2bd03fdf-f915-49a9-c46a-63885bb31670"
      },
      "execution_count": null,
      "outputs": [
        {
          "output_type": "stream",
          "name": "stdout",
          "text": [
            "count       5.000000\n",
            "mean     3821.600000\n",
            "std       960.496122\n",
            "min      2725.000000\n",
            "25%      2897.000000\n",
            "50%      4174.000000\n",
            "75%      4415.000000\n",
            "max      4897.000000\n",
            "Name: Total Cases per 1M pop, dtype: float64\n",
            "\n",
            "Coeficiente de Spearman: 0.25133350476337846\n"
          ]
        }
      ]
    },
    {
      "cell_type": "code",
      "source": [
        "sns.boxplot(x=covid_df[\"Total Cases per 1M pop\"])\n",
        "plt.title(\"Boxplot Casos por MM de habitantes\")"
      ],
      "metadata": {
        "colab": {
          "base_uri": "https://localhost:8080/",
          "height": 314
        },
        "id": "lNdzgRn-l5fU",
        "outputId": "f69e4bb7-14a9-4b84-ba61-397b139dd777"
      },
      "execution_count": null,
      "outputs": [
        {
          "output_type": "execute_result",
          "data": {
            "text/plain": [
              "Text(0.5, 1.0, 'Boxplot Casos por MM de habitantes')"
            ]
          },
          "metadata": {},
          "execution_count": 10
        },
        {
          "output_type": "display_data",
          "data": {
            "image/png": "[encoded data removed]",
            "text/plain": [
              "<Figure size 432x288 with 1 Axes>"
            ]
          },
          "metadata": {
            "needs_background": "light"
          }
        }
      ]
    },
    {
      "cell_type": "markdown",
      "source": [
        "En el análisis de casos totales por millón de habitantes, podemos ver que hay un valor outlier que influencia fuertemente los estadísticos de resumen de la población estudiada. En el caso del coeficiente de variación, si se extrae España y se estudia su efecto, se puede ver que los casos de dicho país generan que el coeficiente incremente en un 28% y genere mayor heterogeneidad en los datos. Esto se traduce también en que la deviación estandar también cambia drásticamente, lo cual tiene sentido ya que el coeficiente de variación es \"desviación estandar / media\"."
      ],
      "metadata": {
        "id": "0paL8EBY9aVB"
      }
    },
    {
      "cell_type": "code",
      "source": [
        "# Análisis estadístico unidimensional: Deaths per 1 M pop\n",
        "\n",
        "print(covid_df[\"Deaths per 1M pop\"].describe())\n",
        "\n",
        "print(\"\\nCoeficiente de variación de Spearman: {}\".format(covid_df[\"Deaths per 1M pop\"].std()/covid_df[\"Deaths per 1M pop\"].mean()))"
      ],
      "metadata": {
        "colab": {
          "base_uri": "https://localhost:8080/"
        },
        "id": "DH6_6oJefnrh",
        "outputId": "b29ceef6-3e8a-4ce2-be92-d9759d02cf07"
      },
      "execution_count": null,
      "outputs": [
        {
          "output_type": "stream",
          "name": "stdout",
          "text": [
            "count      6.000000\n",
            "mean     409.500000\n",
            "std      257.688766\n",
            "min       58.000000\n",
            "25%      201.250000\n",
            "50%      528.000000\n",
            "75%      605.000000\n",
            "max      620.000000\n",
            "Name: Deaths per 1M pop, dtype: float64\n",
            "\n",
            "Coeficiente de variación de Spearman: 0.6292765952676698\n"
          ]
        }
      ]
    },
    {
      "cell_type": "code",
      "source": [
        "sns.boxplot(x=covid_df[\"Deaths per 1M pop\"])\n",
        "plt.title(\"Boxplot Muertes por MM de habitantes\")"
      ],
      "metadata": {
        "colab": {
          "base_uri": "https://localhost:8080/",
          "height": 314
        },
        "id": "Bl82BJGul-w9",
        "outputId": "6d4412dc-6e85-4b84-facc-51c26f28f05d"
      },
      "execution_count": null,
      "outputs": [
        {
          "output_type": "execute_result",
          "data": {
            "text/plain": [
              "Text(0.5, 1.0, 'Boxplot Muertes por MM de habitantes')"
            ]
          },
          "metadata": {},
          "execution_count": 12
        },
        {
          "output_type": "display_data",
          "data": {
            "image/png": "[encoded data removed]",
            "text/plain": [
              "<Figure size 432x288 with 1 Axes>"
            ]
          },
          "metadata": {
            "needs_background": "light"
          }
        }
      ]
    },
    {
      "cell_type": "markdown",
      "source": [
        "A nivel de muertes se puede ver mayor heterogeneidad y que no es solamente influida por un solo valor outlier. Hay valores muy disimiles entre los distintos países y esto puede deberse a varios motivos. Uno de los motivos puede ser la cantidad de tests realizados por millón de habitantes, ya que el *no diagnóstico* puede llegar a infravalorar la mortalidad del COVID en los países. A menor cantidad de tests, mayor es el riesgo de subvalorar el efecto del COVID (Fuente: https://apps.who.int/iris/bitstream/handle/10665/333857/WHO-2019-nCoV-Sci_Brief-Mortality-2020.1-spa.pdf).\n",
        "\n",
        "Por otro lado, cabe analizar la distribución demográfica de los países. Esto se debe a que la población envejecida tiene mayor mortalidad y severidad de la enfermedad, lo cual puede explicar algunas de las diferencias entre los distintos países. \n",
        "\n",
        "Para los datos demográficos, utilizamos como fuentes de datos Eurostat (https://ec.europa.eu/eurostat/databrowser/view/tps00010/default/table?lang=en) y la oficina nacional de estadística de UK (https://www.ons.gov.uk/peoplepopulationandcommunity/populationandmigration/populationestimates/datasets/populationestimatesforukenglandandwalesscotlandandnorthernireland). \n",
        "\n",
        "Cabe mencionar que la información de Eurostat está a enero 2020, mientras que la de ONA está a mitad de 2020. \n",
        "\n",
        "Por último, para homogeneizar los datos (categorización de las edades, principalmente) se tuvo que modificar/agrupar algunos de los datos de ONA para generar comparabilidad."
      ],
      "metadata": {
        "id": "pxTb0KtUg85I"
      }
    },
    {
      "cell_type": "code",
      "source": [
        "demografia_df = pd.read_csv(\"https://raw.githubusercontent.com/rmarquez93/data_masterbdds2022/main/demografia_paises.csv\", sep= \";\",\\\n",
        "                            decimal= \".\")\n",
        "\n",
        "#Realizamos un pivot de la tabla \n",
        "demografia_df = pd.pivot_table(demografia_df, values=\"OBS_VALUE\", columns=[\"indic_de\"], index= [\"geo\"], aggfunc= np.max)\n",
        "demografia_df"
      ],
      "metadata": {
        "colab": {
          "base_uri": "https://localhost:8080/",
          "height": 269
        },
        "id": "Ckydg0GLxL_K",
        "outputId": "ce9a2c60-d99c-465a-af04-f547b8c0a983"
      },
      "execution_count": null,
      "outputs": [
        {
          "output_type": "execute_result",
          "data": {
            "text/html": [
              "\n",
              "  <div id=\"df-b0ebb695-bc25-47e8-bc13-35e513051cc8\">\n",
              "    <div class=\"colab-df-container\">\n",
              "      <div>\n",
              "<style scoped>\n",
              "    .dataframe tbody tr th:only-of-type {\n",
              "        vertical-align: middle;\n",
              "    }\n",
              "\n",
              "    .dataframe tbody tr th {\n",
              "        vertical-align: top;\n",
              "    }\n",
              "\n",
              "    .dataframe thead th {\n",
              "        text-align: right;\n",
              "    }\n",
              "</style>\n",
              "<table border=\"1\" class=\"dataframe\">\n",
              "  <thead>\n",
              "    <tr style=\"text-align: right;\">\n",
              "      <th>indic_de</th>\n",
              "      <th>0-14</th>\n",
              "      <th>15-24</th>\n",
              "      <th>24-49</th>\n",
              "      <th>50-64</th>\n",
              "      <th>65-79</th>\n",
              "      <th>&gt;=80</th>\n",
              "    </tr>\n",
              "    <tr>\n",
              "      <th>geo</th>\n",
              "      <th></th>\n",
              "      <th></th>\n",
              "      <th></th>\n",
              "      <th></th>\n",
              "      <th></th>\n",
              "      <th></th>\n",
              "    </tr>\n",
              "  </thead>\n",
              "  <tbody>\n",
              "    <tr>\n",
              "      <th>DE</th>\n",
              "      <td>13.7</td>\n",
              "      <td>10.3</td>\n",
              "      <td>31.3</td>\n",
              "      <td>23.0</td>\n",
              "      <td>14.9</td>\n",
              "      <td>6.8</td>\n",
              "    </tr>\n",
              "    <tr>\n",
              "      <th>ES</th>\n",
              "      <td>14.5</td>\n",
              "      <td>10.0</td>\n",
              "      <td>34.8</td>\n",
              "      <td>21.0</td>\n",
              "      <td>13.6</td>\n",
              "      <td>6.0</td>\n",
              "    </tr>\n",
              "    <tr>\n",
              "      <th>FR</th>\n",
              "      <td>17.9</td>\n",
              "      <td>11.8</td>\n",
              "      <td>30.7</td>\n",
              "      <td>19.2</td>\n",
              "      <td>14.3</td>\n",
              "      <td>6.2</td>\n",
              "    </tr>\n",
              "    <tr>\n",
              "      <th>IT</th>\n",
              "      <td>13.0</td>\n",
              "      <td>9.8</td>\n",
              "      <td>31.7</td>\n",
              "      <td>22.3</td>\n",
              "      <td>15.8</td>\n",
              "      <td>7.4</td>\n",
              "    </tr>\n",
              "    <tr>\n",
              "      <th>UA</th>\n",
              "      <td>15.3</td>\n",
              "      <td>9.5</td>\n",
              "      <td>37.6</td>\n",
              "      <td>20.5</td>\n",
              "      <td>12.6</td>\n",
              "      <td>4.5</td>\n",
              "    </tr>\n",
              "    <tr>\n",
              "      <th>UK</th>\n",
              "      <td>17.9</td>\n",
              "      <td>11.7</td>\n",
              "      <td>32.3</td>\n",
              "      <td>19.4</td>\n",
              "      <td>13.6</td>\n",
              "      <td>5.1</td>\n",
              "    </tr>\n",
              "  </tbody>\n",
              "</table>\n",
              "</div>\n",
              "      <button class=\"colab-df-convert\" onclick=\"convertToInteractive('df-b0ebb695-bc25-47e8-bc13-35e513051cc8')\"\n",
              "              title=\"Convert this dataframe to an interactive table.\"\n",
              "              style=\"display:none;\">\n",
              "        \n",
              "  <svg xmlns=\"http://www.w3.org/2000/svg\" height=\"24px\"viewBox=\"0 0 24 24\"\n",
              "       width=\"24px\">\n",
              "    <path d=\"M0 0h24v24H0V0z\" fill=\"none\"/>\n",
              "    <path d=\"M18.56 5.44l.94 2.06.94-2.06 2.06-.94-2.06-.94-.94-2.06-.94 2.06-2.06.94zm-11 1L8.5 8.5l.94-2.06 2.06-.94-2.06-.94L8.5 2.5l-.94 2.06-2.06.94zm10 10l.94 2.06.94-2.06 2.06-.94-2.06-.94-.94-2.06-.94 2.06-2.06.94z\"/><path d=\"M17.41 7.96l-1.37-1.37c-.4-.4-.92-.59-1.43-.59-.52 0-1.04.2-1.43.59L10.3 9.45l-7.72 7.72c-.78.78-.78 2.05 0 2.83L4 21.41c.39.39.9.59 1.41.59.51 0 1.02-.2 1.41-.59l7.78-7.78 2.81-2.81c.8-.78.8-2.07 0-2.86zM5.41 20L4 18.59l7.72-7.72 1.47 1.35L5.41 20z\"/>\n",
              "  </svg>\n",
              "      </button>\n",
              "      \n",
              "  <style>\n",
              "    .colab-df-container {\n",
              "      display:flex;\n",
              "      flex-wrap:wrap;\n",
              "      gap: 12px;\n",
              "    }\n",
              "\n",
              "    .colab-df-convert {\n",
              "      background-color: #E8F0FE;\n",
              "      border: none;\n",
              "      border-radius: 50%;\n",
              "      cursor: pointer;\n",
              "      display: none;\n",
              "      fill: #1967D2;\n",
              "      height: 32px;\n",
              "      padding: 0 0 0 0;\n",
              "      width: 32px;\n",
              "    }\n",
              "\n",
              "    .colab-df-convert:hover {\n",
              "      background-color: #E2EBFA;\n",
              "      box-shadow: 0px 1px 2px rgba(60, 64, 67, 0.3), 0px 1px 3px 1px rgba(60, 64, 67, 0.15);\n",
              "      fill: #174EA6;\n",
              "    }\n",
              "\n",
              "    [theme=dark] .colab-df-convert {\n",
              "      background-color: #3B4455;\n",
              "      fill: #D2E3FC;\n",
              "    }\n",
              "\n",
              "    [theme=dark] .colab-df-convert:hover {\n",
              "      background-color: #434B5C;\n",
              "      box-shadow: 0px 1px 3px 1px rgba(0, 0, 0, 0.15);\n",
              "      filter: drop-shadow(0px 1px 2px rgba(0, 0, 0, 0.3));\n",
              "      fill: #FFFFFF;\n",
              "    }\n",
              "  </style>\n",
              "\n",
              "      <script>\n",
              "        const buttonEl =\n",
              "          document.querySelector('#df-b0ebb695-bc25-47e8-bc13-35e513051cc8 button.colab-df-convert');\n",
              "        buttonEl.style.display =\n",
              "          google.colab.kernel.accessAllowed ? 'block' : 'none';\n",
              "\n",
              "        async function convertToInteractive(key) {\n",
              "          const element = document.querySelector('#df-b0ebb695-bc25-47e8-bc13-35e513051cc8');\n",
              "          const dataTable =\n",
              "            await google.colab.kernel.invokeFunction('convertToInteractive',\n",
              "                                                     [key], {});\n",
              "          if (!dataTable) return;\n",
              "\n",
              "          const docLinkHtml = 'Like what you see? Visit the ' +\n",
              "            '<a target=\"_blank\" href=https://colab.research.google.com/notebooks/data_table.ipynb>data table notebook</a>'\n",
              "            + ' to learn more about interactive tables.';\n",
              "          element.innerHTML = '';\n",
              "          dataTable['output_type'] = 'display_data';\n",
              "          await google.colab.output.renderOutput(dataTable, element);\n",
              "          const docLink = document.createElement('div');\n",
              "          docLink.innerHTML = docLinkHtml;\n",
              "          element.appendChild(docLink);\n",
              "        }\n",
              "      </script>\n",
              "    </div>\n",
              "  </div>\n",
              "  "
            ],
            "text/plain": [
              "indic_de  0-14  15-24  24-49  50-64  65-79  >=80\n",
              "geo                                             \n",
              "DE        13.7   10.3   31.3   23.0   14.9   6.8\n",
              "ES        14.5   10.0   34.8   21.0   13.6   6.0\n",
              "FR        17.9   11.8   30.7   19.2   14.3   6.2\n",
              "IT        13.0    9.8   31.7   22.3   15.8   7.4\n",
              "UA        15.3    9.5   37.6   20.5   12.6   4.5\n",
              "UK        17.9   11.7   32.3   19.4   13.6   5.1"
            ]
          },
          "metadata": {},
          "execution_count": 88
        }
      ]
    },
    {
      "cell_type": "code",
      "source": [
        "demografia_df.plot(kind='bar', \n",
        "                        stacked=True, \n",
        "                        colormap='tab10', \n",
        "                        figsize=(10, 6))\n",
        "plt\n",
        "plt.legend(loc='upper left', bbox_to_anchor=(0.0, -0.08), ncol=2)\n",
        "plt.ylabel(\"Proporción de población por rango de edad\")\n",
        "plt.xlabel(\"País\")\n",
        "\n",
        "\n",
        "\n",
        "plt.show()"
      ],
      "metadata": {
        "colab": {
          "base_uri": "https://localhost:8080/",
          "height": 436
        },
        "id": "4_wEJkEG2NIz",
        "outputId": "3b5db7e3-0143-4990-cdc5-a20b7371f1f1"
      },
      "execution_count": null,
      "outputs": [
        {
          "output_type": "display_data",
          "data": {
            "image/png": "[encoded data removed]",
            "text/plain": [
              "<Figure size 720x432 with 1 Axes>"
            ]
          },
          "metadata": {
            "needs_background": "light"
          }
        }
      ]
    },
    {
      "cell_type": "markdown",
      "source": [
        "Se puede notar a partir de este gráfico y la tabla anteriormente generada, la diferencia que hay en la distribución de la población por franja de edad en los distintos países. Esta distribución puede ayudar a entender la alta mortalidad en Italia (la población mas envejecida del conjunto analizado). "
      ],
      "metadata": {
        "id": "vbFljLc__o3b"
      }
    },
    {
      "cell_type": "code",
      "source": [
        "# Análisis estadístico unidimensional: Tests per 1 M pop\n",
        "\n",
        "print(covid_df[\"Tests per 1M pop\"].describe())\n",
        "print(\"\\nCoeficiente de variación de Spearman: {}\".format(covid_df[\"Tests per 1M pop\"].std()/covid_df[\"Tests per 1M pop\"].mean()))"
      ],
      "metadata": {
        "colab": {
          "base_uri": "https://localhost:8080/"
        },
        "id": "SwxpI-UzgLqj",
        "outputId": "32f2cb14-bf31-4436-d347-4c171977219f"
      },
      "execution_count": null,
      "outputs": [
        {
          "output_type": "stream",
          "name": "stdout",
          "text": [
            "count         6.000000\n",
            "mean     137647.000000\n",
            "std       70344.068387\n",
            "min       35161.000000\n",
            "25%      104354.000000\n",
            "50%      137240.500000\n",
            "75%      171815.250000\n",
            "max      239508.000000\n",
            "Name: Tests per 1M pop, dtype: float64\n",
            "\n",
            "Coeficiente de variación de Spearman: 0.5110468690690803\n"
          ]
        }
      ]
    },
    {
      "cell_type": "markdown",
      "source": [
        "En el caso de los tests realizados, el coeficiente de variación vuelve a mostrar cierta heterogeneidad en los datos. En este caso, hay países por debajo del primer cuartil (Ucrania y Francia), dentro del IQR (Italia y Alemania) y por encima del tercer cuartil (España y UK). \n",
        "\n",
        "Esto nos denota que los tests realizados por millón de habitantes fue bastante diferente dependiendo del país y las políticas o criterios tomados a la hora de solicitar un PCR para el paciente que consulta. \n",
        "\n",
        "Este dato es el que mas puede variar dependiendo de la política adoptada por el país ya que tanto las defunciones como los casos positivos suponemos (a partir de lo solicitado en el ejercicio) que fueron realizados con PCR y por lo tanto, las poblaciones de análisis de cada país son mas facilmente identificables. En el caso de los tests, se dependió del criterio adoptado por cada país para solicitar PCR a cada potencial paciente. "
      ],
      "metadata": {
        "id": "g2uYQeLvjp2T"
      }
    },
    {
      "cell_type": "markdown",
      "source": [
        "# Análisis probabilístico \n",
        "\n",
        "Yendo al análisis probabilístico, podemos decir que la base de cálculo para los supervivientes resulta de la sustracción al total de casos del total de muertes, lo cual se traduce en:\n",
        "\n",
        "p(sobrevivir) = 1 - (p(muerte) = 1 - (Total Deaths / Total Cases) \n",
        "\n",
        "Esto va en línea con la definición de la OMS para el cálculo de la razón de letalidad de la infección a agosto 2020 (Fuente: https://apps.who.int/iris/bitstream/handle/10665/333857/WHO-2019-nCoV-Sci_Brief-Mortality-2020.1-spa.pdf ).\n",
        "\n",
        "A su vez, y abstrayendo el caso al análisis puramente probabilístico, tomamos la visión de Laplace a la hora de calcular probabildades. Esto es, tomar la probabilidad del suceso como la división del recuento de dicho suceso entre la sumatoria total de casos posibles. Lo anterior, en este caso en concreto, se traduce también como:\n",
        "\n",
        "número de sobrevivientes / total de casos = 1 - (número de muertes / total de casos)"
      ],
      "metadata": {
        "id": "Pgda_5XpJUQ8"
      }
    },
    {
      "cell_type": "markdown",
      "source": [
        "## Tabla resumen\n",
        "\n",
        "\n",
        "Dada la siguiente tabla de doble entrada se obtienen las probabilidades de las intersecciones por cada país y fallecer / Sobrevivir. También se obtienen las probabilidades totales de Fallecer, Sobrevivir y las totales de cada país.\n",
        "\n",
        "Dicho en otras palabras, la probabilidad de españa es la probabilidad de tomar al azar una persona afectada con COVID (ya sea fallecida o no) y que esta persona sea residente de España, lo que es igual a 26,97 %\n",
        "\n",
        "Algo similar podemos decir con respecto a la probabilidad de Fallecer, esto seria, la probabilidad de tomar al azar una persona fallecida residente en cualquiera de los 6 paises el estudio, y es igual al 8,79%."
      ],
      "metadata": {
        "id": "bKIthbwVYUCq"
      }
    },
    {
      "cell_type": "code",
      "source": [
        "df_prob = covid_df[[\"Country\"]].copy()\n",
        "\n",
        "#Calculo de la probabilidad de fallecer y país (es decir, Fallecer intersercción país)\n",
        "df_prob[\"Fallecer\"] = covid_df[\"Total Deaths\"] /covid_df[\"Total Cases\"].sum()\n",
        "\n",
        "#Cálculo de la probabilidad de fallecer y pais\n",
        "df_prob[\"Sobrevivir\"] = (covid_df[\"Total Cases\"] - covid_df[\"Total Deaths\"]) / covid_df[\"Total Cases\"].sum()\n",
        "\n",
        "#Cálculo de la probabilidad por país\n",
        "df_prob[\"Total\"] = df_prob[\"Fallecer\"] + df_prob[\"Sobrevivir\"]\n",
        "\n",
        "#Agrego una fila mas que es la suma total de cada columna\n",
        "new_row = pd.DataFrame([['Total',df_prob.Fallecer.sum(),sum(df_prob.Sobrevivir),df_prob.Total.sum()]], \n",
        "                       columns=[\"Country\",\"Fallecer\",\"Sobrevivir\",\"Total\"])\n",
        "df_prob = pd.concat([df_prob, new_row], axis=0)\n",
        "\n",
        "df_prob.T"
      ],
      "metadata": {
        "colab": {
          "base_uri": "https://localhost:8080/",
          "height": 175
        },
        "id": "_QE3naHIMW0R",
        "outputId": "d979c5d8-519b-446d-f055-78afd9e203d3"
      },
      "execution_count": null,
      "outputs": [
        {
          "output_type": "execute_result",
          "data": {
            "text/html": [
              "\n",
              "  <div id=\"df-440a703e-9d89-4c6f-acd6-a3f99a9485b6\">\n",
              "    <div class=\"colab-df-container\">\n",
              "      <div>\n",
              "<style scoped>\n",
              "    .dataframe tbody tr th:only-of-type {\n",
              "        vertical-align: middle;\n",
              "    }\n",
              "\n",
              "    .dataframe tbody tr th {\n",
              "        vertical-align: top;\n",
              "    }\n",
              "\n",
              "    .dataframe thead th {\n",
              "        text-align: right;\n",
              "    }\n",
              "</style>\n",
              "<table border=\"1\" class=\"dataframe\">\n",
              "  <thead>\n",
              "    <tr style=\"text-align: right;\">\n",
              "      <th></th>\n",
              "      <th>2</th>\n",
              "      <th>3</th>\n",
              "      <th>4</th>\n",
              "      <th>5</th>\n",
              "      <th>6</th>\n",
              "      <th>7</th>\n",
              "      <th>0</th>\n",
              "    </tr>\n",
              "  </thead>\n",
              "  <tbody>\n",
              "    <tr>\n",
              "      <th>Country</th>\n",
              "      <td>Spain</td>\n",
              "      <td>UK</td>\n",
              "      <td>France</td>\n",
              "      <td>Italy</td>\n",
              "      <td>Germany</td>\n",
              "      <td>Ukraine</td>\n",
              "      <td>Total</td>\n",
              "    </tr>\n",
              "    <tr>\n",
              "      <th>Fallecer</th>\n",
              "      <td>0.01717</td>\n",
              "      <td>0.02456</td>\n",
              "      <td>0.018111</td>\n",
              "      <td>0.020994</td>\n",
              "      <td>0.005541</td>\n",
              "      <td>0.001496</td>\n",
              "      <td>0.087872</td>\n",
              "    </tr>\n",
              "    <tr>\n",
              "      <th>Sobrevivir</th>\n",
              "      <td>0.252483</td>\n",
              "      <td>0.172375</td>\n",
              "      <td>0.143182</td>\n",
              "      <td>0.136939</td>\n",
              "      <td>0.138171</td>\n",
              "      <td>0.068977</td>\n",
              "      <td>0.912128</td>\n",
              "    </tr>\n",
              "    <tr>\n",
              "      <th>Total</th>\n",
              "      <td>0.269653</td>\n",
              "      <td>0.196935</td>\n",
              "      <td>0.161293</td>\n",
              "      <td>0.157933</td>\n",
              "      <td>0.143713</td>\n",
              "      <td>0.070472</td>\n",
              "      <td>1.0</td>\n",
              "    </tr>\n",
              "  </tbody>\n",
              "</table>\n",
              "</div>\n",
              "      <button class=\"colab-df-convert\" onclick=\"convertToInteractive('df-440a703e-9d89-4c6f-acd6-a3f99a9485b6')\"\n",
              "              title=\"Convert this dataframe to an interactive table.\"\n",
              "              style=\"display:none;\">\n",
              "        \n",
              "  <svg xmlns=\"http://www.w3.org/2000/svg\" height=\"24px\"viewBox=\"0 0 24 24\"\n",
              "       width=\"24px\">\n",
              "    <path d=\"M0 0h24v24H0V0z\" fill=\"none\"/>\n",
              "    <path d=\"M18.56 5.44l.94 2.06.94-2.06 2.06-.94-2.06-.94-.94-2.06-.94 2.06-2.06.94zm-11 1L8.5 8.5l.94-2.06 2.06-.94-2.06-.94L8.5 2.5l-.94 2.06-2.06.94zm10 10l.94 2.06.94-2.06 2.06-.94-2.06-.94-.94-2.06-.94 2.06-2.06.94z\"/><path d=\"M17.41 7.96l-1.37-1.37c-.4-.4-.92-.59-1.43-.59-.52 0-1.04.2-1.43.59L10.3 9.45l-7.72 7.72c-.78.78-.78 2.05 0 2.83L4 21.41c.39.39.9.59 1.41.59.51 0 1.02-.2 1.41-.59l7.78-7.78 2.81-2.81c.8-.78.8-2.07 0-2.86zM5.41 20L4 18.59l7.72-7.72 1.47 1.35L5.41 20z\"/>\n",
              "  </svg>\n",
              "      </button>\n",
              "      \n",
              "  <style>\n",
              "    .colab-df-container {\n",
              "      display:flex;\n",
              "      flex-wrap:wrap;\n",
              "      gap: 12px;\n",
              "    }\n",
              "\n",
              "    .colab-df-convert {\n",
              "      background-color: #E8F0FE;\n",
              "      border: none;\n",
              "      border-radius: 50%;\n",
              "      cursor: pointer;\n",
              "      display: none;\n",
              "      fill: #1967D2;\n",
              "      height: 32px;\n",
              "      padding: 0 0 0 0;\n",
              "      width: 32px;\n",
              "    }\n",
              "\n",
              "    .colab-df-convert:hover {\n",
              "      background-color: #E2EBFA;\n",
              "      box-shadow: 0px 1px 2px rgba(60, 64, 67, 0.3), 0px 1px 3px 1px rgba(60, 64, 67, 0.15);\n",
              "      fill: #174EA6;\n",
              "    }\n",
              "\n",
              "    [theme=dark] .colab-df-convert {\n",
              "      background-color: #3B4455;\n",
              "      fill: #D2E3FC;\n",
              "    }\n",
              "\n",
              "    [theme=dark] .colab-df-convert:hover {\n",
              "      background-color: #434B5C;\n",
              "      box-shadow: 0px 1px 3px 1px rgba(0, 0, 0, 0.15);\n",
              "      filter: drop-shadow(0px 1px 2px rgba(0, 0, 0, 0.3));\n",
              "      fill: #FFFFFF;\n",
              "    }\n",
              "  </style>\n",
              "\n",
              "      <script>\n",
              "        const buttonEl =\n",
              "          document.querySelector('#df-440a703e-9d89-4c6f-acd6-a3f99a9485b6 button.colab-df-convert');\n",
              "        buttonEl.style.display =\n",
              "          google.colab.kernel.accessAllowed ? 'block' : 'none';\n",
              "\n",
              "        async function convertToInteractive(key) {\n",
              "          const element = document.querySelector('#df-440a703e-9d89-4c6f-acd6-a3f99a9485b6');\n",
              "          const dataTable =\n",
              "            await google.colab.kernel.invokeFunction('convertToInteractive',\n",
              "                                                     [key], {});\n",
              "          if (!dataTable) return;\n",
              "\n",
              "          const docLinkHtml = 'Like what you see? Visit the ' +\n",
              "            '<a target=\"_blank\" href=https://colab.research.google.com/notebooks/data_table.ipynb>data table notebook</a>'\n",
              "            + ' to learn more about interactive tables.';\n",
              "          element.innerHTML = '';\n",
              "          dataTable['output_type'] = 'display_data';\n",
              "          await google.colab.output.renderOutput(dataTable, element);\n",
              "          const docLink = document.createElement('div');\n",
              "          docLink.innerHTML = docLinkHtml;\n",
              "          element.appendChild(docLink);\n",
              "        }\n",
              "      </script>\n",
              "    </div>\n",
              "  </div>\n",
              "  "
            ],
            "text/plain": [
              "                   2         3         4  ...         6         7         0\n",
              "Country        Spain        UK    France  ...   Germany   Ukraine     Total\n",
              "Fallecer     0.01717   0.02456  0.018111  ...  0.005541  0.001496  0.087872\n",
              "Sobrevivir  0.252483  0.172375  0.143182  ...  0.138171  0.068977  0.912128\n",
              "Total       0.269653  0.196935  0.161293  ...  0.143713  0.070472       1.0\n",
              "\n",
              "[4 rows x 7 columns]"
            ]
          },
          "metadata": {},
          "execution_count": 15
        }
      ]
    },
    {
      "cell_type": "markdown",
      "source": [
        "Dada la probabilidad de sobrevivir en cada país, se obseva que España es uno de los que mayor probabalidad de sobrevivir tiene de los 6 paises del objeto de estudio con un P = 25,25 % siendo también el que mayor numero casos de covid positivo ha dado. Esto, nos puede indicar que si bien se vio afectada por casos positivos de covid, no se vio fatalmente perjudicada comparados con otro paises. Esto puede deberse a la proporción de ciudadanos de edad adulta es menor en comparación con otros paises, como es el caso de Italia (con una Probabilidad = 13,70%) que tiene una mayor porcentaje de ciudadanos adultos mayores de 65 años (Como se observa en la tabla demográfica por paises). Por lo que, como se ve en la tabla, la probabilidad de Fallecer en Italia por covid, es mayor que la de España debido a que el virus afecta fatalmente a las personas adultas.\n",
        "\n",
        "\n",
        "Aunque Ukraine tiene una probabilidad inferior al resto, no podemos asegurar y que sea comparable con el resto de paises, ya que la relación de cantidad de test realizados por millon de habitantes un muy inferior a los demas paises, por ende puede haber un gran numero de casos e incluso muertes por covid que no fueron contabilizados por el país. Mas alla de esto, la proporción de personas adultas es menor que la de Italia por lo que esto nos confirma nuestra teoría de que Italia es unos de los paises mas damnificados por el virus."
      ],
      "metadata": {
        "id": "wJf2Auy5oz3A"
      }
    },
    {
      "cell_type": "markdown",
      "source": [
        "## Probabilidad condicionada\n",
        "\n",
        "La probabilidad condicionada se puede obtener de dos maneras, dada la P(B|A) es la probabilidad de la intersección entre ambas / P(A), o bien también mediante reducción del todos los casos posibles, ya que si queremos obtener la probabilidad de España sabiendo que ha ocurrido un fallecimiento, ahora nuestro universo se puede reducir al total de casos fallecidos; por lo tanto es Cantidad de Total Deaths en españa / Total Deaths del universo. Habiendo dicho, calculemoslo mediante la primer forma usando la tabla de doble entrada\n",
        "\n"
      ],
      "metadata": {
        "id": "DkpEh70jntJl"
      }
    },
    {
      "cell_type": "code",
      "source": [
        "# Hacemos una copia del dataset  con las variables que vamos a trabajar.\n",
        "probabilidades_df = pd.DataFrame(covid_df[[\"Country\", \"Total Cases\",\"Total Deaths\"]].copy())\n",
        "\n",
        "probabilidades_df[\"País | Morir\"] = df_prob[\"Fallecer\"] / df_prob.loc[df_prob[\"Country\"] == 'Total'][\"Fallecer\"].sum()\n",
        "probabilidades_df[\"País | Sobrevivir\"] = df_prob[\"Sobrevivir\"] / df_prob.loc[df_prob[\"Country\"] == 'Total'][\"Sobrevivir\"].sum()\n",
        "\n",
        "#Ordenamos la salida para una clara y fácil interpretación\n",
        "probabilidades_df[[\"Country\",\"País | Morir\" ]].sort_values(by='País | Morir')\n"
      ],
      "metadata": {
        "id": "Mi10Bpb6YVIF",
        "colab": {
          "base_uri": "https://localhost:8080/",
          "height": 237
        },
        "outputId": "5f0ccd74-3d05-41cf-b528-753917b6bcc6"
      },
      "execution_count": null,
      "outputs": [
        {
          "output_type": "execute_result",
          "data": {
            "text/html": [
              "\n",
              "  <div id=\"df-3fd16e30-8d54-4a85-adc9-a9cf1bcb08cf\">\n",
              "    <div class=\"colab-df-container\">\n",
              "      <div>\n",
              "<style scoped>\n",
              "    .dataframe tbody tr th:only-of-type {\n",
              "        vertical-align: middle;\n",
              "    }\n",
              "\n",
              "    .dataframe tbody tr th {\n",
              "        vertical-align: top;\n",
              "    }\n",
              "\n",
              "    .dataframe thead th {\n",
              "        text-align: right;\n",
              "    }\n",
              "</style>\n",
              "<table border=\"1\" class=\"dataframe\">\n",
              "  <thead>\n",
              "    <tr style=\"text-align: right;\">\n",
              "      <th></th>\n",
              "      <th>Country</th>\n",
              "      <th>País | Morir</th>\n",
              "    </tr>\n",
              "  </thead>\n",
              "  <tbody>\n",
              "    <tr>\n",
              "      <th>7</th>\n",
              "      <td>Ukraine</td>\n",
              "      <td>0.017020</td>\n",
              "    </tr>\n",
              "    <tr>\n",
              "      <th>6</th>\n",
              "      <td>Germany</td>\n",
              "      <td>0.063062</td>\n",
              "    </tr>\n",
              "    <tr>\n",
              "      <th>2</th>\n",
              "      <td>Spain</td>\n",
              "      <td>0.195394</td>\n",
              "    </tr>\n",
              "    <tr>\n",
              "      <th>4</th>\n",
              "      <td>France</td>\n",
              "      <td>0.206110</td>\n",
              "    </tr>\n",
              "    <tr>\n",
              "      <th>5</th>\n",
              "      <td>Italy</td>\n",
              "      <td>0.238917</td>\n",
              "    </tr>\n",
              "    <tr>\n",
              "      <th>3</th>\n",
              "      <td>UK</td>\n",
              "      <td>0.279497</td>\n",
              "    </tr>\n",
              "  </tbody>\n",
              "</table>\n",
              "</div>\n",
              "      <button class=\"colab-df-convert\" onclick=\"convertToInteractive('df-3fd16e30-8d54-4a85-adc9-a9cf1bcb08cf')\"\n",
              "              title=\"Convert this dataframe to an interactive table.\"\n",
              "              style=\"display:none;\">\n",
              "        \n",
              "  <svg xmlns=\"http://www.w3.org/2000/svg\" height=\"24px\"viewBox=\"0 0 24 24\"\n",
              "       width=\"24px\">\n",
              "    <path d=\"M0 0h24v24H0V0z\" fill=\"none\"/>\n",
              "    <path d=\"M18.56 5.44l.94 2.06.94-2.06 2.06-.94-2.06-.94-.94-2.06-.94 2.06-2.06.94zm-11 1L8.5 8.5l.94-2.06 2.06-.94-2.06-.94L8.5 2.5l-.94 2.06-2.06.94zm10 10l.94 2.06.94-2.06 2.06-.94-2.06-.94-.94-2.06-.94 2.06-2.06.94z\"/><path d=\"M17.41 7.96l-1.37-1.37c-.4-.4-.92-.59-1.43-.59-.52 0-1.04.2-1.43.59L10.3 9.45l-7.72 7.72c-.78.78-.78 2.05 0 2.83L4 21.41c.39.39.9.59 1.41.59.51 0 1.02-.2 1.41-.59l7.78-7.78 2.81-2.81c.8-.78.8-2.07 0-2.86zM5.41 20L4 18.59l7.72-7.72 1.47 1.35L5.41 20z\"/>\n",
              "  </svg>\n",
              "      </button>\n",
              "      \n",
              "  <style>\n",
              "    .colab-df-container {\n",
              "      display:flex;\n",
              "      flex-wrap:wrap;\n",
              "      gap: 12px;\n",
              "    }\n",
              "\n",
              "    .colab-df-convert {\n",
              "      background-color: #E8F0FE;\n",
              "      border: none;\n",
              "      border-radius: 50%;\n",
              "      cursor: pointer;\n",
              "      display: none;\n",
              "      fill: #1967D2;\n",
              "      height: 32px;\n",
              "      padding: 0 0 0 0;\n",
              "      width: 32px;\n",
              "    }\n",
              "\n",
              "    .colab-df-convert:hover {\n",
              "      background-color: #E2EBFA;\n",
              "      box-shadow: 0px 1px 2px rgba(60, 64, 67, 0.3), 0px 1px 3px 1px rgba(60, 64, 67, 0.15);\n",
              "      fill: #174EA6;\n",
              "    }\n",
              "\n",
              "    [theme=dark] .colab-df-convert {\n",
              "      background-color: #3B4455;\n",
              "      fill: #D2E3FC;\n",
              "    }\n",
              "\n",
              "    [theme=dark] .colab-df-convert:hover {\n",
              "      background-color: #434B5C;\n",
              "      box-shadow: 0px 1px 3px 1px rgba(0, 0, 0, 0.15);\n",
              "      filter: drop-shadow(0px 1px 2px rgba(0, 0, 0, 0.3));\n",
              "      fill: #FFFFFF;\n",
              "    }\n",
              "  </style>\n",
              "\n",
              "      <script>\n",
              "        const buttonEl =\n",
              "          document.querySelector('#df-3fd16e30-8d54-4a85-adc9-a9cf1bcb08cf button.colab-df-convert');\n",
              "        buttonEl.style.display =\n",
              "          google.colab.kernel.accessAllowed ? 'block' : 'none';\n",
              "\n",
              "        async function convertToInteractive(key) {\n",
              "          const element = document.querySelector('#df-3fd16e30-8d54-4a85-adc9-a9cf1bcb08cf');\n",
              "          const dataTable =\n",
              "            await google.colab.kernel.invokeFunction('convertToInteractive',\n",
              "                                                     [key], {});\n",
              "          if (!dataTable) return;\n",
              "\n",
              "          const docLinkHtml = 'Like what you see? Visit the ' +\n",
              "            '<a target=\"_blank\" href=https://colab.research.google.com/notebooks/data_table.ipynb>data table notebook</a>'\n",
              "            + ' to learn more about interactive tables.';\n",
              "          element.innerHTML = '';\n",
              "          dataTable['output_type'] = 'display_data';\n",
              "          await google.colab.output.renderOutput(dataTable, element);\n",
              "          const docLink = document.createElement('div');\n",
              "          docLink.innerHTML = docLinkHtml;\n",
              "          element.appendChild(docLink);\n",
              "        }\n",
              "      </script>\n",
              "    </div>\n",
              "  </div>\n",
              "  "
            ],
            "text/plain": [
              "   Country  País | Morir\n",
              "7  Ukraine      0.017020\n",
              "6  Germany      0.063062\n",
              "2    Spain      0.195394\n",
              "4   France      0.206110\n",
              "5    Italy      0.238917\n",
              "3       UK      0.279497"
            ]
          },
          "metadata": {},
          "execution_count": 16
        }
      ]
    },
    {
      "cell_type": "markdown",
      "source": [
        "Si tomamos al alzar una persona que haya fallecido, la probabilidad de que esta fuera residente de España es de 19,54%. Una probabilidad un tanto más baja que la de UK que con una probabilidad del 27,95 % tendremos mas chances de que al escoger una persona fallecida esta sea de UK."
      ],
      "metadata": {
        "id": "GCX35TDLinOA"
      }
    },
    {
      "cell_type": "markdown",
      "source": [
        "## Arbol de decisión\n",
        "\n",
        "Dada las probabilidades obtenidas en los apartados anterior, las podemos representar con este árbol de decisión para que nos ayude a entender mejor las probabilidades obtenidas y como se distribuyen las probabilidades."
      ],
      "metadata": {
        "id": "U1ptzgx2rIgv"
      }
    },
    {
      "cell_type": "markdown",
      "source": [
        "![Presentación1.pptx.jpg](data:image/jpeg;base64,/9j/4AAQSkZJRgABAgAAAQABAAD/2wBDAAgGBgcGBQgHBwcJCQgKDBQNDAsLDBkSEw8UHRofHh0aHBwgJC4nICIsIxwcKDcpLDAxNDQ0Hyc5PTgyPC4zNDL/2wBDAQkJCQwLDBgNDRgyIRwhMjIyMjIyMjIyMjIyMjIyMjIyMjIyMjIyMjIyMjIyMjIyMjIyMjIyMjIyMjIyMjIyMjL/wAARCALPBUUDASIAAhEBAxEB/8QAHwAAAQUBAQEBAQEAAAAAAAAAAAECAwQFBgcICQoL/8QAtRAAAgEDAwIEAwUFBAQAAAF9AQIDAAQRBRIhMUEGE1FhByJxFDKBkaEII0KxwRVS0fAkM2JyggkKFhcYGRolJicoKSo0NTY3ODk6Q0RFRkdISUpTVFVWV1hZWmNkZWZnaGlqc3R1dnd4eXqDhIWGh4iJipKTlJWWl5iZmqKjpKWmp6ipqrKztLW2t7i5usLDxMXGx8jJytLT1NXW19jZ2uHi4+Tl5ufo6erx8vP09fb3+Pn6/8QAHwEAAwEBAQEBAQEBAQAAAAAAAAECAwQFBgcICQoL/8QAtREAAgECBAQDBAcFBAQAAQJ3AAECAxEEBSExBhJBUQdhcRMiMoEIFEKRobHBCSMzUvAVYnLRChYkNOEl8RcYGRomJygpKjU2Nzg5OkNERUZHSElKU1RVVldYWVpjZGVmZ2hpanN0dXZ3eHl6goOEhYaHiImKkpOUlZaXmJmaoqOkpaanqKmqsrO0tba3uLm6wsPExcbHyMnK0tPU1dbX2Nna4uPk5ebn6Onq8vP09fb3+Pn6/9oADAMBAAIRAxEAPwD3+iiigAooooAKKKKACiiigAooooAKKKKACiiigAooooAKKKKACiiigAooooAKKKKACiiigAooooAKKKKACiiigAooooAKKKKACiiigAooooAKKKKACiiigAooooAKKKKACiiigAooooAKKKKACiiigAooooAKKKKACiiigAooooAKKKKACiiigAooooAKKKKACiiigAoorg/Hms3Md3FpNvK8UZi82dkOCwJIC57Dgk+vFZ1aipx5mTOSirs7oyIDguoP1o8yP++v514X9lg/54p+K0v2W3/54x/98iuH+0P7v4mH1nyPc/Mj/vr+dHmR/wB9fzrwz7Lb/wDPGP8A75FH2W3/AOeMf/fIo/tD+7+IvrPke5+ZH/fX86PMj/vr+deGfZbf/njH/wB8ij7Lb/8APGP/AL5FH9of3fxD6z5HufmR/wB9fzo8yP8Avr+deGfZbf8A54x/98ij7Lb/APPGP/vkUf2h/d/EPrPke5+ZH/fX86PMj/vr+deGfZbf/njH/wB8ij7Lb/8APGP/AL5FH9of3fxD6z5HufmR/wB9fzo8yP8Avr+deGfZbf8A54x/98ij7Lb/APPGP/vkUf2h/d/EPrPke5+ZH/fX86PMj/vr+deGfZbf/njH/wB8ij7Lb/8APGP/AL5FH9of3fxD6z5HufmR/wB9fzo8yP8Avr+deGfZbf8A54x/98ij7Lb/APPGP/vkUf2h/d/EPrPke5+ZH/fX86PMj/vr+deGfZbf/njH/wB8ij7Lb/8APGP/AL5FH9of3fxD6z5HufmR/wB9fzo8yP8Avr+deGfZbf8A54x/98ij7Lb/APPGP/vkUf2h/d/EPrPke5+ZH/fX86d1rwn7Lb/88Y/++RW74Y1afR9XtYY5G+x3EqwyQk5UbjgMB2IJHTqKunjlKSTVio4hN2aPWaKKK7zoCiiigAooooAKKKKACiiigAooooAKKKKACiiigAooooAKKKKACiiigAooooAKKKKACiiigAooooAKKKKACiiigAooooAKKKKACiiigAooooAKKKKACiiigAooooAKKKKACiiigAooooAKKKKACiiigAooooAKKKKACiiigAooooAKKKKACiiigAooooAKKKKACiiigAooooAKKKKACiiigAooooAKKKKACiiigAooooAKKKKACiiigAooooAKKKKACiiigAooooAKKKKACiiigAooooAKKKKACiiigAooooAKKKKACiiigAooooAKKKKACiiigAooooAKKKKACiiigAooooAKKKKACiiigAooooAKKKKACiiigAooooAKKKKACvMPHX/I2H/r0j/9CevR7y+tdPhEt3cRwRk7Q0jYyfQepry7xXqNrqfiNrizl82IWyJu2kAkM+cZHNc2Ni/YN20MK7XLYyKKKK8Q4goro4tLtJUt4TaSKHs/Pe6DnCNgnkdMcAfjUFrYW73Gi2ksYJuT5kpHBIZioGfoufxrX2Mi+RmHRV7T7aK4jvzICTDbGROejBlH9TVxdMtzohbDfb/LN0OePKDbcY9erfSpVNtXQlFsxaKsWwULNKyBzGoKq3TJIHP60s+2S2jn2Kjl2RtowDgAg4/GptpcVitRW1c2UEOkQzw2ZnR4gXulkP7uQ9VIHAx056+tVxosxTb58H2nyvN+zZO/bjd6YzjnGc1Tpy2HyszaK3JdGFzHYC3lt45pbYMImY7pWy2ccYHTuRmqU0Mb6JbXKIFdZXhkI/i4DKf1I/AUOm0Di0UKKuW+n/aIRJ9stIsn7ssu1vyxUcdqZL9LQSIxeQRh0OQcnGRU8rFZleit/VrOSGK5S3srQW0Dbd6SK8qgHAZsNkZ9x3qroVvHc3M8ZiSW48km3STOwsCOv4Z68VbptS5SuV3sZVFdQ2n251ZIXs4xdpZtI9umQkkoyVA9eMHjg4ppsYilhdX1klm7SSRvG6mNHIXKEg9Bk4NV7Bj5GczRXRtYJ5iXcdqk0giAFvAN6vN3OBkbVGCccZOK51lZWKsCrA4IIxg1E4OO5LjYSpbP/kJ2H/X3D/6GtRVLZ/8AITsP+vuH/wBDWlT+NBHdHtdFFFfRHpBRRRQAUUUUAFFFFABRRRQAUUUUAFFFFABRRRQAUUUUAFFFFABRRRQAUUUUAFFFFABRRRQAUUUUAFFFFABRRRQAUUUUAFFFFABRRRQAUUUUAFFFFABRRRQAUUUUAFFFFABRRRQAUUUUAFFFFABRRRQAUUUUAFFFFABRRRQAUUUUAFFFFABRRRQAUUUUAFFFFABRRRQAUUUUAFFFFABRRRQAUUUUAFFFFABRRRQAUUUUAFFFFABRRRQAUUUUAFFFFABRRRQAUUUUAFFFFABRRRQAUUUUAFFFFABRRRQAUUUUAFFFFABRRRQAUUUUAFFFFABRRRQAUUUUAFFFFABRRRQAUUUUAFFFFABRRRQAUUUUAFFFFABRRRQAUUVWvL+2sUVriQKWOEQAszn0VRyT9KaTeiC9izVK71SC1lECh57ojK28I3Pj1PZR7kgVXxqWpfeLafansCDO4+vIT8Mn3FXbSytrGIx20QQE5Y9Sx9STyT7mqso7k3b2Mq90WfX7V4dXkEUDcrbW5ztPYs5HJHsAPrXD+L7WGx8Qx2tvGI4YrKJUUdhuevVa8y8eIy+KlYjh7RNp9cM+f5j865MdOTo26GVaKUbnOUUUV4ZxF6+1F7qG2hRpFjigWNkLcEjPOKtPfeSuj38RVpLYeWyE90YkZ9iGH61j0VftHuVzM1WvbCCG5WyiuA9yuxvNIIjXIJAx16Dk4qwPEbrqSusSfYVAj8kxpu8rG3buxnp71hUU/ayWw+d9CVZVRJkUEq4ABPbBzSGXNssWPuuWz9QB/So6KzuSattf2VlbTG3S5M80BhZHYbORgnjk+wqU6va/aPt4hm+3eT5eMjy92zZu9enOPXvWLRVqrJaD5mbcOr2UT2VwYJzdWcQRMMNjEZIJ7jBP4+1VZpFj0G2gDAySzPMwB+6AAoz+TVnUUOo2rMOZluDUrm2iEURh2j+9AjH8yCaiW6kW8W6+XzVcPwoAyDnoOKhoqeZ9xXZsz6nZkXrWcEyz3w2v5jDbGCwYgevI79KBc2FjPe2aebJbzRpG00bAsGGCSvYqSD9RWNRV+1e5XMzVuL6yuDaQMtyLa2RlD5BkJJz9MD0qK8vYJ47e1hWVLWJizM5DO7HGWPboAAPas+ik6jYuZmsNVhd7iF45EtHiEUSxkbo1DBh9SSOfc1Rv7r7bfz3OzZ5rltuc4zVeilKbkrMHJsKls/8AkJ2H/X3D/wChrUVT2CNJq+nIoyzXcOB/wMH+Qop/Ggjuj2miiivoj0gorh/ijdR2mhaUbi8ktLOTWLWO7kjnaH9yWO8F1IIGPeufsdeOkw+L77w/qN3qHh2x0sTW01xM86JdgPlI5HJLLjYTyQCaAPVkdJF3IysuSMqcjjg06vOzbSaEvw40y3mlRPPKThXI80/ZpGYt65bLc9619auZ4/iX4Ut0mkWCW1vzJGrkK5AiwSOhxk4+tAHW0V5VLrOoL40Xxb9tn/sIap/YZt958ry8bPOx0/4+OM+ld/4j+bR/KJOya5toZAD95HmRWX6FWI/GgC7bahZXjyJa3lvO8Zw6xSBip98HirNYmsWlvaRWF3bQRxTW93BFG0ahcI8ixsvHYqx46ZAPYVjfEOPUDDpUyQ6jc6NFcs2qW+muyzvHsIUjaQxUNgsFOSKAO0oJwMnpXDWnibR9I8K2MnhqWfWRf3otLKGa6dmErZJR3kyyKoUk7gSB25FQ6v4jv59I8T+H9b0+Cz1GPRJ7uJrW4M0U0RVlJBKqQQ2AQR3BoA7/AK01HSRdyMrLkjKnPIODXn/h7xVqun2Hha31XRY7bTNSjitLa4W63yrJ5WU8xNuAGCnGGOO9WtBuZ9K13xvptpbNdfZZU1C2tlYKXaeIsUBPAzIjn/gVAHcUVDaSyz2cE08Bt5ZI1Z4WYMY2IyVJHBweM14b4T1SGbRvCc2ia7qF34onuohqFqL6WdGh3HzTKjMVQBec4BzjFAHvFFcba+M7+61XWF/siKLSNGuJYr2+kuecIgfKIF5IBGQSMZGCe0EHjfV44NK1TUtBhtdF1SaKKGVLwvPD5vEbSpsCgHIzhjjNAHcAg5wQcdaWvLdL1vXNHuvG9xpuiQ31ra6xNcXEkt35RYCGLKRgK2WAXPOByMZ7dRqHibUm02y1LRrLTpbG6tUuVm1C/wDs27cMhFARstjHJwOaAOpyAQMjJ6UteYan4in1rVvh9rmkacZ5r2G7eK2kmEYUtEudz4OAvOSASccCrereLDdeGdct9a0oxX+lXtrDc21tesquJJIzG6SgBsENnBA6EGgD0PIJIyMjrS15drV3DY6h8S7q4gkuIYrOydoo52hZwI24Dryv1FdLe+JtTOvS6LoGjw30llbR3F29xdmEKHzsjU7W3OQpOTgep5oA6wEEcHNFeceBtQ1O0+F2lzafY2ryPNcmQ3135EcA8+TlmCsSc8YA/Gr0XxDaTw096NNSTUxqf9kx2kNyGiluCRgrLj7hB3ZxwM8UAdzkZxnmivPtEudUuPi5dDV7CGzuY9CRcQT+dHIvnsQysVU9yMEA5HpW5rfiPULbxBbaDoumwXuoSWzXcpubgwxxRBgoJIViSzcAY7E0AdKCD0NFeV+HfFZ8P+GtXvrqyCXt74luLaK1mnVFWZ2yQ8nICqAxLYPA4FdZ4Y8WtrWqX+k3Udkt7Zxxzb7G7+0QyxvkAhtqkEFSCCPQ85oA6iiuW1LxNqn/AAkc+i6DpEN/NZ26XF48915CqHJ2Rr8rZchWPOAMdaq6V48bU7Hw3cnTDD/bV7cWpjabJg8rzeTgck+V07Z6nFAHZ0VyWpeOrfSJPE5u7VhDoaW53I/M7TL8q4IAX5iB175qPQ/Gs194hh0bUIdNSe5t3uIH0+/F0o2FdyP8qlWG4HPIPPpQB2NFcx4j8T3Wla3puj2NtZvd30ckiSX10beI7Co2KQrFnO7pjoCara140n0/V7fRbe305NRa0F3cG/v/ACIYVJ2hQwUl2JDdAOBn2oA7CiuRtPF97rPha11fSNPs98kkkVwL2+EUVuyMVbLqrbhkcEDkEHitDwl4jPiXS57iS3jguLa6ktJ0im82Peh6o+BuUggg4HWgDepCQOpArk/DFzPN4y8ZxSzSPHDeW6xIzkhAbdCQo7c88VxupXzt4Y1uW8umMdv4zjUPNJkRxrPEcZPRRz7CgD1+iuKufHk0PhPUvE8eju+mQvGLEtLtkvEZ1UyBdvyqd2Vzyw54yKuSaz4pj0tJ5tE0u1neRsi51QrFDHhSu9hGSXJJGACPlznmgDqaK8/fxZb63ouhXtzp7LMdfSxeOG8YLHMjOu4OoHmJxnBGDnnpT77x3rMY8QXFj4dinstBndLqWS92GRURXby12HLBWyQcDpgkngA72iuN1fx2sGp2mm6Wlg1xPZLfNJqN59miSJjhBkKxLEg8Y4Azmtnwx4hj8T+H4tThh8pmZ45IjIHCSIxVgGHDDI4I6jBoA2aK4yDx40/hvTr5dOxqd5qI0xrAzf6qYSFZAWx0VVZunQD1rY8UeIG8P6fbyQ2hu728uo7O0t9+wPK+cZbB2gAMScHpQBt0VxUfjTVLa+1jT9W0SG3utM0s6jmG78yOcZYAKSoIB2EcjIOeD1OhJ4rKW3hab7GD/bsiIR5n+p3QtLnp833cdutAHS0V51efFJLcXuoR22nvpFlctbyl9QC3UgVtryJDtwVBzgFgSAT6V1/ibXF8OeG73WDbtcC2jDeWrbd2SByecDnJPYAmgDWork5/Fl7pvhsalf2NncXE9xHb2MWm3nnR3TyEBAHZF28k5ODwM89KiXxJqY1GfQdf0y2s7q4sJbm1ltLkzRShcB1O5FIYbgehBB60AdiCCAQcg9CKK8s8G+KtV0bwZ4SN9oscejXCW1ityLrMyswCpI0e3AQtgfezggkDpXRWnjHULzWdXiXSIotJ0e5khvL6S5wcLGHyiBeSM8gkYBGCewB2NFef6X8SWvLrSHuLTT47HV5VithDqAluYiwJTzYgoC7sc4J2kgGrsXjxpfDFpfjTgNTuNSGlmwM33JxKUYFtvQKrPnHQUAdnRXA2niqHSZb6RNOkFtJ4lbT7qV7tn8tnVAJQGHyqWKrtGAM5pfFXiiGSz8RWkmnST2Wly2UUkkd20JkmkkQlQVGRtDITzznFAHeMwVSzEBQMkntS1wviO/vfEd/qHh/S9Gg1C301oXvvtN6bdJnIEiwjCNu42k5wOQD3rpfDeuW/iTw9Z6vbRvFHcIT5b/ejYEqyn6MCPwoA1aKKKACiiigAooooAKKKKACiiigAooooAKKKKACiiigAooooAKKKKACiiigAooooAKKKKACiiigAooooAKKKKACiiigAooooAKKKKACiiigAooooAKKKKACiiigAooooAKKKKACiiigAooooAKKKKACiiigAooooAKKKKACiiigAooooAKKKKACiiigAooooAKKKKACiiigAoooJAGScAUAFRzzw20LTTypFEoyzu2APxrPbVXu2MelQi4IODcMcQr+P8R9l/EinwaSnnLc30rXlypyrOMJGf9hOi/Xk+9Xy2+Im99iP7ZfajxYRfZ7c/wDL1cIcn/cQ8/i2Poas2emW9m7TDdLcsMPcSnc7e2ew9hge1XKKTlpZaIEurCiiipKCsnXvD9pr9skc5aOaIkxTJ95Cev1B7itasTxJ4ii0C1jIj866mJEUWcA46sT2A4/OoqcvK+fYmVra7HNH4c3YPGsREe9qf/i6P+FdXf8A0GIf/AU//F1SPjvXiSQtgB6eS5/9npP+E61//pw/78N/8XXn82E7fmc96Je/4V1d/wDQYh/8BT/8XR/wrq7/AOgxD/4Cn/4uqP8AwnWv/wDTh/34b/4uj/hOtf8A+nD/AL8N/wDF0ubCdvzC9Evf8K6u/wDoMQ/+Ap/+Lo/4V1d/9BiH/wABT/8AF1R/4TrX/wDpw/78N/8AF0f8J1r/AP04f9+G/wDi6ObCdvzC9Evf8K6u/wDoMQ/+Ap/+Lo/4V1d/9BiH/wABT/8AF1R/4TrX/wDpw/78N/8AF0f8J1r/AP04f9+G/wDi6ObCdvzC9Evf8K6u/wDoMQ/+Ap/+Lo/4V1d/9BiH/wABT/8AF1R/4TrX/wDpw/78N/8AF0f8J1r/AP04f9+G/wDi6ObCdvzC9Evf8K6u/wDoMQ/+Ap/+Lo/4V1d/9BiH/wABT/8AF1R/4TrX/wDpw/78N/8AF0f8J1r/AP04f9+G/wDi6ObCdvzC9Evf8K6u/wDoMQ/+Ap/+Lo/4V1d/9BiH/wABT/8AF1R/4TrX/wDpw/78N/8AF0f8J1r/AP04f9+G/wDi6ObCdvzC9Evf8K6u/wDoMQ/+Ap/+Lo/4V1d/9BiH/wABT/8AF1R/4TrX/wDpw/78N/8AF0f8J1r/AP04f9+G/wDi6ObCdvzC9Evf8K6u/wDoMQ/+Ap/+Lo/4V1d/9BiH/wABT/8AF1R/4TrX/wDpw/78N/8AF0f8J1r/AP04f9+G/wDi6ObCdvzC9Evf8K6u/wDoMQ/+Ap/+Lo/4V1d/9BiH/wABT/8AF1R/4TrX/wDpw/78N/8AF0f8J1r/AP04f9+G/wDi6ObCdvzC9Evf8K6u/wDoMQ/+Ap/+Lra0DwbbaNdC8nuGu7tQQjFNix564XJ59ya5f/hOtf8A+nD/AL8N/wDF1u+HPGcmo30dhqMMUc0ufKliyFYgZ2kEnB69+a1pSw3OuValQdK+h2NFFFd50GF4n0KXXotKSKZIjZanb3rbwTuWNslR7mrHibSjrnhbVdKUgPeWksKE9mZSAfzxVy+1Cy0y2Nzf3lvaQAhTLcSrGuT0GScUWWo2Op2/2iwvLe7hzjzIJVkXP1BxQByCabd+LfBnhzUbWf7BrFgY7iIzxFlWZVMckbrkHacspxg96ni8O+IbvVn1zVb7T/7Rt7KW206G1jcQwvJgmRyxJYkqoxgAAd66Gy1zTNRtLS6tr2JobxmW2LHYZiuc7Q2Cfuk8dQM9OatvdW8dzFbPPEs8wZo4mcBnC43EDqcZGfTIoA4I/CLw+fB50o2yf2ibXy/t+W3efj/W4z/f+auubT7q60Sytb24Q3cTW0k8qL8rvG6O2B6EqfpmrLarpyWL3zX9qLONir3BmXy1IO0gtnAIPH14q3QBU1Gy+320cQk2bJ4Zs4znZIr4/Hbj8aqa1Hr7G3k0K409Cu4TQ3sTssgOMEMpBUjB7HOfapLvXLS0uXt9l1PLGAZBbWzy+XnkbioODjnHXHarttcw3ltHcW8iyQyLuVl6EUAcIvw+v109rsalbLr51f8AtgSrARbiXbsMezOdhXIJznJz7Vbbwjq2qPrOoaxeWf8AaN7pb6ZbpaowhgjbJJJY5YliCemAorpYde0e41J9Ng1axlv0zvtUuEaVcdcoDkflWhQBwtl4Q16SbQLXWdTsZ9M0SRZofs8DJLPIiFE35OAFDE8dT2FS6DbX15qvjTWbMrBPeTi0sXnQlf3EZQOR3XzGf6gV1cepWc2pz6bHOGvLeNJZYsHKq5IU+nO1vypLnU7OzvbOzuJvLnvWZLdSpw7KpYjOMA4BPPXBxQBLaLcLZwLduj3IjUSvGuFZ8ckDsM5rI8G6FL4Z8Iabos8yTS2kXltIgIVjknjP1rdqhqGuaTpLxpqWqWVm8gJRbm4SMsPbcRmgDK07wsILPxNZ3kqyQa1eTTER8FY5IkjK89/lP51j2/g/xBcWekaPq+p2EukaXLDKrQQus9z5OPLV8kqoyFJxnOO1dzFLHPEksMiSRuMq6HIYeoI60+gDgZ/CHieF/EUGm6tp0dlrlzJLIJoHaS3DoqFkIIDNheh4GAc9RReeAbmLVLGbTW0y4trbTI9Njj1S3M32cITiSMA4JIxkcZ2jmu0vdSs9Pe1S7nETXc4t4AQTvkIJC8eyn8qtUAefQeBNY07TfCcem6naJd6BFMhaaFmjn3gDBAIIGM89Rx16VJN4E1G/0XXPt9/atq+sXdtcTPEjCGJIHjKooPJ+VDyepau7d1jRnc4VQST6CoNPv7XVNPt7+ymE1rcRiSKQAgMp5B55oA5PW/BV1qieMBHdwp/bttBDFuB/dGNCpLfXPap7zw5rlp4mudY0C/sYvt9tFBdx3kLPtaPdskTaRk4YjacD3rcuNf0m2gnml1CDy4LhLWYo27y5WKhUYDOCSy8H1q3DfWlxdXFrDcwyXFsVE8SOC0RYZXcOoyORmgDgE+HmoW+g+HrRbqwvptIuLmV4b6ImC481nIZgOjLuyOCM5p8Pw8v4fD89ul/ZR6kutDWLWSK3KwJIAo2FM528MOD0INdzLqVnBqVtp0s6rd3KPJDEQcuqY3H8Ny/nVqgDlNG8P61H4vn8Q6zfWUsktgLQQWsTKsQD7hgsSW6k5OOvTin61oGrN4otvEOhXVnHdraNZTw3qM0bxlt6kFSCGDZ+oPat/UNQtdK0+e/vphDa26GSWRgSFUdTxVhWDqGU5BGQaAPPh8O71/D721xqVtPqaay2rwzyW2YnkPVXjz90gsMA8ZHXFdN4e07ULJrh7+20aDeFCJpsDJ0zksx69RgYGOeueNK61KzsrmztridY5ryQxW6kH94wUsQPwUn8KtUAcnf+Htbt/FV1rWgX1jD/AGhbRwXcd5EzhTGW2SJtIyQHI2nA965jwt4d1HUfh54cuLG6ij1TStRuriNrqM+XLmadGDBeRkMTkdK9TooA4B/AF/qlp4nTWtTt3n1sW7K9tAQsDw8rhSTuAIXqecHpnja0DSdXs73zdQtvD8SLEV3afbMkjtxzkn5R1457c8V0tFAHM+L9F1TXrRrG2i0aeymiKSR6jA7lH7OpB6jPTAOR1rJl8CXtneadfWE9hf3MGmxadcrqsJdZhHysgIyVbJbPXIPtmu8ooA4jV/CGpajBoU2NFe402SZ5LJ7Zls5d4wCFySGUdCc5JJ4zxp+DPDdx4Z0+/guZraV7q+ku/wDRofKjTeF+ULk4AIPfpiukooA5G68P69p/iXUdY8O3mnhdTWM3VtfxuVWRF2B0ZDnlQAQfTrVZvAcp8Krpj30c95Nqsep3lw8e1ZZPOWRwFGcDC7QPYV2U91b2ojNxPFCJJFiQyOF3OxwFGepJ6Cia6t7eSGOaeKN5m2RK7gGRsE4UHqcAnA9KAOIufAd6vhzWPDtlfQrpNzLHNYRyAlrTEiu8ee6ZHy+mcVo+LPDF3rWraTqNr/Z8/wBgEqm01GMvC+8KA+B0ZcccHhj0rov7QsjDczfbLfyrVmW4fzVxCQMkOc/KQCCc+tTRSxzxJLE6yRuoZHQ5DA8gg9xQBwth4BvLTSLCze9tWkt9e/tZ2ihMaFSzMUVedv3uBnArRXwncDRvGFj9pi367NcSxNg4iEkCxgN9CpPFdZRQBw114JvYdRsNT086XcXMWnR6fcQahAXjcJyrqRyrAlh0OQe2K6vSLW4s9Lhhuls1nGS4s4jHEMkkbVJJ6Y57nJ4zir1FAHnGkaEJfjHrN3FIx06wVbjySuFW9njVXIPf92gJ95K6jxZoFxr1jZmyuY7e/sLyO9tXlQshdMjawBB2lWYcc81v0UAeb2el6pf/ABF1q0164gke98OxxE2kZWOJGllXapYksepyfXpgVZsfB/iQzeGk1LVdOe10GVTGlvAytOoiaMMxJOGwRwOOTz0A7+quo6lZ6TZNeX04ht1ZFZ2BIBZgqjj1ZgPxoA4yz8FalpFxdW+npoFxp811JcRyX1ozzQh2LMnBw4BJwSRXY6pHfS6dKmmvardHGz7UheMjIyGAIPIyPbPfpVyigDzuL4dXZ0zUP9LsrC+n1CDUbSKyhP2a1mixghCRndg7umc+1a1t4b1i/wBbOsa/d2JuIbOW0tILJHEcfmY3uxY5JO1RjoAO9ddTXdI42kkYKiglmY4AA7mgDz3TvA3iBdK0HQtU1Wwm0jSpIJyYYGWaZosFYzk7dobHOMkAcA5NdDpfhj7NB4kt7yVZYNZvZZ8JkFY3iSMqff5T+dbtrd299axXVpPHPbyqHjliYMrqehBHUUk19aW91b2s1zDHcXJYQRO4DSlRlto6nA5OKAOR8OeFdX0Q2FnKnh+a0slEYu1s2W5kRRhc84VumWye/FOt/A8kPxDl1/7Yh00s11HZBTlbt41iaTPTGxT+LGuoutTs7K7tLWeYLPeOUgjClmcgbjwBwAByTwPxq3QBxz+CTc+HvFOlXNyhGs3k11FIoP7ksqbCfdWQGq48DXr+ALnRLi+hk1S9u1vbu72kJJL56yNgem1Qo+gruaKAOQuPD2v6f4h1TUvD17pyx6r5b3EV9E7eVKibN6FSM5UDKnuOtW9F8PX3h2w0PS9PvonsLTzPtxmj/eXDNlty4OF/eMSfY4rpKKACiiigAooooAKKKKACiiigAooooAKKKKACiiigAooooAKKKKACiiigAooooAKKKKACiiigAooooAKKKKACiiigAooooAKKKKACiiigAooooAKKKKACiiigAooooAKKKKACiiigAooooAKKKKACiiigAooooAKKKKACiiigAooooAKKKKACiiigAooooAKKKKACiiigAoqpealbWRVJGZ5n+5BGN0j/AEUdvfoPWqv2e/1Hm7c2dsf+XeF/3jD/AGnHT6L/AN9GqUer0Qm+iJbjVY452trWNru7HWKLon++3Rfx59AajGmTXp36tKsq9RaxZEI/3u7/AI8e1X7e2gtIFht4kijXoqDAqWnzW+EVr7iKoRQqgBQMAAcClooqCgooooAKKKKACvMvHbM3ipVJ4S0TaPTLPmvTa8w8df8AI2H/AK9I/wD0J65Mb/BZjX+A56iiivGOEKK0ZdFu4Ync+UxRBI6JKpdVIByV645FRrpk7tbopUyTwtMFzjCjJ5+oUn8qrkltYrlZSorRi0aeW2Nws9p5Y27iZ1G0noD6Hg/lVSOAyO4LoqIMs55HXHbrScWtxWZDRUs0HlBXWRZI2zhlz1HUc9+R+dWJNMnhtRPI8KkoJBEZRv2nocf5NHKwsylRRU91ava+TvZT5sSyjHYGlbqBBRU81q0Ntbz7gyTgkY7EHBB/Q/iKgoasAUUqqWYKOSTgVdv9MksIbeR5YpPODY8ttwUg4Iz0P4U1FtXCzKNFaTaSDZzTwXsE7QANKibsqCcZBIAPJ7VUs7SS9uVgi2hiCSzHAUAZJJ9AKbg07BZkFFX10xZ7uG2s7yG4eQnJCsoTAyScgcYyfwqQ6M8nkNaXMVyk0wg3KGXa56Agjp7+xo9nLoPlZmUVonSXae3SGeOWKcFhKMhVCkhicjjGM1QcKrsEbcoJAbGMj1pOLW4mmhtTWLFNW051OCLuHH/fYqGpbP8A5Cdh/wBfcP8A6GtOn8aHHdHtdFFFfRHpHDfFFxFpOhSG3e5C67ZEwRqC0nz/AHQCQCT05NYF/bX+nWXjbxTbaRJodrLo/kw2r7FkllUPmdlQkKRuAHOTivRtZ0O11xLJLp5VFneRXsflkDLxnKg5B49f51Lq+mxaxot9pk5xFeW8kDn0DKVz+tAHFalaRafd/Da0hAEMFx5SY6YFo4FaGuc/FTwiB2tNQJ9uIamtvDcmueCNJ07xDHNa6jZrGRNbTASRTRjaJUcZAyOfo2CKu6P4Tt9L1R9Un1DUNT1FovIW5vpFZo485KqEVVAJAJ4ycdaAPMvBBXU9bstJ1v8Ad6ZFd3t3p0PWO9uVuZN28+sYwQnfO7tivbK5h/Aekv4eGj+bdqkd499Bcq6iaCZpDJuRtuBgsR0PHBzXTAYABJPue9AGVoXKag/8TX024+uDgfoAPwo0Ef6FeICQPt1zjHbMrE/qTV+2tIrRZFiBAkkaVsnPzMcmmxWMMNvNAm8JM7u+GIOXJJwe3WgDzvw5C/ga50jw9r2i2ssJuGh03XLdFbfK24gSAjckjAkZBIPPvTX8QeKLzwbqHje01aGG2t2nmh0trVTG8MLspDv9/ewQnIIAJHFdNaeB7eLULO7vdZ1jVFsX821gvrhXjifBAfhQWYAnBYnGagl+HWmSm4g/tDVE0q5nM82lJOotnYtuYY27wpPJUMBz0oAxY4tW1n4latJpOqDS0l0iyleT7OssnJlKqA3ygcnPBPAxjrVbUtcu9X+GOl67eCMalp2sQBmiGFeSO68hiB6Mpbj3IrrNS8E2t/rk2swarqunX00CW7SWUyqPLXdxtZSOd3UgkYGMc5qaj4REemeHPDulWxXSbS+juLqR5ATsjJkAOTlmeTbkj3oA6SGPUhrFy809u2mtGggiVCJFfncWPQg8Yrh/FFxHb/FTTGk0a41ZW0W4X7PBFG7f66P5iHYDHbr3ruIdNEOs3Wo/bLxzcRJH9neXMMe3PzIuOCc8nvgVHJodrJ4lg14vL9rhtHtFUEbCjMrEkYznKjv60AeeQQeJPCfhnSbKy+z6Zdax4hkVLZ1EyWUEqyuIxjgldobAOM8ZxW35/iK98St4Zg8QGA6fYpc3WoCzjMtw8juEUKRsVQF5IHJ9K6nVdFttYl02S4eVW0+8W8i8sgZcKygNkHIw56Y7VQ1jwnb6pq0eqwajqGmagsP2drixkRTJHnIVg6spwSSDjIz1oA4PVNW1nW9J0GCSe2XV7DxadPN15R8t2jjmAk2Z/ukHbnr6Vvw63q2j6vr2i6vrtu622nR6hb6nPbKvkqzMjB0UgNgrkdCc45rTuPh/o1xodjpQkvYorO8N8k0U5EzzkPmRnxktly2eOQO3FIvgDS5LDVre/u7/AFGbVY1iubu6lXzdi/cC7VVVCnkYHXrmgDC0LxLqFz4lvNGm1K81Gzl0iS8jmvdLazdWV1XC5Rd6EODnBxjrWR4bvvEXh3wD4Q1dtVhm0+VrS1k04WygCGQhAwf7xcZB9OoxXd2Hg23s9XbVbjVdU1C9azeyMl3KhHlMytgKqKAQUHIHOTnPGKOm/DbS9NGmQjUtWubDTXSW2sbi4VoVlUcOflDE5+bGdoPQCgDm9fv5r3QfEiSrEBa+KbSCPZGFJUSWx+bH3jljyea0NZ8VX+jz+N5baO2M1nNYwWpaID55kRQXI5YAvnk9Biujn8F6bcW2o27y3QS/1GPUpSHXIlQxkBfl+7+6XI5PJ59HXvgzStRGvLdCaRNb8r7Su8AKY1CoUwMgjAPfkUAcyLLWLD4peG01bWE1JDYXrRym2WF1P7rcDt4K9McZHOSags/F1+niXQ0h1+bWLLUbpraU/wBkNBbD5HYNDNtw2CmMb2yM+ldNY+BrO11iDVbrVNV1K8hgkt1e9mVgY3xldqqB26gAnJyTxiDT/h5YWEul/wDE11aeDSZfMsbaaZDHD8rLtwEBYYbgsSRjg9cgHG+KL7xD4j+HnirWU1WGHTka6to9ONspDQxsYyxf7wc4J9OgxXo2vawfD/gu+1dYxK9nZNMqHozBcgH2zisbUPhppeoR6nbNqWrQafqMjzT2EFwqw+a3Vx8u7r82M7c9q6q70+2v9Lm026jEtrPCYJEb+JCMEflQB5zdWviCHxR4Fn1fWYtQSe7d2QWqxGKQ20hwhXqmCeuTwOeaqL448SahbXGsacupylLx47fTIdHeSCWFJShBnC53kAnIbAPGOtdbY/D+ys7/AEu8m1fWL2TS2Js1urhWWNSjJtwFGRhupy3yjnHBni8FQ2l5NJp+tavY2s85uJLK3lQQl2OWxlCygnJIVgOe1AFjxrrdx4d8I3upWaRvdJ5cUIk+6HkkWNSfYFgfwrGt7nxJo/jjRdH1DW49Ss762uZWY2iRSB4wnHy8bfmyO/XJPFdTrWj2ev6PdaVfoXtblNjhTgjnIIPYggEe4rk4fCF5p3j7QtTW91LU4obW6iuLq+nVjHny/LUKoUc4fkDJ7npQBVh8W6u/wv0jXGnT7fc30EMr+WuCrXQjIxjA+XiqureLtcvNb1+DTJ9Qt10uT7PbRWukNdJPKEDnzXCnaCWAAUqQOc81t/8ACs9K2JB/aWrfYIrsXlvYi4XyYJBJ5nyjbkjOeGJwGOMHmtC88HxTatdalY6vqmlzXm03S2UkeyYqMBiHRsNgAZXB4oAvw3upXPhNL+Ox8rVZbETLaTfLtmKZEbZ6Ybg1w9t42vNL8H63qd5qc97q1jaJJLpl7Yi2e3lbgcAAtGWI554H3q9ElsxJprWX2i4QNCYvOSTEo4xuDf3u+fWsGHwNp7f2g2qXl9q8t9a/YpZL10yIck7F8tVA5Oc4znvQBjeH9c8Qf8JHZWtzJqd/Y3EMhuprzR2s0tZFAZSrFQCp5GDk9Oao6f4uv18T6FFFr0+sWWpXD28pOkNb2wxG7BoZduGwUxjc+Rn0zXX6Z4XawbbPr2r6hbiIxLb3ksZQKRjnaisxx3YmqGn/AA9sdPm0pv7V1a4h0mTfY280yGOEbWXbgICww3BYkjAwcZyAR/EXiy8PE9B4hsCT6fvRR4z58S+CgOv9rMcf9u8tdFrei2XiHSZtN1BGaCXByjFWRgQVZWHIIIBB9qy9N8G29lq0Gp3mq6pq13bIyWzX8qsIAwwxUIqjcRwWOTjvQB5xZsL3xnqeh6tmHw9eeI7hnYfdurlY4THbyH+FTjdj+MjH19V8SnU4vDGoPobLHqMUBe2BQMCy8hcH1xt/GqUvgnSLjS9a0+cTyQ6tdteTFnG6OUhQGjIHy42KR15retoTb2kMDTSztGioZZSC74GNzYAGT1OAKAOS0nxXN4l8R6SmlyKunHShqF78oY7pSFijz2I2yE/7tSa7qGr3vjKy8NaVqA00Gxkv7i6ECyuVDqioobgcsSTjsOlRfDrww/h7T9TuJ7Q2k+o3804t2cMYYdxEceQSMAZOB03GtbXPC1vrV/aait9faff2qPGlzZOquY2xuRtysCuQDyOCOKAOQg8V+IYtGmN5d28l3B4ph0ppIoAqtCXjVsKc4JDHuSM9a2dd8VXeieJtXjIEtjYeHm1IQ7QC0iyOPvdeQoFUtB8CK3h7X9E1NbuKCfWZLq2nE+ZsDyykofk7ty55/EVs2HgfT7TULu+ury/1K5vbM2Vy19KriSInOMKoA64wMD2ySaAOc8O+JPElxqmiNM2pX0F+CL6OXRnt4bXKFg0chUZUMAvzFsg5rofG2oavp1rYSae1zDZtcEX91aWouJoItpIZYyDkbsAnBwO1T6N4TOiy2wi17WZ7S2UrDZzzRtEq4IAJCB2AB43Meg9Kv6xpEuqLD5Or6hprxE/PZOg3A9mDqynpxxkUAcq+v6hqlz4e0bRdehk+32013Nq626lmjjKqAiH5QxLYORxtPHpgeKdV1eXwj4s0LULmK8vNKvdPEN2YvLEqyzROu9V4BByDjGRjiuxbwBpaadpltZ3V/ZT6YZDbXtvKPOBkJMm4spVtxOSCMZ6YpZPAGkz+H7/SLma9uBqM6XF5dSTDz53RlYZYDAHyKMKBgdMdaAKMWo6/ofjC00nU9Vj1ODUrK4njYWyxGCWLaSBt6oQ/fJ461g23inxRZfDe18UX2pRXV1qSW8Ntax2QKQvI6qJPl+Z2wSdo4zgCuz0vwba6fqb6jPqOpald/ZzaxSX0yuYYiclVwo64GWOScdakHg/S/wDhDYPC8nnyWEESRRuZMSqUIKuGAGGBAOQO1AHJwaz4ul/tazsJdSuSNNa5tL3UNINsUuUYfusFVVg4PHGRg8mtCDxfceINQ0saU6LZNoz6negoG++NsUeT0O4SE/7ldJpGhzaXM8s+uapqRKbFW8ePag9QERcn3OTVPQPBWk+G01VLAz41KRnk8xwfLBzhE44UbmwOepoA5zw74ovrdfCEmoywJper6MSdkSxrFcookJ4AwGTdx0+TijSPEGrahe+Dbu98rbrFxezojQLuig8pmhUHGQdoUk9TnBrc1HwBpGqeDLHwvPLeLZ2SxrDNHIFmGxSud23HKkg8dCa1Z/D9lPqGj3g8yNtJ3/Zo4yAmGj8sgjHQA8YIoA8+k1rxBc+EpviLDfWiCBZZIdOazQj7MsmChl++GYICcEDOOOK9ThkE0McqggOoYA9eRXJN8OdLYSW39oamNIlnM76SJl+zFi28jG3eFLc7Q2Pauii0wQ61c6kLy8YzxJF9meXMKbSTuVOzHPJ9hQBeooooAKKKKACiiigAooooAKKKKACiiigAooooAKKKKACiiigAooooAKKKKACiiigAooooAKKKKACiiigAooooAKKKKACiiigAooooAKKKKACiiigAooooAKKKKACiiigAooooAKKKKACiiigAooooAKKKKACiiigAooooAKKKKACiiigAooooAKKKKACiiigAooooAKKa8iRRtJI6oijLMxwAPc1mf2jc3/y6XEPKP/L3OCI/+AL1f9B7mqUWxNpF+6u7eyhM1zMsSZxlj1PoB3PsKoebqOpcQq1hbH/lrIoMzj/ZU8L9WyfYVPa6VDBMLmZ3ubvGPPm5I9lHRR7AD3zV6neMdtRWb3Ktnp9tYhvJT535klclnc+rMeTVqiipbbd2UlYKKKKQBRRRQAUVWu7+0sVBubiOLd91Sfmb2A6n8Kq/b7674sbAxof+W14TGPwT7x/HbVKDeonJI06oTazZxStDGzXNwODDbr5jD644X8SKj/shrnnUbya6/wCmS/uov++RyR/vE1fhghtoligiSKNeiIoUD8BT91eYtWYOrHxNdWW7TFisZA64VmWR2BODnI2rjOeCelcN4nt7y215Uv7w3dx9ljLSbFUD5n4AAHAr1uvMPHX/ACNh/wCvSP8A9CeuXHVL0OWy3Ma0bRvc56iiivCOM6HVr+K1vLhIbc/aJbaOJ5mkyApjXOFxwccdTUq4/wCEgt2H+rOnfJ9Ps5H881zNTTXMk8UMchBEKlEOOcZJx+ZNbe1u7vvc059bl21I/wCEd1Ed/Og/9nqnGR9jnGeSU/rUFFZuWxNydyPsEIzz5r8fglbbW8tzpTtqdqI/Itwbe8Bxvxjah7N6eornaKcZ23BOx1sqyrLMGVf7D+ynyzgbCdny4P8Af3Y985p8P2kmw3hTpgsgLk4G37p+979MfpXH0Vp7fXb+v8ivaGnLx4Ztg3U3chT6bUz+uKlsNQigs0ja+eIjPyCwjkxz/eZgTWbLcyTQwxNjZCpVAB6kkn681DUc9ndC5rPQmnbzruRkYyb3ODsCFsn+6OB9K2dU068h0DTTJbuohEgkyPu5fjP1rAopKSSd+ok9zpkt54dEvYL2zjs4hECk6cGZwRhScncD14+tVtEhltLxlljj33dm5t1kIIfPQHnvtIwawqluLiW6l8yVskKFAAwAAMAAVXtFdO2xXMtzoWNxaGwl+xQx6qZJF8hIwm+PaB8yjpnLD1NMu5jpmlJGlqtjdNdLMke8s4Cg/McnjkjH0Nc5RT9t2DnOpSQvmwljV7kwM7wRDYP7wiAHOSfmbHPAHasLVIIrbUHihG1QqkoTnYxUFlz7EkfhVPrRUzqcytYTldBUtn/yE7D/AK+4f/Q1qKpbP/kJ2H/X3D/6GtTT+NCjuj2uiiivoj0jK1/X7Pw5YxXV6s7rNOlvFHBEZHeRzhVAHrUGk+LdK1j7akbT21xYqHube8gaCSJSCQxVgPlIB5GRWJ8TvtA0zQPsgiNz/b1l5QlJCbt/G7HOM9cVl+JNC1e28OeMfEmqXFs+pXGjPaRxWSsI4YVV2PLcsxLE5wMYoA6mLxjpyeErPxFqIeytrsK0ETAvJJvP7sKqjLMwwdoGefapNK8WWmq362R0/VbG4dS8a31i8QkA64YjGR6Zz7Vy2tyWun698PL25ZY9HhSWESvxHHM8KiEk9BwHAPqa1/7Z1yy+IOn6Pd3enXNhqMNzPGsNs0csKxldoLGRg2Q3XA6UAWdM8c2GsTRLY6brEsEkxhW6Fi3k5DFCd/TAIOT7Vs6lftZCGOCD7RdXD7IYt20EgEks3O1QAcnB7AAkgVw3wtstYPhqyuhrEY037Vd/6F9kGf8Aj4lH+s3Z689Pauyvf+Rk0r/rnP8AySgB1lqN0199h1GzjtrlozLEYZjLHIoIDYYqpBBZcgj+IYJ5xU1jxZYaNqMenG3vr2+eLzzb2Ns0zpHnG9sdBnIHc9qs3f8AyM2l/wDXC4/nHWJ4i0OebW317QNbgsNbtbUQzxzgSQTQgl1WVc5XkkhxgjJ60AdVaXUd9ZQXcIcRzRrIgkQo2CMjKnBB9jVHXtbh0Cyhup4nlWW6htgExkGRwgPPYE5rgbLWj4+1nwzDqons9OvdJmvfskVw0a3Fwsipt3KQWULlgPcE9Kx9YkMfhjXdMOpT/wBk6f4ks4LW7knLNAm+JnUSNn/VsTgnOPwoA9mneSO3leKLzZFQlY843HHAz2zVLQtYt/EGhWWrWwZYrqISBG6oe6n3ByD7iuS0m1i0L4oJpWlXNy9jc6Q1zcwS3TzhZBKqpJlySCwLDrzjPaofCFtDdeFLqGXU7jT7WLxBdG2kgnERdRcsVjyeqscgr3zigDttZ1e00HRrvVb5mW1tYzJIVXccD0FZuk+MdM1bU/7MEV7Z3xjMqW99avC0iDqybhhgM9jVD4pf8kv8Q/8AXo38xSafoGtX/iTTtd16ewX+zreSO0t7EORulChndmxnhQAAPfNAHYUV4rpsU2mfByx8Qrqeof2jqCW9vdX8l07GCB5lVioJ2rtXgNjPJOa6qKwg8NfEbQrDRJ7n7Pf2ly19bSXUky7UClJcOx2ncdue+aAOs8Oa3D4k8PWWsW8TxRXcfmKkmNyjOOcfStSvCdDtbbTfhV4b8Q6bqV0+tLeW0EYF47K+6YI1v5YO3G0scYzxmtLx5fpJZeJda0m1vFudJnER1OXVXjEUybDsihyQV5AIIAJJ60AeoQa3DP4mvNDWJxNa20Vy0hxtIkZwAO+RsP51Zur8Wt5Z2xtbqU3TsgkiiLJFhS2ZD/CDjAPqQK4K80jTda+L2q2mpXMyp/ZFs620d00Ilw8uWO0gttz64G7PpWd4b1S/uYvAXm31xPG2pX8CzPISbiGOOYRsx/i4Ucn0zQB3Vh4rg1C1S4hsL11bUpNOIii37GR2UyPj7qfL1PTIrR1rVI9E0K/1WaN5IrK3kuHROrBFLEDPfivMbCeaDSdIEUrx+Z42uEfYxG5TLPkH1HA4qnrVta6x4O8e63quo3Ueo2t1e2kOLx41iRBtjh2Z2kOCMgj5t/rigD2K1uFu7OC5QELNGsgB6gEZqavMdWNnqsltpq6fdXl1aaPDPK7ao9pBbIwOGG08vwedvAA5qlpV1P4ni8AabrV5ctaXmlS3MwWdozdzIEChmUgnALNjPJ5NAHo+k65Dq95qttFFIjabdfZZC2MO2xXyPbDgfhWhcTC3tpZ2BKxoXIHUgDNcL8M4be3ufFsFpdyXUEessiSyTeaxAhiGC55OOmTzxzzWbeW1rrus+NrjWdRurZ9JKRWgjvHhW1i8kOJAAQDuYtksDnGOnFAHoGh6tFrug2GrQxvHFeQJOqPjcoYZwcfWtCvFrCXUL7T/AADokduLmxl0L7SbZr97RbiVRGAC6qS20Enb75PSvRfBNhq2maPcWurOhKXchtY1umuDDAcFY2kYAsQSw57YoA6SivHNUSLUPDPjvxBf6reW+q2F3eW9s6XrxCBYxtijCA7cOMdstv8AXFdPpF7Kvj/ToprpxFJ4Yjl2PIdrOJRubB74IyaAO8orxYavqF74Y0a3trhrm11PxHeQyOb1oRNGHlaOLzgCVVsAcdQMd67vwXpWr6VeatHexxW2nyGJ7OzW+e6MBwwk+Z1BCkhSB67qAOuorznxNE+keKpvEGrRTX+jeZbRxyW188cmnPkLzECA6szKTjnBwQRWPc2uueJ9b8WCO28y6s7trazmOsSWpslEamN1jVSDknduJ+bp0FAHr1FeZ6+V1S5/s66s57/VrHSYpr2ZNUe0trcsG+dNp5YkMc7eAByOldR4JvLzU/h3ot3POZLybT42aVzks+37x9TmgCO58eaXFe3FraWuqakbVzHcSafZPPHC46qWAwWHcDJFdDZXkGoWMF5bMWgnQOhZSpIPTIIBH0Nec+CLq8T4W2cGjX1jZajpolXUoryAyskqli4YB1Kktzk54NULrW9Y8VS+DIprWKaLUtLkvZbRb17OOeYbONyhmIUMW2e+T0oA9coryfUdO12x8Madpl9fTWnn+JYYYPst800kFs//ACzMrAEkEtjPQbfStPVPD1onjTw34ehuL+HSvsN7JJAl7LmXDxHDOW3EZYnr7dMigD0WivErnT5LTwH4o1ddU1R7zQdSnh0x3vJCLeOKUbVxnDZBIJbJIwOgFb/jeS21K/12K2srye70qxWSa6bVXtYrQsjMhRVPLcZJx2Az2oA9Oory+COXxNrvg6DUb28MF14ca6uo4bhohO+YD820g4y2eMenTING3ubzRtIGqre3Ulp4b8Rz2kiyzM5Ni7BGDZOW2b1YE5wFoA9eork/A002qQ6r4hllkeLU712tEZjtW3j/AHceB23bS3HXdXJavf3+n32t+B47ucXesX8T6dNvJdLafJmKnqBH5cv03LQB6zRXJ/ES8uNH+H2oS2M8ls6iGHz0b5oo2kRHYHsQrE57daxINOsdA+KGgadpV/dGCawupZrSS9eZQR5YWTDEkFueeh2/WgD0eivIYdYkX4P+HHfUXF5NqtvCWMx8xyLv5lznJ+UHI9BT7y21rxN4m8Vwra+dNZTrb2bHWJLQ2S+UrLIsaKQSSS24nnGOgoA9borHSLUZPByw3V9FDqjWASS8jOUSYx4Mg6cBue1eby6jd+E/CviKwSyuLHxJa6ZHPJOt691FMhYobhNxyrA7iQQDwOoFAHsFZfh/W4fEGmG+gieJBPNBtfGcxyMhPHqVzXGS6daeGvFHhI6DfXcralM8V0kl5JOLqHymcysGYjIIU7hj72Ohrko7S0tfhprXiG11O7TWbDUrk2xju3Agk+0ttjEYO3588ggk7/TGAD3SivPrXS11z4n66dQubww6fDYzQ2sdy6RrKwc7iFIyRtxg8cnINcxodr4m8Q6SuuW8Uaaub9ma/l1iRfK2TENCYNm0LtG3bnvnqaAPaKqW9+LjUbyzFrdRm1CEzSRFYpdwJ+Rv4sYwfQ15lrWo3+mX3iHwbFdzLeazewvpkpclkhuSRNtPYR+XKRjpkVZ1Oz1G8vvHVlpl1cpc2NvYT2AErHbJGjOFHP8AFtwfXPNAHpF7dCysbi6MM04hjaTyoE3yPgZwq9yewqvd6olnoj6m9tcsqwiUW6xEysSOE2/3iSBj1rze41+TxZpnirxHYXM0en2Ph14LcRyED7RJCZpG4/iQGNfUHNXbeFPEniyw0bWLi5NjDoFvdw2yXDxCeVmKvIxUgsVAUYJ43E96APRbaSWa1hknhMEroGeIsGKEjlcjg46VLXFeANS2aNfwXWoGa0t9YnsdPuLmbc0sYYBFDk5cg7lB5J212tABRRRQAUUUUAFFFFABRRRQAUUUUAFFFFABRRRQAUUUUAFFFFABRRRQAUUUUAFFFFABRRRQAUUUUAFFFFABRRRQAUUUUAFFFFABRRRQAUUUUAFFFFABRRRQAUUUUAFFFFABRRRQAUUUUAFFFFABRRRQAUUUUAFFFFABRRRQAUUUUAFFFUbvVILaX7OivcXRGRbwjLfU9lHuSBTSb0Qm7bl6s2XVhJK0GnRfbJlOGYNiKM/7T+vsMn2pn2C71D5tTlCQn/l0gYhT/vvwW+gwPrWlFFHBEsUUaxxqMKiDAA9hVe7HfUWrM9NJM8izanN9rkByse3bCh9k7n3bJ9MVp0UVLk3uNJIKKKKQwooqjcavZ28xgEhmuB/ywgUyOPqB0+pwKaTewm0ty9TXkSJGeR1RFGSzHAFZ3mavef6uKKwiP8Uv72X/AL5B2j8z9Kcmi2pdZbsyXsoOQ9y24A+oX7q/gBVcqW7FdvZDf7ajn+XTreW9P9+MbYv++zwf+A5o+yand/8AH1eLbRn/AJZWg5/GRhn8gtadFHMl8KC19ypaaZZ2TF4IFEjfelYlnb6sck/iat0UVLberKStsFFFFIAriPHeiXE8sOrWsTS+XH5U6IMsFySGA74JOfrXb0VFSmqkXFkyipKzPCvtUAODMgPoWo+1W/8Az2j/AO+hXuZjQnJRSfpR5cf9xfyrg/s9fzfgYfVvM8M+1W//AD2j/wC+hR9qt/8AntH/AN9Cvc/Lj/uL+VHlx/3F/Kj+z/734C+reZ4Z9qt/+e0f/fQo+1W//PaP/voV7n5cf9xfyo8uP+4v5Uf2f/e/APq3meGfarf/AJ7R/wDfQo+1W/8Az2j/AO+hXuflx/3F/Kjy4/7i/lR/Z/8Ae/APq3meGfarf/ntH/30KPtVv/z2j/76Fe5+XH/cX8qPLj/uL+VH9n/3vwD6t5nhn2q3/wCe0f8A30KPtVv/AM9o/wDvoV7n5cf9xfyo8uP+4v5Uf2f/AHvwD6t5nhn2q3/57R/99Cj7Vb/89o/++hXuflx/3F/Kjy4/7i/lR/Z/978A+reZ4Z9qt/8AntH/AN9Cj7Vb/wDPaP8A76Fe5+XH/cX8qPLj/uL+VH9n/wB78A+reZ4Z9qt/+e0f/fQo+1W//PaP/voV7n5cf9xfyo8uP+4v5Uf2f/e/APq3meGfarf/AJ7R/wDfQo+1W/8Az2j/AO+hXuflx/3F/Kjy4/7i/lR/Z/8Ae/APq3meF/arf/ntH/30K6Lwno0+ravbXXlsLG2kErSkYDsOVVfXnBP0r1Ly4/7i/lTqungYxkpN3Kjh0ndsKKKK7zoK93Y2t+IRd28cwhlWeMOudkinKsPcGnXdrDe2c9pcIHhnjaORT/ErDBH5GsbxZ4guPD1hZy2llHd3N5fQ2UUcsxiUNIcAlgrHA+lUbLxnLHdavY6/pq6deaZZ/b38m48+OWD5vnVtqngqQQQKANPSNAW28JWmg6t5GpRQQC3fzYgVlReF3Kc5O0Ln3pdI8I+HdAnafSdFsbOZhtMsMIDY9M9ce1c/J4u1y00Dww50y1utW1xseS05gjizG0oBO1jkKAPc1a1XxPr2jaPYy3ei2X9pXuox2MVul+xiG8HDF/LyOQeNtAF+LwL4Ug1BL+Lw9pqXaSiZZlt1DK4OQwOOuea3jGjSLIyKXTIViORnrg1zvh/xLd6jrOo6JqumJYalZRxzMIrjzopI3zhlbap6qQQQPxq3NLqGo6lc21ndrZwWm1JJBEHd5CobAzwFCsvYkk9scgGuY0aRZCil1BCsRyAeuD+A/KsjVvCXh7XbpLrVdGsrydBtEk0IZsdcE9x7HirGk3dxOt1b3Zja4s5/IeSNdqyfIrhgCTj5XGRnqDWDpPirWddvpptO0W1fR4b57J5pL3bP8jbXkEezGAcnBYEge9AG5qXh3RtYsobPUdLtLm3gx5UckQIjwMfL/d444pV8P6OmlxaWumWi2ELK8dsIl8tWU7gdvTOefrTb/wASaHpV5HZ6hrOn2lzJgpDPcojtnpgE5rM1PxZFpHjKHTb+4s7XTG0yS8e4nfYVdZY0A3E4wQ54xnOKANDT/Dml6DbXS6DptlYTTrktHEACwB27sckD0qvo/hOw0/wtp2iXUUd6lptkLyoDvmDbzJjsS5J/GofEfiZdO8Mw+IdMntrvT454muJEYOr27OEcowOMjO7/AICRXQ/aIRcC3M0fnlC4j3DcVBxnHXGSOaAI72ytdSspbO9gjuLaZdskUi5Vh6EVOAAAAMAVzniXxFf6TqmjaZpmnW95d6o8qp9ouTCieWm85IRjyAe1JoXi+LUE1CLVoI9JvtOuUtrmKW4Vk3OAYyr8bg24Y4BzxigDZi0nToNKGlR2VuNPEflC28sGPZ/d29Me1VtH8M6J4fMh0jSrSyaXAdoYwpYDoCeuPakbxR4fXTDqba3pwsBIYvtJuU8veP4d2cZ9qz/EXiuOx8LR61o1xZ3sUl1bwrKH8yMrJMkbEFT1AY9+tAFq18G+GrG/hvrXQrCG6gULFKkChkAGBj3xxnrilvPB/hvUb6a9vNDsJ7mZdskkkCkvxjn1OOM9cVb07XtH1czjTdUsrw25xMLedZPL/wB7B46H8qZp3iTQ9XupLXTdYsLy4iGXit7lJGUdMkA0AR6p4V0HW5Xl1PSLO7kcKC80QZsLnaM9eNzfmatrpOnL9i22UCixz9lCxgCDKlflA6fKSOO1c74Y8cWGq2Nuuqajpttqlxc3EMVqJgjOEmeNcKzEkkKPqc4p3iTxNfaNpfie6gTT3bSrRJ4F84u5YqSfNjGCo4455GfSgDdXRNLVI0WwtwsVybtBsGFmJJMg/wBrLNz71UvPCPh3UNRk1C70SxnvJUKPNJApZgRt5PfjjPXFTW2pTza21m/2MQizjuMLPmbczEHMeOE44bPJyO1Yt744sZNa0Sx0XUNNvxd3zWt35UwkaICKRxja3Byg6570Aa994W0HU57ee+0izuJbdBHE0kIYqo5C/TPbpS3fhfQr/S7fTLrSbSayt8eTA8QKx4/u+n4U5fEuhNq39krrOnnUclfsouU83PptznPtUOueJ9L0WOaCbU7GLUfIeWC1mnVXkIBIwuQTkjtQBe0/SdP0mOSPTrK3tI5GDMsEYQEhQo4H+yoH4VVvvDGhanqUWo32kWVzeRABJpYQzADkcnrjt6U7w3qU2seFtI1S4VEmvLKG4kWMEKGdAxAyScZPrWLr3jiwsprO10rUdNu719UtrK5txMHeJJJAjHarZBGe/Q9RQBs3fhnQ77TLbTbrSrSWztQBBC0QIiwMDb/d444q1pulWGj2a2em2cFpbqSwjhQKMnqeO59agvfEWiabfRWN9q9ha3c2PLgmuER2zwMAnNaVAHL+JvA2ja/Z6pIum2K6td2ctul7JCCysyFFYnrkZ69cVcn8KaPqWnadbaxptpftZRKkbTRBsEKAcZ7HHTvU9p4n0C/n8iz1vTriXzPJ2RXSM2/BO3APXCscex9KtNqunLaXF21/ai2tmZJ5jMuyJlOGDNnCkHgg9KAK8nh7RpdLk0uTS7R7CV2ke3aIFCxbcWx65Oc+tO0nQdK0KKSPStPt7RZW3SeUgBc9iT1P40anr+j6KsR1XVbKxEpxGbmdY9/0yeavxyJLGskbq6OAyspyCD0INAGVP4V0C61catPpFnJqAZX+0NEC25RhWPqR2PUYpup+EvD2tXgu9S0ayurjaFMksIJZR0B9R7GrFlr+jalfz2Njqtlc3cGfNghuFd0wcHKg5GDxSWniLRL/AFGXT7PV7C4vYs+ZbxXCNIuOuVBzx3oAjvvC+g6ndQXN9pFlcTW6hInkhUlVByF+gPOOlaFpaW9hZw2lpCkFvCoSOKMYVFHQAVRTxLoUmrHSk1nT21EEr9lFyhlyOo25zn2qHxdrzeGPC19rKWwuWtlUiEvsDEsF64OOvpQAzU/BnhnWb37bqWhafdXPGZZYFLNjpk9/xq1f+HtG1PT4bC90u0mtIMeTE0Q2xYGBtH8OBxxVXT9U1iKK6uPEljpul2kKb/Pj1AyKPXcWRAoHrmppPFXh6G3uLiXXNNSG3l8maRrpAscn9wnPDe3WgCS38OaLaWUFnb6XaRW0E4uIo0iACyjo/wDve/Wrb2NrJfQ3r28bXUKNHHKV+ZFbG4A+h2j8qhi1vSp9Pi1CLU7N7KVgkdws6mN2J2hQ2cEk8Y9eKTTdb0nWRMdL1OzvRC22X7NOsmw+hwTigAfRNLksbuyewt2tbx2kuIig2ysxyxYdyTVfUPC+g6tfpfahpFnc3SqFEssIY4HIBz1x2z0po8TaRdrfQ6Zq2mXV7axO7wrdp8hA/jwSVGeCccU0+J9L0/SLC81vVdLsXuoUcE3a+W5Kgny2ON688EdsUAX4dJ0+3mtpYbOGOS1g+zQMqAGOLj5B6D5V49hWbr3h0X3hfWNK0tba0l1NZBJI0eVLScO5A6tjP44raiuIbi3S4hmjkgdQ6SIwKsp5BBHBHvVf+1tN/s5NR/tC0+wybdlz5y+W244XDZwckgD1JoAfp1hBpemWun2q7be1hWGNfRVAA/QVkTeHDdePLXxDO8Ris7F7e2jC/OJHbLuT6bQAB7tW1d3dtYWsl1eXEVvbxDdJLK4RVHqSeBVO08Q6LfwNNZ6vYTxJEZmeK5RgsYJBY4PCgg89ODQBeuLeG7t5Le4iSaCVSkkcihlZTwQQeorl7fwLp2l+KNJ1PR7SzsLazhuUlhhj2mVpPLwcj02Hr6iujOoWQW1Y3luFuyBbHzVxMSCwCc/NwCeOwzVabxFolvqqaVNq9hHqLkBbV7hBKSemFznmgCqPB3hoX016NDsBdTSCSSXyF3M4YMGz67gD7kVJqnhPw/rd0t1qej2d1OF2eZLECxX0J7j2Nak88NrBJPcSpFDGpZ5JGCqoHUkngCqVlr+j6lYS39jqtlc2cORJPFOrImBk7mBwOOeaALUlnay2LWUlvE1o0flNAUBQpjG3b0xjjFUdM8NaJosM8Wm6VaWyXAxMI4h+8GMAN6jBPHTmktfEek6rZXU+j6pY3/2dCW+zzrIFOCRnaeOlZvhPxnp+vaTpIudR05NZvLSO4ksopgHBZQxwhJbHf6UAaGk+FdA0K5kuNK0eys5pBtaSGEK2OuAew9hxUY8G+Glv4b4aFYfaoXLxy+Qu5WLFs/XcxOexNXDr2jjUEsDqtl9skkaJbf7QvmF1ALLtznIBBI9xTLbxFol7qUunWur2E99FnzLeO4RpFx1yoOeO/pQBbisbWG9uLyK3jS5uAizShcNIFztBPfGTj61mS+D/AA5Pqn9py6JYvelxKZjCuS46MfVvfrV8avpp01dSGoWhsGxtuvOXyjk7Rh845JA69aqWGtJLcXMN7c6dFIL57W2SG7DtJtUNtYcYkxklBnA5oAtzaVp9xqdvqU1nA99bKyw3DIC8YbggHtmpIrG1gvLi7it40uLkKJpVXDSbRhcnvgE1Q1vWk0+0uBa3GnG+hETNDd3YhVUdwoZjyRnkDjkjFVPFniWDQrOOJNS0q0v7h1WL+0LhY0VScM5BYFgBngdTgcdaANG20HSbPS59MttOtobG43+bbpGAj7xhsjvkVFqfhjQtZt7eDUtJtLqO2GIRJED5YxjCnsMAce1akbrJGro6urAEMpyCPUU6gDPbQ9Kazs7M6da/ZrORJbaERAJC6/dZR0BFaFFFABRRRQAUUUUAFFFFABRRRQAUUUUAFFFFABRRRQAUUUUAFFFFABRRRQAUUUUAFFFFABRRRQAUUUUAFFFFABRRRQAUUUUAFFFFABRRRQAUUUUAFFFFABRRRQAUUUUAFFFFABRRRQAUUUUAFFFFABRRRQAUUUUAFFFFABRRUc9xDawtNcSpFEvLO7YAo3AkqteX9tYorXEmC5wiKCzufRVHJP0qn9rvtR4sYzbW5/5eZ0+Zh/sIf5tj6GrNnplvZu0qhpbhxh55Tukb8ew9hge1XypfETdvYrbdR1L75bT7U/wqQZ3Hueifhk+4q9aWVtYxeVbRLGpOTjksfUk8k+5qeik5N6dBpBRRSMyopZmCqBkknAFSMWisw61DKSthFLfN0zAP3Y+rnC/kSfaj7Pqt3/x8XSWcZ/5Z2o3P+LsP5KPrV8jW+hPN2Ll1e2tjGHuriOFScDe2Mn0Hqap/2jd3XFhYPtP/AC2usxL+C43H8h9antdLs7OQyxQgzHgzSEvIfqzZNXKLxWyuFmzM/sqa551G+lmB6ww5hj/IHcfxYj2q9b20FpEIraGOGMdFjUKPyFS0UnJvQaSQUUUVIwooooAKKKKACiiigArm/FniVtEhit7VUe9nBK7+VjUdWI7+gH+FdJXmPjok+K+T0tIwP++nrnxNR06bcTOrJxjdFI+KPEDMT/a8oz2EUf8A8TSf8JP4g/6C83/fqP8A+JrLoryPb1f5mcXtJdzU/wCEn8Qf9Beb/v1H/wDE0f8ACT+IP+gvN/36j/8Aiay6KPb1f5mHtJdzU/4SfxB/0F5v+/Uf/wATR/wk/iD/AKC83/fqP/4msuij29X+Zh7SXc1P+En8Qf8AQXm/79R//E0f8JP4g/6C83/fqP8A+JrLoo9vV/mYe0l3NT/hJ/EH/QXm/wC/Uf8A8TR/wk/iD/oLzf8AfqP/AOJrLoo9vV/mYe0l3NT/AISfxB/0F5v+/Uf/AMTR/wAJP4g/6C83/fqP/wCJrLoo9vV/mYe0l3NT/hJ/EH/QXm/79R//ABNH/CT+IP8AoLzf9+o//iay6KPb1f5mHtJdzU/4SfxB/wBBeb/v1H/8TR/wk/iD/oLzf9+o/wD4msuij29X+Zh7SXc1P+En8Qf9Beb/AL9R/wDxNH/CT+IP+gvN/wB+o/8A4msuij29X+Zh7SXc1P8AhJ/EH/QXm/79R/8AxNH/AAk/iD/oLzf9+o//AImsuij29X+Zh7SXc1P+En8Qf9Beb/v1H/8AE10vhfxjPdXiadqpVpJeIbhVC7j/AHWA4B9CK4aprIldV09hwRdwkH/gYrSjiKimru5cKklJantVFFFe2dxxXxLtZ7zTNCht5JopG12z/fQqC0Xz/fGQRx15BHrVXxJ4RXT/AAR4tukvLzUdWvdNkWS6u2UuyIjEIoVVVV5PAHJPNd/SMqupVgGUjBBGQRQB5z4ktl1wfD/7PLcxW81wJBNaOUdFNs5BDDp2H41J420HytH8O6cl3qdwra/bF53uXaZAd2SH6rj17V2ujaTb6FpFtplo0htrZdkQkbcVXJIXPoBwPYCr1AHCeELBvDnjTXdFmNxcm6jjv7bULljJLLH9xo3kPXY3QejV1GmRump60zIyq92hUkYDDyIhkevII/CtOigDM0uN01HW2ZGUPeqykjG4fZ4RkevII/CvN9YvNJXX47/wZNf23iae+jS609IJUjuBvAkM8bLtGF3Hfx9TnNet0UAeUfbdK0g+NdP8RWkkmpahezSQRm1aRryBkAhWMgHdj7uOxB6VBbJF4e8ReD5vFNu7/Y/DphkuGgMq28+6MAsQDjjcu71PvXr1FAHj8iiL4Q+ObpLZ4bDUby5k06JoymY5NiIVU4IDPkgY7j1r0OA6XD4jsrWaANri6ccXHkk/uQyhl34x97BxV7VtHtdaitorzeYoLmO5CKcB2Q5UN6jODj1Aq/QBwvjawutQ8Z+DIrW7ubJvOu83Vsis0f7g/wB9WXnpyO9UfF/hKz03wPcWcf2m+kv9VtJb2e4bfLcEzxgliAAAFGMAAACvSKKAPP8AxEtjoPjvQdS1C1WLQobO4hjdIMxW1yxTDMFHy5RSoP4Vy2sWi3nhbxZf2mnTvomoa1ZSWtssBBnVXhWV1TAOHYH64zXtNFAHmC39lqfjVtW8Naebq1sNCuIrlUt2iSZyVMVvgqPm+VuMcZrP0LUptY8a+Dbv7TbzskVwJobPTngjs90OfKLEnJBHQ4+7nAzXr9FAHhAfTX+G2qeHodOlXxLe6jMbeP7IweaQ3LbJVfGNqgctnjaR9eg8U287L8T8RSMZNLtAhCn5yI5M49a9XooA8x8Q2OoXeu+JYtPjkNzN4RjihKg5Z983yg+vP61RivtC1TWvAA0WwcS2U3lzutoyfZl+zuPKdiBg5HT/AGSfTPrlFAHimr6vc6sbeJhb2lzB4hhb+yrfTXEsIW5A82SXOPmHzbgADuxzWjez6bYXnjvT9dsZLjUdSmL2afZWlN1CYVWMIQCDtYN3G088da9aooA5nwtDc/8ACr9FhhzHdf2NAiZ4Kv5KgfTmvNbefSJ/CvgbSbfTZRrOnapYC7T7Gwe1cSqJWdiONzZ785z2yPcKKAPGb23WLVvGOm67rY00anduwWXTPPNzbtGqoUfvt5G0cqR716FrtheP8N7/AE/TpZp7w6U8MLsCskjeVgH1DH+ZrpKKAPH11Pw9f6v8PIdJsylxa3Aikb7K0fkD7O+YmYgfNkZ28/dJ+tXWtTisPBPjvw9NDdHVrjUL2aK2S3di8Uj71kBAxs2nOc9sdcV6xqei22q3mmXU7yrJp1wbmEIQAW2MmGyORhj0xzitKgDyrWTNpnxD1C71DVV0y1u9Ot4rS4nsPtEbqu/zItx4U5IJX+LI9K7bwdY22keDdPtLa6mu7aGI+XNJC0bMpYkfIRkAA4A9AK36KAPJdBuJ4Y7nwz4ZvF1Sw/su6+yXJtWhn09zjZHI5ADbifQN8uTUHhK3sr1PCllNrzRXmlsjppq6UYpoZFjKujt1AOWyTw3WvYaKAPFNS1e51eTT43Fva3MHiKFjpNvpriS3VbkDzZJc4+Yc7sAHdjnmu6+KkTz/AA11mKNHd2SMAIMn/Wp0rsaKAOC8Y+H/AOzPhx4nWG+1S+eaxcBbu5afGAfug9M5o8R3EXhiy8PWthaWGn2kjmN9QmszKlmFjJHygj5m+6CTjrnNd7RQB4nFaNfeCNZhlie5guPFsDYa1aESxM9uS3lnopyT+NdNr2l3A8ZazDo1v5E9x4UliiMK7AZQ5EfI4yM8elejUUAebaRqvh688ErpmnWZXUrXRpI2i+xMr2xEWHVmK/KS3GM/MfWqUeszaZp3hOwlNrpkD6BCzahcWDXDu4VAbdACMHHJBznjAr1aigDj/hbFLD8OdKimjeN0M67JEKFR5z4G09OMcVymnWFwPGsPgRoXGmaZqL62jY+U25+aGMfSZ2/79163WZZ6Ha2eualrCvK93frEkhkYEIkYIVUGOBySevJNAHPfEmM/2Vo9zNA82nWmr29xfoqF/wBwu7JKjOVDFCRg8CuaWSw17xt4rOg2523fhoIHEBjFzKXlXcuQNw+6u7/Z9q9ZrNXRbZfEsmvB5ftclmlmVyNmxXZwcYznLHv6UAebWmuWurJ8O7GzjunnsbiJbzNu6i3dbaRSjkgANnPHsfbOXHYrJY634f13xA+m3Vzqc0skH9lmSWUmUtHLG45bjbgjpjHavb6KAMHxla6deeEb+21a4mgspFVZJoULsh3Da2ADwGwTxjGc8Zrz6/1HUtc8L3guIU1TTdP1eze4vbO0aMahaqytJ+753FeM7cg446V6/RQB5sLmy8QeOo9T8PIXs7bSLmG9uo4WRJCxUxR5IG5hhjjt+Nczo8mnXfgvwVoWl2EsOvQXtncSR/ZGjeEKQ0szMRjaVzznncB7D2+igDzzQNHMsnj66t7VU1WbUp4re4ZcNxbx7MMegDM3T1Nc/wCEra0vLfwpp9xrzQ3ulyRyDTV0oxzRSqhDo79QDlsseG617HRQB5LZ6ddDxdH4GNtKNKs9VfWVk2ny/s2BJHFnocTuePRKfcaXd3HhzxfeWsLnUNN8RyanZgqcu0SxNgeu5d6/jXq9FAHkN/FNrHw/8SeJmt5lm1nULZoI3Qh1top40jBXqOAz/wDAq1jqGlaB468Uy+JoiBfLAbOWS2aVZoBEFaNMA8h92V77s4NekUUAcR4EuG0Dwl4Z0XVIrmG+vBMIIWjZjGgLSKjn+EiMqMH0xXb0UUAFFFFABRRRQAUUUUAFFFFABRRRQAUUUUAFFFFABRRRQAUUUUAFFFFABRRRQAUUUUAFFFFABRRRQAUUUUAFFFFABSMyopZmCqBkknAApScDJ6V5P4j8Qy6/duiOV01GxFGDxLj+NvXPYdqxrVo0o3ZE5qCuzuZ/Gnh+3kKHUVkYf88Y3kH5qCKi/wCE78P/APP1N/4DSf8AxNeZgADAGBRXnvHz7I5vrEux6Z/wnfh//n6m/wDAaT/4mj/hO/D/APz9Tf8AgNJ/8TXmdFH1+p2QfWJdj0z/AITvw/8A8/U3/gNJ/wDE0f8ACd+H/wDn6m/8BpP/AImvM6KPr9Tsg+sS7Hpn/Cd+H/8An6m/8BpP/iaP+E78P/8AP1N/4DSf/E15nRR9fqdkH1iXY9M/4Tvw/wD8/U3/AIDSf/E0f8J34f8A+fqb/wABpP8A4mvM6KPr9Tsg+sS7Hpn/AAnfh/8A5+pv/AaT/wCJo/4Tvw//AM/U3/gNJ/8AE15nRR9fqdkH1iXY9M/4Tvw//wA/U3/gNJ/8TR/wnfh//n6m/wDAaT/4mvM6KPr9Tsg+sS7Hpn/Cd+H/APn6m/8AAaT/AOJo/wCE78P/APP1N/4DSf8AxNeZ0UfX6nZB9Yl2PTP+E78P/wDP1N/4DSf/ABNH/Cd+H/8An6m/8BpP/ia8zoo+v1OyD6xLseo2/jTw/cSBBqCxsf8AntG8Y/NgBW8rK6hlIZSMgg5BrxAjIweldB4R16XSdRhspXJ0+4cIFJ4ic9CPQE8Ee+a2o43mlyzRcK93aR6hRRRXoHSFFFFABRRRQAUhIAJJwB1JqhcarGk7W1pG13dLw0cR4T/fbov06+gNRjS5b0h9WlWYdRax5EK/Xu/48ewq1HrLQm/YDqsl4xj0qEXHODcucQr9D1c+y8e4qSDSkEy3N5K15dKcq8gwsZ/2F6L9eT7mr4AVQqgAAYAHalo5raR0Dl7hRUNzd21nF5tzPHCnTdIwAql/adxdcafYSSKf+W1xmGP8Mjcf++ce9JRb1G2kadUrnVrO1l8l5d8/aCJTJJ/3yuT+J4qH+zLm651C/kdT/wAsbbMKfiQdx/76x7VdtrO2sovKtYI4U64RQMn1p2it9Raspedq15/qbeOxjP8AHcHzJP8AvhTgfi34Uq6Jbuwe+eW+kByPtByoPsgwo/LPvWlRRzvpoHKuogAUAAAAcAClooqCgooooAKKKKACiiigAooqvcX9naDNzdwQ/wDXSQL/ADppN7BexYorN/t7T2/1Mktx/wBe8Dyj81BFH9p3Un+o0i8b/akKRj9Wz+lV7OXVE8yNKis3zNal6W9jbj1aVpT+QVf50fYtTk/12rbP+va2Vf8A0PfRyd2HN5F24ure0RWuZ4oVZtqmRwoJ9Bnvwa808busnincjBlNpHgg5B+Z667V/CUerwQRT6jekJMJGLSZyMEYAGFB564/nXEeKdNtNK8QC1s4RHELWM4zkklnyST1NcuPUFh9HqY1nLld1oZFFFFeEcZsNoke0JHebrr7MLnymiwCu3cQGyecewqOHSVmm0+3MxSW5jaVjjIRecceuFJ/EVNqOrttjitTCFNpFE8ioN5+QBl3fpVlLiODVtIvHcLD9jUbjyAVVkI/MfrXRy03Ky/rU1tG5nwadaXV4IYL52QRvI7tBgqFUngbuenrUN7YpbQW9xDOJoJ9wVim0grjII/EVb07VG/tEz3DQIVt5VUrCiDJQ4BAAB59aj1K8XULGznaRRcRhopIlG0YHIYAcDOecdxUtQcG1v8A8N5i92xWENshSOZpPMdQxdcbUyMjjvwR3FLZ6e11eyW7OIxErvI2N2AoycDueKiuJFedWU5AjjH4hQD+oqzC5fV5JoLxLZ97PHKxIHXpkDjI9ahWuSrXIZLVJLlIbB5LreOAIirZ9MZP86mtdKmfUPslzHLC/lPIFK4J2oWHX1xWq93ZtNJGZ7dLuezaKW4iUrGZNwI6DuowSBjmktLy2tJdPt3vE3QRXG+dMlULqdoB6nB9O5rVU431ZfKrmTFp0keoW9vfxTW6zMFyy4IB4zz6GqssLxTvCy/vEYoQPUHFbG1Tb6dpsdxHcXBuy+6MkhA20AZPqQTVO8ukOv3N2hfYbh3BjfY2Nx6HBxUSikiWkii0boMsjKPUjFXLHThewXEhuY42ijeQR4JZtoyfoPepL/U1vLcRqb7IYH9/d+av5bRz71JoixL9qkluoIt9vJEokbBJZcDt0pRjHntugSV7EGk6Y2qXYh80Qx5AaQjIBJwBjuSSP8iqZQCYxswADbSxHA9629Kv7G1mtLadJP3V2JGnjmARiCACQVJIAz3HU+tUJrSOZZLyOQRW7XHlKJG3HkZJ4HIHHbuKbiuVW3BpW0HXGnQLYLeW135sfnCF98RQgkZyOTkcH/CntpMUlqJ7O8E4EywuGjKYLZwRycjj2+lWr2dZNJFtdXltPP5ymAwjAjXncWwAOePfim6mkNvYJb2V7bPbxMHba58yV+m7GOAOwz0qnGOrt0/rqVZEEmjATxiO43Qkv5krpt8sIcMcZPHTHrnFZbbdx2klc8EjBxXQJqCNi2nuUmkaIs8sp3J5mMqv0BOT2LHnpWRqJgN/Kbbb5XGNgwucDOPbOcVNSMUrxJkluirUtn/yE7D/AK+4f/Q1qKpbP/kJ2H/X3D/6GtRT+NCjuj2uiiivoj0jlvHWp6jpunaWmmXQtZ73Vbayaby1kKJI2CQG4zWRF4q1TQNQ8Tafq15DqiaTpg1FLpIREwyH/dSBTjJ2gjGODWr490CfxHp2lWcVqLmJNWtprlC4UeQrfOeSM8dhz6U3XfCOnweANf0jQ9OhtXu7ObCwpgySbDtyepOcDmgChBqOr6RaeBLKa9eafUZSt/JL87OTA8hAJ6AN0x0AAqpMnjCLxva6APGLGOewluzL/ZsOQUdF24/4H+lXfJufEsHgHWbCIS2sLi5uGDqPLVrdl6E5PzMBgZNatxpV6/xKsdXWHNjFpU9u8u4cSNLGwGM56KecY4oAvao1zHY2Fl9qcTXMyW8lwgCsRtLORj7pIUjjpuyOlQNZLo2p6abSe68u6naCaOe5kmVh5buGG9jhgUHI6gnOeMX9RtJbmfTnjAxBdea+T/Dsdf5sKNQtJbm602SMDbb3XmyZP8PlSL/NhQBzPjfX7zS9Y0PT01WPRbC+Mom1N4VcI6gbI8v8q7ssct/d4rUn1tfDWiWX9sXr6nezyeVAbS2xJdMclQsakjIUcnIHBPHSneJLq9RRar4XbXNPnjImVJYsg9gySkAg+ufwritN8Ja/oVj4f1KHTxPLpt/dzDSEuVJgtpwVEaOxClkGO4ByQDQBr+JPGSXngPxPNprXun6rptsTJDcR+VNASMq2ORgjOCCRxWvpPjbTtS1O107yL+3muomltJLq2MaXSqAWMZPXAOcEA45rmNX8Oa94isPGGpNpbWd1qenR2NlYyTRmQhNx3OQxQEl8AbuAOa047TX9d8WeH7nUNFOmW+i+dJNK1wkgnkaMxhYtpzt5LZYKegxQBL4f8RDStF8QJrNzPMNCv5YWmYNLI0JxJGTjJY7ZAv8AwGun1S7e20K9vIDh47Z5Yyw7hSRkGuQ8OT3qL4017TbA381xqjra2wlEQnEKJEcOeBllfn2rrtWgmvNAvoI4/wB/NayIqbh94qQBnp1NAHA6V4h8SWUPgy+vtXh1KLxD5SS2jWqRyRF4TIXRlxlVIwcjoa6Wz8e6Re3l7DFHeiCweZLy8a3Igt2iLbgz9M4XIxngjpmofA/gvTfDuh6TM+kW9vrSWMUVzLgO6vsG8BsnvnODg1Qg8I6jd+APE+hzqtrc6leX0kDM4IKySM0bHbnAIIz3A7UAa2neOtN1C/s7VrTUrMX4P2Ka8tTHHc4G7CnsSvIDYJFc5ofxCg0+31n+1xqdxFaaxdwzXiW7PDaxiYqgZvQDHTOBjOKuNbeIPE134ct7/QJNJh0q7S9uZ5biJ1d0RlVIgjEkEtnLBcAVkS6T4rTw54k8Np4e3jWL68a3vftUXlxRTSt80gzuBCncAoOcgcHIoA7bWvFlvojyeZpuq3UUMXnTT2tqXjjTrksSAeBnC5IFYWseLhY+NtCaCS8u9Pv9KmlhtrSIyG4fdEUYL/uljk4AGaoeINC8Qy319Yi01S/05rCO3037HqQtYo3CFXM4DqzZOD0cY4xT7fSfEWi3vhG/g0Rr1dO0H7Fewx3EaurnyeE3NhiCh7gYB5zgEA2Z/F1nqWkWN7ZX93YbtXhsJo2tQZVlLhWgkVvuZyMsOQDkVmSa9d26eMpZ9WuLWOz1a2gglSFZjErrANqq3GCXIPpuJqrH4W124sPts1iIbu98UW+qy2omQm3gRkHzHOCwVMnaT1wM1Lq/hbWbrTfGEMNnufUdXtLm1HmoPMjQ2+5uTxjy34ODx7igDoNZ8a6fpd9d6eIL+5mtYRJdSWlsZUtVYEqZCOnAzgAnHOMVn+GPFFxF4B8OXV5a6pql9eWauxtYDIxIAyzMcKOo6kE9s4NRvaeINE8U+I5LHRTqNvrRilguBcJGsDrEI2WXcd235QQVDdcYzWTbaH4m07w74S0+ay1KWytLFor+z0y+S3mE/wAuwmQSLlB833W6nPNAHWN450ceHbXWU+1SR3U/2aC2SAmd5slTHs/vAq2c8cHms7wp4km13xz4jh/0yG2tbazC2l1GY2gkbzd3yn1wpyMgjHNYNh4V8QaVoWiXi6WZb3S9aurx7D7WsjyQymRcrIxwzAOCNxBPOcGuj8MWetP4y1/W9T0v+z7e+t7WO2jadJH/AHfm5D7SQG+YHjI5HJwaANLWPF1jo+px6abW/vbxoftDw2NuZWiizje2OgyCAOScHArA8J+M4k8CWeqajcXN7Pe39zDapHGXmnPnybFVeOiL3wABzirN9ba1ovju91qw0aTVbXUbGKAiKeONoZY2fG7eR8hD9RkgjpXNJ4J1tfDPh+W70+Sa80zUrye5sbS+MLyRzPJzHKrLggMrAFlyMg46UAei6J4gtNdF0sMdxb3NpII7i1uY9ksTEAjI5GCCCCCQao6p4103S9Vm09re/uZLaNZbt7S2aVLVG6GQjpkAnAycDOKj8IaVb2Jv7qPQ9Q0yW5ZA51C+NzLMFBCknzJNoGSMbqypbfX9B8U+I7mx0U6lb6x5U0M63EcawOkQjZZdx3bflBBUN1xigDesPF+l6l/Yn2czf8TmGSa03Jj5UALbueOGFE3i/SLa21e4nlkSPS7gW0/7sktIVUqqAcsTvUDHc1wnhyy1NPCfw813TtOfUV0+0ljntopESQrKgAZd5CnBUcZHWpLnwh4h1fRPEEl1py295ca3BqdvareY81EWL5PNQ5RsKwzxhhkHGDQB3Wj+J7XV7+bTza3tjfQxrMba9h8t2jJwHXBIIyMcHg9cU3VvFNrpWpppq2d/fXhg+0PFZQeYY4s7QzcjqQQAMk4PFZXhTSIIdYl1H/hHNX064Fv5AuNT1M3TMpYMUUedJgZAOeKreOtMv72787SdE1A6vHbFLLVrG8jhEbkk7JQzgtGDgkbWBycAGgDc1TxbZ6bqBsI7PUL+7SETyw2Vv5jQxnIBfJGM4OB1ODxRN4tsv7OsL6wtNQ1SG+jMsP2G3L/IMcsTgL1HBIPXjg1yWo+GNQt/Fl5q13pepatHqFrbq7aTqbWjRTRqVYFfNjDK2QQckjnjmp73RdVsYdBtNO0jVI9BhtpRNpunakIp45iwK75TIpZeWztfqc80Adroms2fiDSYdSsWcwS7hiRCrKysVZWB6EEEH6Vw19491TSfDnijUmtzeS2GtvZWyrDlY4wI8b8EHHzNz6kV0Hw90i/0PwoLLUrc29x9ruZPLM/nEK8zMvz5Jbgjk8+vNYF74U1qfwf42sY7VftWoatJeWaNKv75P3RHOcLnYw5x70AdTN4qWGztpxoetySXAci3SzPmIFOCXyQq57AnJ7CsjUfE66mfBt9pF1MlnqGqGKVSpQsoim3IwPoycj1WoNb/AOEj1S+0y6fR9ZTSzBKJ9PstQjt51n3DY0jrKuUKg8K/GeR2qhonhPW7PQ/CNtPZbJtP1q5urpftKyeXExuNrbicvnzE9+eR1oA6tfGmkt4aGugz/ZjP9m8ry/3vm+b5Wzbn727t+NaGq61aaM9gLzzFW9uktInVcqJGB2hvQEjGfUivP49GuG+L0ukIUbRopV8ROgP3LhlMQU/VwZPqK7LxtpS6x4N1O1MqwyLCZoZmOBFLH86NnthlH4ZoAvwazaXOu3mkRb2ubOKOWchfkTfu2rn1wpOPTFZmqeNNN0vVZdPa3v7qW3jWW7a0tjKtqjZwZCOmQCcDJwM4qh8No7q58OSeIdQjCX+uzG+kUfwIQFiUH0CKv5moHt9f0Hxf4gvLDRTqVvrAgkhmW4jjWCRIxGVl3Hdt4DZUN1IxQBt2Hi/StSGiG3MxGsxySWmUxlUALbueODSz+L9ItYNYmnlkjj0mZYLgmMkl2VSqoByxO9QAO5rgfDNlqa+D/h5runae+ojTreVJ7aKREkKSpt3LvIU4IHGR1qe68I+IdZ0bxJJdactteXWr2+o21qt4B5qRrF8nmIcox2kZ4wwyDjBoA7nSPE9rq2oTaebW9sb6KITm2vYfLdoycB1wSCM8HnIPXFJq3im10rUk04Wd/fXjQ/aGhsoPMMcWdu5uR1OQAMk4PFZPhXR4Idak1E+G9X064W2MAuNS1Q3TFSysUUedJgZUHPHSq/jrTL69uhNpWh6i+qx2xWy1WxvI4fKck/JKGcFo8gEjDA5PANAG1qvi6y0zUF0+Oz1DUL3yRO9vY25kaKMnAZ8kAZIOBnJx0rn9e8bW2fCGr6dd3L6be3skcscETF5cRSARlMZ3bwBj1FSx2viHw74pv9VXSH1lNUs7ZZjaSxxtFPErKeJGX5G3ZyDxzxWUnhfxHpVh4curfTory+t9VutSvLZLhUWMTLKdis3UjeFHYnrgcgA6hPHukHSdWv7iK8tDpO37bbXEOyaINyp25wQRyCD2NKPHWnHT47v7FqY+0T+RZwtakS3ZK7g0anqu3JycYA5xXK6t4b1/xBpfjTUDpTWl1q1rBa2djJNGZCsWSWdgxQEljgbuAK3fHnh261W90LU7W0uL1dNml860trxrWWRJE2kpIGXBBAONwyMjNAF6LxzpLxxGVLu3la/TTpYJ4drwTOMoHGeAwxhhkHIqLxT4ptbK01iziv7iyurC2huJrqG3WbyRI+1RtbgscHg9uayf+EPh1Pwjr9tbaLf6Te3wV4nv777TM8sYBicsZJNuGAGN3QVSl8L+INR+HfiJ76wVfEetziaS2WZDsVGRUTfnbgImev8AEaAO3j8Sac82sxM7xPo+Dd+YuNqlN4Yeqlc8+xrNsfE1rea3551GeGzbRo9R+yz26oscbM371n+8DgYK9ABmsTxt4U1jU/EKPpEQNjrFslhrD+YqGOJJVYOATliUMqcf3hVrX/CV7rGv62sKLBZXvhwabDPuG1ZfMkO3aOcAMvbFAC6Z4utL7xTb3M0urW9lqEQg0tbi0aG2mbly27J3OwHy7gvA4zk13NeefY/EPiFfDenX2gPpkelXcF3dXUlxE6OYQcLEEYsdxxywXAzXa6bdX1016L7TvsQhuWigPnLJ58QAxJx93OT8p5GKAL1FFFABRRRQAUUUUAFFFFABRRRQAUUUUAFFFFABRRRQAUUUUAFFFFABRRRQAUUUUAFFFFABRRRQAUUUUAFFFFABRRRQAUUUUAZniKVoPDWqSIcMtrIQR2O015CowigdAK9b8Uf8irqv/XpJ/wCgmvJB90fSvLzD4onJid0LRRRXnnMFFFKqs7BVBZicAAZJNACUU50eN2R1ZXU4KsMEGm0DCilVWdgqqWY9ABkmggqSCCCOCDQAlFFFAgooowQAcdaACiiggg4IwaACinmKQRCUxsI2OA5HBPpmmUDCiiigQVFckrbSMpwyjcCOxHNS1Ddf8ek3+4f5ULcaPdEbfGreoBp1Mh/1Ef8Auj+VPr6Q9MKKgury3sYfNuZljTOBnqT6AdSfYVR8zUdS/wBUrafan/lo6gzOPZTwn1OT7CqUW9egm7Fq81K3smWNyzzuMpBEN0j/AEHp7nj3qr9mv9R5vJDaW5/5d4H+dh/tuOn0X8zVyz0+2sVYQR4dzl5GJZ3PqzHk0y61Szs3EcswMx+7CgLyN9FGT+lUn0ghP+8T29tBaQLDbxJFEvRUGBUhIAJJwB1JrN+06pd/8e1qlnGf+Wl0dzfhGp/mw+lA0WGYhtQmlvm67Zj+7H0QYX8wT70nH+ZhfshW1u2djHZJLfSA4IthlQfdzhR+eaTydWvP9dPFYxn+C3HmSf8AfbDA/BT9a0lVUUKihVAwABgClo5ktkFm9ylbaTZ2svnLF5lx/wA95mMkn/fTZI+g4q7RRUtt7jSS2CimySJEu6R1RR3Y4FUG17SlYqt9DK46rC3mN+S5NCi3sgbS3NGis3+2A/8Ax76dqE3/AGw8v/0YVo+1atL/AKrTIYh63Fzgj8FVv51XI+ouZGlRWb5Gsy/fvbSEekVuWP8A30zY/Sj+yZZP+PjVb+X2V1jH/jig/rRyrqwu+xpdKpTazplu22bULZH/ALplG4/h1qL+wNMPMtqLg+ty7Tf+hk1dhtoLZdsEEcS+iIFH6Ue5/X9MPeKX9t2z/wCogvJz/wBM7V8f99EAfrR9v1GT/U6PIvvcTog/8dLH9K0qKOaPRf1+AWfczduty9XsLb6K8365Sj+zr2T/AF+sXOP7sMcaD/0En9a0qKOd9A5TN/sKyb/X/aLj/rvcyOP++ScfpVi30ywtDm2sraE+scSqf0FWqKTnJ7sfKuwUUUVIwooooAK8w8df8jYf+vSP/wBCevT643xr4dutQli1Kxj82aOPypYgfmZckgr7gk8e9c2Kg50momVaLcLI4GipzY6gCQdM1AEdvssn+FJ9iv8A/oG3/wD4Cyf4V43s59ji5X2IacZXaNY2diiElVJ4GeuKk+xX/wD0Db//AMBZP8KPsV//ANA2/wD/AAFk/wAKOSfZhyy7ENFTfYr/AP6Bt/8A+Asn+FH2K/8A+gbf/wDgLJ/hR7OfYOV9iGipvsV//wBA2/8A/AWT/Cj7Ff8A/QNv/wDwFk/wo9nPsHK+xDRU32K//wCgbf8A/gLJ/hR9iv8A/oG3/wD4Cyf4Uezn2DlfYjjkeGQPG7I46MpwRTam+xX/AP0Db/8A8BZP8KPsV/8A9A2//wDAWT/Cjkn2YcsuxDRU32K//wCgbf8A/gLJ/hR9iv8A/oG3/wD4Cyf4Uezn2DlfYhpSzFQpYlR0GeBUv2K//wCgbf8A/gLJ/hR9iv8A/oG3/wD4Cyf4Uezn2DlfYhoqb7Ff/wDQNv8A/wABZP8ACj7Ff/8AQNv/APwFk/wo9nPsHK+xDRU32K//AOgbf/8AgLJ/hR9iv/8AoG3/AP4Cyf4Uezn2DlfYhqWz/wCQnYf9fcP/AKGtL9iv/wDoG3//AICyf4Vv+GfDN9d6pb3d3bS21rbuJf3y7WkYcqAp5xnByfStKVKbmtCoQk5LQ9Looor3j0Aorh/ilcxW2haUbm5kt7N9YtEunSVo/wByWO8FlIIGK56z1k6PB4w1Dw9d3lz4cs9L822kuZZJUW7AfIieQklcbCeSATQB6hYw2dvaLFp8cEdsGbasAAQHcS2Mcfezn3zVmvKfEVnBoug+AdKlW/lsxMI7mGyaTzZz9nck4jIYkt8xx71e1nTnPgmA+G9O1tbP+0Um1CyeWaO7ntwCHVPMbeM4U4BGQDjrQB6RSMyopZiAoGSSeAK5nwPceH7jS7g+Hp7owCYia2upZGktpMDKFZCWTpnHTritDXkW4bTLOVQ0FzeBJUPR1VHcA+25FyO44oAu2Wp6fqQc2F9bXQQ4cwSq+0++DxVqsfU40i1rQ540CytcPAzqMExmCVtp9tyKceoFc38QYbn+0dIu7u01G98OQiX7fb6fI4kVyF8uRlQhnRcNkDpnODQB3lIzqilnYKo6knAFcTF4msrHRdBsfCZ/td9UeRLE3N05VUXLu0kjBnwnTBBPQVi+MfEN7f8AgXxnour2UNrqdhZJI32eUyRTRyfddSQCOVIII7e9AHpdraW1jbJbWkEcECZ2xxKFVcnJwB7mnxSxzRrJE6yRsMqynII9jXKWfifWIPEemaZrmkW9nFqqSGzeC6Mro6LvKSjaACVycqSMgjnrVDwzeXuk6d4q07TtPN/NpWqSizs1lWLdHIFlCBm4GDI34AUAd7RWZ4gkkj8L6pKhaORbKVgVOCp2HoRXlnhO6tZbjwY3hjUb+51GWOM65H9pmmgEfk5cyByVV9+MYwck0AezUVwdr491B7HV9Zu9Jgt9D0qS6ilm+0FppmiZlHlptxg4A5I5J7DJtQ+KddstR0iPxBo1naWmrS+RA9tdNK8EpUsqSAoo5CkZUnBH40Adirq4JVgwBIODnmlryXQ/Eet+HvD2valDo1vcaRY6xfSXLvdFZnTz23GNApHyj+8RnBx6nrPE/inU9Gge9s7fSGsY7fz1N5fmGS4wNxWNdhGcdyeSenegDrdy7wm4biM4zzilrza+1a/vfiB4d1DQ7GK4lvtAlkRbmby0iR5IW3OQCeOBgAkkjoMkTT+Kk1XTLH+09K2X1p4jg06eGO6YJHMGGJFYAF1wwbaRg5welAHoQdWLBWBKnBwehpa8ruLq3s7PxxPc2rXUQ8Q2q+UszRElhbKDuXngnOO+MV0Gq+JtZutR1qw0TSLa7ttKjCXck90Ynkd037IhtIJCkHLEDJx70AdmrK6hlYMpGQQcg0teeeGNS1PTvhj4Wawj0sI1hH5s+o3hgjT5RgDCksTz6YxVmH4gT3/h3R7iw02KTVtUvJLKK2a4/dI8ZfzHMgBygCE8DJyKAO5DKWKhgWHUZ5FLXA+DZ9Rn+Ini86pZxWt2tvp6ssMvmRsAJsMpIBwfQgEVqan4j1ZvEs2iaBplrdzWlslzdyXVyYVUOWCRrhWyx2scnAFAHUqyuu5WDD1BzQQCCCMg9RXlPhbxb/wj/wAPNCj8m3S/1K/vY4kvLgQxRYuJWdpH54UccZySAOtdj4S8Vf8ACRSalaSrafa9OlRJHsrjz4JFddysjYHuCCOCKAN+ysrbTrOGzs4I4LaFQkcUa4VQOwFT1yF54q1eTXdUs9E0i3vLfSAn2x5roxPI7Lv2RDaQSFIOWIGTjjrSaP41k1RvCYaxWP8At6zmumxJnyTGqHA45zv9ulAHYUVxV/8AECPTrDXLiazTfYaommW6GYIszusZUsxGEHznJ5wFJqfw14xfVteuNEuzpkl1HbC6jm0y8+0RMm7aQSQCrA4+oINAHXUVyeueKb6y8VW+gadb6ebiW1+0q+oXTQLN8xXy48K2W4yfQEcHNVdc8dSWfiG60bT/AOyEmsoUluH1O/FuGZwSsafKSTgZJ6DI9aAO2orkB4uvNT8M6XrWkQabDb3sXmSSapeGFYm6bPlU7jndzwOPetTwl4gHijw3bar5AgeRpI5I1k3hXR2RsN3GVJB9CKANuivJNETS9R8T6+mq2Wv3dyNdlhhnt2ujBEnybVJRgigEknPQH0rr08U39340vNDs7bT1jsniWZbm6aO4lRlDGSNApBUA468kEcUAdJFYWkF5c3kVvGlzc7RNKq4aTaMLk98AnH1p91awXtpNa3USy28yGOSNxlXUjBBHoRXE3PjTxBI2vy6ZoFrPa6HcPHO814UacIiuRGAh+bDfxYHTrzi/qPijUG0uw1PSItJFld2qXKTanfGDfuG4IoCnnBHJPfvQB1MUUcEKQxIqRooVEUYCgcAAelP615nrWvw+LtK8IpHoIvv7bWWeK3muzCkLrHyXZRkhdzHIGcgEDPTR8J313Z6BrVnb6bGNY069MVytzqLvHKxVG80zOpbbsIPIz8uKAO0srK102yis7KCO3toV2xxRrhVHoBU9cr4W8Vz61q2p6VeJYfabFIpRNp9z50MiSbsckAhgVII+lWX8UJaeJ9T0nUIlt4rWwXUIZ9+fNiBIkJGOCpA9eGFAHQ0VjaJrkl/4Rttd1C2Fl5tt9qeLdu8tMFhk4HO3BPvXMQ+Ote+y6HqVz4fto9L1u7ghtmS8JlhSVhtaRdoGSpz8pOOh9aAPQKK5dPFjtp/iu6+xrnQpZY1XzP8AXbIVkyeOM7sd6zb/AOIDRz6XY2q6ZBeXmnJqMr6le+RDEjcKoOCWYnd2GAufagDuqKxPCfiKPxRoKaikSxOJJIZY0kEirIjFW2uOGXjIPcEVmeHfFl7r9/eP5GnQ2FtNNDLGbtjdweWxUNJHtwA23OM8AjrQB11IGUsyhgSvUA9K4AePtWXRYPFEui2yeGppEAf7U32pImcIsxTZtxyDtDZANVbe91+28f8AjYaHpVreFXtZJGubkxA4tlwigKxLH1OAKAPSqK4NvH95qKeG18P6THcy67Zy3Mf2mfy0tymzO8hSSBuI4GcgeuRFqfxEubW/1G0t4tGWTSo0+1peal5LTSlA7Rwjac4BxubGScY60Aeg0VymleOLbUNSMUsIt7OXSYtXtZ2bl4WzvDDsUO3ufvVkWniSfVdR0PUP7E26peaNd3drGbpwAoZCiFcYJYMhJIyvagD0KiuRtPG6ajaeFZLK1Ek2uks0bPj7OiIWlJOOSrYXHGSaydH8U/Z/C2i2uiaUPt+q3d3Da20125SMRyyeZI8jBmwMZxg8sAKAPQkkSTOx1baSpwc4I6inVx/gm8azlvfC11p0Nle6aqTEwTtMlwkpY+buYBixYNuyM57nNdhQAUUUUAFFFFABRRRQAUUUUAFFFFABRRRQAUUUUAFFFFABRRRQAUUUUAFFFFABRRRQAUUUUAFFFFABRRRQAUUUUAZPij/kVdV/69JP/QTXkg+6PpXrfij/AJFXVf8Ar0k/9BNeSD7o+leXmHxROTE7oWiiivPOY63wylyfD2pPYwpJeCVBHlA3cZ6+2a0ltbVvFWnu0UKXUNsZrpIgNocDjp3yf5VydrqottCvdP8ALbfcOjCQNjbgg/0qbwteR2evwNMQIpQYmJ7bhx+uK7IVY+5H0/M3jNaI1fDtwtzaXwgnt4dZmm3pJOoO5T2GffNVDo813qGo3OrkWiWqq03koPmJGBtHTnGc1UhfS7F5bW/sZJ5YZmxLFNt3AcYPtx1HrVw+KhcXt815ab7S7RUaJHwVC9CD68mkpQcUpvb189/mF42SkWLDSre21TRtQsZ5JbW4mKgSqAysM8HH40zUtGsbs6tcWd5I91ayNJKjJhSCxyB9Oefaq58RQRT6clraNHZ2TlwjPlnJ6kmluPENobO+WzsGgub7/XOZNwAzzge+T+dPmpcrX+fbp8wvC1hbrw9ZwR2kKXkjX12kbQxFPlG4gEsfTr+VS3nhaKG1vGia88y0Xc7zQ7Y5QOuw1nX2uG4v9Pu4YjG9nDGgDHO4qSc/Sp9S1qxvknkS3u0uJuqm4zGp7nGOfpU3o66fmK8NSc+GIf7aEH2h/sJtftXn4GdmPy61OmmjULXQba5vZBFOkwiGxfkIxge+ap/8JL/xTn9m+QftHl+T5+7+DOcY+nFVZtaLWmkxxRlJNPLHcTwxJBH8qfNSW3X/ADWgXgtixZ6MYLZbyaZobhb5beJQAfmBGTz6c/lV640aG91PWp7++dRaOhaQIMsD7DvxgVU1bxImo3dlJFamGG3kMrJuzuYtkn/PrTLjxDHMusgW7D+0ChX5vubfX1ovSWm6+euj/ULwWhPbJDceGNat4WZ4bWZJoGcYOCSP5CsWxt7S4kcXd8LRQMhjEz7j6cVp2cqWfg+/Ysvm3kyRKuecLyT9OSKzLHUrzTZHeznMTOMMQAcj8azm4+7zdv1ZLa0uOvrWyt1Q2mordkk7gIWTb+fWqVXb7V7/AFNUW8uGlCElcgDGfoKpVlNpv3dv69SXa+gVDdf8ek3+4f5VNUN1/wAek3+4f5VK3Ej3FZEhtFkkdURUBZmOABjuaz/7QutQ+XS4gIj/AMvc6kJ/wBeC/wBeB7msSXVdHgaJtS1BNSuxjZbxkeVGfQAnbn3Yk+mKtf2zeX3+r863jPa1tXmc/wDA2UIP/HvrX1kaLSvb/I7udPQ00tLLTM317cB5wMG6unAI9l6BR7DFH9qy3PGnWMs4/wCe0v7mL8yNx/BSKo29u6SieLRLiW4HS4v7hC34HLFfoAPpV/8A4ncvfT7b/vub/wCIpNLd6/12Q030E/s68uub+/cIf+WNpmJfxbO4/gR9Kt2tja2KFLW3jiB5OxcFj6k9z9aq/wBn30n+u1icf7MEUaD9Qx/Wj+wrR/8AXvdXB/6a3MjD/vnOP0qW1s3939IaXkW7i8tbUZuLmGEesjhf51U/t/TW/wBTO1x/17RPL/6CDU1vpWnWpzb2FtE3qkSg/nirlT7g/eM3+1LiT/UaTev/ALT7Ix/48wP6UebrUv3bWygHq87SH8goH61pUUcy6ILPuZv2PVZf9bqqR/8AXtbBf/Qy1H9jI/8Ax8Xt/P8AW5ZAfwTaK0qKOeXQOVGfHoWlRsHGn27OP45EDt+ZyavqiooVFCqOgAwKWipcm92NJLYKKKKQwooooAKKKKACiiigAooooAKKKKACiiigAooooAKa7rGjO7BVUZLMcACnV538QL+WXVINM3EWyQiZ1HR2JIGfUDb+tZ1qipwcmTOXKrnXnxLoSkg6xYZH/Twv+NH/AAk+g/8AQZsP/Ahf8a8j2gdAKMD0Fef/AGhL+U5vrL7Hrn/CT6D/ANBmw/8AAhf8aP8AhJ9B/wCgzYf+BC/415HgegowPQUf2hL+UPrL7Hrn/CT6D/0GbD/wIX/Gj/hJ9B/6DNh/4EL/AI15HgegowPQUf2hL+UPrL7Hrn/CT6D/ANBmw/8AAhf8aP8AhJ9B/wCgzYf+BC/415HgegowPQUf2hL+UPrL7Hrn/CT6D/0GbD/wIX/Gj/hJ9B/6DNh/4EL/AI15HgegowPQUf2hL+UPrL7Hrn/CT6D/ANBmw/8AAhf8aP8AhJ9B/wCgzYf+BC/415HgegowPQUf2hL+UPrL7Hrn/CT6D/0GbD/wIX/Gj/hJ9B/6DNh/4EL/AI15HgegowPQUf2hL+UPrL7Hrn/CT6D/ANBmw/8AAhf8aP8AhJ9B/wCgzYf+BC/415HgegowPQUf2hL+UPrL7Hrn/CT6D/0GbD/wIX/Gj/hJ9B/6DNh/4EL/AI15HgegowPQUf2hL+UPrL7Hrn/CT6D/ANBmw/8AAhf8aP8AhJ9B/wCgzYf+BC/415HgegowPQUf2hL+UPrL7Hrn/CT6D/0GbD/wIX/Gr9reW17F5trcRTx9N8Thh+YrxTA9BWj4fvpdL16zlgJVZpkhmUdHVjjkeozkVdPHc0kpIqOIu7NHsFFFFeidJieJdBfXotLRJ1h+xalb3x3LncI2yV+p9an8S6V/bnhfVdKBAa8tJIVJ7MykA/nitSigDg103VfE/hzwlqtnLDZalppEskV7CzL5giaJ1IBB4Yn8q2ntvGL6epXUtGS/SbdgWchhkjxjaQZNwOecg/hXRUUAc54Z8O3elX+ratqd3BcanqkkbT/ZojHEixrtRVBJJ4zkk859q2buy+1z2Uvmbfss/nYxnd8jpj2+/n8KtUUAVbuy+1XNjN5m37JOZsYzuzG6Y9vv5/Cs/WYPEbXEUuh32nRx7CskF9bO4J7MGRgR6YOR9K2qKAOCh+H13p9nptzp+qQ/25ZXlxetPNbnyJmnz5qFA2VU8YweNop934EvtW0nxGdU1K3bVdbgS2MkEJWG3jTO1VBJJ5ZiSTyT0GK7qigDkbPwzrVx4j03U9e1W0uo9JSQWi21sYmkd12GSTLEZ25GFwMkn2qp4asdVudE8RapYTLZX+sajLPaSXEJYJGu2OMsnHVY8/8AAhXc0UAU9Ts31DRryx8wK9xbvDvxwCykZx+NR6DpraP4d0zS3kErWdpFbmQDAYogXOPfFaFFAHJ2/gqNvB+seHr258yLUp7qUyRrgoJpGcYz3XI/Korfwxr19f6RJ4i1WyubbSZfPhS0t2jaeYKUV5CzEDAYnC9z7YrsaKAPO5PAWvtpeqaGmu2Y0jVbuee4zanz4kkkLMkbbsHIOMsDgk+wE+r+Ar261jVLmxudNWDUrSO1JvLQyy2iopXER3AAEHPPQ889K72igDh28HazZ3Wg3ularaR3OlaV/Z7JcW5eOf7mc4IKj5M8c5x1GaIPAdyunQLcajHLqD65HrN5MsRVHZWHyIuSQAqqoyT0z3ruKKAOLv8AwPNeWPiC3F9Gp1XVIL9SUP7sRmElTzyT5R596fdeFdah1zV7nRtWtbW01nY10s9sZJIXVAhaI7gMlQOGBAIzz0rsaKAPPk+H9/aW3ho213p1zPo9g1kY7+2aSFidv71AGBVhtx7g44p8Hw/v7DQ9Ljs9Utxq2l6jPfQTvbkROJWfcjIDkAq+ODxjiu+ooA5jw34d1PTdf1jWdV1GC7uNTjt1KQQmNIvK8zhckkjDjknOQfXAj1Hw5rEfim41vQNRs7Z722S2u47u3aQfIWKSLtYfMAxGDwa6uigDz+H4d3Np4e0W3h1G3l1PSLq4uIp7m33xTCZ3LK6AjqHHI6EZFdVoVlqFnBN/aP8AZokd8qlhbtEqjHcliWPvxWtRQBxeoeGdbtNX1q/0TVLW3ttWRXuUntjJJFIibN0WGAyVA4YEAjPPSsjw54d1O78GeB9U0y5gtdS0uyKiO8hZo3SRAHVgCCD8qkH2r0uigDgR8PLufRdVt73V45tQu9UTVYboWwCRyoseAY88rlCMZ6Hrnmuh0HT9WtJ5ZNSGjIpQKi6fatGSe5ZmY8e2PxrdooA5Lxl4a1XxPbTadHNpI06eLYTdWjSTW785kjIYDdjGOBgjqar3Xg6/tddn1XSLjTpmu7eGG5j1S3MuWiUqsispBBI4I74rtaKAOL1Twjqd3qWkanFPpMt1ZWr2zw3VmxtwXKkyRoGyrDbjqcg4yK1/B/h+Twx4dj0ya5S5dZ5pTKkewHzJWf7vb71btFAHF2Hh7xRouoaq2maho5tL/UJL0rc2srSIXwCuVcD+H0p+veFdV8QaxavcXOmJZWt3FcwTpasLuMIQ2xX3YGSME46HpXY0UAeXafoviTUrrxra6dqVrZWV9qssMouLVndAYYgZIyGGSQcYORlQfWte58B3Nvq1ldaRcaeYbfTI9NRNRtTOYFQnDx4IGSDyD1wOa7qigDjNG8Dy6SnhJDepINBhnif5CPO8xdoI54xUWreA7jUbfX0S+hVtS1GC+jSWItGfKWMeXIuRuVjHz9a7iigDlPDfhe90rxDqOr3s9iWvLaGEW9lbmKOLyy54yTnIYc/X2rH+JuhnXL/w3aWzyx3V1dPaTGNetm6ZnDHsMKuPc+9eh0UAQXFnBc2Etk6Yt5YjCyrx8pGMD8K8w1Tw/wCItIsPCWnXWp213punaxZRQrBasssiK+FaRixA2qMcDnqTXq1FAHC6l4M1uW48Q2+maxaW2m67l5xLbF5onMYjYIdwGGCjqOOcU+48E3sF5peo6bcae95a6bHps8d9bmSKVE5VhggqwO71yD7V29FAFLSba6tNNihvGtDcDcX+yQmKLkkgBSSeBgZzz146VzKeEdTvfFlnrOrXGln7GsqB7K1aOW5V1KBZWLH5QDnAzyB0rs6KAPPovAesnQrfwtc6xaSeHIJE6WzC6khRw6xM27aOgBYDJA6DNXbrwx4ktvEOuapoms2MC6t5YaK5tWfydkSoHUhh83BODwePTntKKAOS0rwTHo174ba1uc22jWE1ptdfmlMnl/NnoOUJx71Bc+EdStfEGpajo8ukvFqTrLNDqNo0hikChSyMrDIIAyp7jrzXaUUAcX4w8Dz+KLLS0i1FLO5tka3uJYosLLbyIFlQLn5c4BHJxitiXw/u8WaZrEUiRwWNlNaCAL13mMgg9gAn61uUUAcd4b8DHQfFOo6q16JraTzFsLYJj7KssnmSj3y+MewqrD4DvrDR9EFhqUCato91czwyywlopFndy6MoIOMOOQeCtd3RQByVl4b1qBta1aXU7T/hINQhSGKWO3PkWyoDsUKSS3LMSSeSenFdVCJFgjWZw8oUB2UYBOOSB2p9FABRRRQAUUUUAFFFFABRRRQAUUUUAFFFFABRRRQAUUUUAFFFFABRRRQAUUUUAFFFFABRRRQAUUUUAFFFFABRRVHUb2SAR21qqvez5ESnooHV2/2R+pwO9NJt2Qm7HJeNtT1lzeabZwxiyW3ZridAXIGxjtbjC5x+o55riR90fSvUtaso7DwZqsSMzsbaVpJG+9I5U5Y+5/8ArV5aPuj6V5uZyTlFJbL7zjrpp3YtFFFeYYBRRRQAUUUqkBgWGQDyPWgCc2F4Lb7SbScQdfN8s7fz6UyK3nnV2hhkkEY3OUUnaPU46CvQrW5t9Q1uSaHVI5LKW2KfY+flGOcjoP8A69YXhm9nk0zU7MlRBHZSsFCgZY9ye/pXU8PFSSvvf8DZ01danK1ZOn3q232hrScQdfMMZ2/nVauz03Ur220O91DVbh3hnj8q2hc/fOMZA7CsaUFNtMiEU9zkYreecOYYZJAg3OUUnaPU46ClgtLm5DmC3llCDLGNC23646V0nha9mey1GzJUQR2crhQoGWPcnv6VD4d1OGGKGzZbgzrdieMQgHzTt27DyMfX61caUXy3e41Baa7nPxwSypI8cbskY3OwGQo96jrrr7S5pLD7HYS24RneST5iGuJF5YLx91egzjmuRqKlNw0FKPKFFFFZkBRRRQAVDdf8ek3+4f5VNUN1/wAek3+4f5ULcaPRZ/AdmALjS5DayMoJjb50P0znb+v0qBbaWwYR30EUZzgGWWSFG+kqEr+BVT7V2sP+oj/3R/KnMqupVgGUjBBGQa+rWIna0tTu9lHdHNiK3hANzaa1bj+/FeTTIf8AvhyfzAqzawafeErZ6zdOw6qt4WYfUHJH41ZOj/ZiX0u4azPXysb4T/wDt/wEiqt1LCwC69pce1elyqebEPfONyfiMD1p83Ns/wCvR/5ha25b/sqYfc1jUF/GNv5oaP7Ovh93W7s/78UJ/kgpkWmRmJZdN1K6ijYZXZN50ZHsH3cfTFOzrVv1WzvF9i0Lfl8wJ/EVN30a+4qwv2PVB93VlP8Av2yn+RFHka0OmoWLf71k39JaT+2Ui4vLO7tf9p4t6/8AfSbgPxxVy2vbW9Tfa3MM69zG4bH5Um5rVr8EC5WVNutr/wAtdPf/ALZOv/sxo362P+XfT3/7buv/ALIa0qKnn8h8vmZv2jWR97TbM/7l6x/nGKPtupj72kZ/3LlT/PFaVFHMu35/5hZ9zN/tK9H3tEvT/uyQn+cgo/taUff0nUF/4AjfyY1pUUcy7fmFn3M3+2Yx9+y1Bf8At1dv5A0f27Zj7yXqf71jMP8A2StKii8ewWfczf7f0wfeuCn+/E6/zFH/AAkOjD72qWif78yr/OtKii8O34/8APeKKazpUn3NTs2+k6n+tTpeWsn3LmFvo4NPe3gk+/DG31UGq76Vp0n39PtW+sKn+lHuB7xbBBGQQR7UtZx8P6MTn+ybEH1FuoP8qT+wNLH3bNE/3CV/kaLQ7/h/wQ940qKzf7CsR937Un+5eTL/ACaj+xIB9y61Bf8At9lb+bGi0O/4f8ELy7GlRWb/AGQw+5qeoL/21DfzBo/sy6H3dbvx7FIT/wC06OVdwu+xpUVm/YNRH3dYkP8AvwRn+QFH2XVx93U7c/79mT/JxRyrv+f+QXfY0qKzfK1sf8vmnv8A9urr/wC1DRnW17ae/wCLr/jRyeYc3kaVeYeOv+RsP/XpH/6E9dZrGqeItOt4ZbfSra6LTBGSCR3bbgnptGOg5yfpzXEeKLq4vNfWa5spLOU2keYnYMR8z85Hb64PtXLjqbVDm/UxrSTi0ZNFFSW4DXMQIBBcAg/WvCRyEdFdPrMSKNRiuEs0cXG2zEIjDgbjnOznG3+93qK5SNtR1qIopW1tfKiyM7djooI9D1/M1s6Nnv8A1r/kW4WOdorYsoo20qB2jQsdQRCSoyV29PpU2vQRaeXghiRvtMryGYKMABiAi+mO/wCXTrPs3y8wuXS5g0Vc8+W2tYBBI8ZcFmKHBJyRyR24/nTw1vHq8ElzHugzHJKqjqCAW4/E1PKKxQoroLqwuNQu7ZRLaPayOwS4t4lUKAMkMAAcgDODUVlZWrT2l3Zyyskd5FHIkqgHk5BGD04NV7J3sPkdzEorZvrK2Zb26tJ5TJbTfvA6BQdzEZXB7H1qDXFH9pecAB9oijnI93UE/qTSlTaVxONjNorSuNLjht3kFzIxUZwbZ1z+Jp3h94xrNrHJbxTCSVE/eDIUE88dM/WhQfMosOXWzMuir9lNcR3rQWscLvNIECyQq/OcDG4HHWna5NFNqkghWMRxAR7o0ChyOC2Bxyc0uVctwtpczqK24pvO0K7e6gt1hVVjtisSqxkyM4IGTxnOT3FSS/6Xp4SwmsmEdqrSw/ZwJflUbzuKc85PDVXs9Nx8pgUV0iQWeo26JHsZEaIhY49rr8uGQnHLM+McnoTWNqUcy3ZeaONPMG5BEwKbegwRxgYx+FKVPlVxONtSpUtn/wAhOw/6+4f/AENaiqWz/wCQnYf9fcP/AKGtKn8aCO6Pa6KKK+iPSCiiigAooooAKKKKACiiigAooooAKKKKACiiigAooooAKKKKACiiigAooooAKKKKACiiigAooooAKKKKACiiigAooooAKKKKACiiigAooooAKKKKACiiigAooooAKKKKACiiigAooooAKKKKACiiigAooooAKKKKACiiigAooooAKKKKACiiigAooooAKKKKACiiigAooooAKKKKACiiigAooooAKKKKACiiigAooooAKKKZLLHBC8srqkaKWZmOAAOpoAhvryOxtjNIGY5CpGv3nY9FHuah06zkhMl1dlWvZ8GQjkIB0RfYfqcnvUVjFJf3I1O5RkUAi1hYYKKf4yP7zfoOO5rUq37q5UStdTJ8Uf8AIq6r/wBekn/oJryQfdH0r1zxMC3hbVQBk/ZJf/QTXka/dH0ryMw+KJzYndC0UUV55zBRRRQAUUUUAbD+IZRayw21lZ2rSpskkhjwzL3HXjNGm+IZNMtWgisbN96lHd0JZ1PYkHkVj0Vp7Wd73L55XubJ1K1GjXsawRLc3kwOxEwsSDngn1ParE/iyW5CCfStNl8tdq74ido9BzxXPUUe2mtg52bGmeIJNLt2iisbNyylXkdDuZT2JB6VXh1Z7e4ubiC3hilmUqhQECIHrtHY471n0UvaSslfYXMzVtNeuLOyS3SKFmj3+TKwO6PeMNjnH51lUUVLk2rMTbYUUUUhBRRRQAVDdf8AHpN/uH+VTVDdf8ekv+4aFuNHucP+oj/3R/Kn02IFYkB6hQKdX0h6YUUUUAZ0ujwiVprKR7KdjlmgwFY/7SH5T9cZ96Z9tvrLi/tfOiH/AC8Wilv++o/vD8N1alFXz/zak8vYhtru3vYRLbTJLH03I2cH09jUVzpdhePvuLSJ5B0k24cfRhyKZc6TbXExnUPBc/8APeBtj/j2YezAiofO1Sx/18Qv4R/y0gASUfVDw34EfSml1gwf95C/2VND/wAeep3UQ7JKRMv/AI983/j1Hm6xb/6y2trtf70DmJv++WyP/HqtWmoWt8G+zzBmT76EFXQ+jKeR+IqzScmtJIEl0Mz+3LWPi8juLM9zcREKP+BjK/rV+C4huYxJBNHKh6NGwYfmKkqjPo2nTyGVrVEmP/LWLMb/APfS4P60e4/IPeL1FZn9nXsH/Hpqk2OyXKCZfz4b/wAeo+1arb/6/T47hf71rKAx/wCAvj/0I0cl9mHN3Rp0VmjXbFSFuXks29LqMxj8GPyn8DWgkiSoHjdXU9GU5BpOLW6GmnsOoooqRhRRRQAUUUUAFFFFABRRRQAUUUUAFFFFABXmHjr/AJGw/wDXpH/6E9en15p49iePxNFKwwk1qoQ+pVmyP/Hh+dcmN/gsxr/Ac1To3MciuOqkEZptFeMcRNdXL3V5NdMAryyNIQvQEnPFaFzqoXVpb2AJItzH++idTglgNynp35yPasmiqU2h3Zfl1NmECQ28UEMMnmrGm4gtxySSSelJNqcs8NzFIiMk0pmGc/u2J5K/XpVGijnkHMx7yM6IpxhBgfmT/WnrcEXCTPHHJtCjY4+UgDHP4CoaKm7EaY1qWEwC0t4baOKQy7F3MGYjHO4knjjHvTTq5TyVt7WGCOOZZyiFjvYdMkknHXj3rOoq/aS7j5maNxqrXMMkK28FuJ3DzPGG+cjp1JwOc4FR6rcx3WoO8JPkoFjjyMfKoCg/pmqVFJzbVmDk2Tve3ciFHupmU9Q0hINSafe/2fdJcC3jlkRgyeYW+UjvwR+tVKKSk73Fd7l2LUTb3zXcFvFG5VgoBYhCRjcMknPNR28lvHa3XmR75nUJECOF5yW+uBj8arUUczC5pXOrJdW0cL6fbDy4/LjZWkG33A3Yz36c01dUEUDpb2cEMskZjeVSxYqeDgEkDP0rPop88tx8zLkOpS24tRCqqIJPNx13vnq34cf/AK6ju7s3RiAiSKOJNiImSAMk9znqTVeilzO1hXYVLZ/8hOw/6+4f/Q1qKrOmxPca3psMYy7XUZwPRWDE/gATVU/jQ4/Ej2eiiivoT0gooooAKKKKACiiigAooooAKKKKACiiigAooooAKKKKACiiigAooooAKKKKACiiigAooooAKKKKACiiigAooooAKKKKACiiigAooooAKKKKACiiigAooooAKKKKACiiigAooooAKKKKACiiigAooooAKKKKACiiigAooooAKKKKACiiigAooooAKKKKACiiigAooooAKKKKACiiigAooooAKKKKACiiigAooooAKKKKACsj/kN3frptu/4XEgP6op/Mj0HL76WS+uTpls7IAAbqZTgxqf4Af7zfoOfStGKKOCFIokVI0UKqqMAAdBVr3VfqTv6D6KKKgoZNClxBJDKu6ORSjD1BGDXjWoadPo+oSWFzncnMbn/lonZh/X0Ne0VR1TR7HWbYQX0AkUHKMDhkPqCORXPiKHto+aM6tPnR47RXaz/Dlt/+i6uyp2WaAOfzBH8qi/4V1d/9BiH/AMBT/wDF15rwdbscvsJ9jj6K7D/hXV3/ANBiH/wFP/xdH/Curv8A6DEP/gKf/i6X1Ot2D2M+xx9Fdh/wrq7/AOgxD/4Cn/4uj/hXV3/0GIf/AAFP/wAXR9Trdg9jPscfRXYf8K6u/wDoMQ/+Ap/+Lo/4V1d/9BiH/wABT/8AF0fU63YPYz7HH0V2H/Curv8A6DEP/gKf/i6P+FdXf/QYh/8AAU//ABdH1Ot2D2M+xx9Fdh/wrq7/AOgxD/4Cn/4uj/hXV3/0GIf/AAFP/wAXR9Trdg9jPscfRXYf8K6u/wDoMQ/+Ap/+Lo/4V1d/9BiH/wABT/8AF0fU63YPYz7HH0V2H/Curv8A6DEP/gKf/i6P+FdXf/QYh/8AAU//ABdH1Ot2D2M+xx9Fdh/wrq7/AOgxD/4Cn/4uj/hXV3/0GIf/AAFP/wAXR9Trdg9jPscfWhoWlPrWsw2qrmFGElw3ZUBzj6nGPz9K6a3+HJ3g3WrMyd1hgCH8yT/Kuu03S7PSLQW1lCI485POSx9STyTW9DBS5rz2Lp0He8i5RRRXqHWFFFFABRRRQAUUUUAVLvTbS+KtNF+9T7kqErIn0Yciq2zVbD7jDUYB/C+EmA9j91vx2/WtSiqU2tHqJxRStdUtbuUwqzRXAGTBMuyQfgeo9xkVdqC6sra+iEdzAkqg5G4cqfUHqD7iqX2TUbHmzuRdRD/lhdMdw/3ZOv8A30D9RTtF7aCu1ualFZ8Gr27zLb3KyWdy3AiuBt3H/Zb7rfgTWhUuLW4009hCAQQQCD1BrPfQ9OZzJHb/AGeQ8l7ZjExPvtIz+NaNFCk1swaT3Mz7FqUH/HtqfmL/AHLuIP8A+PLtP55o+3ajB/x86WZB/ftJQ/8A4620/lmtOiq5+6Fy9jOj1zTmcRyXH2eQ8CO5UxMfoGAz+FaIIIBByD3FNkjSVCkiK6HqrDINZ50KxUlrZZLNvW1kMY/75Hyn8RR7j8g940qKzPs2rW/+pv4rlf7t1Fhj/wACTA/8dNH9o3kH/H3pcwHd7ZxMv5cN/wCO0cnZ3Dm7mnRVGDWdOuJBEl0izH/llLmN/wDvlsH9KvVLTW4009gooopDCiiigAooooAKo6rpFlrVp9mvYt6g7lYHDIfUHsavVk694gtNAtkecNJLKSIoU+85HX6AdzUzcVF82wna2phn4c6fnjUdQA92jP8A7JR/wrqw/wCglf8A5x//ABFUT8RronjR4gPe6P8A8RR/wsW7/wCgPD/4FH/4iuLnwnkYXol7/hXVh/0Er/8AOP8A+Io/4V1Yf9BK/wDzj/8AiKo/8LFu/wDoDw/+BR/+Io/4WLd/9AeH/wACj/8AEUc+E8gvRL3/AArqw/6CV/8AnH/8RR/wrqw/6CV/+cf/AMRVH/hYt3/0B4f/AAKP/wARR/wsW7/6A8P/AIFH/wCIo58J5BeiXv8AhXVh/wBBK/8Azj/+Io/4V1Yf9BK//OP/AOIqj/wsW7/6A8P/AIFH/wCIo/4WLd/9AeH/AMCj/wDEUc+E8gvRL3/CurD/AKCV/wDnH/8AEUf8K6sP+glf/nH/APEVR/4WLd/9AeH/AMCj/wDEUf8ACxbv/oDw/wDgUf8A4ijnwnkF6Je/4V1Yf9BK/wDzj/8AiKP+FdWH/QSv/wA4/wD4iqP/AAsW7/6A8P8A4FH/AOIo/wCFi3f/AEB4f/Ao/wDxFHPhPIL0S9/wrqw/6CV/+cf/AMRR/wAK6sP+glf/AJx//EVR/wCFi3f/AEB4f/Ao/wDxFH/Cxbv/AKA8P/gUf/iKOfCeQXol7/hXVh/0Er/84/8A4ij/AIV1Yf8AQSv/AM4//iKo/wDCxbv/AKA8P/gUf/iKP+Fi3f8A0B4f/Ao//EUc+E8gvRL3/CurD/oJX/5x/wDxFH/CurD/AKCV/wDnH/8AEVR/4WLd/wDQHh/8Cj/8RR/wsW7/AOgPD/4FH/4ijnwnkF6Je/4V1Yf9BK//ADj/APiKP+FdWH/QSv8A84//AIiqP/Cxbv8A6A8P/gUf/iKP+Fi3f/QHh/8AAo//ABFHPhPIL0S9/wAK5sP+glf/AJx//EVsaL4W07Q5GmgEktww2madtzAegwAAPoK5n/hYt3/0B4f/AAKP/wARW1oHjK21m6FnPbtaXbAlFL7lkx1w2Bz7EVpSlhub3LXKi6V/dOmooorrNgooooAKKKKACiiigAooooAKKKKACiiigAooooAKKKKACiiigAooooAKKKKACiiigAooooAKKKKACiiigAooooAKKKKACiiigAooooAKKKKACiiigAooooAKKKKACiiigAooooAKKKKACiiigAooooAKKKKACiiigAooooAKKKKACiiigAooooAKKKKACiiigAooooAKKKKACiiigAooooAKKKKACiiigAooooAKoajeSQ+Xa2gVr2fIjB6IB1dvYfqcDvU19ex2FsZXVnYkLHGv3pGPRR7motOspIPMubple9nwZWHRQOiL/sj9Tk96uKSXMyW76IlsbKOxthDGWY5LPI33pGPVj7mrNFFS227spKwUUUUgCiiigAooooAKKKKACiiigAooooAKKKKACiiigAooooAKKKKACiiigAooooAKKKKACiiigAooooAKKKKACiiigAooooAjnghuYWhniSWNuGR1DA/gaz/7NubPnTbsqg/5drkl4/wP3l/Mj2rUoqlJoTSZmLrCQsI9ShaxcnAdzuiY+zjj8Dg+1aYIIBByD3pGVXUqwDKRggjINZp0f7MS+l3DWZ6+VjfCf+Adv+AkU/dfkLVeZp0Vl/2rNZ8apamFR/y8RZki/E4yv4jHvWjFLHPEssUiyRsMqyHII9jScWtxppj6KKKkYUUUUARz28F1GY7iGOVD1WRQw/I1Q/sO2i5s5bmzPYQSkKP+AHK/pWnRVKTWzE0mZnlaxb/6u5tbtf7syGJv++lyP/HaP7Vmh/4/NMu4h3eJRMv/AI7lvzUVp0U+ZPdCt2ZUtdUsLx9lvdxPIOse7Dj6qeRVuoLqxtL1Nt1bQzqOgkQNj86p/wBjJFzZ3l5a/wCysu9f++X3Afhii0X5f1/XQNTTorMxrVv0NneL77oW/wDZgT+VH9sCH/j9sby2/wBry/MX80zgfXFHI+mocy6mnXmXjt2bxUqk8JaJtHplnz/IV3r67pSWjXRv4DCrBWZXDbSSAMgdOTXn/jd1k8Uh0YMjWcRDKcgjc9ceOi1Rd0ZVmnDQ5+iiivEOIKK0LvRbuzSZn8pvJIEojlVjHk45A5HNMOl3BuobaMB5pIhIVHGwEZ5J6cYP41ThJaNFcrKVFXJtNlhVWEtvKGcJ+6mVsE9Mj+vSi802Wx3CWW3Lq2xkSUMwPuBRyS7BZlOip0tlMavLOkQf7oYEk+/A6UJZzy3i2kabpmbaFB6n6+nvS5WKxBRVi6s2tCuZYJA2cGKQPjHrjpTbO2a8vIbZCFeVwgLdAScUcrvYLO9iGinqg84IzBRuwW7D3p91bvaXctvLjfExU46cUrO1wIaKKt2Gm3WpSmO2QHHVmIAHpye/HShJt2QJX2KlFWLWze7LbZYIwuMtLIEGT069elMubaW0uZLedNssZ2sKfK7XCz3IqKvy6PdQwSSMYi0ah5IhIC6KcYJH4j86jm026t7GO7lQLFI21ckbuRkHHYYpuEl0HysqUVcm0u6gWMlVYuwTajZIYgEKR681XnhNvO8LMrMh2kocjP1pOLW4mmiOp7B2j1fTnU4ZbuHB/wCBgfyNQVLZ/wDITsP+vuH/ANDWnT+NDjuj2uiiivoj0gooooAKKKKACiiigAooooAKKKKACiiigAooooAKKKKACiiigAooooAKKKKACiiigAooooAKKKKACiiigAooooAKKKKACiiigAooooAKKKKACiiigAooooAKKKKACiiigAooooAKKKKACiiigAooooAKKKKACiiigAooooAKKKKACiiigAooooAKKKKACiiigAooooAKKKKACiiigAooooAKKKKACiiigApk00dvC80zqkaKWZmOAAO9PrIH/E7uw3XTbd/l9LiQHr7qp/Mj0HNRV9XsJuw+xhkvbkandIycEWsLDmND/ER/eb9Bx651KKKUpXYJWCiiikMKKKKACiiigAooooAKKKKACiiigAooooAKKKKACiiigAooooAKKKKACiiigAooooAKKKKACiiigAooooAKKKKACiiigAooooAKKKKACiiigArOl0eEStNZSPZTscs0GArH/aQ/KfrjPvWjRTUmthNJmX9tvrLi/tfOiH/LxaKW/wC+o/vD8N1Xra7t72ES20ySx9NyNnB9PY1NVG50m2uJjOoeC5/57wNsf8ezD2YEVV4vfQVmi9RWX52qWP8Ar4hfwj/lpAAko+qHhvwI+lW7TULW+DfZ5gzJ99CCrofRlPI/EUnBrXoNSRZoooqRhRRRQAUUUUAFFFFAGTrfh2w16FI7tWXa4ffHgMcA8E4PHPT2Fed+J9NttJ8QC1tA4iFqjYdyxyWfPXpXrVeYeOv+RsP/AF6R/wDoT1z46cnQ5b6GFeK5b9TnqKKK8M4jodev4odR1SC3tysk8m2WVpN2QCDhRgYyQPWppir65q1sHVJLm3CQMxwD9xgue2VGK5ipri5kufLMmCY4xGDjkgdM/hx+Fbe2u23/AFv/AJmnObMmnra6fBLcWRtboXMaAs5zIuDk4J9QOlM8RW863t1K2mrBGbh8Tjf+8yTjOWI568AVh0VLqJq1v6+4TkrWsT3BBhtcHpEc/wDfbVaje4GsQvZEG4UIU5HJCjjn+VZ1FSpE3OpS0t0vbOee0js7yTzR9mY/IWC/I20/dBY4weOKdbfaRPpf9pgrefb08vzBh/L4znvjOMfjXKUVoqyWyL5/I6HURdf2POdRVQ/2hfsvAHy4bdtx/D93pxVLXSBrb56hIg/GfmCLnj65rNR/LkV8A7SDgjg06eaS5uJJ5W3SSMWY+pNTKpzL+vMTldGpe3VrJaSJHNAznGAtgkZ6/wB4dKPDNvNNrVvJHGzRxvl2A4Xg4zWPRQqnvKTWwc2tzUsLC7ju5A2lfa3jwHhfdlc8g4BB/Pin61bPLq1/NE5lSPa8rlgdhbAxx1wTjj0rIqRZ5Ft3gVsRuwZgB1Izj+Zpcy5eWwrq1jq9Rjb7LfI8JjRYFA1Dj/SduMKexzx054Gc1mGwux4V3G3kx9o83O3+DZ976Vh0Vcqqk72Kc7nT2d08otxchI5rpvk2fKxGNu8k9GONo+pPpWLqdqlrcRqiPEWjV3ic5aNj2P8AP8apUVMqnMrMTldWCpbP/kJ2H/X3D/6GtRVLZ/8AITsP+vuH/wBDWpp/GhR3R7XRRRX0R6QUUUUAFFFFABRRRQAUUUUAFFFFABRRRQAUUUUAFFFFABRRRQAUUUUAFFFFABRRRQAUUUUAFFFFABRRRQAUUUUAFFFFABRRRQAUUUUAFFFFABRRRQAUUUUAFFFFABRRRQAUUUUAFFFFABRRRQAUUUUAFFFFABRRRQAUUUUAFFFFABRRRQAUUUUAFFFFABRRRQAUUUUAFFFFABRRRQAUUUUAFFFFABRRVDUbySIx2lpta9nzsyMiNe7t7D9TgU0ruyE3YhvZH1C6bTLZ2VFAN3MpwUU9EB/vN+g56kVpxRpDEkUSKkaAKqqMAAdAKhsrOOxtVgjLNyWZ2OWdj1YnuSasU5NbLYEurCiiipGFFFFABRRRQAUUUUAFFFFABRRRQAUUUUAFFFFABRRRQAUUUUAFFFFABRRRQAUUUUAFFFFABRRRQAUUUUAFFFFABRRRQAUUUUAFFFFABRRRQAUUUUAFFFFABRRRQAVUu9NtL4q00X71PuSoSsifRhyKt0U02tUDV9zL2arYfcYajAP4XwkwHsfut+O361Pa6pa3cphVmiuAMmCZdkg/A9R7jIq7UF1ZW19EI7mBJVByNw5U+oPUH3FVzJ7omzWxPRWX9k1Gx5s7kXUQ/wCWF0x3D/dk6/8AfQP1FSQavbvMtvcrJZ3LcCK4G3cf9lvut+BNHI91qHN3NCiiioKCiiigArg/HmjXL3cOrW8TyxiLyp1QZKgEkNjuOTn04rvKa7rGjO7BVUZLMcACs6tNVIuLJnFSVmeF/arf/nsn4tS/arf/AJ7R/wDfQr19vEXh8Md2radnv+/T/Gm/8JF4e/6Cunf9/k/xrz/qMf5zn9gu55F9qt/+e0f/AH0KPtVv/wA9o/8AvoV67/wkXh7/AKCunf8Af5P8aP8AhIvD3/QV07/v8n+NH1GP84vYLueRfarf/ntH/wB9Cj7Vb/8APaP/AL6Feu/8JF4e/wCgrp3/AH+T/Gj/AISLw9/0FdO/7/J/jR9Rj/OHsF3PIvtVv/z2j/76FH2q3/57R/8AfQr13/hIvD3/AEFdO/7/ACf40f8ACReHv+grp3/f5P8AGj6jH+cPYLueRfarf/ntH/30KPtVv/z2j/76Feu/8JF4e/6Cunf9/k/xo/4SLw9/0FdO/wC/yf40fUY/zh7BdzyL7Vb/APPaP/voUfarf/ntH/30K9d/4SLw9/0FdO/7/J/jR/wkXh7/AKCunf8Af5P8aPqMf5w9gu55F9qt/wDntH/30KPtVv8A89o/++hXrv8AwkXh7/oK6d/3+T/Gj/hIvD3/AEFdO/7/ACf40fUY/wA4ewXc8i+1W/8Az2j/AO+hR9qt/wDntH/30K9d/wCEi8Pf9BXTv+/yf40f8JF4e/6Cunf9/k/xo+ox/nD2C7nkX2q3/wCe0f8A30KPtVv/AM9o/wDvoV67/wAJF4e/6Cunf9/k/wAaP+Ei8Pf9BXTv+/yf40fUY/zh7BdzyL7Vb/8APaP/AL6FH2q3/wCe0f8A30K9d/4SLw9/0FdO/wC/yf40f8JF4e/6Cunf9/k/xo+ox/nD2C7nkP2q3/57R/8AfQrd8L6TPrGr2s0cbfY7eVZpJiMKSpyFB7kkD6CvQf8AhIvD3/QV07/v8n+NaVrd217CJbS4ini6bonDD8xWlPBQUk+a5UaCTvcmooor0DpCiiigAooooAKKKKACiiigAooooAKKKKACiiigAooooAKKKKACiiigAooooAKKKKACiiigAooooAKKKKACiiigAooooAKKKKACiiigAooooAKKKKACiiigAooooAKKKKACiiigAooooAKKKKACiiigAooooAKKKKACiiigAooooAKKKKACiiigAooooAKKKKACiiigAooooAKKKKACiiigAooqOeaK2geeZwkUalmZugAoAiv71LG281lLuxCRxL96Rz0Uf545PaotOsntxJcXLCS9nwZXHQeiL/sjt+J6mobCGW7uf7Tu0KMQRbQt1iQ9yP7zd/QYHrnUq37q5UStdQoooqCgooooAKKKKACiiigAooooAKKKKACiiigAooooAKKKKACiiigAooooAKKKKACiiigAooooAKKKKACiiigAooooAKKKKACiiigAooooAKKKKACiiigAooooAKKKKACiiigAooooAKKKKACo54IbmFoZ4kljbhkdQwP4GpKKAMv+zbmz5027KoP+Xa5JeP8AA/eX8yPalXWEhYR6lC1i5OA7ndEx9nHH4HB9q06RlV1KsAykYIIyDV81/iJ5bbCgggEHIPeisw6P9mJfS7hrM9fKxvhP/AO3/ASKT+1ZrPjVLUwqP+XiLMkX4nGV/EY96OS/w6hzW3NSvO/iBfyy6pBpm4i2SETOo6OxJAz642/rXoMUsc8SyxSLJGwyrIcgj2NeZ+Ov+RsP/XpH/wChPXFjG1SdiKz9zQ53aB0AowPQUtFeKcAmB6CjA9BS0UAJgegowPQUtFACYHoKMD0FLRQAmB6CjA9BS0UAJgegowPQUtFACYHoKMD0FLRQAmB6CjA9BS0UAJgegowPQUtFACYHoKMD0FLRQAmB6CtHw/fS6Xr1nLCSqzTJDMo6OrHHI9s5FZ9S2f8AyE7D/r7h/wDQ1q6TammioO0ke10UUV9CekFFFFABRRRQAUUUUAFFFFABRRRQAUUUUAFFFFABRRRQAUUUUAFFFFABRRRQAUUUUAFFFFABRRRQAUUUUAFFFFABRRRQAUUUUAFFFFABRRRQAUUUUAFFFFABRRRQAUUUUAFFFFABRRRQAUUUUAFFFFABRRRQAUUUUAFFFFABRRRQAUUUUAFFFFABRRRQAUUUUAFFFIzKiF3YKqjJJOABQAtFZR8TaECQdYsMj/p4X/Gj/hJ9B/6DNh/4EL/jU88e4ro1aKyv+En0H/oM2H/gQv8AjR/wk+g/9Bmw/wDAhf8AGjnj3C6NWiqtnqdhqO77Fe29xt+95UgbH1xVqqTvsMKyE/4nd2JDzp1u+UHaeQH73uqnp6nnsMuvZH1K6bTLdisS4+1yqcEA/wDLMH+8R19B7kVpxxpFGscahEQBVVRgADoBV/Cr9Sd/QdRRRUFBRRRQAUUUUAFFFFABRRRQAUUUUAFFFFABRRRQAUUUUAFFFFABRRRQAUUUUAFFFFABRRRQAUUUUAFFFFABRRRQAUUUUAFFFFABRRRQAUUUUAFFFFABRRRQAUUUUAFFFFABRRRQAUUUUAFFFFABRRRQAUUUUAFFFFAHO67oN1Nb79BljsbxpA0jiRo1YDnkKCCc45I6ZrhvEw1FddVdUNu10tpGGa3JKsNz88gYNet15h46/wCRsP8A16R/+hPWGOqN4flZz1opRbRz1anh+MS6mRsjdhBKyiQAruCEgnPHX1rLqxZ3b2crSIqsWjeMhvRlKn+deJBpSTZyxdmb8ccL6hppmS2+2RiWadYNu0hBuTO35c8Hp7VBYljobXAms453u2DSXMSuWG0HAyp7msvS7pLPU4J5ATECVkx12sCD+hNSw6jFb2rWclpDdwiUyKzs684AzwR2HetlUW/9dC1JF6wYXNiIrP7Gb8yOZYpolzMDjAQkYHfgYrJtS0QuXGVkjjyp7qdyj88E1YttUjtWWSPT7bzo2LRSEvlDnI43YOO2apCZx5uTkyjDE/UH+YqJSVkS3sTTSPcWaySsXkWQrvY5JGOmf89a1MC50dF08WrCOA/aYWiXzdwzlwSMkfQ8elYnmN5Plcbd278auxaoIISIbKCOcxmIzjduwRgnGcZI74pRkr6gn3LKaPbmZLJriQXzxCQAIPLBK7gpOc9Mc+pqy1laXqaPbyTyR3E1sEj2oCoPmPgsc9zxxVAa1IAsn2aH7UsXlLc/NuC429M4zjjOKdDrbwpbf6JbtNbJthmYNuXknPXB68ZrRSpr+v61KTiQ6O3la1bI4yryCKRfVW+Vh+RNQi2X7e1s8hUK7KWClumewp+lzxW+pwXNwTsibzemdxHIH4kAVXE8qzmdJGSUknepwcmsrrlXqRpYsXlnFbIrJcNIScYMLJj86r28xt5llVI3K9FkUMPyPWnTXdzcKFnuJZQDkB3LY/On2F39hvY7nyY5jGchZM4z68Urrm00DS5tTSW0Wo6W17HBHcCMtdARAKM52blAxnGM8Vn6qk7RQXLyWksDFlSS1iCDIxkEbVOeR1FRzahBNcrN/Z0AOWMgMkjeZn1JbP5VKmpQST2yTW0cdlAzSCCPJ3tjuSSTnAHsK1clK6v/AFoU2noTaBNuuFhlgtms0Be5eSJSdn+8eR7Y70/TJYzYLBbzWMV09w3F1AHLKQoUBipA53dxVW31aOGwNnJp8EsZfexLOpY9s7WGcdqjttQhtmDjT7d5FffGzM/y85Axuwce/wCtEZpJK/5gpWsaFlFC0D2MiwrdZmSSN4/m34G0hsYAUgk8jgGqmq2rwxxeXEFtYwFV8jc5IzuYA5GeoB7YqqL+Xbck4M1yf3kvfBOSB9T1+lSXWpyXVuImijTJRnZc5cqu0E5PHBPT1pOcXGwNpoo1LZ/8hOw/6+4f/Q1qKpbP/kJ2H/X3D/6GtZ0/jRMd0e10UUV9EekFFFFABRRRQAUUUUAFFFFABRRRQAUUUUAFFFFABRRRQAUUUUAFFFFABRRRQAUUUUAFFFFABRRRQAUUUUAFFFFABRRRQAUUUUAFFFFABRRRQAUUUUAFFFFABRRRQAUUUUAFFFFABRRRQAUUUUAFFFFABRRRQAUUUUAFFFFABRRRQAUUUUAFFFFABRRRQAUUUUAFcJ8RrmXOn2IYi3lEkkig/fK7cA+3JOPpXd1598Rf+Qjpf/XKb+aVz4ptUZWM63wM48KoGAAB9KMD0FLRXhnAJgegowPQUtFAi1pFxJZa9p9xAdr/AGhI2x/ErMFIP4GvV9RvJUaOzs8G9nB2kjIiXu7ew7DucD1x4+kvkXVrNt3eXcRPjIGcOD1PSvYtOsntlkmuGEl5OQ0zjp7Kv+yOg/E9Sa9jLtKbk+51UG2miWys4rG1WCLJAyWZjlnY8lie5J5qxRRXa3d3Z1bBRRRSAKKKKACiiigAooooAKKKKACiiigAooooAKKKKACiiigAooooAKKKKACiiigAooooAKKKKACiiigAooooAKKKKACiiigAooooAKKKKACiiigAooooAKKKKACiiigAooooAKKKKACiiigAooooAKKKKACiiigAooooAK8z8exNH4nikI+SW0UKfUqzZH6j869MrM1vQ7XXbMQXO5WQ7opU+8h9v6iscRTdSm4oipHmjY8iorsW+HV1uO3WIsds2p/+LpP+FdXf/QYh/wDAU/8AxdeV9Trdjk9jPscfRXYf8K6u/wDoMQ/+Ap/+Lo/4V1d/9BiH/wABT/8AF0fU63YPYz7HH0V2H/Curv8A6DEP/gKf/i6P+FdXf/QYh/8AAU//ABdH1Ot2D2M+xx9Fdh/wrq7/AOgxD/4Cn/4uj/hXV3/0GIf/AAFP/wAXR9Trdg9jPscfRXYf8K6u/wDoMQ/+Ap/+Lo/4V1d/9BiH/wABT/8AF0fU63YPYz7HH0V2H/Curv8A6DEP/gKf/i6P+FdXf/QYh/8AAU//ABdH1Ot2D2M+xx9Fdh/wrq7/AOgxD/4Cn/4uj/hXV3/0GIf/AAFP/wAXR9Trdg9jPscfRXYf8K6u/wDoMQ/+Ap/+Lo/4V1d/9BiH/wABT/8AF0fU63YPYz7HH0V2H/Curv8A6DEP/gKf/i6P+FdXf/QYh/8AAU//ABdH1Ot2D2M+xx9Fdh/wrq7/AOgxD/4Cn/4uj/hXV3/0GIf/AAFP/wAXR9Trdg9jPscfVjTYmn1rTYUGWa7iOPYMGJ/AAmuo/wCFdXf/AEGIf/AU/wDxdb3h/wAJW2iTG6eY3N2RtEhXaqDvtXJxn1ya0pYOpzpy0RUKMr6nRUUUV652BRRRQAUUUUAFFFFABRRRQAUUUUAFFFFABRRRQAUUUUAFFFFABRRRQAUUUUAFFFFABRRRQAUUUUAFFFFABRRRQAUUUUAFFFFABRRRQAUUUUAFFFFABRRRQAUUUUAFFFFABRRRQAUUUUAFFFFABRRRQAUUUUAFFFFABRRRQAUUUUAFFFFABRRRQAUUUUAFFFFABXn3xF/5COl/9cpv5pXoNcn430K71SG1u7JPNmtt4aIHBdWxnGe42jisMTFypNIzqpuDSPO6KnNjqCnDaZqAI7G1k/wpPsV//wBA2/8A/AWT/CvE9nPscPK+xDRU32K//wCgbf8A/gLJ/hR9iv8A/oG3/wD4Cyf4Uezn2DlfYZbost/ZRuoZGuolZT0ILjivWtMke1mfSp2LPCu6B2PMkXQc9yvQ/ge9ef8Ah7w5qN/qttLLaTW1rBKsryToULbTkKoPJyR1r0XU7SS4hSW2IW8t28yBj0J7qfZhwfz7V6+XxcYNS0udNGLSuXqKr2V3HfWiXEYIDcMrdUYcFT7g5H4VYrsas7M6VqFFFFIAooooAKKKKACiiigAooooAKKKKACiiigAooooAKKKKACiiigAooooAKKKKACiiigAooooAKKKKACiiigAooooAKKKKACiiigAooooAKKKKACiiigAooooAKKKKACiiigAooooAKKKKACiiigAooooAKKKKACiiigAooooAKKKKACiiigAooooAKKKKACiiigAooooAKKKKACiiigAooooAKKKKACiiigAooooAKKKKACiiigAooooAKKKKACiiigAooooAKKKKACiiigAooooAKKKKACiiigAooooAKKKKACiiigAooooAKKKKACiiigAooooAKKKKACiiigAooooAKKKKACiiigAooooAKKKKACiiigAooooAKKKKACiiigAooooAKKKKACiiigAooooAKKKKACiiigAooooAKKKKACiiigAooooAKKKKAMmf/iVal9pHFndsFnHaOTor/Q8KffafWtao54I7mCSCZA8UilWU9CDVHS55I3k026cvcW4BSRussR+6317H3Ge4q37yv1ROzNKiiioKCiiigAooooAKKKKACiiigAooooAKKKKACiiigAooooAKKKKACiiigAooooAKKKKACiiigAooooAKKKKACiiigAooooAKKKKACiiigAooooAKKKKACiiigAooooAKKKKACiiigAooooAKKKKACiiigAooooAKKKKACiiqOq6vZaNafaL2XYpO1VAyzn0A70m0ldg3YvUVxx+Iun5407UCPXbGP8A2ek/4WLYf9A2/wDyj/8Ai6y+sUv5iPaQ7nZUVxv/AAsWw/6Bt/8AlH/8XR/wsWw/6Bt/+Uf/AMXR9YpfzB7SHc7KiuN/4WLYf9A2/wDyj/8Ai6P+Fi2H/QNv/wAo/wD4uj6xS/mD2kO52VFcb/wsWw/6Bt/+Uf8A8XR/wsWw/wCgbf8A5R//ABdH1il/MHtIdzsqK43/AIWLYf8AQNv/AMo//i6P+Fi2H/QNv/yj/wDi6PrFL+YPaQ7nZUVxv/CxbD/oG3/5R/8AxdH/AAsWw/6Bt/8AlH/8XR9YpfzB7SHc7KiuN/4WLYf9A2//ACj/APi6P+Fi2H/QNv8A8o//AIuj6xS/mD2kO52VFcb/AMLFsP8AoG3/AOUf/wAXR/wsWw/6Bt/+Uf8A8XR9YpfzB7SHc7KiuN/4WLYf9A2//KP/AOLo/wCFi2H/AEDb/wDKP/4uj6xS/mD2kO52VFcb/wALFsP+gbf/AJR//F0f8LFsP+gbf/lH/wDF0fWKX8we0h3Oyorjf+FjWH/QNv8A8o//AIutjRfFGna47RQGSK4UbjDMu1iPUYJB/A041qcnZMFOL0TNqiiitSwooooAKKKKACiiigAooooAKKKKACiiigAooooAKKKKACiiigAooooAKKKKACiiigAooooAKKKKACiiigAooooAKKKKACiiigAooooAKKKKACiiigAooooAKKKKACiiigAooooAKKKKACiiigAooooAKKKKACiiigAooooAKKKKACiiigAooooAKKKKACiiigAooooAKKKKACiiigAooooAKoanayyJHdWoH2y2JaME43g/eQ+xH5EA9qv0U07O4mrohtLqK9tY7mEkxyDIyMEeoI7EHgipqyW/4lWqbullevhvSOY9D9G6f72P71a1OStqtgT7hRRRUjCiiigAooooAKKKKACiiigAooooAKKKKACiiigAooooAKKKKACiiigAooooAKKKKACiiigAooooAKKKKACiiigAooooAKKKKACiiigAooooAKKKKACiiigAooooAKKKKACiiigAooooAKKKKACiiigAooooAK808ezPJ4miiY/JFaqVHoWZsn/x0flXpdeYeOv+RsP/AF6R/wDoT1yY3+CzGv8AAc9RRRXjHCFFXLfSr+6g863tZZIySAVGckdcetQx2sskM8oXCQAbyeMZOAPr/gafK+w7MhoqWS2mimWF42WRgpCnqcjI/mKfHY3U14bOOB2uASpjA5BHX+VFnsFmV6KCCCQRgirIsZiufk3Fdwj3jdjr0/p1pJN7BYrUVLbW013OIbeNpJGyQq+3NPurK5smVbmIxlhkA96dna4We5XoqWC2luTIIlB8uNpG5xhR1pZ7aS3WFnA2yoJEIOcjJH8wRSs7XCxDRRSgEkADJPQCgQlFWrnTb2zjWS5tpI0Y4BYd/Q+h9qit7aa7mWG3ieWRuioMmnytO1h2exFRVi3sLq7uGt4IGklUEso6jHBp76Zex3X2Z7dxNt3bPb1+lHLLewWZUoqf7HcebLEYmDwqWkB42gdc1BSs0AVZ02V7fWtNmjOHW6jGR6MwUj8QSKrVLZ/8hOw/6+4f/Q1q6fxocfiR7XRRRX0J6QUjMqDLMFHqTilrzr4nDTG1fwius232rTzfTedD9nafd+4fHyKCW5x0HvQB6G7rGjO7BUUZZicAD1qKC8trm1huobiOS3mQPFIrAq6kZBB7givIbmG60zwN4wawtbvTdE1C5t7XTLa4Ro2jSUpFMyo3KKxYkA46dBmtXx5Y2J8beE7Sbw62s2kdldqljEkbYA8oAgOyjj60AenGRBGZC67ByWzx+dKCGAIIIPIIrzfX/DbS6J4fn03woG0qxnknvPDr+WhkDKQG2glGZTltpPOfWun8FXeg3egZ8PWzWdpHO8clo8Zja3lzl0ZD90jPQcc8UAaE/iDSba6a2mvoUlQhXyflQnoGbop5HBI6itKsfw5FHL4UsBIiuLi3EkwYZDtINzk+uSxJ+tZkrs/wmd3Ys7aGSWJySfI65oA6hZY3OFdWPoDmn15f8PYNHg0OyutO8Ivp2qJpKv8A2ld2iwwyt5a5JkBJwx5zjpk1peHPGt1feL4tFn1TRdViuLWSdJ9MR0ELIygqcuwYENwQR0PFAHZRatp1wbUQ39tL9rDG3KSqwmC/e24PzY74q5Xj9gxtPhD4N1ZOJtP1G3kUjqVeYxOv4rIRXqUEmpHV7uOeC3XTlSM20quTI7HO8MOgA4xQBdLKpALAE9AT1pa8u8aJoMnxSsF8Q6c2oWn9iS+XCtnJcnzPOTBCopI43DPTnrzTdM1DxL4X8KaNaWtkom1PWZbazttTdi1tauJHiDkHOVCgkcnHHB6AHqdQz3VvbNCs9xFE07+XEJHCmR8E7Vz1OATgehrkDrHim71tvD1lNpKX1laJcX97JbyNGWdmCIkYcEcISSWNc7rPiDVNd0/wzKlpaprNp4maxljLt5HnRxzKWBxnZjDY69vegD1ekZlRSzMFUDJJOABXGWPiLXIdR1zRdWfSf7QsrSO8t7tQ8Nu0b7hmQEsV2lTnnkelZ2j+MrnVdV1PRJ9R0nVI/wCy3vI7vTY2jVcHaUIZ2z94EEGgD0G3uILu2jubaaOaCVQ8csbBldTyCCOCPeo5r60tozJPdQRIJFiLPIFG9iAFye5JAA9xXmHhbXfEeg+C/B93dx6a2i3ItLEwxq/nxrIAiSl87TzgldvAPU0azdJdaJrYSztrYweL7aJjAhUykSW53vycsd2M8dBxQB6qsiM7KrqWThgDyO/NMa6t0uo7Z54luJFZ0iLgOyjGSB1IGRn6iuCvvFH9g3vja6ttMtDdW11ZQRFAUa5kljjCea2ecF+2OB61HCNfT4raFHrr6dMw028MUtkjxg5aLcpVi2McYOec9BigD0aorm5gs7aS5up44IIxueWVwqqPUk8CvP7LxzfJ4s0vTLjVdA1GO/meCSHTQ++1dUZh85chxlcHhTz07Vi+Mtc8ReIfh34m1K2j01NDBntkhdX+0OkblDLvztB3KTt29O+aAPX+tRS3VvDNDDLPFHLOxWJHcBpCASQo7nAJ47Cs7X9Zj8O+Fr7WJYzItnbNN5YON5A4Ge2TgVw90/iZ/GngZ9e/sxkluZ5F+xI6GJjbSZQ7idwwfvDHQ8UAenUV5W3xPvZYpdWtpdMaxS7MK6Z5MjXcsQk2Fw4baG4LBdp475rufF2vP4b8NXWpxQCedCkUETNgPI7qign0ywz7UAbdFcZZa14nsvGWm6DrQ0qaK8tZ7j7RZxyIcps+XazHGN3XJzkcDHNaDxtqMvw80PxA0Fr9rv7y3glQK2wLJOIyVG7OcdMk80Ad5RXmus/EK+TVdah0660q3j0l/KFveRSPLeSBAzBSrARjkKDhsn2rtf7Xmm8J/wBs2ljLLM9j9qitDw7MY9wj+pOBQBq0V57ZePbiDwVqniO9vtL1H7JCj/ZbKJ4JIJW48qUOzEfMVGSAevFS+H/GOo3XiS00u7utL1FLyCSQSafBJH9mkQA7H3M25SCcNxyOnNAHe0jMqjLEAepNeeWHjm+Hi7S9KuNV0DUo7+WSGSPTVfdauqMw+cuQ4+Ug8Kc/lU/xYSOTQdGjmsmvom1u0D2qhSZxuOUwxA56ckDmgDu1dH+4ytj0OadXApPH4X8Gapqug+DG0e5WRFa3kgT5lyAZWWFmLKoZjgHPynp1p114u1S08IW2p2V5o2t3FzqUFpDLbK8UTrI6rhhvYo4JPc4447UAd5RXHWOva/a+JrnQNZ/suWd9Oa/tLi3V4oxtYKySBix4LKdw7Z4qhoPja7u/GFpo0+q6JqsV5BNIJdLR18h49vykl2DggnBGOQeKAO5F9aF5EF1AWjcRuokGVY9FPoT2FT14vYTXP2DSvGtxoOgJanUvLkWKOT7QxkuShm3lsZDtkKwbHJBHQdP438aah4YmvZodW8PhbWMSppswdrmdcAnJDARk87flIPHPagD0GisjXb/UIPCl5qOjwxS3sdsZ4IplJVyBu2kAg5IyBz1xWXZ+LW1jX9DtNKSJ7S805tSuncEtHG2FiC4OAxYtnOeENAHV0Vy2v63q/wDwkth4d0L7HHdz20l5PcXiNIkUSMqgBVZSSWYdxgDvWLD441xNFvZ7y0sEvLXxDDpLLFvaMozRBmBJBz+8Yj04yDg5APQ6K5XVvFkmkeJr60nijOn2ehyao7KD5hKOQQDnGMD0696wND8falealoouZ9LuoNVbY9rZQyCWyJQspZySHHG1jhcEjFAHoc91b2rQrcXEURmkEUQkcL5jkEhVz1OATgehqauH+JLXajwobCOGS7/t6ERLMxVN3kzcsRzgdeKn0vxBrn2vxFpOqPpX2/S4Yp4rpQ8NuySKxBcEsV2lDnnpjpQB2NFeZ2njrWrq91XTLC90PWbyLSpNQtJrKGRYy6MFMTDzG3Z3DDBhW5b+MpdX1HQYNGS3eK+02TUrlpif3Ue0CMZHQmQ4PB4RuKAOworz7RPG95ceMLDRp9V0PVYr6OY7tLR1+zvGAcFi7BwRkZGORXoNABRRRQAUUUUAFFFFABRRRQAUUUUAFFFFABRRRQAUUUUAFFFFABRRRQAUUUUAFFFFABRRRQAUUUUARXVtFeWslvMu6ORSrD/Peqml3MpElldtuu7bAZv+eqH7r/jjn3BrQrO1S3lBjv7VC11bZ+Qf8tYz95Pxxke4HvVx191kvTU0aKit7iK7to7iFw8UihlYdwalqGrFBRRRQAUUUUAFFFFABRRRQAUUUUAFFFFABRRRQAUUUUAFFFFABRRRQAUUUUAFFFFABRRRQAUUUUAFFFFABRRRQAUUUUAFFFFABRRRQAUUUUAFFFFABRRRQAUUUUAFFFFABRRRQAUUUUAFFFFABRRRQAUVmvrEcjtFp8TX0oOCYziND/tP0/AZPtTf7Nub3nU7osh/5drclI/+BH7zfoPar5LfFoTzdilr3iddMtmNhb/b50kCSJHkiPPAyQCM5wNvB5rhPEkmoS64supxwxXL2kbGKLOEG58Akk5PrXrEUEUESxQxJHGvCoigAfQV5p46/wCRsP8A16R/+hPXLjpR9hypddzGsny3bOeooorwjjOgiNomiaVNdTzR+VPKyrFHuLYKd8jHao725+16LdXaoENxqJZlHYbSQP1NY7TyvDHCzkxxklF7AnGf5CpobwJp1zaOhZZWV0Ofusvf8iR+Vbe0vp5foac3Q09RR38Q2O1SfMjtimB975VHH5VcVGiudY1CGeGGSS6aKCSR9o+/uYj8Ao/GsOHV9QgtxBFdypGAQoB+6D6HqPwqs08rwxws5McZJVewJ6/yFP2sU20HMtzR8QW6w6q8sW0w3KidCpyPm64Pscio/wDmY/8At7/9nqk88ssUUTuWSIEID/CCcn9ab5j+b5u9vM3bt2ec+tZuScrolvW5qeHNv9qnfnZ9nm3beuPLbpS2kFs9xLLaBWhii3SPfL8qcgZAXOeuO/WsyGeW3cvE5RipXI9CMEflTra7uLOQyW8rRsRtOO49CO9OM0kkxqStY6JoIYbuR4FjUTaS8jeWCFJwRkA8gcVl3XzeHNOZvvLLMi/7vyn+ZP51Vk1G8lkMklxIzmMxFiedh6j6c0XV4J7a0t0QrHbxkcnqxOWP8vyqpVItO39bDck7l/T7a1ks0aWC0ZyTkyXwjbr/AHe1N0dYh4qtVIQILnCgNuUc8YPfnHNZFKrFWDKSGByCO1SppW02FzbGvamT+xta8/OcxZ3f89N/88bqh0WWaHWrONXdA9xEHUHG4bhwahm1S6uzGLyaSeJWDFC2N3r+OO9PfWL06hNexy+XLK2SVHT0A+lPmjdO+wXWhJHeR2mo6h50LSxzB4mCvsIywOc4Pp6VYkS305oZIY5pLfULYgxMwEi/Njg455UY45FURq1+Lhpxct5jLtY4HI68jpUbX9294t287tOv3XbkjHTHpRzoOZHRXNul4Xg83yHmnjhl2rv/AHhGFQnI4UDk92PTiuVZSrFT1BxU9vfXVpv8id038tg9+x+vJ5qvSqTUteoSaYVLZ/8AITsP+vuH/wBDWoqls/8AkJ2H/X3D/wChrU0/jQo7o9rooor6I9IKyNV0FNU1jRdQa4aM6XO8yoFz5m6NkwT2+9n8K16y9d1+z8P20E10k8r3Ey28EFvGZJJZCCdqgewJ/CgCn440efXvBmp6fa/8fTRCS395UYOg/wC+lFUdS0G/8R3Oh+IbHUZdGvre1ceXLaCUgShCysrEYI24rqreYXFtFMEkjEiB9ki7WXIzgjsfasm98U6bp82sRTmXdpNmt7c7Uz+7Icjb6n923H0oAqzaJ4keztRH4saO9iLiSX7BGY5gxGMx54K44IYdTmrXhrw8nh6yuYzdS3l1eXL3d1cyKFMsrYBO0cKMAAAdMVrW86XVtFcR58uVA65HOCMipKAK2n2aadp1tZRszJbxLErN1IUY5qq+ixt4XbQllcRGyNmJSMsBs2Zx696sXOp2lpf2VjNIy3F6XEChGIYqu5skDA49SKj1rWLTQdKm1K+Li3hKhii7j8zBRx9WFAFKTwzbz+Bx4XmnkMBsBYtMnysQECbh78ZxWfpfhC9tdc07VdR1w3slhayWsMSWiwxhG2c4BJz8gzzjpgDv1lFAHAXfhSez0Lwr4TtvNurWC/Se6uTHhRFExlw3oWfYoH19K7KCzu49Xu7uTUHltZkjWK0MahYSudzBup3ZHXpirtFAGQ+go3jGLxD9obfHYPY+Tt4IaRX3Z/4DjHvS6zoaaxd6RcNO0R029F2AFz5hCOm32+/nPtWtRQBzWq+F7ufXzrmjaw2mXstuLa43W6zxzIpJUlSRhhuODnv0qhP8PYm0XTbK21e7t7mz1BtTa+Cq0s1wwfLMCNvJfOMYwMe9dpRQBxUvw9/tHT9cTWNYmvL/AFeKOGS6SFYhEkZyionIxuJJyTnNWrLwheLrcmr6nrjXty+nvp4VLVYY0RmVsgAk5ypzknOe2MV1dFAHC6b8O7i0t9G0+88RXF7pGkvFNBaPbopaSMfLucclA3IXHoCTir0/geKaz1G3N84F7rMerE+WPkKGM7OvIPldfeusooA5TUfAtrqg8RrPeTKNakglzGoDW7wogRlPflA36Uy18G3r69b6xrGvzahcRWs1psW3WFNkm3lQp4b5Tk5OcjpiuuooA4fS/h/c2DaDHNr8lxZ6HLvs7cWiR5XYyYdgcs2G+8Md8gk5EOofDae70zVdGt/Edza6LfyyTfZEt0LRu53EBzzs3HO3APbOK76igCjq2k22taJd6TeBjbXUDQybTg4Ixke/eubs/BOoLq2i3+p+JZ786QzfZ4/syRqytG0Z3YOS3zD5vboMmuyooA5Ow8Jano0j2+k+IWttJa4edbRrNJGi3sXZUcnhSSeqkjPWtjxHoVv4l0G60m5kkiScKRLGfmjdWDKw9wyg/hWpRQBwEOha5a/EnQ73UdRuNVVbC7jedbURQw8xbRhcgM3J5POOMYpU+G06Wdrpn/CR3P8AZFlepd2loLdAV2y+Zsd+rjqB0xkHnArvqKAOWl8K6ha6vf32h66dPj1CQTXNvJaLOvmhQpdCSNpIVc5yOOldBNb3Emmvbx3jxXBi2LdBFLK2Mb9pG0nPOMYqzRQBxh8ALqB1eXXtSa+uNTtFs3kgt1twkakspABOXDHO4k9BxitOw0TWkDw6t4iN/atC0XlpZpCzZGNzMCcnr029a6CigDiNK8AXVhLoKz6+9xaaG5NpbraJGCvltH85ByzYYfMMdDxk5G14q8Ov4k0+1ghvjZT2t5FeQzCISYeM5GVJGRW7RQBz0GkeI0sLiKbxSJLp2RoZ10+NRGAfmBXJ3A/UEdjXKeIfBV5baCyQ3Vzd6jqWvWd1dXNpbiPysOil0QZChVXJJzzkk16ZRQBxy+BXvJNUuNd1mbUbu+099NWVIVgEMDZLBVGfmJwST6DjFO0rwZe2mr6TqF/rrXh0u3ktreFLRYUCMqrk4JO75Rz044Arr6KAOTXwPEvgm28Nfbn2QXKXAn8sZO2fzsYz+HX3qpq3w/uNQfX4rbXpLOx1z5rqEWqO+/ywnyuTwuAMrj1wRmu3ooAjgiEFtFCDkRoFz64GK4b4ZeGzo0Gs3rwXEAu76VLSG5Uq8Vqjt5a4PIGWdgPRhXe0UAc7rvhmfUtXstY03VG03UrWN4PN8kSpJE5BKMpI7qCDng+tcxoXg25vtA8UaRqF1fRTSa611b38sYEjMqwskoGApG5T0GOCBXpNFAHI2ngiV9WvNR1vWJdUlvNObTpozAsUfls2SFAPHfqSeTz0FWdD8Pazo5tLaTxI91ptovlxwPZosjIFwoeTPOOOQATj610tFAGTrehprU2kyNO0X9nX6XoAXO8qjrt9vv5z7Vl6x4HttZl8QtPeSous2kFswRRmLyi5DA98luh9PeuqooA5jSfC17aeJY9d1LWjfXKWL2SxparDGqF0fIAJOcpzknOe2K5/wT4MjXTfFIuobu2t9VuLi0to5QUkhs9zhQoIyoLSSMPYrXo9FAHHaV4JvLLUtFu73Xmu10eJ4LWFLRIV2MmznBJLYA56cdBXY0UUAFFFFABRRRQAUUUUAFFFFABRRRQAUUUUAFFFFABRRRQAUUUUAFFFFABRRRQAUUUUAFFFFABRRRQAUUUUAZMf/Eq1TyulneuTH6RzHkr9G5I98+orWqC8tIr60kt5c7HHUHBU9QQexBwR9Kr6ZdyzRyW91j7ZbEJLgYDf3XHsw59jkdqt+8rkrR2L9FFFQUFFFFABRRRQAUUUUAFFFFABRRRQAUUUUAFFFFABRRRQAUUUUAFFFFABRRRQAUUUUAFFFFABRRRQAUUUUAFFFFABRRRQAUUUUAFFFFABRRRQAUUUUAFFFFABRRRQAUUUUAFFFI7rGhd2CqoyWJwAKAFpCQoJJAA5JNZn9rPd/LpVubkf893OyEfRurf8BBHuKUaR9pIfVJzeHqIcbYV/4B3/AOBE1fJb4tCea+wNrAuGMemQG8YHBlB2wqfd+/8AwEE0n9lSXnzapcm4H/PvGCkI+o6t/wACOPYVpqoVQqgAAYAHalo57fDoHLfcaiJEipGioijAVRgAU6iioKCvO/iDYyw6pBqm0m2eEQu46IwYkZ9Ad36V6JTXRJEZHVWRhgqwyCKyrU1Ug4smceZWPEAwIyCKMj1FeuHwzoRJJ0awyf8Ap3X/AAo/4RjQf+gNYf8AgOv+FcH9ny/mOb6s+55HkeooyPUV65/wjGg/9Aaw/wDAdf8ACj/hGNB/6A1h/wCA6/4Uf2fL+YPqz7nkeR6ijI9RXrn/AAjGg/8AQGsP/Adf8KP+EY0H/oDWH/gOv+FH9ny/mD6s+55HkeooyPUV65/wjGg/9Aaw/wDAdf8ACj/hGNB/6A1h/wCA6/4Uf2fL+YPqz7nkeR6ijI9RXrn/AAjGg/8AQGsP/Adf8KP+EY0H/oDWH/gOv+FH9ny/mD6s+55HkeooyPUV65/wjGg/9Aaw/wDAdf8ACj/hGNB/6A1h/wCA6/4Uf2fL+YPqz7nkeR6ijI9RXrn/AAjGg/8AQGsP/Adf8KP+EY0H/oDWH/gOv+FH9ny/mD6s+55HkeooyPUV65/wjGg/9Aaw/wDAdf8ACj/hGNB/6A1h/wCA6/4Uf2fL+YPqz7nkeR6ijI9RXrn/AAjGg/8AQGsP/Adf8KP+EY0H/oDWH/gOv+FH9ny/mD6s+55HkeooyPUV65/wjGg/9Aaw/wDAdf8ACj/hGNB/6A1h/wCA6/4Uf2fL+YPqz7nkeR6itDw/Yyapr9nDACywzJNM46IqnPJ9SRgV6Z/wjGg/9Aaw/wDAdf8ACr9rZ21lF5VpbxQR5zsiQKM/QVdPA8sk5MqOHs7tk1FFFeidIV5/8QtL+3+IvB5+331vv1Ixf6PNs2/uZTuHHDcYz6E16BVK90qz1G5sbi6i3y2M3n253EbH2lc8Hnhj1oA8x8Y65c2UGr6not/4kuZtKnWN5leIWULqV3RspKl+DyQGOT1qz4p/5CXxJ/7FqL/0C4rq7/4feG9TnvJLq0nZLx/NuIFu5VhkkwB5hjDBd/A+bGeM9a0rvw3pV9LqclxbF31O1FpdnzGHmRAMAvB4++3IweaAODudR1S/1+z0OCLWmsrXRre5KaRPBDI8jkruZpHQ7QFwAueSc9qmW78TXJ8J+HNZu7rTrm+N493PE8Ynkjhx5a7k3KrMrKzbT/CcYrr9R8I6Rqb2sskdxBcWsXkw3FpdSQSrH/c3owJXjoSaS88H6LfaVaafNBOY7NzJbyrdSiaJznLCXdvycnPPNAGRdG+0XxP4Q0pdWvLqCea8ErXDAvIohZlViAN209D145rhtYXUdd+Fdz4qu9evhLdXQL2O5fs6xi6CLGExwRtB3ZzkHOa9UtPCuj2T6e8Fs/mae8skDvO7sHkBV2YsSWJBPLZrOuPhz4Xupp5JtPkZJpTO0H2mUQrKTkuse7arH1AH6mgDPMd74q8Z+IbCTWdQ0+10nyIoIrGURFmkj8wyOcEt1AA6fKeK1fAGr3mueCrC+1CRZbomWJ5VUAS7JGQPgcfMFB49am1bwboutX5vrqG4juXjEMslrdywGaMfwv5bDcOe9Wv+Eb0gPpLJZrH/AGTu+xLGxVYsrsPAODx65oA1aKKKACiiigAooooAKKKKACiiigAooooAKKKKACiiigAooooAKKKKACiiigAooooAKKKKACiiigAooooAKKKKACiiigAooooAKKKKACiiigAooooAKKKKACiiigAooooAKKKKACiiigAooooAKKKKACiiigAooooAKKKKACiiigAooooAKKKKACiiigAooooAKKKKACs3U4ZIZI9TtkLTQAiSNessXdfqOo9+O9aVFOLs7iauMhmjuIUmicPHIoZWHQg9DT6ybf8A4leo/YzxaXTF7c9kfq0f0PLD/gQ7CtanJWegJ3CiiipGFFFFABRRRQAUUUUAFFFFABRRRQAUUUUAFFFFABRRRQAUUUUAFFFFABRRRQAUUUUAFFFFABRRRQAUUUUAFFFFABRRRQAUUUUAFFFFABRRRQAUUUUAFFFRz3ENrC01xKkUS9XdgAPxNG4ElMlljgiaWWRY41GWdzgAe5rO/tC7veNNtdsZ/wCXm6BVf+Ap95v/AB0e9Pi0eIyrPeyPezqcq02NqH/ZQcD69fer5UviJvfYZ/ac97xpdsZEP/LzPlIvw/if8Bj3pU0dJnEuozNeyA5CuMRKfZOn4nJ9606KOe3w6By9w6UUUVBQUUUUAFFFFABVHVNXstGtftF7LsUnaqgZZz6Ad6vV5p49meTxNFEx+SK1UqPQszZP/jo/Ksa9X2UHJEVJcsbm0fiLp+TjTtQI9cRj/wBnpP8AhYth/wBA2/8Ayj/+LrgaK8z69VOX28zvv+Fi2H/QNv8A8o//AIuj/hYth/0Db/8AKP8A+LrgaKPr1UPbzO+/4WLYf9A2/wDyj/8Ai6P+Fi2H/QNv/wAo/wD4uuBoo+vVQ9vM77/hYth/0Db/APKP/wCLo/4WLYf9A2//ACj/APi64Gij69VD28zvv+Fi2H/QNv8A8o//AIuj/hYth/0Db/8AKP8A+LrgaKPr1UPbzO+/4WLYf9A2/wDyj/8Ai6P+Fi2H/QNv/wAo/wD4uuBoo+vVQ9vM77/hYth/0Db/APKP/wCLo/4WLYf9A2//ACj/APi64Gij69VD28zvv+Fi2H/QNv8A8o//AIuj/hYth/0Db/8AKP8A+LrgaKPr1UPbzO+/4WLYf9A2/wDyj/8Ai6P+Fi2H/QNv/wAo/wD4uuBoo+vVQ9vM77/hYth/0Db/APKP/wCLo/4WLYf9A2//ACj/APi64Gij69VD28zvv+FjWH/QNv8A8o//AIutjRfFGna45igMkVwBuMMyhWI9RgkH8DXlNWdNme31rTpozh1uoxkehYKR+IJFaU8bUckpbFRryvqez0UUV6p1hWB4l8StoE2m20GmXGo3eozNDBBDIiElULnJcgDgHvW/XB+P4b2fxL4Mi0+7jtLpr+by55IfNVP9HfOU3LnjI6jrQBoL48sv7C1y/uLO6s7rRVJu7K5CiRW27kAKkqQ3GCDzV+HxA8WqaLpF/amPUNQs5Lh/LOUiaMJvXnk8vx9K43xh4cbQ/AmvX91fPf31/eWc9/ctGIwyJNEAqqOFVUB7nvk1r+Kru30f4heFtV1CVLewMF3atcyHbHHI4jZAzHgZ2NjPpQB0MniCCPxPJoZhk85LD7eZONu3eU2+ucisuz8d2WoWWgSWtpcS3WtKJIrVdu+KL+KRznAVfXuSAMmsyzvbXW/iZqmo6ZPHd2Vpoi2ktxCwaPzmlZ9gYcEhcE46ZFct8Mn/AOEVt9Eu9R/e2PiCzght75+ttMoIFuT0CNyV/wBrIOc5oA9X1O9nt2trazjje7uXKp5pIRFAyztjkgcDA6kjkckRWl3fw6kun6kbeV5Ymlhnt0aNWClQylCzYI3Lg7jnnpjkvf8AkZNK/wCuVx/7JRd/8jPpf/XvcfzjoAz9b8Vz6br9volhod1ql7NatdlYZoowsasFJJkZR1YcVsW1+W0+C41CD+zpZB80E8qEofTcpKk/Q1xeuWN5f/F2wistVuNMlGhTMZoIo3Zh58fy4kVhjkHpniqXiqbThr0Wj6rBod3dW+liaXU/EAUB0LsCsaKoG7IJJXGMjrQB2upa41h4k0PSRbhxqZnzJux5flpu6Y5z0pPDetvrdpeefCsN3ZXktncRqcgMh4I9mUq3/Aq898KSyzQ/Ct5nZ5Pst4pLHJwIcD9AK17RNLn1D4jnV3CaG11Ek7FygGLaMScryOcdKAPQLmdbW0muHBKxIzkDqQBmuP0n4hpff2TJf6FqGm2msFVsbuV4pI5GZdyqdjEqSBxkCujvxEPDV0ICDD9jfyyDnK7DjnvxXCeBfC19qnhbwje6vrIuLCxghu7SxhtREFcR4Qu+4l9oJ6bcnmgD0nz4TII/NTe2cLuGTjrx7UJcQySvEk0bSJ99VYEr9R2ryjTtGRfDnjvXNPtBJ4gj1DVFtLnG6WLDOAIz/D95jgdSaZDH4WWTwO/g82J1ZruIytZlTM9tsPnmbHJHru53Y70AehaB4iTWVv8AzUjt3ttRuLFFMmTJ5TY3DpyfStiW4hgKiaaOMucLvYDcfQZrwy7j8JHw/wCPnvzaHxAup3ps/MP+kK+8+T5OeRl/7nU5zWx4qu7K9nvLDVdN0BdStdHha4u9YOZJC6t8sC4zkMDyD94gYoA9Evtf+xeK9O0ZoV8u7tbi4adnx5fllBjGO+/rntV2/v5ba1gns7U3vmzRpiOVFAVmAL5Y4IA5wOT2ryfzNHu7n4ayeJ5IXtZNCdna8b928hWDHmZ4IJ/vcE474qOMW66Hfrpe3+wx4wsxp/l/6vb5sW/y+2zfuxjjrigD0QeKLmS68RW9tpZuZdJuIYUjSdUMwdEcnLYC43nvzj3ro5JoomRXkRWc4RWYAsfb1ryPxN/yD/iV/wBhGw/9At6u348MzeP/ABX/AMJibTMUFt/Z/wBrOGWDy8sYO+7zN3KfNnFAHbeGfESa94R0/XriOOzW7iEhRpMhMnGNxxmtoyRiLzS6iPG7fnjHrmvGNIvLBfA/gXTL3TdImlnsppI7jWTi3h2Y3DBGGc5GBxgA81VsJbd/BGiQahJbnw6PFE0VzsJFsId0hjU5/wCWO/b146ZoA9YsvEC3viu/0ZIVMdtaQXK3CyZ3+YXGMY7bOue9bEk0UIUyyIgY7V3MBk+g96858EpoUfxL8TL4dFuLH7Fa5Fr/AKkPul3bMfLj128Zz3zRr40Gb4nzR+LvsR09NHVrFdQK+TuMjecV3cb8bPfFAHX+G9fGvaTPfyQrbCK6uLcgvkYikZN2cDrtz7VrxyxzRiSJ1dG6MpyD+NeFWxQeBfD0SPAuhP4hu1uDfhzCV3y+UJskHbu253cZxmvQ/AmnQWOoa3Ja6lo81vcPC/2LSeIbZwpDHG44Ljaccfdz3oA7J5oo3RJJERnOEDMAWPt60oljbbh1O77uD1+leYX48NTfEDxSPGJtMRW9r/Z/2w4ZYShLGHvu8zdynzZxWV4bvINP0f4W6hfTpBaLHdxvcTNtRXeNtoZjwCcHrQB7KHViwDAlTggHpTIp4bhS0MqSKDglGBGfTivGNW1L+0NF8eXml3KyWMusWgnnTcVNvshWQ5XkpgHJHVckHHNdV4P02zg8XSXun6n4dWN7Dy5LDRQFV8OpSVlDEcAlc4/ioA72WeKAKZZUjDHau9gMn0FEs8MChppUjBOAXYDJ9Oa85+IsenW2rjWbmbQ76Sy05/N0fVmUeZEWJ3xZztclSudpzgDisvUnh1Tx3MdVj0aG1fSLZ9Pt9ejJRUbcZQgyAHB2hu+MdqAPW5ZooIzJNIkaDqzsAPzNOVgyhlIIIyCO9eTzNp9hpPhXQr06DrLm3uHg1TVJM2ixqw4TOd7bSoHPRSc810Hwmk3+CSiPE0MV/dRw+TnywgmbaEzztx09qAOk0bXYdan1WKKKSM6detZyF8fOwRWyPb5x+VZQ8c2Z0yK++yT7JNY/sgLkZEnm+Vv6/dyM+tZHh3W9L8O+IvF9jrOoW2nzyamb6MXUojEkLxRgMpbG4ZRgcdCK5ia2kuvhxpkgea2TUvFaXFvKo2yLHLdko4yODghhn2oA9Q0/xDBquu6hp1nDLLFYYSe7GPKE3eIHqWA5OOBkDrWuHUsyhgWXqAeRXF/D65GmWsvg+9hjt9U0kc7BgXcLE7bhc9dx+91w2c9ayfG+oz+CvE0muWcTP/bdg1iEUZzepk25P1DMv/ARQB6UrK67lYMPUHNMFxAXZBNGXQgMoYZBPQGsTTdHl8OeBI9K0877q0sSkbDnfNtJLfUuSfxryi2XwkNA8AS2D2h8QS6lYm7aNs3DvvBm87HJ+f8Av98YoA908xMMd64T73PT602SeGGLzZZY0j4+dmAH515XeazpukWXxMsL+9ht7yeeV4bd2xJKJLVFQovVskEcVSuV8/XfDEGotpA0/wD4RuFrRdZQtbtNkCTaCQN+3Z15wTjvQB7KCCMjkVh+HvESa3FeNKkdu8GoXNkieZkyeU5XcOnXGcdqreA7FdO8KxW8Wp2uoW6zTGCS0bdEiGRsRqcnIXlevbHavNb/AELTP+Fe+N9dNnGdVt9XvZYLwjMkLJcErsbqnPpjOTmgD2uW4hhKCWaOMucKHYDcfQetPDqWKhgWXqAeRXk/j680q+1bXrK403QEuLTTk33erHM0odWKrbrjPB7g/eIGKqz6xc+EdN8P+KUWSdtZ8PxWcoxkverEHt2PqWy6/lQB69JdW8UYkkniRCdoZnABPpmpcjGc8V5He2Ok6E2keF72w0CW4tNI+0TX+uNmM7nPmCNSOWL7mJyMAjrXWfDBmufhjoonPmjyGjO/nKh2UDntgAc0AWvD/ie51/VtUWO1tI9KsbiW1E5uiZnkjIBbZtwE+9g7s8dOa0Nc1uPS/C+p61biO6WytZbgKsnDlFLYyM46V5jZQaDoPhLxHcv4f0yYS+IprHbJGsUSobgBBIwHESnBxgjjGKqwmKKz+JltanSRb/2GrmPSBi3D+XMCQOm7AAOPT1oA9OsfEjXniaDSDahVl0pNR83fkgs+3ZjH45rcSeGSR40lRpE++qsCV+o7V5ldtepr9y2m7vt6+CSbbZ97zN524984qh4O03T55/Cl7Yar4btrmMbmW0BF3dgxHzI5Mtljn5jkEgrmgD13zovO8nzU83G7ZuG7Hriqmn38tzYNc3tqbErI6lJJUfCqxAbcpxyBn2zXnXgT/hFZLS3n1k2H/CXHUphOZiPtYuPNYBR/Ft24wPu7fxrIgNqdA8MxawYxoEniO/F95xxEW8ycxCTPG3fjrx0zQB6hpuvjUfE2saQsKiPT4raVZ1fd5vmhz0xxjZ6nOa1o7iGZnWKaN2Q4cKwJU+h9K8UmNlbQ/E1vBxVbdbSy2mxPyqP3vm+VjgADf93gHOK3oofDEXjLwj/whP8AZ4lPm/av7PK4a08o8zbevz7MFud3vmgD1GiqmnapY6tbvPYXKXESSvEzIeA6nDD8DVugAooooAKKKKACiiigAooooAKKKKACiiigAooooAKKKKACiiigAooooAKKKKACiiigAooooAr31ml9aPA7FScFHXqjDkMPcHBqLTLx7qBkuFCXcDeXOg6bvUexGCPrV2svUkaznTVYVJ8tdlyijl4uufqvJHtuHerjquUl6ampRTUdZEV0YMjAFWByCPWnVBQUUUUAFFFFABRRRQAUUUUAFFFFABRRRQAUUUUAFFFFABRRRQAUUUUAFFFFABRRRQAUUUUAFFFFABRRRQAUUUUAFFFFABRRRQAUUUUAFFFQXd7bWMQkuZkiUnA3Hlj6AdSfYU0m9EGxPUNzdW9nCZrmZIoxxudsc+n1qj9p1K/4tYPscJ/5bXK5c/7sfb/gRH0qa20m3t5hcSF7m6H/AC3nO5h9Oyj2UCq5UviJu3sQ/bL++4sbbyIj/wAvF0pGf92Pgn/gW38akg0iCOZbi4d7u5XkSznO0/7K9F/AVoUUc/RaBy9woooqCgooooAKKKKACiiigAopGZUUsxCqOSScAVnNrun7ikEzXTjjbaoZcH3KggfiRTUW9kJtLc0q8w8df8jYf+vSP/0J663WNV16Ox87S9H+YOoK3JDMwJxwqNxyRyTwO1cN4mOotrytqgtxdG0jLLbghVG58DknJrnx1NqhzNrcwrSvGxlUUUV4RxhVybStQt4PPls5kiwDvKHAz0z6VTrqdTurWw1G9l86SS4mtVh8kJhRujUZLZ545xjrWkIJptlxSa1OfWxuHS3ZIyxuGKxKOS2OOn1/kalg0bUrmFZYbOV425DAcGtm3G3xD4fQfcWCEj8ck/qTWdpP3NW/68n/APQ0qvZxvr/Wg+VFNtOuUdklRYWU7SJXCc4zjk+4/Oq7xvHIY3UhwcEVPc/8e9n/ANcj/wChtS3X/H3F/wBc4v8A0BazaXQlpDrnSb+ziMtxaSxIDgswxVVEaSRUUZZiAB7mug1mC1uPEc0VuJ5bt7raYpFAjbnkZBz/ACp0tvbm1t7hBaGaO+SIm1VwuCCcHcOenUVo6WrS6FOGuhiS2NxDHM7oAIZfJkwQdrc/4H8qrV0MvzS+JUb7oYv/AMCEwA/maztLginaXzY4HwBjzboQ4+metTKnqkhOOtkZ9W/7LvhZ/a/sk32fGfM2nGPX6e9O1OGOG4VYo4kBXOIrgTDqe46fSrlizadYz31wx3XEDW9vGTy4IwW/3QP1+lEYK7TBLWzMhEeWRY41Z3Y4VVGSTU9zp15aOi3FtJGZPuAr972FXfD4I1JmUHzPs8xi/wB7YcYq1pN4LHR47qZC6Q6gjKvf7h3Y/T9KcIJrUFFNamTc6be2gQ3FrLGHOF3L1Pp9famzWN1bypFLbyJI/wB1SvLc44/GtuGS2tNHu7i3nluMXULp50e0bwWPqcnGc1NDJFJBHKivbttmmiLnzGRTy7jp6bV98nPFV7KL6lciOYkjaKRo3GHUlSM9CKbVm+tfslwEEnmIyLIjYwSrAEZHY81WrBqzsZvQKls/+QnYf9fcP/oa1FUtn/yE7D/r7h/9DWqp/Ghx3R7XRRRX0R6QUx4o5HR3jRmjOUYjJU4xkenFPrlvF2t6xp2oaDp2i/YVuNTuZITJexPIiBY2forKc/LjrQBu6tplvrOkXmmXa7re7haGQDrhhjj3otrBU0iCwvGF6I4VikeZAfNIAG4jpzjNcVN451Ow0PxYmo21r/a+hiNFe1J8md5lBhIDcg5YAgk/WtPUdb1iwuNI8M6aIL/Xp7Xzri6uvliijTCtK6pgncxwFGOT1GKAOpgtoLWAQ28EcMQ6RxoFUfgKT7JbG3W3+zxeSuNsewbRjpgdOKxLOXxPYw3smsvpNzFFbtJFLaRyRNvAztZGZuPcN+FZ3g3UfF+uadpWsajcaGNPvIFneC3tJVlAZcgBmkI4JGePWgDsqKyNRa4u9Vt9NhupLWJoXnmkixvOCqqoJBwDuJJ68DHWjTzcWerTabNdS3URgWeF5sF1+YqykgDI+6QTzycnpQBqeVH5wm8tPNC7Q+Pmx1xn0pk9na3MkUk9tDK8R3RtIgYofUE9DXI32s+J7zxtf6HokukQQWdpBcM97byysxkLjA2yKABs9K0r/wAZaPoJW21m+C3ccStctBayvHGSPvMVDCNTyRuPTvQBurbQJ5e2CNfKz5eEA2Z649KzdG8P22kadc2jN9qN3cS3Ny8qj968jEnI6YxhQPQCqEmr3UvxBttJhuR/Z8+iy3Y2KpzIJY1Vw2PRj7VD4a8UofCC3mv3kUVzZ3L6feTPhQ0ySGPOBwNx2nA/vUAdXtUrtwNuMYxxikjjSKNY40VEUYVVGAB6AVleKtVm0Lwnq2rWyRvPZ2kk8ayAlSyqSM4IOPxrntN8S+IbTX9C07Xk0ueLW4pGt5bBJI2idI/MIdXZsgjuD1oA7WOKOIMI41QMxZtoxknqT71FBY2ltNJNBawRSynMjxxhWf6kdaxbHx14a1FrgWuqxutvC080hjdY40UgHc5AUEZHGc4OcYqXSPGOha7e/Y7C9Zrny/NWKWCSFnT+8m9RuX3XIoA1G0+yaZJmtLcyxsXRzGMqx5JBxwTTpbK1nnjnmtoZJYv9XI8YLJ9CelcP4P8AiNpl7o2nRaxqqHVbiZ4WPksED+YwRGdV2KxULgEgnj1roNT8a+H9HvpLO/v2iliKiVhbyNHEWAI3yKpVMgg/MR1FAGu9jaSRCJ7WBo1TywjRggJx8uPTgcewpwtbcQJCIIhFGQUQINqkcjA7YrkdU8Zw6H8QJNO1K88vTzpUdxFCkBkkeUyyAlQil2+VRwOBjNacviS1vI9Bu9L1WzNnqN15as8TuZxsclEI+62VP3um0jrQBuNa27iQNBEwlIMmUB3kYwT69B+VJLaW080U01vFJLEcxu6Ash9ielcZp3ibUJba6e41G2hKeJn06MzQFt0Qk2rGuzGGI4DHj1q14r8eaPolnqtoupLHqttauyjymdIpChMYdtpRSTjAYjOR60AdNLp9lPbpby2dvJChBSN4lKqfUDGBT2tbd4JIWt4jFISXQoNrZ65Heudh8Z6bp+haTPrF1J9rurGK5dYbaSVsFQSxWNTtXOeTgVevPFuhWGk2mqT6ghtLzaLZokaVpiRkBFQFmOPQcUAasNrb2+PIgiiwoQbEC4UZwOOwyePekuLS2u9n2m3im8ttyeYgbafUZ6GuY8IeJz4k1nxH5N2lxp9rcwx2hVNu1TCjMDwDneWyDyDx2rQ1fxjoOh3wsb/UFiuTGJCojdxGhOAzlQQi57sQKANg20BheEwRmJyS6FBtYk5OR3yaS2tLayh8q1t4oIuuyJAo/IVyXhvxnCPAGhax4gvP9Lv4hxHCXeZ+chI4wSeBngV0uk6xYa5Yi8064E8G4oTtKlWHBVlIBUj0IBoAsS2ltPNFNNbxSSxHMbugLIfYnpWVoHhm10XwpZaBMUvoLWPZumiGH5JyVOR3qHUvHHhvR9Rlsb/U1inhAM37p2SLIyA7hSqkjoCQTxjrWhba7pt5eW1pBdB57q0+2wptYb4cqN/I45ZeDzz0oAupbwxhhHDGofG7aoG7AwM/gAKjtbCzsQwtLSC3DnLeVGEyffFUJPFGiw6dd6hJfotra3DWszlW4mVtpQDGWOeAADntmpNH8QaZryznTrhna3YJNFJE8UkZIyNyOAwyOmRzQBbnsbS6kjkuLWCZ4jmNpIwxQ+xPSlurG0vkVLu1huFU5USxhwD6jNZuoeKtG0zU1066unF2VVmSK3klEYY4UuUUhASDyxFR6r4x0HRLx7S/vik0aCSURwSSiFT0aQopCD3bFAGrPY2lzCkM9rBLEhBRJIwwUjpgHpU0cccQIjRUBJYhRjJPJP1rG1XxbomjGIXl2+ZYvOUW8Ek58v8Avny1bC+54rUsry21GygvbOZJ7adBJFIhyGUjIIoAS5sLO9KG6tIJzGcoZYw20+2elSyRRyhRJGjhWDKGUHBHQj3FcXYa74o8VJNqHh/+ybPSFleK2kvopJpLrYxUvhWUIhIOOp4zxW7Pr0WiaTaTeIpIbe7mPl+Vah5vMk54jULvbgZxjIoA1zDEZhMY080LtD7RuA64z6Vla1oCa3faRNPOVg067+1+QFyJZApCEnttJ3e5AqP/AITHw+NFGsNqcSWHni3aWRWXZITja4IyhyedwGO9V38e+GorO1u5NRMcV35gtw9vKrSlCAwVSu4n5lwMZOeM0AdJWHrPhez1U2jxiO1kg1CC/d44hmVo2yAx46+tUf8AhZHhHyopf7Zj2SHaT5Un7o7tv735f3XzcfPtq/rPi7RNAuPI1G7kSUR+ayxW0s2xMkbm2Kdo4PJwODQBqSWVpNOJ5bWF5gpQSNGCwU9Rnrj2onsbS6t1t7i1gmhXGI5IwyjHTg8Vl6j4v0DSo7N7zUo0W+iM1rsVpPPUbfuBQdx+dcAcnPHeiy8X6DqMdg9rqCuL6Z4LfMbqWkQEshBA2sADw2DQBsxxxwxrHEioijCqowAPYUw2tuYZITBEYpCS6bBhieSSO+ahg1SyudSvNOhnD3dmENxGFP7veCVycYyQCcf41XXxDpL2OpXovF+z6ZJJHeOVYeS0Yy4IIzwOeOueM0AXJbK1nnjnmtoZJo+EkeMFl+hPSszWfDsOsTaOHl8q0027W6FuiDEjIpEY9gpIOPYVonULRNM/tGSdY7MQ+eZZPkCpjO456cetY+l+OfDms30FjY6jvupwWiheCSNnUDduAdR8uAcN0PY0Abc9na3TRtcW0MzRNujMiBih9RnoakjjSJAkaKiDoqjAFZf/AAk2j/2F/bf21f7O8zyvP2Njd5nlYxjP3+On6VDq/jDQtDuza396yTLGJZFjgkl8pD0Z9inYvB5bA4oA1za27QyQmCIxSkmRCgw5PXI75pkdhZxQmKO0gSJk8sosYAK8/Lj05PHuaV7hH09rm3kV0aLzI3UgqwxkEHuK4zwT8QtL1jRtDt7/AFRJNZvLdd/7llR5duWUOF2bv9kHPtQB24hiWQSLEgcLsDBRnb6Z9PaoYtPsobl7mKzt47h/vyrGAzfU4yayLrxt4estSNhcX5SYSiFm8iQxLIcAK0oXYpyRwWq8niDS5LXUrlbxfJ0x5I7xipHksi7mzkdgQcjr2oAtiytBdm7FrCLkjaZvLG8j03daVrO1e2e2e2haB8loigKtk5OR0681g3nj3w1YFPtOoOqtGkrOLaVkjVwCpkYKRHkEH5iOtdGrBlDKQVIyCOhoAjitoLf/AFMMcfyhfkQDgdBx2GTTLaxtLMubW1ggMhy5ijC7j6nHWrFFADI4o4VKxRpGpJYhVAGSck0+iigAooooAKKKKACiiigAooooAKKKKACiiigAooooAKKKKACiiigAooooAKKKKACiiigAooooAKKKKAMmy/4ll8dNbi2ly9of7vdo/wAOo9sj+GtaquoWQvrQxbzHIpDxSDrG46N/nqMjvTdOvTe2xMiCO4iYxzx/3HHX8DwQe4Iq5e8ub7yVo7FyiiioKCiiigAooooAKKKKACiiigAooooAKKKKACiiigAooooAKKKKACiiigAooooAKKKKACiiigAooooAKKKKACiiigAooqreaja2JVZpf3j/AHIkBZ3+ijk00m9EDdty1Va7v7WxVTcTBCxwiDlnPoqjkn6VUzql/wBANOgPc4eYj6cqv/j34VZtNNtbJmkijLTMMPNIxeRvqx5/DpVcqW5N29it5up3/wDqYxYQH/lpKA0p+i9F/HP0qe00u1tJTMFaW5IwZ5m3yH2yeg9hge1XaKTm9loHL3CiiipKCiiigAooqlcatp9pJ5c13EJf+eSnc5/4CMn9KaTewm0ty7RWZ/adzP8A8eel3Ljs8+IV/I/N/wCO0eRq9x/rbyC1X+7bx72H/An4/wDHarkfV2FzdjTrPl1vTopDELlZZR1igBlcf8BUE0z+wrOTm7M14e/2mUup/wCAfd/StCKGKCMRwxpGg6KigAfgKPcXmHvGf/aF/P8A8euluo7PdSCIfkNzfmBR9k1S4/4+NSWBf7lpCAf++n3Z/ACtOijn7IOXuzNXQtPLB54munHO66cy4PsGJA/ACtFVVFCqoVRwABgCloqXJvdjSS2CvMPHX/I2H/r0j/8AQnr0+vOviBZyRaxbahg+RNCIS3ZXUkgH6hv0NcmMTdJ2M669w5SiiivFOAKknnluZTLM5dyACx9hgfoKjooGX31J/KsWj3Jc2gKrIO65yv5ZP6VUiuJYRII3K+ahR8d1JBx+gqOim5NhdilmYKCSQowPYZz/AFNKXZmDFiSAACfbpTaKQEz3U73Zu2lbzy+/zAcHd61NPqt9cqFluGZVcSBQAAGHfA781Top8z7hdl3+0GNldxMC091KryyHuBk4/EnP4VSooobb3Bu4VoDW9REKxfaSUVAigqpwo4x0rPooUmtmCbWxdk1KYpZrAWhFov7sq3O4nJbPuabNql7cSxSSzsWiOU4ACn1AHFVKKfPLuF2Wbq/ur0KLiYuqfdXAAH0A4pBf3IuluRKRKq7QQBwuMYx0xjjFV6KXM73uF2STzy3MzSzOXc4yT7cCo6KKW4BUtn/yE7D/AK+4f/Q1qKr+hWUmo+IbC3iBOyZZpD/dRCGJP1wB+NXSTc0kOCvJHsNFFFfQnpBXFeONDn1zXfCkaLerbxXsrTz2cjxvCvkvg71wVycDrznHeu1ooA898beHLHQfhpqq6ZbuBHPDf3DvI0sk3lzI7s7sSzHap6ntVzX4b/S/GWn+LtPsZtTs2sGsbuG1w0qoXEiSIuRv5yCBzg8Zrsp4Irm3lt541khlQo6MMhlIwQfwplnaQWFjBZ2yFILeNYo1LFtqqMAZOSeB3oA830HTPM8T6xd6RomqafpUmjmDZexvH5lwXJyqOc/dwM4pfhtYaRpNno8B8IX1jrYtFiuL19NMY37fm3Se5H416dRQBnNbynxJHcbD5ItGQv23F1OPyBoNvL/wkYuNh8n7IU39t28HH5Vo0UAcFP4Stda+Jmr3erabLLZ/2farBKS6IWDSbgCpGSOMjtkVmeLzr01zrejJFriaf9hWHS4dMtUeO43RkOJpWVtuG4xleORkmvUKKAOD0DTL6DxZ4duJrSdIofC/2aV2QgJL5kJ2E9mwp49jUPhS6W38M61qx0241G3vtfuJoYLeISMyGYRh9p7Aruz6DNegOgkRkbOGBBwSD+YqDT7C10rT7ewsYVhtbeMRxRr0VQMAc8n6mgDI8d2txe+AdftbWGSa4msJkjijUszsUOAAOpqDw14P03SBaagy3lxqS2yxCa+upJ3iBA3Km8kIM+mK6eigDy6Dw1qc3wM/siHT2TUd5ma0kXy2l23PmFTnuyjHPqK1fPufFXjXw7f22kalY22ki4luJr+2MBJkj2CNQ3LcnJI4+Uc13lFAHjFva6rc/DWHwX/wjeqQalPdAid7fECJ9p8wytJ0Uhex+bI4BHNXvHTeJNUi8UaXJDrpQwlNNttPs0a3uIzGCWklKk53bgV3KeBtBJr1migDzu4mu9D+IUWrTaHqV3ZnQYLVp7S2MrRyea7Fdo5PGM4zjjPBzVDS9B1aK18NTzadPCZfElzqMlvtybSGRZiofHC/eX6FsV6nRQB5d/Y2p/Yiv2C53f8ACbC8x5Z/1HnZ8z/dxznpTLpdS0qw8b6G3h/Ur651a5ubi0mgg3wypLGANz9FK4IweeBgHNeqUUAeaT3HiCyTQdPdNctdMXRoctpVmsszXQABjkLK3lgADGQBknJ4rO0bTdV0DSvAep3ekX80emRXkF3bwwmSaEyn5H2Dk/dIOOzV65RQBxfgiO8fX/Feo3Ol3OnxX15DLAlwgVmUQqu7jjJIyR1BODzmqbS3vh/xr4nll0LUNQj1hbd7SS1h8xG2ReWY3bpHyM5bAwxr0CigDxq08P6tp+h+Bb24g1mGPT7Ge2uk0+Pdc27vtIbYVJIO0g4Geld/4L0+1s7K/uLZdXBvLszStqqbJZH2Ku4LgYGFA5APBrpqKAPKNRmvPD+l+PNNudC1C6fUZrm7t7mGHdA8UkIHzSHhdm05B5wOAatWL3WjX3hHXv7Mvr2xbw4LFzZQGZ45D5TqWUc4O0jPQd8V6PeWsN/ZT2dym+CeNopFyRlWGCMjkcGiztIbCygs7ZNkEEaxRrknaqjAGTyeBQB5HJoWt3Xhtb19O1O1kg8VT6nLawBftAhYvhkzlWZd4PGc4OO1dl4OsbT+1NS1SL/hIHuJoooZJtXh8reqliAqlVPGTkkdxiuwooA868WfbrLxFPfeG7XWo9ekEMZCWvmWN6oPAkY5VNoZhuyrD34rPvtJuLDxV4l/tA+JRaapKksL6TAJo5UMSoUfCMVI2kc4GCK9VooA84vzq2lXGlaRaL4httBh0qNLc6fapNO8y/L5crsrBMKF54BJPzcVv/DixutN+HujWV7byW9zDAVkikGGU7jwRXUUUAeVafajQfDqeEfEfhnV9RtrCd2srnT4HlSeMsxQkoQUYBiCGwO+apx+H9csdF8DXt/HrCHTrWeC9GngS3MDSbSrbcMWHy4OASMj3r2GigDy678PpceHA1hZ61cm78QWdxdDU4MSSKrxhn2bRhNo5yB0OeK6fXLC4uPiF4Uu0tnkt7aO98yUJlYiyIFyexODj8a6qigDzG50O9Pgr4j26abMbi+vrqS3QRHdODFHtKj+LLA4x3zU3iCfxA+oSac665Fp7adGLQaVapJ585DB1lkdWEePlHO0ck5r0iigDzXw7o1/Dd/Dp7iwnT7Dos8dwXjI8iQpCArf3ScMMexqvf6HfL4c8Y3i27wXdlrz6xp7SLtD+XHE2RnqGxIuenJr1Kqmp6ba6xplzp16jSWtzGY5UVyhZT1GVIIzQBzvw9hlm0CbXrqMpda5cNqDq3VI2wIlz7Rqn61y3izSrr/hPRoNtHnTvFhhmvMH/V/ZiDN9N8flr9a9TiiSGJIokCRooVVA4AHAFVTpFk2trrDQ5v0tzbLIWPyxltxAXOBkgc4zwKAMfx/pN3rXgPV9O0+MSXMsI8uLOPM2sG2fiAR+Nc1Lrf8AbXxJ8HSLo2oWCRx3g331v5LFjEMoqnkgY69OeCa9Kqnc6VZ3ep2Wozxbrqx8z7O+4jZvG1uAcHIHegDyeeLV4fh/N4PXw9qsl9Dqe9p1gPkGL7b5wkV+jZUgYGSOSQAK0tR0u60/xp4invT4kWz1QxSQSaRAJkkURBGRwEYqQQcZwMGvUqKAMjSdPh07wlaafaRXCQw2axxR3GDKoCYCtjjcOhxXEWuiX8fw58BWg06dbmz1CxluIvKIaEAnezDtjJyT616dRQB494y/4SbWrXX9Png15phdhbK0tLNPsj26urK7SlSWYgEkBsg4AFXPGWl3Y8crotoh+w+L1iF4VPMf2cgyn/gUWF+or1WqT6RZSa1FrDw7r6KBreOQscKjEMQFzjJIHOM8YoA848bN4hvpPEukeVri2zWnlaXb6ZZo0FwGiw3myFTj5iRtypwOMk16NosckOhafFKrJIltGrKwwQQoyDV6igAooooAKKKKACiiigAooooAKKKKACiiigAooooAKKKKACiiigAooooAKKKKACiiigAooooAKKKKACiiigAooooAKytQB066Gqxg+VgJdqO6dn+q5/In0FatIQGBBAIPBBqouzE1cAQwBBBB5BFLWVp5On3R0qQnysF7Rj3Tun1XP5EehrVokrME7hXOeIvFtvojfZoY/tN8Rnyw2FQHoWPb6da27+6Wx065u2GVgiaUj12gn+leLmSWeR7id988zF5G9WNcWKrulG0d2ZVqnItDZn8XeIZ3Lf2gsAP8EMK4H4sCf1qL/hJ/EH/QXm/79R//ABNZdFeW69V/aZye0n3NT/hJ/EH/AEF5v+/Uf/xNH/CT+IP+gvN/36j/APiay6KPb1f5mHtJdzU/4SfxB/0F5v8Av1H/APE0f8JP4g/6C83/AH6j/wDiay6KPb1f5mHtJdzU/wCEn8Qf9Beb/v1H/wDE0f8ACT+IP+gvN/36j/8Aiay6KPb1f5mHtJdzU/4SfxB/0F5v+/Uf/wATR/wk/iD/AKC83/fqP/4msuij29X+Zh7SXc1P+En8Qf8AQXm/79R//E0f8JP4g/6C83/fqP8A+JrLoo9vV/mYe0l3NT/hJ/EH/QXm/wC/Uf8A8TR/wk/iD/oLzf8AfqP/AOJrLoo9vV/mYe0l3NT/AISfxB/0F5v+/Uf/AMTR/wAJP4g/6C83/fqP/wCJrLoo9vV/mYe0l3NT/hJ/EH/QXm/79R//ABNH/CT+IP8AoLzf9+o//iay6KPb1f5mHtJdzZg8XeIYH3HUFnH9yaFMH8VAP613HhzxTBroaF4/s97Gu5os5DD+8p7j+VeXVJbXr6be29/GSGt5A/HdejD8RkVtQxc4yXM7o0p1pJ6ntlFFFeydoUUUUAFFFFABRRVK61W2tZfIBee5xkW8C73/ABH8I9zgU0m9hNpbl2qd3qdrZuIncvOwysESl5G/4CO3ueKr+Rqd/wD8fEosYD/yygbdIfq/QfRR/wACq5aWNrYoUtoVj3HLHqzH1Ynkn3NVaK3FdvYp7NUv/wDWMNOgP8KEPMR7nlV/Dd9RVqz061sQxgiAd/vyMSzv/vMeT+NWqKTm3p0GohRRUFze2tkm+6uYYF9ZHC5/OklfYZPRWZ/bUcvFnaXd37pFsX/vp9oP4E0Z1m46JZ2a+rFpm/IbQD+JquR9dCeZdDTqrdalZWRAubuGJj0VnAY/QdTVb+xzN/x+395c/wCz5nlL+SYyPqTVq10+zsQfstrDDnqUQAn6nvRaK63/AK/roGpV/td5v+PPTryf/bZPJX83wfyBo2azcfeltLNfSNTM35naB+RrToo5ktkFu7Mz+xIZeby5u7w9xLKQp/4AuFP4irtvaW1nH5dtbxQp/djQKP0qaik5SejY0kgoooqRhRRRQAUUUUAFFFFABUVzawXlu9vcwpLC4wyOMg1LVbUL+30yxlvLuTZDEMsev0A9STxSdragzFbwL4fZifskoz2FzJ/8VSf8IJ4f/wCfWb/wJk/+KrGk+I0xc+Ro48vPymW42sR7gKcfnTP+Fi3f/QHh/wDAo/8AxFcjq4Xy+4w56Ruf8IJ4f/59Zv8AwJk/+Ko/4QTw/wD8+s3/AIEyf/FVh/8ACxbv/oDw/wDgUf8A4ij/AIWLd/8AQHh/8Cj/APEUva4Xy+4Oekbn/CCeH/8An1m/8CZP/iqP+EE8P/8APrN/4Eyf/FVh/wDCxbv/AKA8P/gUf/iKP+Fi3f8A0B4f/Ao//EUe1wvl9wc9I3P+EE8P/wDPrN/4Eyf/ABVH/CCeH/8An1m/8CZP/iqw/wDhYt3/ANAeH/wKP/xFH/Cxbv8A6A8P/gUf/iKPa4Xy+4Oekbn/AAgnh/8A59Zv/AmT/wCKo/4QTw//AM+s3/gTJ/8AFVh/8LFu/wDoDw/+BR/+Io/4WLd/9AeH/wACj/8AEUe1wvl9wc9I3P8AhBPD/wDz6zf+BMn/AMVR/wAIJ4f/AOfWb/wJk/8Aiqw/+Fi3f/QHh/8AAo//ABFH/Cxbv/oDw/8AgUf/AIij2uF8vuDnpG5/wgnh/wD59Zv/AAJk/wDiqP8AhBPD/wDz6zf+BMn/AMVWH/wsW7/6A8P/AIFH/wCIo/4WLd/9AeH/AMCj/wDEUe1wvl9wc9I3P+EE8P8A/PrN/wCBMn/xVH/CCeH/APn1m/8AAmT/AOKrD/4WLd/9AeH/AMCj/wDEUf8ACxbv/oDw/wDgUf8A4ij2uF8vuDnpG5/wgnh//n1m/wDAmT/4qj/hBPD/APz6zf8AgTJ/8VWH/wALFu/+gPD/AOBR/wDiKP8AhYt3/wBAeH/wKP8A8RR7XC+X3Bz0jc/4QTw//wA+s3/gTJ/8VR/wgnh//n1m/wDAmT/4qsP/AIWLd/8AQHh/8Cj/APEUf8LFu/8AoDw/+BR/+Io9rhfL7g56Ruf8IJ4f/wCfWb/wJk/+KrX03SLDSImjsbZYg3LHJLN9WOSa4z/hYt3/ANAeH/wKP/xFaGkePbe9vEtb+0Nm0hCxyCTehb0JwMVcK2HvaNr+hUZ076HYUUUV1GoV598S7rUGvPDmlwafcXNneX4E6w3YgM+2N2EROQQOA2eny4r0GsDxDot1qmreHbm3aMR6dfm4m3sQSvlSJxxycsKAM/UvFN14YtPMm8N3q6NZiOKW7NzGzIvyruClizgZAJPJwTzWF4muriPUfiIEnlUReHInjAcjY2245HoeBz7VU8TfD7XNafXoms9LvJb24M1pqV3cv5ltF8uIVj2ELjBGQQOckE8V0Wt+FNR1C88XywtAF1fRksbbc5BEgWUHdxwP3i8896ALC+J57cadpGnaZNqmpHT47qZRMsaxxkYBZ2/iYg4HsScUh8e20+maTNp2nXV3f6pJLFBY5WN1aLIl3sThQhGCeeSMZzWPq3gOV9btNW/sTR9cH9nRWU9pqDbdjpkiSNijdckEYHQVbuPC+qWY8Papo2maRa3ulfaFfTIZTHbvHNjcFcJwwKqc7cE5oAvSazJPrvhhL601PTru5luk+yidPLJSIk+ZtyHXAyuCOcH2rmPGfja71TwZqE+m6RfppjXKQQ6qkqgMyzqpbaDuCEqyhu/oM11D6Rrmpa54a1XUY7GF9PmuXniglZwqyRFEAYqNx5GTge1c1P4N8WL4Om8HWy6V/Z0c++G9knfzJIvO81UMezCsOhbcRgdO9AHV6j4suI9au9K0fRLjVriyjR7spMkSxbxlUBY/M5HOBxgjnmtXQdatPEWiWurWW8W9wpIWRcMpBIZWHYggg+4rnptJ8R6N4o1jU9DttPvrfVxE7x3Vy0Bt5UTZu4RtykBTjg5FWfD2h6t4Z0nRNJtns7mBHlfUppNysWcs+YgOPvt37UAdTRRRQAUUUUAFFFFABRRRQAUUUUAFFFFABRRRQAUUUUAFFFFABRRRQAUUUUAFFFFABRRRQAUUUUAFFFFABRRRQAUUUUAFFFFABRRRQAUUUUAFFFFABRRRQAUUUUAFFFFABRRRQAUUUUAFFFFABRRRQAUUUUAFFFFABRRRQAUUUUAFFFFABRRRQAUUUUAFFFFABRRRQAUUUUAFFFFABRRRQBT1GyN7bARuI7iJhJBJ/ccdPwPII7gmnafei+tBLsMcikpLGesbjqv+eowatVk3v/EsvhqS8W0uEux/d7LJ+HQ+2D/DVx95cv3EvTUPFH/Iq6r/ANekn/oJryQfdH0r1vxR/wAirqv/AF6Sf+gmvJB90fSvIzD4onNid0LRRRXnnMFFFaOj6SdWnmj89YFhiMrOwJ4GPT604xcnZDSbdkZ1FbF54flgitp7a4iu7e5k8qOSPI+b0IPSrP8AwjkU2uXenwXeyO1i3ySyLnkYzwPr+lX7Ge1iuSRz1FXr2wigmjis7tb0uM/ukPHtinaZpjXmsQWFwJIDISDlcEcE9D9KnklflFyu9jPorXn0dIdGnvhMxaK8NsFxwQBnNZjW8yRCVoZBG3RypwfxolBx3BpojoqRYJniaVYnMa9XCnA/GhbeZ4mlWGRo16uFJA/GpsxEdFSJBNKAY4pHznG1Sc4q9fabHBpNhfwOzJcBlcN/C6nkfSmotpsLMzaKKKQgooooAKhuv+PSb/cP8qmqG6/49Jv9w/yoW40e5w/6mP8A3R/Kn0yH/UR/7o/lT6+kPTCiis+bV4RM1vaI95cqcNHBghD/ALTH5V+hOfamot7CbS3NCqFxq1vDMbeFXurodYIBuZf949F/EiovsN7fc6hc+VEf+Xa1YqP+BPwx/Db+NXYobXT7bZEkVvAnOFAVR71VorfUV2yl9l1C/wCby4+ywn/lhasdx/3pOv8A3yB9TV21s7ayi8q2hSJM5IUdT6n1PuaqHXbBiVt5Hu2HGLWMyj8WHA/Eik+1arcf6jT47df711MM/wDfKZz/AN9Cqam9HovuEnH1NOo5p4baMyTyxxIOrOwUD8TVD+zr2f8A4+9Vlx3S1QRL+fLf+PVJDo2nQSCUWqPKOks2ZH/76bJ/WptFbsd32I/7ctZOLOO4vT2NvESp/wCBnC/rR52sXH+rtba0X+9PIZGH/AVwP/Hq06KOZLZBZ9WZn9lzzf8AH5qd1IO6QkQr/wCO/N/49U9tpVhZv5kFpEsh6ybcufqx5P51copOcnoPlQUUUVIwooooAKKKKACiiigAooooAKKKKACiiigAooooAK434jMf7IsUz8rXgJHrhHIrsq4z4jf8gzT/APr7/wDZHrHEfwpEVPgZwVFFFeCecFFWbCyfULoQRvGh2sxaQkABQSegJ6Cp5dInRrfypIbiO4fy45IWJBbjg5AIPI7VShJq6Ks7XM+itNNIEsl6UvYEgtZBGZZdwDZJAwAD/dNNh0nz1uXF9arDbsqtKxfaxbOMfLnseoFHs5ByszqKsXtlLYXHky7SSodWQ5VlIyCD6VJ9ij8z7P55+1Z27Nny7v7u7PXt0xnv3pcrvYVmU6Ks2Fk+oXPkpJHGQjOWkJwAoyegJ7UlzbLBIqR3MNzuHWHdx7cgUcrtcLaXK9FWbSza6NwN2wwwtKcjrjtRdWn2eG2mV98dxHvBxjBBII/AijldrhZ7laiinIjSOqIMsxAA9TSAbRVy/wBOl08Qea8T+cm8eW+4Dkggnp1HbNJZ2DXcc0zTRQQQ43ySZwCegwASTwe3anyO9gs72KlFaDaRcC/FqHhOUEgl34TYcYbJ7cj3pv8AZcov7q1eWJPs24yyEnaADjPAyeSO3enyS7D5WUaKuvpk0T3SyMirbAbnzwxP3QPUn+VUqTTW4mrBTZFDxsrDIIp1Ifun6UgPX/D88lz4c02eZi0j20bMx6k7Rk1pVk+F/wDkVdK/69I//QRWtX0UPhR6S2CmSTRQqGlkSNScZZgKfXnfxMNgNZ8If2pYm+svt83m2wtTcGT9w+P3YBLc4PTjGe1UM9BaWNITMzqI1XcXJ4A9c+lQxajZz2kF3HdRG3uEEkUm4AOpGQR+BFeR3drdaX4H8YyWVlc6To2p3VvbadZzoY2iSQpFM4Q8xhizEA46dBmtjxzaacPHXhS2utAbV7SOyvFWyihSTGPKAO1yBx9aAPSDdW6xrIZ4hG3AYuMH8akBDAFSCD0IrynxVbaYl14FhXwlI9h9ovD/AGILaHd/qXP+rLeX1+fr79a2fhbFGbLWruzh+xadPqLi30sn5rIoArqy9EYsC20cDI9aAOuvdb0/T5/IuJyJdoZkjjaQop6MwUHaODycDg1dhmiuIUmhkSSKRQyOjZVgehBHUVmaGATqUpHzyX0u5u524UfkqgfhR4fASzuo1GES+uAo9AZWP8yaANAXdsZPLFxEXzjaHGc/Spq8j+GtppElvazS+DZZr8X90RrH2SEqCJ5MHeW38DA6dq1V8b31t4o0yzk1rRNSivb02ctrYwOGtiVYgiUuQ+CoBGB16CgDuW1nTFBJv7fAuRaEiQHExwBGfRuRx7ir1eUzWwufAHxIw214NUvbmNh1V4kSRSPoyCu+sb3VL59Luo4bUabcWfnTszMJVkIUqFHTHJzmgDVkmjhXdLIiLnGWYAU5WDKGUgg8gjvXnvxNNgNU8I/2nYm+sv7Rk822FsbgyDyHx+7AJbnB6ds1k2t1qPg/w74r13SNJkstMe7tf7L029QxYyyRyt5ecxhixwDjGM47UAes1Dd3ltYWzXN5cRW8CkBpJXCqCSAMk+pIH41x1zq3iq2v9L8Ptc6UdY1HzrhrpbZzDbQRhcgIXy7bmwDuAxyRXPeLdc1S68GeLNF1RLWXUtKnssTW6mOO4SSWNkO0lip4IIyelAHrFFcba614h03xdYaPrsmnXEeqW00tu9pE8fkyRbSyNuZty4YYbg8HisvTPG983i/SdMl1rRdWh1F5YnXT7d0+zMiM4xIXYSD5SDwP6UAegWt5bXsbva3EU6JI0TNG4YK6nDKcdwQQRTZ760tY55Li5hiS3j82ZncARpgnc3oODyfSvKNK1TxNofhfxFrdidNOnafq19M9rLG7S3CCdi/zhgEIGccNkjn0rT8S6jFeQ+PY47S2QDw0kwuFjxNIHjm4Zs8gYGB2yaAPR47mCVlWOaN2ZBIoVgSVPRh7e9JcXltaNCtxcRQmeQRRCRwvmOQSFXPU4BOPY1wkeuQ6PrInlsbZls/CYvXuBH+/Ko2THu/u8ZxjrWVqVx4nvZPA1/rMmmNa3mrwTrFbROj27NDKVQksQ42k5OFwR0IPAB6tSMwVSzEBQMknoK858ReN77QtWZl1rRLmOO9igfS4oHaYRvIq5Mu/CyANnaVAq7f6z4j1fVvEFpojabDZ6Qqwut1E7NdSNGHYBgw8sAMADhue2KAO1tbq3vbWK6tZ457eVQ8csTBldT0II4IpLq8trKIS3dxFBGXVA8rhQWYgKMnuSQB9a5v4dOsXwx8PSOcKunRMT7Ba4nW9W8S+IPBmla5ctpqaVf6lZyJaJE4mgj+0J5ZMm4hyeMjaMZ4PGKAPYKK801rx/frrWtWunXljarpTCJIbiymna8l2BmG5CBGvIUdTnnpxXZjX0Xwb/wAJFPbSRINP+3PA3DoPL3lT7jpQBsUV53F4k8X2ieGb3UDpElprl3DE0UMMivaiRGcKGLEPwOTgYPYg8Xm8XagPCnjLUxHb+fotzdxWw2nawiQMu4Z5OTzjFAHbUV53rHjq6TWrfSbe9s9OZdPivJ7mezludzyZ2xqiMMDgkknuAK6nwjrdx4h8MWmpXVt9nuJN6SRhWC7lcqWUNztO3Iz2IoA26K4Pw54vvr65v5NWvrC3ktEmkn0b7K8dzbqhO1tzP+8BUZJC45GDWVovxF1O/uNFunls7iHVJ0jfToLKYSWiSfdfzidr4+Xd8oHJx0oA9RpGZUUsxCqBkknAFec6/wCN77RNZ41rRLqNb+O2k0yGBzMsbyBcmXfgSAMCVKgVs/FH/kmHiL/rzb+lAHUxXMExIimjkI5IRgcVLXnlrPp3h/wzrmr6N4MbRLyz02SZZZ7OKNZiqFgv7tySMgEjirjax4jtvDMeqarq+gaYbto2jMsDstujKTsHzjzX+7jG3+Lg8UAdvRXmcfxB1T/hCtc1CH7BfX2l6lDZxzJG8UNyrvEA20klDiQjqcEZ56VrQ+JNb0XxDdaf4iexuYRpUuqJJZQtGYxGwDxkMzbvvAhuO/FAHakhQSSABySaSOSOaNZInV42GVZTkEeoNcfot74n1LRYtZ1J9JbT72ya4+wpbuHhVk3IpcsRJwQG+Vfas228Qz2/gXwxcQapoWgJd2SOUltWkydqnbDEHXgZOeTjigD0Siue8EeIJvE/hS11S5SJZ3eWKTyQQjMkjJuUHkA7c4PTNYCeNtVOgi3MVr/wkf8AbP8AZBj2N5W7fu8zbuzt8n5+tAHoFFc/4w1260LSYGsIopL+9vIbK1E2fLWSRsBmxzgDJwOuKxYdf8Sad4kvtG1V9NuRBo8moRXNvC8ZkYOFAZCxxjnoTnjp0oA7qiuLHizUP+EZ8Faj5dv52t3FpFcjadqiWJnbZzxyBjOa5/UfiVqAm1i6sJrMRabdSW8WnPZTSS3YjOHPmqdqEkHaNp6DPWgD0+5uYLO1lurqaOGCFC8ksjBVRQMkknoBT0dZEV0YMjDKsDkEetc148kE3wz8QyhWUPpU7AMMEZjPWsnR9Y8R6dq/huw1Y6dJZ6vbuscdtG6vbPHFvALliJAVBydq8+1AHe0V5xc+N76w8TWFs2taJfxXWpLYy2NpA++AMSAfN3kFgcbgVHU9KnPjbVV0G4tzFa/8JHHrI0hI9jeUzM4Kybd2dvknf17GgD0CivOPE3je+0DUpXXWtEuEhuoon0qOB2m8tnVSWlD4VwG3YK44716PQAUUUUAFFFFABRRRQAUUUUAFFFFABRRRQAUUUUAFFFFABRRRQAUUUUAFFFFABRRRQAUUUUAFFFFABRRRQAUUUUAFFFFABRRRQAU10WSNkdQyMCGUjII9KdRQBx+t3sel6BqWjXcp3m2kFmzZJkj2MQCfVcY56/L3NefD7o+lej+OdAstS0S6v5FKXdpAzpKvUgAnafUfyrzgfdH0rzszcXKLW9tTirpp2YtFFFeYYBXSeDii3OomRSyCycsoOMjIyK5unK7JnaxXIwcHGRV058klIqL5Xc6Wz1qG51DSbC2tBbWUN0rhS+8sxPUn8avaWfK8U+IWkQOBFMxU/wAQ3A4/KuLRmR1dSQynII7GrupanJqN/JebBC8igOEJwxAxn8cVrGvZXe6f6Fqp1Zt6Oy6le3M1jG+niG2O+OzO6SXnOFz07VtSq39seGmkWYSEShjOQZOBxuI78159HI8Th43ZGHQqcGl86XcG8x8gkg7jxnrThiOVWa/q9wVSyOt/df2DL5+PJ/tr95n+7xn9K0tYmmgbU1NnqE9vJAVBZ1MCDHDKMcY+tefl3KlSzbSc4zxn1pxnmMQiMshjHRCxx+VCxFlaw/aaHYaiuqnTdP8A7HLDT/sX7zYRtzg792fb9c1oxytbw6VLY21/cW4tlAS2dfKYnOd4x1+p/rXnomlWMxiRxGeqhjg/hSpPNGhRJZFQ9VViAaaxNnewKrrc6o6hPYeD/OsibdpL504AJVSCcfoKpT8eArUN1a9JT6bTn9awN7bNm47c5254zVy81J7uxs7QRiOK1QgAHO5icljUe2unftYXPf7jQ0LUEs7WRG1YWZL52GzE2eBznt9Kqa5dLd3ySLei8AjA8wQCHHJ4x/X3rMoqHUbjyf5/8MTzO1gooorMgKhuv+PSb/cP8qmqG6/49Jv9w/yoW40e5w/6iP8A3R/KqEusxM7RWETXsq8N5ZAjQ/7TngfQZPtXnuoaxr014LTV42tYtuVijKrGVHclshh065HtWzbrEYY/tKwbAPl+2wzvEB7ZxH+VfXrDcqTk7+h2e2vojWkuoLpyl/qX2gjrZacGdR7MVyzfjtHqKvwz3ghWHT9HW3hUYX7Q6xKB7Ku4/gcVXsri5uEEdlq2ilR0SC3LY/ASirn2XVz97VLcf7lpj+bmolbZ/r/kUr7ifYtSn/4+dT8pf7lpCF/8ebcfyxTk0PTg4eWD7TIOQ9y5lIPtuJx+FJ9h1E9dYkH+5BGP5g0f2Zdn72t330VIB/7TqLvpL+vuKt5GiAFAAAAHQClrN/smQ/e1XUG/4Gg/koo/saM/evdQb/t6cfyIqbR7ju+xpUVm/wBhWZ+9JfN/vX8x/TfR/YOnfxQyN/vzu38zRaHf8P8Agh7xpU1pET77qv1OKz/+Ef0jvp1u3++m7+dOXQdHT7uk2K/S3Qf0otDv+H/BD3iw1/Zp9+7gX6yAf1qB9b0mP7+qWS/W4Qf1qVNNsI/uWVsv0iUf0qdIYo/uRIv0UCj3A94of8JDo/8ADqdo3+5KG/lR/b+mfw3Jb/cjZv5CtKii8O34/wDAD3jN/t2yP3VvG/3bGZv5JR/bUJ+7aag3/bnIP5gVpUUXj2/H/gBaXczf7XY/d0zUG/7ZAfzIo/tO6P3dE1A+5aEfzkrSoo5l2Cz7mb9v1A/d0acf788Y/kxo+16sfu6VEP8AfugP5Ka0qKOZdvz/AMws+5m+frR6WFgv1vXP/tKjdrZ/5Z6ev/bR2/8AZRWlRRzLsFvMzdmtn/lvp6f9sXb/ANmFH2fWj11GyH+7ZN/WWtKijnf9IOUzfseqH72rKP8ActQP5k0f2ffn72tXI/3IYh/NTWlRRzv+kg5UZv8AZdwfva1qDfhCP5Rij+x8/e1HUG/7b4/kBWlRRzyDlRjXvh2G7sbi3+2XwaWJkDNdyMASMZK7gCPY9a5DxToUWhaDp8Edzc3BN2MtNISP9W/Reg/zzXpFcZ8Rv+QZp/8A19/+yPWOJqzdCUb6GdSEeVuxwVFFFfPHCa3h0qNUYuu5RbzZGcZHltVrSdRjl1fS7WKBbe2juNwXcWLO2Bkk/QVz9OR2jdXQlWUggjsa0jUcUkWpWNnTpFt9F1Uz26TYlhBSQsBn5/7pBp2n3MMej6pM1lC8Zmg/clm2j7/Q5z+tY9zO11dS3DqqtIxdgowMnrioqftLWt0v+v8AmHNY1fEALX6Tq2beaFHgGANqYwF49CCPwqLcv/CQ7sjb9rznPGN9Z9FS53dxN63Nbw8wXUZWZQ4FrMSpzg/IeOKm0vN3cXEtnG9q0UP+qsmYyS/MOhYkj3x2HSsOjpTjUskrDUrHW3YP26ZmDiRtIJcuwZi3T5iOp4rGvOPD2mA/eMkzD/dyo/mDWXU9xdSXKwq+0LDGI0CjgDk/mSSacqvNcble5pWN3bxWaI96kbDOVOnRykc/3jyay5AZrtxH+8LyHbtQLuyeMKOB9BUVFQ53SRLd9Dd1nT7yDStMaW2lRY4SjllI2kuxANS6XaXVlBqCG1+1XCskb2RG4EcncQOTj26ZrAikMUqSKASjBgGGRxRJLJLM80jlpHYszE8kmr9pHm5kv6sPmV7m5qVnPda/GIIpZJmjSSSEfMYfVeOw4+mRTtRivrbxRdolvk3cjqqSr8siFs/lwDn2rnqASDkHFDqJ306hzHWKsGrExkNPElwqSSRnaBkHdMR6DAAzwAPeuTPBODmiipnPn6ClK4Uh+6fpS0h+6fpUCPW/C/8AyKulf9ekf/oIrWrJ8L/8irpX/XpH/wCgitavoofCj0o7BWTqmhR6pq+jag87Rtpc7zIgGRIWjZMH0+9n8K1qyte8QWnh62t5bmK4nkuZ1t7eC2j3ySyEE4AyOyk5JA4qhlXxto02v+DdT062I+1PEHt8/wDPVGDp/wCPKKI9K/tbVtD8STia1uLazkQ2jrggzBCQ3oV24rbt5ftFtFN5ckfmIG2SDDLkZwR2IrHvvFenafNrMUwn3aRZLfXO1AcxkORt55P7tuOO1AE2paFHqWu6LqjTsj6VJLIiAZEnmRmMg+mN2abpnh+PSte1fUoJ38vU2jkkt8DakirtLj3YBc/7tadtOl1axXEedkqB1z1wRkVLQBXtLNLNZhGzHzZmmO7sWOT+FFnZx2SSrGzESTPMd3Yscn8OaZc6la2l/ZWUrOJ7wuIQsbMCVXccsBhePUjPaotb1m18P6RNqd75n2eEoG8tct8zBRx9WFAEHhzQIvDuhrpcc7zoss0m9hgnzJGcjj03Y/Cue0/4dvYx6Patr1zNp2j3QuLO1MEa4xuwHYDLEBiM8dTkE13FFAHD6/4ZubXwj4g0zSzLcXGv3zFjt4hE5VJCf9lUDHNdMmlyw6hZSwX80Vla27QGyCjZJ02sT1yAP1rSooAydW0KPVdV0a+edo20y4adFAyHLRsmD6fez+FL4k0OPxHoU2lyzNCkrxuXUZI2SK/67cfjWrRQBg+IPDZ1i8sNRtNQl07U7AuILmNFcbXADoyNwynA9CCBg1mT/D+C80HVrG91O6nvdXmilvL/AGqrny2UqqqMBQAuB6ZJ5rsaKAOUtfBbtqbX2ta1darIlpJZ23mRpF5McmN5+QDLkADdx06VW0vwFNYXOgtca/cXVvoZIs4DbxouwxNHhyBlmAI546dOc12lFAHByfDeR7W+07/hI75dJ1G6lubyzESfPvkLlFfG5FOQDjrjtk1rah4Nt7+bX3+0vENY01dOZVQYiVRIAw9f9Z09q6aigDnD4Ps5dRNzPK8sT6R/ZMkJGA8eck59T0rMtfAFxG+jLeeJb28ttGnSSzgeKNQAqlQHIGXbBxuPvxzmu2ooA4a4+HTzQ3limvXMelXN/wD2gbQQIT5plEpBfGSu4ZA4PTk4xV6+8Fyza1qF9Ya5d6dDqioL+CGNG8wqu0MjEZjJXAJHpng811dFAGZoGjR6D4csNGSUzx2kCwB3GC4AxkiuVX4auun22lf8JHff2RZXMdxaWflJ+72SBwrPjc6jBAB6ZB5wK72igDl5/Cl5DrN9qOi67Npv9oMsl1D9nSZGkChd67vusQAD1Bx0remsY7vSpNPvGa4ilgMEzPgGQFdrE4wMnnpirVFAHmmoeDtX02bwlEur6hqtpp+qwrHCYUUQQiNxvkKjLEYVdxx16ZNamqfD17/+27a38QXlnpusM8tzaRRIf3rIFJDkbgpwCV74xkAmu3ooA5e78IzDUoNT0jV5dOvktEs5m8lZUnjU5Xcp6MCTgg98c1v2FvPa2UUN1ePeTqDvndFQuc56KAB6fh3qzRQBylv4Onl1q11HWtZl1Q2cUsNuj28cWFkAVt5UfMcDHYe1P0TwtqWhLa2dv4kuX0m0wsNq9tGXEY6RmTGSo4HQHA611FFAHDTfDp5IbixTXrqPSpb/APtAWggTIk80SkF8ZZdw4HB6cnGK6TxJokfiTw5f6NLM0KXkRiMijJXPfFatFAGdrGkprHh2/wBHeVo0u7WS2MgGSoZSucfjWbq/hT+0bXRxbahJaXmkOJLa4EayDOwodyHgggn0I7GujooA43/hAEk0jV7K51e5uJNUvYL2a4eNQweMxHAAwMHyh9Ae+K2Lzw3bX/iJdWndmA0+Wwe3I+V0kZWJJ6/w4/GtqigDlNG8I32k28dg/iS8udLt4Ggt7V4Y1KoV2qHcDL7R06ds5qvF4DexTRH0vWprS80uw/s4TmBJBLEdpPytwGyoOR+tdnRQBj+GdAj8M6Kumx3MtyqzSy+bMBvYySM5zjj+KuctvDRn+Md9rpt547S2sowGcERzXTAqXT12xAKT713dFAGR4k0CHxHpQs5J5baWOaO4t7iLG+GVG3KwzwcEdD2JrmNO8OanB8SJrjVLu61OC40RoJLmSERxBjMP3ahRgfLk9STkmu+ooA4ay+HctuNGgn8R3tzZaNcJLY2zRIoVVBAVyBlyAcA9hnjmry+Eb6xvb59F8RXGnWl9cNcy24to5dkrffaNmHy5POCCM5rq6KAM/XdKTXfD+oaTJK0SXtvJbtIoyVDKRkD8aqz+HIp9R0C8Nw4bR/M2LtGJN0Rj59ODmtqigDhrX4dPaxadZDXrptM02+W9tbTyEGGEhfDvjLdSO3XnNNTw0bn4yT659nnjtLWwjJZwRHNdHegZfUrESpP+0K7uigDhrv4dPcw6hZJr1zDpd7fG/e1WBCfNLiQguRkruGccHpzjiu5oooAKKKKACiiigAooooAKKKKACiiigAooooAKKKKACiiigAooooAKKKKACiiigAooooAKKKKACiiigAooooAKKKKACiiigAooooAKKKKAMnxR/wAirqv/AF6Sf+gmvJB90fSvW/FH/Iq6r/16Sf8AoJryQfdH0ry8w+KJyYndC0UUV55zBRRRQAUUUUAaug6VHq17JHK7rHFE0rCMZdsY4X35qXV9LtLXTrO+s3uFS4LDyrkDeMd+O1SeFHt4tQmkkmjiuVhb7MZW2p5nbJrR1lP7Ui0y2uLi2k1eSXymeBtwCE/xY49P1rqjCLpXtr/wxsopw8zD0yPR5IyNQe9ExbCC3VSCPx75rYn8MWMesSWy3M4t7a1+0XBOC4/2RgYzjBqro1la2XiKY3tzD5VgWcncB5jL0AB6nPP4VHpuoX9zr1xdwXNvDNMGLC4YBGUkfLz+H5UQUVFKS1uCskrosp4dsr1tOmsZ51tbqVonEwG9CAT245ANQvoEM0tnJbSSxWk0TSzNPgtCqnBJwB+FWte1JhYWFhFcW7XaSmVjZ4VIz0UAjvzViK/hF2um3F0ly/ls00077kkmA+RMnjYp/Amrcad7W7feO0b2OSufI+0yfZg4g3fJ5hy2PfFRVq6+LYX0X2cQh/ITzxBjYJcfNjHHp0rKrkmrSaMpKzCiiipJCiiigAqG6/49Jv8AcP8AKpqhuv8Aj0m/3D/KhbjR7ZLZ299ZJDcxLImARnqDjqD1B9xWE+iT6W5ls2naHOS1swWZfcqfkl/Ebvcmukh/1Ef+6P5U+vp4VJRVuh6Limc2pN9CZJrKx1mAHDMsYSZT6Mj8Z/EH2qS2g0WeXybaW4srj/ngJpIGH/ACQCPwIrSu9LiuJvtETvbXYGBPFwxHow6MPY5/CqVxOqR/Z9ftIXgzxdBN0R92ByYz9ePetVK/w/1+j/Ai1tyz/Z19F/qNYnI7LPEkg/QA/rR/xO4u2n3P4vAf/Z6aunT26h9N1B1QjIin/fRkexJ3D8Gx7Uv9p3FrxqNhJGo/5bW+Zo/xwNw/Fce9Tq9rMrbfQX+0ryP/AF+kXOP70LpIP5g/pR/b1gv+vaa2/wCviB4x+ZGP1q5bXdveRCW2njmj/vRsGH6VNUNx6r+vxHZ9GV7e/s7wZtrqCcf9MpA38qsVUuNMsLs5ubK3mPrJEpP5kVB/Ydon+oe6tz28m5cAf8Bzt/Si0O4e8aVFZv2DUIv9Rq8reguYUcf+OhT+tG7W4usVhcj1V3hP5Yb+dHL2YX8jSorN/tO6j/4+NIu1H96IpIP0bd+lH9v6cv8Arpntv+vmJ4h+bACj2cuiDmRpUVDBd210u63uIph6xuG/lU1Q1bcoKKKKACiiigAooooAKKKKACiiigAooooAKKKKACue8Y6RPq+iBbVd1xbyiZE6b8Agr+RP44roaKmcVKLixNXVmeFvMkTmOYmKReGSQbWB9waT7Vb/APPaP/voV7oVVvvKD9RSeXH/AHF/KuD+z1/Mc/1bzPDPtVv/AM9o/wDvoUfarf8A57R/99Cvc/Lj/uL+VHlx/wBxfypf2f8A3vwF9W8zwz7Vb/8APaP/AL6FH2q3/wCe0f8A30K9z8uP+4v5UeXH/cX8qP7P/vfgH1bzPDPtVv8A89o/++hR9qt/+e0f/fQr3Py4/wC4v5UeXH/cX8qP7P8A734B9W8zwz7Vb/8APaP/AL6FH2q3/wCe0f8A30K9z8uP+4v5UeXH/cX8qP7P/vfgH1bzPDPtVv8A89o/++hR9qt/+e0f/fQr3Py4/wC4v5UeXH/cX8qP7P8A734B9W8zwz7Vb/8APaP/AL6FH2q3/wCe0f8A30K9z8uP+4v5UeXH/cX8qP7P/vfgH1bzPDPtVv8A89o/++hR9qt/+e0f/fQr3Py4/wC4v5UeXH/cX8qP7P8A734B9W8zwz7Vb/8APaP/AL6FH2q3/wCe0f8A30K9z8uP+4v5UeXH/cX8qP7P/vfgH1bzPDPtVv8A89o/++hR9qt/+e0f/fQr3Py4/wC4v5UeXH/cX8qP7P8A734B9W8zwz7Vb/8APaP/AL6FW9OsbrWZxBp8RlJOGkx+7j92bp+HWvaPLj/uL+VOAAGAMCqjl6Tu5DWHV9WV7C0Sw0+2s4ySkESxgnuAMZqxRRXobHSFef8AxC0pb/xF4PJvb6DfqRi/0ecx7f3Mrbhjo3GM+hIr0Cqd5pdnqFxZT3UPmS2U3n27biNj7SueDzwxHOetAHl3jHWLi1t9Y1TQ7rxLPNpU6xvci6jWzhdSgaMxlgZBg4J2scnrVvxT/wAhL4k/9i1F/wCgXFdbf+APDOp3N3Nd6c0n2tvMnjFxKsUj4xvMYYLv4HzYz71o3Xh3Sr2TUpLi0DvqVsLS7PmMPMiAYBeDx99uRg8/SgDz+7v9W1DxFZaJbwatLZWui29x5WmXkdq7u5K72dmUlQFwADjJOe1TrP4luG8JeG9cvLuwnvTePdzQTKs8qQ48pd6ZAJVgWK8/KenNdlqPhLRdVa1e5tZFltY/Khmt7iSCRU/u742DFeOhNJd+ENDvdJtdNns2a3tX8yAieRZI25ywkDbwTk5Oec0AY10LvRfFPg/SotVvrm3mnvBKbiXc0iiFmVWIA3bT0J5964bV473W/hVceKbzXb/7TdXY32fmj7OEF0EWIRkYBG0HI+bIOSelerWnhbRrE2DW9ntaweSS3YyuzK0gIdiSSWJBPLZrPn+HfhW5uJ5ptKDGeQzOnnyCMSE5Lqm7arH1AB6+poAzPJuvFXjTxFYXGsalY22k/Z4reGwuDCSZI95kYjluTgA8fKeK1fh/q15rXgnTr3UJhNdMZYmmAA87ZIyB8D+8FB49as6v4N0LXL37bfWbm5MflPJDcSQmRP7r+Ww3D2Oasnw7pBl0uQWMaHSs/YQhKrDldhwAcH5eOc0AalFFFABRRRQAUUUUAFFFFABRRRQAUUUUAFFFFABRRRQAUUUUAFFFFABRRRQAUUUUAFFFFABRRRQAUUUUAFFFFABRRRQAUUUUAFFFFABRRRQAUUUUAFFFFABRRRQAUUUUAFFFFABRRRQAUUUUAFFFFABRRRQAUUUUAFFFFABRRRQAUUUUAFFFFABRRRQAUUUUAFFFFABRRRQAUUUUAFFFFABRRRQBk+KP+RV1X/r0k/8AQTXkg+6PpXsms2rX2iX9on35rd41+pUgfrXjUbbo1PI46HqK8zMFrFnLid0OooorzjlCiiigAooooAKltrmaznWe3cxyrnDDqMjFRUUJ21QwJJOTyaKKKBBRRRQAUUUUAFFFFABRRRQAVDdf8ek3+4f5VNTXhe5220YzJOwiQepY4H86cVdjW57fD/qI/wDdH8qfSKAqhR0AxS19GemFBAIIIyDRRQBltpktkxk0mRYQTlrWTPkt9O6H6cexqW11SOaYW1xG1rd4z5Mv8Xup6MPp+IFX6hurS3vYTDcxLImc4bsfUHsfcVfNf4ibW2K9zpNncymcxGK4/wCe8LGN/wDvodfociovL1az/wBXNFfxD+Gb93J/30o2n8h9abt1DTPuF9QtB/CxHnoPY9HH1wfc1dtL23vojJbyhwDhlxhkPowPIPsapuSXdf19wtG+zKya1ah1iu1kspScBLldoJ9A3Kn8DWj1prxpKhSRFdGGCrDINZ39jJB82nXEtkf7kZ3Rf98Hgf8AAcVPuvyHqjTorM+16lacXdkLiMf8trM8/jG3I/AtVm01Kzviy286s6/ejPyuv1U8j8RScGtRqSLVFFFSMpz6Tp1026ewtpG/vNECR+PWof7Etk/4957y3P8A0zuXwP8AgJJX9K0qKpTkuouVdjN+w6lF/qdXZ/a5t1f/ANA2UeZrUX3rexuB6pK0R/Iqw/WtKinz90LlM3+1J4/+PjSb1P8AaQJIP/HWJ/Sj+39MBxNc/Zz/ANPMbQ/+hgVpUdaLx6oLPuRQ3EFyu6CaOVfVGDD9KlqjNo2mXDb5bC2Z/wC/5YDD8etR/wBiwp/x73V9b/7lyzAfg5I/Si0e4e8aVFZv2PVIv9Tqqye1zbK36oUo87WYvv2lnOPWOdkP/fJUj9aOTs/6+Yc3dGlRWb/a0sf/AB8aVfRe6oso/wDHCT+lA1/S8gSXiQMe1wDCfycCj2cuwcyNKimRTRTpvikSRfVGBFPqCgooooAKy/EOtJoWkvdsnmSFhHFHnG9z0GfTgn6CtSuM+I3/ACC9P/6+/wD2R6zrScKbkiZu0W0czJ4r8QzSFzqZiz/BFCgVfYZBP5mmf8JP4g/6C83/AH6j/wDiay6K8T29X+ZnB7Sfc1P+En8Qf9Beb/v1H/8AE0f8JP4g/wCgvN/36j/+JrLoo9vV/mYe0l3NT/hJ/EH/AEF5v+/Uf/xNH/CT+IP+gvN/36j/APiay6KPb1f5mHtJdzU/4SfxB/0F5v8Av1H/APE0f8JP4g/6C83/AH6j/wDiay6KPb1f5mHtJdzU/wCEn8Qf9Beb/v1H/wDE0f8ACT+IP+gvN/36j/8Aiay6KPb1f5mHtJdzU/4SfxB/0F5v+/Uf/wATR/wk/iD/AKC83/fqP/4msuij29X+Zh7SXc1P+En8Qf8AQXm/79R//E0f8JP4g/6C83/fqP8A+JrLoo9vV/mYe0l3NT/hJ/EH/QXm/wC/Uf8A8TR/wk/iD/oLzf8AfqP/AOJrLoo9vV/mYe0l3NT/AISfxB/0F5v+/Uf/AMTR/wAJP4g/6C83/fqP/wCJrLoo9vV/mYe0l3NT/hJ/EH/QXm/79R//ABNH/CT+IP8AoLzf9+o//iay6KPb1f5mHtJdzU/4SfxB/wBBeb/v1H/8TV/SvG+p2V0v9pzfbLNjh28sK8Y/vDaBkeoxXOUjfdP0pxxFWLvzDVSae57ejrLGsiMGRgGVgeCD3p1ZXhgk+FdKJOf9Ej/9BFate6ndXO9aoKwPEniSTQrjTLW302XULvUZmhhijlWPlULkktx0U1v1wnj6G7uPE3guKxu1tLlr+fZO0QkCf6O+flJGeMjr3pjLq+PbVdC129u7G5sr3RFP2uxnKlwxXcgDKSGDZABBq2/iS5tLzSdLutPMmqX1hLcmOFwqCSNULIC3qXwCfTmuU8Y+HP7C8Ba7e3F7Lf317eWlxf3UiBN6JNENoUcKqoDxz35rc1n/AJKx4W/68L7/ANo0AQxeOdcm1qfSF8FXf22CFJ5E+32/yo5IU53YPKnj2rqNUvZ7c21tZpG11dSFEMudkYClmdgOSAB0GMkgZHUc7p//ACV/XP8AsEWn/oyWt2/H/E+0j6zf+gUAJa3WoW+pR2OpPbTGeNpIZ7eJohlSMqyszc/MCCDzg8DAzQ13xVc6Zr1po2n6JPqd5cW73O2OeOIKisqnlyB1YVoXw/4qHST/ALM//oK1yniGwuNR+LGkQ22qXWnSDR7lvOtljLEebH8vzqwxz6Z4oA7C31MLp0FzqsaaZNJw0E86Hac9NwOD68VV1TXXsPEWg6YkKyJqjzK0m7BTy4i4IHfOMVxvim5sbXX7XR9SXRJ7iLTDM2q+IY1bzFLlTGiqFBbjJxjgjg1meE3d7T4VmRmZl+2p82cgLDIAOeeAAKAPRfDmtyaxFqEVzEkV5p97LaTIhODtOUYZ5wyMh/E1rzSiCCSZgSEUsQPYZrz62XS5dZ+JD6wV/sRngjuiWYLgWy+ZyvPQjpzXauLceH2FoQbb7KfKIJI2bOOvtigDl9K+IhvI9Hub/QbywsNYdI7O8aWORGdwSisFO5SccZHWux+12xmWH7RF5rEhU3jcSOuB7d6828A+FrnVfCPhK81XWHuLGyiiu7Wxjt1jVZAvyF35Lbckjpz1qDS9FjbR/HusafZJJ4gTUNRSzudu6WJgpCiM/wAJyzdMZJ5oA9QjvLWaeSCK5heaP78auCy/UdRWNoXiaLVX1FLnybZ7bUprCJTIMy7McjPc56CvO7f/AIRaW38Dr4T+wnWlvbdpfsm37QsO0/aPOx82MZzu/ixWddnwgNI+IK6otmdcfULwWomH79m6ReTnnPmf3O/WgD224vLW02fabmGHecL5jhdx9s9aytS8Qf2d4o0nSXjjEN7b3Mzzu+PL8ry/wwd5/KvPfEN9bzTtpusWWgRalBokBuLvWU3yTlgwKQrwSQwOSDncwGKprLo80fwtl8StC9kdImLvd8xb9kAUyE8Yzj73Gcd8UAetX+pSQafFdWFul+JJY0AS4RBtZgCwYnBwDnHU4wKyG8U3ZvfEttb6YtzJo8kCRxi4WMz+ZGrnLNhVxuP1xXnjC2/sHXX0kINBbxRZGw8r/VH95D5pjxxs35xjjrirfiz/AI9Pij/12sP/AEVDQB61Lc28DxpNPFG8p2xq7gFz6DPWsXwz4lj1vwjY67eCGyW5QsytJ8qncRjccelcdqLeGh8Q/Ew8ZCzKm0thp4vQCTDtbf5Oed3mZ+782cYrG0e/srbwL4H0+7sdIZ7iK5aO71ofuLfY3IwertnjkdDQB7L58P2f7R5sfk7d3mbhtx656YrGs/ES3vi660aJI3ghsIbtLhJN2/e7rj0wNnX3rymzlt28D2C3jW7eH08WyLd+UpW2FvucpwekO8ocHjBFdV4O/sE/FLX28Oi2Fk2m25Y2g/ctJ5km4pj5SOmdvGc980AeiT3VvaqrXE8UKs21TI4UE+gz3rI8OeIP7a029vJ4ktltr25tT8+RtikKbiT0yBmuU8Rtoa/FBf8AhLfsQ03+xv8AQv7Q2+R5nmnzcbuN+3Z74rjYgi+A9LW2aCHQx4nufPN9E7QrFvk8rzlJB2btmdxHOM0Ae6wXENzEJbeaOWM9HjYMD+IpJbm3geNJp4o2lO2NXcAufQZ61xngOxt7fVdcubXWdFu47kwl7XR49kMDgMC2N7AMwxnp90GsjUm8N/8ACxPEg8ZfYyhsrYacL0A5h2t5nk553eZ/d+bOMUAelrPC2zbLGfMzsww+bHXHrThIjM6q6lk4YA8r359K8Z8O3lvpugfDHU72ZbeximvI5bidtqozxyhNzHpk8c0zWdQOq6V8RL3R5/NtJb+x8yZFYhoBHEsrDGCybQ2SDyucHBzQB7Lb3dtdqzW1xFMqnaTG4YA+nFFxd21oqtc3EUKsdqmRwuT6DNef+DrGy/4S/wC32OueGpP+JeYpLLQ4fLEi71KyOBI33eQDj+Iim/ET+zbPV4tYnvdDmurOwkDaTrG3bPEzZJiz91yUK5w2eAaAPQri7trRA9zcRQqxwGkcKCfTmlnube1h824njhi/vyOFH5mvI9TmW88bxTaidE0+zm0W3awg1+2LxorbjKifOqhx8obqcY7VM8mn6RofhPRp5tA1VXS6a31fUxm0iRWyFQEnJ2kKPmHCHmgD1lHSWNZI2V0YZVlOQR7VzU3jnTbS08QXd4kkEGi3H2eVuCZDsV8qP+BdPasz4TOG8JXSxtC0EeqXaw+QpWIJ5pI2A8hOcgehrlfEFlFe+E/ikJLZJ2hvzLHuQMUYQRfMPQgZ5+tAHrbahZJbC5a7t1gJx5pkAXPpnOKzde186QdFMMSTpqOoRWe7fwqurNuGOv3f1rjNd1TwssuhWWl2fhY2c8dxLDe3gT7JCV2b1ULwZGyM8ggA1iaE+7wj4VVWjaKPxg6RCJSsYTdPgIDyF54HYUAey/aIfIM/nR+UM5k3DaMdeac8kce3e6rvO1cnG4+g968ivLaSLxFdfDgRt9j1HVE1NOPlFk2ZZkHoPNjK4/6aV3Pj3Sp9T8JXD2Q/4mNgyX9kR186I7wB9QCv/AqAOk8xPN8vevmY3bc849celMmube3eNZp4o2kO1A7gFj6DPU1xfgK7TxRqOreM1RhBeeXZ2IccrBEMsfxlZ/8AvkVlam3hsfEbxCPGf2LyvsFsNOF8AQYsP5nlZ/i34+783TFAHpQnhbZtljPmEhMMPmx1x69KcsiM7orqWT7wB5Xvz6V4x4du7fTfDvwz1S8mFvYQ3d4ktxO21Yy6TKm5j0yeMmk1rUDqum/Ee90Wcy20t1Yhpo1YhoBHGspGMFl2h8kHlc4PegD2S3u7a7VmtriKZVO1jG4bB9Dism/8Qiw8V6dpEkcawXVpcXLzu+3y/LKDHpg7z+Vcp4PsbE+MEv7DXPDUn/EvaN7LQ4fLEiblKu4Ejfd6A4/iIq34l0qx1f4oeGoNRtY7qBLC8kEUo3IWDQ4yvQ4znB74PagDtxcwG2+0CaPyNu7zdw249c9MU2O8tZokliuYXjdtqOrghj6A9zXk8d1YaH4a1qxk02xnsV8VPaW8N7xaWoYKwZxggIrEnHTJHSqWnaY2s2/jmDSpNNe4tJbO/sDpcZW3FzGpbKDJGSU2kg8nNAHtLTRq5RpEDBS5BYZ2+v0plvd215GZLa4inQHBaJwwB9MivJhr1prOg+IvH11pkd7YzpbafaW11xGIlZS7OcH5PNdi3HSOr/gaSEfErVo7SXRmhbSoWkGjJtty4kcc8kFwCBkdiKAOo8SeKLnTNb0vRdMisZb6+WWQm8uTFHGkYXrhWOWLADj1roReWpujai5hNwBkxBxvA+nWuK8Q6Tpt38WPDL3On2kzvZXjO0kKsWKGHYTkclcnHpk4rh7vVLDUNR0S+srTQNOuG8SRJ9mhXOoD/SNjtKwxjdk5BBGGAyeKAPQNR8cTWNl4knWxjc6RqFvZoDIR5gk8rLHjjHmn8q66e7trZo1nuIomkOEEjhSx9BnrXk3iD/kEfEL/ALDlh/O1pmtwx3Pj7xTBrV74dtlkihS2/tyAv/o5j5MLGRQBv35xzu/CgD124uYLSLzbmeOGPON0jhRn6mqxvp/7ais1tA1q9u0xuhMvDBgAuz7xyDnd04x3rzQR6TZeJfDcHivULK/0qPw8Fsry+2i3mn3De/zkruMezGTnGausbY+L7Y+GQnk/8Ind/YBCMLnzotm3PbOMUAdbr3iaLSX0+O38m5kudSgsZUEozF5hIyQO4x0NbMt5awTRwzXMMcsn3EdwGb6A9a8Qtf8AhEG0b4ff2YLM66uoWZujCP36tn9752Ofv/3+/StOd/Cxi8cL4t+wnWje3AiW72/aDBtH2fyQfmxjGNv8WaAPYqK5vwxqfkaRoOj6vc416TTI5pYZM722qock+oJ59810lABRRRQAUUUUAFFFFABRRRQAUUUUAFFFFABRRRQAUUUUAFFFFABRRRQAUUUUAFFFFABRRRQAUUUUAFFFFABRRRQAVwfifwdObqXUdJjEgkO6a2zg7u7JnjnuPyrvKKzqUo1I8siZRUlZnhsz/ZpPLuFeCQdUmUoR+Bpn2q3/AOe0f/fQr3QgMMEAj3pPLj/uL+VcTy9dJGH1bzPDPtVv/wA9o/8AvoUfarf/AJ7R/wDfQr3Py4/7i/lR5cf9xfypf2f/AHvwF9W8zwz7Vb/89o/++hR9qt/+e0f/AH0K9z8uP+4v5UeXH/cX8qP7P/vfgH1bzPDPtVv/AM9o/wDvoUfarf8A57R/99Cvc/Lj/uL+VHlx/wBxfyo/s/8AvfgH1bzPDPtVv/z2j/76FH2q3/57R/8AfQr3Py4/7i/lR5cf9xfyo/s/+9+AfVvM8M+1W/8Az2j/AO+hR9qt/wDntH/30K9z8uP+4v5UeXH/AHF/Kj+z/wC9+AfVvM8M+1W//PaP/voUfarf/ntH/wB9Cvc/Lj/uL+VHlx/3F/Kj+z/734B9W8zwz7Vb/wDPaP8A76FH2q3/AOe0f/fQr3Py4/7i/lR5cf8AcX8qP7P/AL34B9W8zwz7Vb/89o/++hR9qt/+e0f/AH0K9z8uP+4v5UeXH/cX8qP7P/vfgH1bzPD4W+0yCO2V55D0SFS5P4Cu98J+E5rW5TU9TQJMoPkQZzszxubtnHbt9enaABRgAAe1LW1HBxpvmbuzSFFRdwooorsNgooooAKKKKACqV3pkN1KLhGe3u1GFuIThseh7MPY5FXaKabWqE1fcyv7RuNP+XVY1EXa8iB8v/gY6p9eR7jpWorK6BkYMpGQQcgil61ltpcloxl0qVYCTlrZxmFz9P4D7r+INV7svJi1RqVWu9PtL4L9pt0kZfuvjDL9GHI/CobbVI5Zxa3MbWl2ekUh4f3RujD6c+oFX6VpRY9GjM+xahac2V95yD/ljefN+Ug+Yfjuo/tkW/GpWstn/wBND88X/fY6D/eC1p0U+ZP4kK1thkUsc0ayRSLIjDIZTkH8afWdLotoZGltvMs5mOTJbNsyfUr91vxBpu/V7P78cWoRDvHiKX8j8rfmv0o5U9mF2tzToqjb6vZzyiAu0Fwf+WE6mNz9Aev1GRV6paa3GmnsFFFFIYUUUUAFFFFABSEBgQQCD2NLRQBQl0TS5n3tYW4k/vrGFb8xzTP7GRP+Pe9v4PpcGQD8H3CtKir55dyeVGb9l1aL/VanFKPS4tgSfxQr/Kjz9Yi/1ljazj1huCp/75Zcf+PVpUUc/df18g5exjXfiFdPtJbi+06+gSNck7FcH8VYjn3xXKeL9d07XNF0+WwuFkxdDeh4dP3b9R/kV6BPbw3UJhuIY5omxlJFDKccjg1xvxBhig0jTkijSNBd8KigAfu3rHEuDoS01M6ilyvXQ4WiiivnjhNHTrS1mtb25u/OKW6oQsTAE7mx3Bq2uk2yX0UmXks2tDdlX4baM/KcepAGR61X0y/WxsNQAdVmkVBGGQMDhsnggjp61Npl1NfXl6s8hkmuLOSNCfUAMAPT7uMVvHksl1NFbRFGe0SPSbS7DNvmkkVgegC7cY/OrsejwvcW0e+T97YtcnGM7gGOBx0+UUyF7a90eGzluktpoJXdTIrFXVgM8qDgjbVqPVLWLVI2jnYRW9i1uku0gs2xsEDqOTxRGMLpvbT/AIIJIzb+zisUihZ2a8+9Moxtj9F/3vX06U0+RbJGj24lZ0DMxYjGegXHt65qXUp7e+SO9Vgl25xcRBcAt/fHbnuPWqlzIsjoV6CNVP1AxWcrJuwnZPQnhs0k1mKyLN5bzrHuHXBIGfrg1JdW1m9z9lsI7nzhIVJmkXBAz7DH40lvcxLr1vcs2IVnR2YjoARmrI1Jb3Vx/aVzJLZCRyocsVHB28DnGcZx2qko2t5grDLPSJBq1hBeIpguJAoaOQMrDOCAyk1A1rE+jNcxriWG48uTnqrDKn81I/GthNRsoZtIDXFufs900kpgiZUVTtxjIyehrNjIi8OXbH/l4uURP+AhiT/48PzqnGK0Xn+S/UppFK3sLy7UtbWk8yqcExxlgD+FRz281tKYp4ZIpByVkUqfyNTWtzBAjCW0WYk5BMjLj8jUVxKk0xeOERKf4Axb9TzWTUbeZGljSSy0+6067ltmulltkVy0u3a4JAxgdDz6ms22t5Lu5jt4hl5GwM9Pqfati8Wyj0sWtlqVuY8CSXKyB5nA6fdwAOwz7mq6MuiyYdFuHuLYb1yVMW7nGR3xj8DWkoq6v8ymlcsSaPZ/2zY2sM00lvcReYX4DHlhxx32/rVdbG0uNStrSKK7g3th/PILEdsDA561Ne3lneSactvILQxW4VpcufLOWO3gZ79R602/u1/s22s/t32u4SYyeeN2IwQBtBYA9eap8mv9dtO43YR9Lt0eO4bzo7PyBNIrkFwSzKEBwMk7eOOnPasc9eOldAmpQiSW2F0PkixHczAsHlyuXPBP3QVHHA+prJ1KSCbUriS2AELOSuFwPwHb6VFRRtdEyS6FWkP3T9KWkP3T9KyJPW/C/wDyKulf9ekf/oIrWrJ8L/8AIq6V/wBekf8A6CK1q+ih8KPSjsFNZEZlZlUspypI5B6cU6uW8W6xq9jqWgabpElnDNqd1JC011A0oQLEz8KGX+7jrVDN7VNOt9Y0q7027TfbXULQyD/ZYYOPfmlsbL7HY2kEkhuJbeFYvPkA3vgAEn3OMmuGm8carp+heLYtRhtG1bQ/LjjltQwimeZR5XysSQdzAEZNbY1XUNN8T+HfD00qXK3Onzvc3Dr87yRCMbhjAGSzE8flQB0wRBIZAq7yAC2OSPTNOrnxrd1/wsJtB2xfZBpQvd2Dv3+aUxnOMY9qxdE8bXuo+Op9NuIIE0a5a4i0udQd8sluVWUE5wQSXIwOiGgDuqbsQyCQqu8DAbHIHpms7WZ51FnaW0xgkvbjyfOUAmNQjuxAIIzhCBkHBOcHGKrCGbR9TsI0vbm4t7yRoHjuX3lWEbyB1bqPuEEdOQRjHIBsSQQzMjSxRu0Z3IWUHafUelKIYhsxGg2Z24UfLnrj0rlvFWsa3beItA0bRJbGCTUhcmSa7gaUKIlVhgK69cmrcmut4esbaLxFci61CbeVGm6fM+9QRkiNd7AAEZJOKALmjaFb6PZ3UAZrhru5luriSUDMjyNk5HTAGFA9FFamBjGBjpiuQ1bxSLiHwpe6HfK9lqerJbyOEH7yPy5Sy4YZU7kGehBGPWp9H1yWDWvFOn6rdbo9MlW7jmcAbbaRNwBx/dKyDPoBQB06IsaBEUKqjAVRgAUKiJnYqruO44GMn1qKyvLfULGC9tJVltriNZYpF6MrDIP5GvNrHxt4oj8N6d4ovv7Jn0y6vRbSWkMEkc0amcxAq5dgxyAcbRQB6XHbQRSvLHDGkknLsqAFvqe9BtbdnVzBEXRiysUGQT1I96x/+Ex0I682iJePJqKS+TJDHBI3lttDDcQuFBDDDE4JyM5BxBbePfDd3fw2kN+5M8pghnNvIsEsnTakpXYxyCODz2oA6CS3hlkSSSKN3jOUZlBK/Q9qRraBkCNDGUClApUYCnqPpwK4aD4gWemeIfE1nrd9J5dleIIUitXk8iHyY2LP5akhdxb5m9+eK6PUvFmkaWlu0s0832iLzoxZ2styTH/f/dq2F9zQBriCERLEIkEa42ptGBjpgUNBE2/dEh3435UfNj19a4zXvG1tZXvhK/ttTQaJqUs3nSLHu81BAzIAMFs7wvA5J49quXvjHT7zwtqWo6Xqsdo9k6xzSXdnKTbtuXh4SA/IPH1z2oA6eSCGV0eSJHeM5RmUEqfb0pHtbeWERSQRPEDkIyAgH6Vx974hvrbXvF8D6hFbWmm6Xb3MMksHmLAzCUu5C/Mw+ReM9uK1b7xfo+jJZRaheM9zcQCYLb2skhKADMhVAxVMnqaAN0wxGNozGhR87lKjDZ65FJHBDCAIokTChRtUDAHQfSuM8L+NYpvB8er6tdvceff3MFu1tbtK0qrK4QKkakn5FHOO2TW3F4w0GXQLnW/t4jsLVzHcPLG6NE4IBRkYBg2SOMZORjrQBsSwQzhRNEkgU7l3qDg+oz3pfKj2MnlpsfO5dowc9c/WuM0nxkmufERdNsLmQ2KaS881tNbNDIkwlQAkOocfKxx2Oa6DW/Eml+H/ALOuoTyCW5YrBDDA80kmBlsIgLEAdTjAoA0oYIbaPy4Io4k67UUKPyFEkEMro8kSO8ZyjMoJU+3pXGeGPG1teaT4i1nUNTjbTLTVZILebZgCLZGVUADJO5iMYLZOPauh0fxHpmuyXEVnJMLi32maC4t5IJUDfdJSRQcHBwcYoAb4f8O22heGbXQy32qCBSu6VB82WLcjp3rWSONM7EVc4zgYzgYrH1rxXo+gXMNtf3EguJkMixQ28kzhB1cqikhR6niktvF2hXtpZXdtqCS299dtZW0iIxEkw3ZUcdPkb5uhx15FAGtBa29sGEEEUW45by0C5PviiW2gnZGmhjkZDlC6glT6jPSqba7piXeoWr3aJLp0KT3e8FVijYMVYsRjGEboeMc1U0nxfo2t3gtLOeYTtF50aXFrLAZY843pvUb15HIz1FAGvPbQXKBLiGOVQchZFDDP40S20E0YjlhjkjUghXUEDHTis/WPEWm6E1vHeyTGa5LeTDb28k8j7QCxCRqTgZGTjAyKiv8AxXpGnQWUk007tfJ5ltDBayyzSLgEsI1UsAARnIGM80AbKoqAhVC5OTgYyaQRou/CKN5y2B949OfWsV/F2iLo9tqsd1JPa3TFIPs9vJK7sM5UIqlsjByMcY5xVzRtb0/X7JrvTpzLEsjROGjaN43XqrKwBUj0IoAsmytDCsJtYTEp3KnljaD6gVJ5MXH7tOG3j5Rw3r9awtI1u6v/ABd4j0qVYhb6abYQlQQx8yPc245556YArnNW8Yasvh7xPcQPFBPpmtwWMDpGCTE0luG3BsgkiRhnH680AdZHoMY8WTeIJJ3kmazWzijIAWJAxZsepY4z/uitG6ikns54YZjBLJGypKBkoSMBsd8day7jxZodquqNLfAJpQX7a6xOywk9AWAwW6ZAyRnkCqq+OtAksvtcM91NE0pij8mxmdpSBnKKEJdcHO4ZX3oA09A0a38PaBY6RaEmG0hWJWbqxHVj7k5J+tXZIIZXR5IkdozlGZQSp9R6Vztz4psr3R7HUNL1WGGGfUYrQvPbSMSxk2GIpwyOTxlhx3o1Hx/4a0q7u7W6v3E9m226SO2lk8gbQ259qnauGHzHjqM5BwAXvD/h230Lw3b6Ju+1QQ7uZUHzbnLcjp1NayRRx52Iq5xnAxnHArJ1PxPpOkra/aJ5JHu1LW8VrA9xJKoAJZUjBJUAjnGORVzS9UstZ06K/wBPuFntZc7HUEdDggg8ggggg8gigCeG1t7bd5EEUW45by0C5PvinlELhyqlwCA2OQD1rIHivRG8PDXhe/8AEtL+WJfKfO7f5e3ZjdnfxjGau6rqtjommzahqVwtvawgF5GBOMnAAA5JJIAA5OaALDW8LxvG0UbJIcupUEN9R3pklsBayxWxW3doyiSIg+TjAOO+PSsbTvG2gapPPb295ILm3ga4mgmtpYpI41xksrKCOox69s1c/wCEi0r7BpV79r/0fVXjSyfy2/etIpdBjGVyoJ5x70AGgaFbeH/Dtno0GZILaLyyzjmQ9WY+5JJP1rQit4YFCwwxxgDACKBgdccVhXvjfw/p9/LZ3N5IrQOsc8q28jwwO2MLJKFKIeRwSOtTeMdQutK8Fa3qFlL5V1bWM0sMm0NtdUJBwcg8+tAGyUQurlVLqCA2OQD1/lTBa24laUQReY5BZtgySOmT7Vz+geNtF1qa1sIb1pL6W381d0Dok2AN5jYqFcAnnaTUsPjbQptUi09bmdZZpTDDJJaSpDLIM5VZSoRjweh5xQBuGCJgwMSEOQzZUfMR0J/IflSTWtvc7fPgil2HK70DYPtmsv8A4SvRP+EefXftv/EtRzG0vlPkMH8vbsxuzv4xjNQXHjbQbTUvsM9zOj+eLcym0l8gSk4CGXbsBzx160Abk1vDcR7J4Y5UBztdQwz+NO8tA4fYu4DaGxyB6U6igCJbW3V2dYIgzsHYhBksOhPvQ9tBJMk0kMbyp9x2QFl+h7VLRQA0xoZBIUXeBgNjkD0zTqKKACiiigAooooAKKKKACiiigAooooAKKKKACiiigAooooAKKKKACiiigAooooAKKKKACiiigAooooAKKKKACiiigAooooAKKKKACiiigAooooAKKKKACiiigAooooAKKKKACiiigAooooAKKKKACiiigAooooAKKKKACiiigAooooAhubWC8gMNzEssZ52sO/qPQ+9UPL1DTP9SXv7Qf8ALN2/fIPZjw/0OD7mtWiqUmtOgmrlezvre+jL28m7acOhBDIfRlPIP1qxVK80yC7kEwLwXSjCXEJw4HoexHsciq/9oXOnfLqiBoR0vIVOz/ga9U+vI9xT5U/hFe25q0U1HSRFdGVkYZDKcginVBRFcW0F3CYrmGOaM9UkUMPyNUf7KmtudOvpYQP+WM2Zo/yJ3D8GA9q06KpSa0E0mZn9pXdrxqFg4Uf8trXMqfiuNw/Ij3q5a3ltex+ZazxzIOCUYHB9D6Gp6pXWlWd3J50kO2cDAmiYpIP+BLg/hTvF76C1RdorM8nVbP8A1FxHexj+C4GyT8HUYP4r+NKut26MI71JbGQnAFwMKT7OMqfpnPtRyPpqHMuppUUgIIBByD0IpagoKKKKACiiigAooooAK4z4jf8AIL08/wDT3/7I9dnWX4g0ZNd0p7Rn8uQMJIpMZ2OOhx6dR9DWdaLnTcUTNXi0jyOiteXwn4hhkKHTDLj+OKZCp+mSD+Ypn/CMeIP+gRN/39j/APiq8T2FX+VnB7OfYy6dHI8UiyRuyOpyrKcEH2NaX/CMeIP+gRN/39j/APiqP+EY8Qf9Aib/AL+x/wDxVHsKv8rD2c+xl0Vqf8Ix4g/6BE3/AH9j/wDiqP8AhGPEH/QIm/7+x/8AxVHsKv8AKw9nLsZdFan/AAjHiD/oETf9/Y//AIqj/hGPEH/QIm/7+x//ABVHsKv8rD2cuxl0Vqf8Ix4g/wCgRN/39j/+Ko/4RjxB/wBAib/v7H/8VR7Cr/Kw9nLsZdOMjsioXYoudqk8DPXFaX/CMeIP+gRN/wB/Y/8A4qj/AIRjxB/0CJv+/sf/AMVR7Cr/ACsPZz7GXRWp/wAIx4g/6BE3/f2P/wCKo/4RjxB/0CJv+/sf/wAVR7Cr/Kw9nLsZdKzFmJYkk9Sa0/8AhGPEH/QIm/7+x/8AxVH/AAjHiD/oETf9/Y//AIqj2FX+Vh7OXYy6K1P+EY8Qf9Aib/v7H/8AFUf8Ix4g/wCgRN/39j/+Ko9hV/lYezl2MuitT/hGPEH/AECJv+/sf/xVH/CMeIP+gRN/39j/APiqPYVf5WHs5djLpD0Nav8AwjHiD/oETf8Af2P/AOKq9pvgjVr2dRfxiyts/OTIrSMPRQpIH1J/CnHD1W7co1Tm3sdx4YGPCulZ/wCfSP8A9BFa1MiiSCFIYlCxxqFVR0AHAFPr3Yqysd60QVxnjbQpdd13wqnlXTWkN5K9zLbSvE0S+S4B3oQVy2Bwe+K7OimM8/8AG3h2w0P4Z6pHpNoUSKaK/my7SPL5cqO7OzEsx2oeST0q74njvLfxL4f8T2NjPqVpaxTwXEVoA0oSUIVkVSRuAKcgc4NdhNDHcQSQTIskUilHRhkMCMEGmWdpBYWUFnbJst4I1ijTJO1VGAMnnoKAPP55tbutW13xbY6JfQNFpAsNPtriMLNPKXZt+zOVUEqOfQms++8C+INA8MaPPY6tNqVxoM0V1BYpaxqZDnEqhx8x3Kz9eterUUAZuoQS3F7o8scZKQ3bSSE8bVMEq5P4so/Gl1G3lmvtIkjQssF20kh/ur5Eq5/NlH41o0UAcV4v8OL4g8Z+FftVg11p0C3huCQdqEomzJHTJHH0qDXra/0S70rTdJt9TtfDqxTGX+x4Vlm87cCqncCVQ5c5HfqQK7yigDyrR9B1eHw94Vhm0+7Sa28TTXU6SgF44ibjDsRx/EvI45re05y/xB8ZajHA9xFa2dra+XGATLIqPIyDPBOHUfjXb1VstOtNOE4tIVi+0TNcSkEkvI3Vjn8PyAoANNnNzpdpObSS0MkKP9mlUBosgHYQOAR0/CuF+H/gSytvD+mXmsWN1/advNLKsN1cStHC/mvtZYi2xTjBBA75616JRQBxuj6Ld/b/ABwHha2bUbvFvOy43L9nRQwPcBt345rmkttW1PwPongz/hHr+0vrR7SO4upIwLeJYHVmlWTOGLBOAOfmr1eigDzRp9T0XWPGit4Z1K9TVJwbSW3iDrKfs6JtbkFVz/EePvenMaWniPQLPw9osx1f+zbbSESR9HiSR3u1IBRmYHagXoeAe54r0+igDyPTtK1rR9B8BTSaHeXMul3N3Jd2yBTJGrLKAeTgn5gQO/bqKfq+k6trmleOdVg0m8gGqrZw2lrNHtmkEJ+ZynbO7Azzha9ZooA868RaNqVzefEBoLKaRb7Q4YLYqufOkCTgqvqfmX8xT0XUPDnjBdUl0a/v7a80e3tVNnEJHhljLEowyNoO4HJ4yOa9CooA8q06HxPpHg/TLdbLULCOTVbttRWxiSW5hiaSRk2AggqSVywBOORVWLQNbbw/rFyum6jLJH4jt9Ujtrvb591DGsJPT5STtPHqMda9fooA4XSpL7V/icusnRL+x09dGktlmu4wjO/nI2NucjjOM9cHjHJm8QpeaV490vxCum3eoWIsJrKRbSPzJIHZ0dX29SDtK5HTvXaUUAeQS+Htc1Dw3qtydKvbSceKV1YWkboJ3gCx52H7u/qeuNy4ya6zwnYWr65daqsPiI3X2Zbcz6uu0FNxbao4JwcnOMc9a7OigDh9Ra90H4iz6ydIv9Rs73TY7aN7KMSNFIkjttIyMKwcHPTI5rldHt7+XwPo2pQaZNK+m+J7i7ubO3w8ip5k6MFA+8VLjgdcV7FVPTdLs9ItWtrGHyYWlkmK7i2XdizHknqSTQB5pqOja14rXx48OlXVgNTsLOOyF1hGmMZlJB5+UngYPQMM4zitjw7YwXviGwvZ7XxX9rs4pCh1QARQl1CsueNxP+zkcZrv6KAON8cW8ck1jcpa66uoW6SG1vtJiEhiJxlHU5BVsLwwxx1Fc5eab4g/trRPEGtQ6sskmjLaXn9i4MkM4fedyjJKtnnbnBUdsV6rRQB5tJb6ho+haauiW+v22n3eoTT6m/lJLfDcGIYKQcBnwTgZAPQVqfDmwvrKDxA97bX0H2rVnnh+3bfNeMxRAM23jPB+mMdq7WigDhpZL7wv461rUpNH1C/0/V4rdklsIvNaKSJShR1zkZGCD0rFvPD2sXngDxC8mnzxXms61DfJZqQZYovOgA3bTgNsjLHB4/CvU6KAPKb3QtYsfhz4m8HLp01y8UTPY3cUeftqO+75sf8ALUHIbPXg11HjGbV7WXSIdOW/i0pnkW+k0uBZJ0AX92FUg4UnOSBkYHSuuooA8lsNC1g+HtsmnX6yv4vhvttyFMvkebGxkfbx0BJx6Gugg0i8B+IJazk/0+Q/Z8r/AK4fZUXj1G7I+ua7qigDyZ9C1OwvPDOqXEOtpbp4eh0+f+ysGaCZdrEOuCSp5BwOCozXdeD9OttO0NhbQajCtxcS3DrqOPOZ2bLMQOmTzj36Vv0UAeVJpNz/AMLRbwyEB0ZLseJCQejEFRH7DzgXx7V1Xj+wvbzRrG4sbV7x9P1K2vntY8b5kjfLKoPBOOQPat+DSrK21S81KKALeXios8pYksEBCjBOABk9MdauUAeZw3U3iH4mXwGm3VgJvDckMRvECO+ZgNxXkqMnHPPB46Zp2S6zd6P4F0ZvDmp28mi3lt9unmQCNfKiaPKnPzg5zkcAY9a9M/suz/tj+1vJ/wBO+z/ZvN3H/V7t23Gcdec4zVygDyA+HZbV/EGk6vbeKZ4b+/uJ0XTNrQXMUrbhk9FbnB3EdPSu+8ZWE1z8Ptb0+yikmmfTpYYY1+ZnOwgD3NdDRQBxt5pd2fEHgWaK0fyrETrcMq8Qg2xUA+nzYFck8HifWLvRG1O21yTULfW4p7uMwxpZQRLIQDGQMuNpHOWPUnFev0UAeVSaTdf8LSbwyqA6NLdJ4kfB6EAqUI9DMFf8/eqvieDxPrUGrWV1ba5LcDUk+zW8EMa2QtUmRkctjLttGSM5z2AFepw6VZW+q3WqRwAXt0iRzSliSypnaACcADJ6YznmrlABRRRQAUUUUAFFFFABRRRQAUUUUAFFFFABRRRQAUUUUAFFFFABRRRQAUUUUAFFFFABRRRQAUUUUAFFFFABRRRQAUUUUAFFFFABRRRQAUUUUAFFFFABRRRQAUUUUAFFFFABRRRQAUUUUAFFFFABRRRQAUUUUAFFFFABRRRQAUUUUAFFFFABRRRQAUUUUAFFFFABRRRQBmPpb2ztNpUq27k5aBhmFz/u/wAJ91/EGn22qo862t3E1pdnpHIcq/8AuN0b6dfUCtCorm2gvIGhuIkljbqrDIq+a/xE2tsS0VleTf6Zzbs99aj/AJYyN+9Qf7LH730bn37Vcs7+2vkZoJMshw8bAq6H0ZTyDSceq2Gn0LNFFFSMKRlV1KsoZSMEEZBpaKAMw6LDCS2nzS2LddsJ/dn6ocr+QB96PtOqWf8Ax82iXcY/5a2hw34xsf5MfpWnRV87e+pPL2KlpqdneuY4ZwZV+9E4KSL9VOCPyq3Ve7sLS+QLdW8cu3lSw5U+oPUH6VU+wX1pzY37Og/5Y3mZB+D/AHh+O6i0Xs7Bdrc06KzP7Xa241Kzltf+mq/vIv8Avocgf7wFX4Z4riJZYJUljbo6MGB/EUnFrcaaZJRRRUjCiiub8bapPpmggWzmOa5lECyKeUBBJI98Aj8amclCLk+gm7K5qXGu6RaTGG41OzilXqjzqCPqM1F/wk+g/wDQZsP/AAIX/GvIljRBhVApcD0Fea8wf8py/WX2PXP+En0H/oM2H/gQv+NH/CT6D/0GbD/wIX/GvI8D0FGB6Cj+0Jfyh9ZfY9c/4SfQf+gzYf8AgQv+NH/CT6D/ANBmw/8AAhf8a8jwPQUYHoKP7Ql/KH1l9j1z/hJ9B/6DNh/4EL/jR/wk+g/9Bmw/8CF/xryPA9BRgego/tCX8ofWX2PXP+En0H/oM2H/AIEL/jR/wk+g/wDQZsP/AAIX/GvI8D0FGB6Cj+0Jfyh9ZfY9c/4SfQf+gzYf+BC/40f8JPoP/QZsP/Ahf8a8jwPQUYHoKP7Ql/KH1l9j1z/hJ9B/6DNh/wCBC/40f8JPoP8A0GbD/wACF/xryPA9BRgego/tCX8ofWX2PXP+En0H/oM2H/gQv+NH/CT6D/0GbD/wIX/GvI8D0FGB6Cj+0Jfyh9ZfY9c/4SfQf+gzYf8AgQv+NH/CT6D/ANBmw/8AAhf8a8jwPQUYHoKP7Ql/KH1l9j1z/hJ9B/6DNh/4EL/jR/wk+g/9Bmw/8CF/xryPA9BRgego/tCX8ofWX2PXP+En0H/oM2H/AIEL/jVyz1Cy1BC1ndwXCr1MUgbH1xXi+B6CpLa5n067jvbNtlxEcjHRh3U+oNVHMNfeQ1iNdUe20VXsbtL+wt7yMEJPEsig9gRmrFeludQV578TJ7+W88N6XDpz3dld34E0aXYh88rHIwiPfHAb0+XFehVg+INEudV1Xw9dQPEqadfm5mDkgsvlOmFwDk5Ydcd6AM3VPE974XsjLL4anXRbIRxSXP2tGdU+VdypyWAz3IJwTisHxPcTJqPxFCyyKI/DcTIAxG07Ljkeh4qDxH8OdY1mTXozbaJdyX85mtdUvpHae1j+XEKpsO3GCAyt0OcE10WteEb/AFG78XSwzWyrrGkJY24dmBWQLKCXwOF/eL0yevFADx4qmtf7O0fTtOOo6h/Z0d1MHuFhSOMjauWbOWYg4GOxJxQPH0N1pmkS6Zps91qGqSSxw2LOsZRoiRLvY5ACkYyM5yMdazNV8BzPrVpqyaRoWskadFZT2uqDCqyZIkjcxvjqQRtGQBVu58K6pb/8I/qWj2Wi2moaUZ1bT4S0Vq8c2NwVlTII2qc7eTnigC3LrEsuveGI9QstQ0+8uZbpPsyXYMWUiJy4XiRSBlemDziuW8Z+M73V/BOoXFho12ukvcpBDqazqCxSdVLbM7ghKsAevTgA11baLrmo634b1XUjp8cunS3LzxW7uQFkjKIFJHzEZGSdvsK5ubwR4rHhCbwhbTaQNLScvBdySSea8fneaEZAuFIPG7J4HTnIAOo1DxXeLrd5pWiaHJqk9iiPdt9oSFYy43KgLfeYjnHAAI55rV0DW7XxHoVrq1mJFhuFJCSDDIwJVlYeoYEH6VgT6N4j0jxPq+qaAmmXUOrCJ5Yr2Z4jBKibNwKo25SoGRwcjrVnQNC1Xw1pWiaVZzWdxbRPK+pTTBlkdnLPmIDgfvGPXtQB1FFFFABRRRQAUUUUAFFFFABRRRQAUUUUAFFFFABRRRQAUUUUAFFFFABRRRQAUUUUAFFFFABRRRQAUUUUAFFFFABRRRQAUUUUAFFFFABRRRQAUUUUAFFFFABRRRQAUUUUAFFFFABRRRQAUUUUAFFFFABRRRQAUUUUAFFFFABRRRQAUUUUAFFFFABRRRQAUUUUAFFFFABRRRQAUUUUAFFFFABRRRQAUUUUAFFFFABRRRQAUUUUAFFFFABRRRQAUUUUAFFFFABRRRQAUUUUAFFFFABRRRQAUUUUAFFFFABRRRQAUUUUAFFFFABRRRQAUUUUAFU7zTYLx1lO+G5QYS4iO119s9x7HI9quUU02tUJq+5lfbrrTvl1NBJAOl5CpwP99eq/UZH0rTjkSWNZI3V0YZVlOQR7GnVmSaU1vI0+lyi1kY5aIjMMh917H3XHvmq92Xkxao06Kz7fVVM62t7EbS6bhUc5ST/cbo304PtWhUuLW400wooopDCiiigArPm0a0klaaJXtbhuTLbNsYn3A4b/AIEDWhRTUmthNJ7mZ/xN7PtFqEQ9MRS//Esf++akg1mzllWCRmtrhuBDcL5bH6Z4b8Cav1HPBDcxNFPEksbdUdQwP4Gq5k90KzWxJXGfEb/kGaf/ANff/sj1s3mkXdvaSf2HdvbzEYWKZy0I/AhiuO2MCuO8S2+tWfh7T7fWJredkuwI5onZmYeW/DZUfnWOJgvYSkn/AJmdST5WmjmqKKK+eOEKK0NDRJNdsUkVWRplBVhkHmtO9gaWz8q/S2jvHuVSDylRX2HIbcF7dMZrSNPmjctRurnOEEdRiiujmEJ1HWL14VlWxxFDE4yv3gi5HcADpVS7+23GnpcTrZPF5ijfCsYdCQSFO38eD6UOnYHGxj0V1OsCT+13tTJY/ZWuVTyYo4w4Xd0yBkfnWLDdz3LyRTSs8Zjc7CflBCkjA7YI7USpqLtcHGzsUKK2vD6Myag0fkCVLcFGnCbVO9efm46ZpgtWvb+VbrfNMoXC6fCjgj1+XA4o9m2k11Dl0Miggg4Iwa3pLI6da65aFi3liHDEYJBYEZHY81V1ob2srr+K4tUZz6sMqT+O3NEqbS1/rWwONkZdFaEVhaPCjtqcaMVBKmGQ4PpkDFO0WGOS8lklRZFt4JJgjDIYqpIz7ZxUqDbS7i5dTNorYupPt2gLeSpGLiO58rfHGE3KVzyAAOCP1qTSZ0TTWiinsobpp85uYw2V2joSpA5+lUqava4+XUw6K37Nms31KG4ezt78ypg3EQZRy27HykDqKdD/AKLf3S37WsdyzRMHaING0fVtoAI5G3t60/ZbahynPUVvXunvBaTpa2+d7s8pOMog5CAHngEFsdOB2rBqJwcXZiasFIfun6UtIfun6VIj1vwv/wAirpX/AF6R/wDoIrWrJ8L/APIq6V/16R/+gitavoofCj0o7BRRRVDCiiigAooooAKKKKACiiigAooooAKKKKACiiigAooooAKKKKACiiigAooooAKKKKACiiigAooooAKKKKACiiigAooooAKKKKACiiigAooooAKKKKACiiigAooooAKKKKACiiigAooooAKKKKACiiigAooooAKKKKACiiigAooooAKKKKACiiigAooooAKKKKACiiigAooooAKKKKACiiigAooooAKKKKACiiigAooooAKKKKACiiigAooooAKKKKACiiigAooooAKKKKACiiigAooooAKKKKACiiigAooooAKKKKACiiigAooooAKKKKACiiigAooooAKKKKACiiigAooooAKKKKAIri3hu4GhuIklibqrjINZ/kX+mc2rNe2o/wCWEr/vUH+w5+99G/767Vq0VSk1p0E1cq2eoW98reS53ocSRONrofRlPIq1VS8023vWWRt0dwg/dzxHa6fQ9x7HIPpVX7beab8uop51uOl3CnT/AH0HI+oyPpT5VL4RXa3NWimRSxzxLLFIskbDKuhyCPY0+oKCiiigAooooAK4z4jf8gzT/wDr7/8AZHrs64/4ixsdFs5QCViu1Ln0BVhn8yB+NY4j+FIip8DPP6KKK8E84sWF0bG/guggcwuH2k4zio1lZZxMvDBtw+uc1HRTu7WHc2bnUkt9Zu7i3Ec9tdjdJE3QhsMVPoQe/tUE+pQGxNpa2fkRtKsrlpS5JAIA6DA5NZtFU6kncfMzWu9Wtbm7a8XTzHctIJN/nEjIOemKzYZTC5YAHKsvPuCP61HRSlNyd2DbepZtbw21vdxBA32iMRk5+78wbP6VNZ6glvZz2k1uZYpWVztkKHIzjJ7jnpVCihTaFdmndaw1yb4+Qqfa1jBAY4TZjp+VM1aeOSW3hicPHbW6Rbh0J6sR+JNZ9FDm2tRuTZej1nU4o1jj1C6RFG1VWVgAPQVFYXrWF0JlRZAVZHRujqRgj8jVailzyunfYV2ayX1pM9tatB9n0+OXzZVLl2c45547DA+tV4bqwQsZdO8w7yyYmKgDsp9f0qjRVc7HzM0W1GC5up7i/tPPklfdlJSm326HihtVMmpfbXgQsiBYYwfljwML164/nWdRS55BzM0odXaO22PF5ky+aElL9PMGGyO56/n3rNoopOTe4m2wpD90/SlpsjBI2YngCkB654X/AORV0r/r0j/9BFa1Z2g28lp4e063mUrJHbRq6nsQoyK0a+ij8KPSWwUUUVQwooooAKKKKACiiigAooooAKKKKACiiigAooooAKKKKACiiigAooooAKKKKACiiigAooooAKKKKACiiigAooooAKKKKACiiigAooooAKKKKACiiigAooooAKKKKACiiigAooooAKKKKACiiigAooooAKKKKACiiigAooooAKKKKACiiigAooooAKKKKACiiigAooooAKKKKACiiigAooooAKKKKACiiigAooooAKKKKACiiigAooooAKKKKACiiigAooooAKKKKACiiigAooooAKKKKACiiigAooooAKKKKACiiigAooooAKKKKACiiigAooooAKKKKACiiigAooooAKKKKACiiigAooooAKKKKAM2XSjDK1xpsotZmO50xmKQ/wC0vY+4wfXNLBqoEy21/EbS5Y4UMcxyH/Yfv9Dg+1aNRzwQ3ULQzxJLEwwyOMg1fNfSRNrbElFZX2a+0zmzZru2H/LtM/zqP9hz1+jfmKt2eoW98GETESJxJE42uh91PI+vQ9qTjpdaoafRlqiiipGFQ3dpBf2ktrcxiSGVdroe4qao554rWCSeeRY4o1LO7HAAofmBw83w5kEp+zatti/hWaDew/EMM/lUf/Curv8A6DEP/gKf/i60ZfiJpayEQ2d9Mg6SKiqG+m5gf0pn/CxbD/oG3/5R/wDxdcLhhL9DntRKP/Curv8A6DEP/gKf/i6P+FdXf/QYh/8AAU//ABdXv+Fi2H/QNv8A8o//AIuj/hYth/0Db/8AKP8A+LpcmE8gtRKP/Curv/oMQ/8AgKf/AIuj/hXV3/0GIf8AwFP/AMXV7/hYth/0Db/8o/8A4uj/AIWLYf8AQNv/AMo//i6OTCeQWolH/hXV3/0GIf8AwFP/AMXR/wAK6u/+gxD/AOAp/wDi6vf8LFsP+gbf/lH/APF0f8LFsP8AoG3/AOUf/wAXRyYTyC1Eo/8ACurv/oMQ/wDgKf8A4uj/AIV1d/8AQYh/8BT/APF1e/4WLYf9A2//ACj/APi6P+Fi2H/QNv8A8o//AIujkwnkFqJR/wCFdXf/AEGIf/AU/wDxdH/Curv/AKDEP/gKf/i6vf8ACxbD/oG3/wCUf/xdH/CxbD/oG3/5R/8AxdHJhPILUSj/AMK6u/8AoMQ/+Ap/+Lo/4V1d/wDQYh/8BT/8XV7/AIWLYf8AQNv/AMo//i6P+Fi2H/QNv/yj/wDi6OTCeQWolH/hXV3/ANBiH/wFP/xdH/Curv8A6DEP/gKf/i6vf8LFsP8AoG3/AOUf/wAXR/wsWw/6Bt/+Uf8A8XRyYTyC1Eo/8K6u/wDoMQ/+Ap/+Lo/4V1d/9BiH/wABT/8AF1e/4WLYf9A2/wDyj/8Ai6P+Fi2H/QNv/wAo/wD4ujkwnkFqJR/4V1d/9BiH/wABT/8AF0f8K6u/+gxD/wCAp/8Ai6vf8LFsP+gbf/lH/wDF0f8ACxbD/oG3/wCUf/xdHJhPILUSj/wrq7/6DEP/AICn/wCLrS0fwJbWN0l1fXJvZIzujTy9iKfUjJyfx/Co/wDhYth/0Db/APKP/wCLrR0jxlper3S2qia2uG+4lwoG/wChBIJ9utXTjhub3bXHFUr6HQ0UUV2G4UUUUAFFFFABRRRQAUUUUAFFFFABRRRQAUUUUAFFFFABRRRQAUUUUAFFFFABRRRQAUUUUAFFFFABRRRQAUUUUAFFFFABRRRQAUUUUAFFFFABRRRQAUUUUAFFFFABRRRQAUUUUAFFFFABRRRQAUUUUAFFFFABRRRQAUUUUAFFFFABRRRQAUUUUAFFFFABRRRQAUUUUAFFFFABRRRQAUUUUAFFFFABRRRQAUUUUAFFFFABRRRQAUUUUAFFFFABRRRQAUUUUAFFFFABRRRQAUUUUAFFFFABRRRQAUUUUAFFFFABRRRQAUUUUAFFFFABRRRQAUUUUAFFFFABRRRQAUUUUAFFFFABRRRQAUUUUAFFFFABRRRQAUUUUAFVLzTre9KvIGSZP9XPGdsifQ+nseD3FW6KabTuhNXMr7Xe6bxfobi3H/L1CnzL/voP5rx7CtKGaK4hWWGRJI3GVdDkEexp9Zs2leXM1zp0v2Sdjl1C5ikP+0nr7jB96q8Zb6MWqNKuP+IsrrolpCCQk10ocf3gFZsfmAfwrei1YRSCDUo/sc54VmbMUn+6/wDQ4PtXL+Oby31DQNKu7WQSQy3W5WH+49YYmMo0pMmpJOLscTRRRXz554UVJBBLczpDCheRzhVHU1LdWF3ZBDcQPGH+6xHB+hp2drjs9ytRV3+yb03UtukO+SEAyBT93OOv54pF0q+e5a3W3Yyqu5hkcD1J6CnyS7DsynRUtxbzWszQzxlJF6qfzqRrGVFbJjLoMtGHG5R349u47UrMVmVqKmtbS4vZDHbxGRwu4gdh60XFrNaSCOdCjkZwSDxRZ2uFnuQ0VNDbSzxTyIAVhQO/PQZA/mRRc20lrIqSY+ZFdSDkFSMg0WdrhYhoopQCSABknoBSEJRU1zaXFlIsdzC0TsoYKwwcGpbXTby9jL20DSKDgkEdafK72sOz2KlFWzpl79t+xfZpDc8HywMnnmmQ2NzPO8MURaSP746beccn68UcsuwWZXoqYWs5Ex8sjyP9bu4284wc989qhpWAKa4yuQSGB3KwOCpHQg+tOpD90/ShAexaJdSX2g2F1McyzW6O59SVGav1k+F/+RV0r/r0j/8AQRWtX0UfhR6S2CiiiqGFFFFABRRRQAUUUUAFFFFABRRRQAUUUUAFFFFABRRRQAUUUUAFFFFABRRRQAUUUUAFFFFABRRRQAUUUUAFFFFABRRRQAUUUUAFFFFABRRRQAUUUUAFFFFABRRRQAUUUUAFFFFABRRRQAUUUUAFFFFABRRRQAUUUUAFFFFABRRRQAUUUUAFFFFABRRRQAUUUUAFFFFABRRRQAUUUUAFFFFABRRRQAUUUUAFFFFABRRRQAUUUUAFFFFABRRRQAUUUUAFFFFABRRRQAUUUUAFFFFABRRRQAUUUUAFFFFABRRRQAUUUUAFFFFABRRRQAUUUUAFFFFABRRRQAUUUUAFFFFABRRRQAUUUUAFFFFABRRRQAUUUUAFFFFABRRRQBDdWsN7ay21wgeGVSrqe4NefeLdBtdB0q1jspJvIkvQ3ku+5UPlvyvGef6V6PXGfEb/AJBmn/8AX3/7I9ZYiclQlG+hlViuVs4KiiivAOA1fDeP+EgtM9Nx/wDQTVm0uLLdY6ZA8s0b30cskkqBB/dwBk9icnNYkM0lvKssLlJF6MvUU1GZHV1OGU5BHY1pGpypL+uhalZWOggeNv8AhIXulkZSQXCMA2fOHcg96o2l7bW7XURtpnsLgKjguN645BDAYzkHjFMl1e4Go3F3Zu9sZzlwjdzyfwzk01dZ1FZ3mF5L5jgKxz94Dpmqc1da7eXqPmRLd2KWWq2yRyGSKURyoXGG2tyAR61BbknU+e7Nn8jVeW4mnnM8srvKTkuzZOfrTA7BtwYhvUHmoclfQm6voa2geVu1Hzt/l/Yn3bMZxlemaWzigzcXFuIhbRBQ0l6m8qSTgBVznOPTtWVHNJCHEbld6lGx3U9qktr25syxt5nj3jDbT1pxmlZPoNSWhv3VvFbyawsCqqNZRPtUEAFmjJwDyBk1m6n82laQ7ffMDqfoJGxVOS+upWkaS4kdpVCOWbJZRjAP5CnX159raEKmyOGJYkUnPTqfxJJ/GqlUTTt/WtxuSdzSs7eze0iaSCwZyOTJelGP1GeKxxI8M++JijK2VZG6fQ1HTo5HhlWSNirqcqR2NZuV7Et3NPWyXbTicljZR/UnmodKshdaksc4KwxZknJ/hReW/wAPxpf7Yu5JoHu5XuEhcOI3bjI6VWe9uHkuJDKwa4JMuON2Tnn8apyi5cw21e5oWuoT3XiSKfeyCe5TcinA27hhfoOPyoWfbql9am3edbmYrsR9rZD5GDg/yrPtby5snL20zRMRglac+o3clx9oed2m2lN564Oc/wAzTVTTXcOY37yCPUQyJcBDNcSkmNNyyTBdzEnPCjdtHXue9cvU8N7c28LwxTukb/eUHrxg/pxUFTUmpaik0wpD90/SlpD90/SoEet+F/8AkVdK/wCvSP8A9BFa1ZPhf/kVdK/69I//AEEVrV9FD4UelHYKKKKoYUUUUAFFFFABRRRQAUUUUAFFFFABRRRQAUUUUAFFFFABRRRQAUUUUAFFFFABRRRQAUUUUAFFFFABRRRQAUUUUAFFFFABRRRQAUUUUAFFFFABRRRQAUUUUAFFFFABRRRQAUUUUAFFFFABRRRQAUUUUAFFFFABRRRQAUUUUAFFFFABRRRQAUUUUAFFFFABRRRQAUUUUAFFFFABRRRQAUUUUAFFFFABRRRQAUUUUAFFFFABRRRQAUUUUAFFFFABRRRQAUUUUAFFFFABRRRQAUUUUAFFFFABRRRQAUUUUAFFFFABRRRQAUUUUAFFFFABRRRQAUUUUAFFFFABRRRQAUUUUAFFFFABRRRQAUUUUAFFFFABRRRQAUUUUAFFFFABXMeO9OnvtCSS3jMj2swmKKMllwQcD1+bP4V09FTOKnFxfUUldWPDVkR13KwI9jS5HqK9gn0DR7mVpZ9KspJGOWdoFJJ9zio/+EY0H/oDWH/gOv8AhXm/2fL+Y5fqz7nkeR6ijI9RXrn/AAjGg/8AQGsP/Adf8KP+EY0H/oDWH/gOv+FH9ny/mD6s+55HkeooyPUV65/wjGg/9Aaw/wDAdf8ACj/hGNB/6A1h/wCA6/4Uf2fL+YPqz7nkeR6ijI9RXrn/AAjGg/8AQGsP/Adf8KP+EY0H/oDWH/gOv+FH9ny/mD6s+55HkeooyPUV65/wjGg/9Aaw/wDAdf8ACj/hGNB/6A1h/wCA6/4Uf2fL+YPqz7nkeR6ijI9RXrn/AAjGg/8AQGsP/Adf8KP+EY0H/oDWH/gOv+FH9ny/mD6s+55HkeooyPUV65/wjGg/9Aaw/wDAdf8ACj/hGNB/6A1h/wCA6/4Uf2fL+YPqz7nkeR6ijI9RXrn/AAjGg/8AQGsP/Adf8KP+EY0H/oDWH/gOv+FH9ny/mD6s+55HkeooyPUV65/wjGg/9Aaw/wDAdf8ACj/hGNB/6A1h/wCA6/4Uf2fL+YPqz7nkeR6ijI9RXrn/AAjGg/8AQGsP/Adf8KP+EY0H/oDWH/gOv+FH9ny/mD6s+55Hkeop0Uct3cJa2sZmuZDhI16/U+g969a/4RjQf+gNYf8AgOv+FW7PTbHTwwsrO3tw33vKjC5+uKccvd9WNYfXViaXZ/2dpNnZbtxghSMt6kADNW6KK9NK2h1BRRRQAUUUUAFFFFABRRRQAUUUUAFFFFABRRRQAUUUUAFFFFABRRRQAUUUUAFFFFABRRRQAUUUUAFFFFABRRRQAUUUUAFFFFABRRRQAUUUUAFFFFABRRRQAUUUUAFFFFABRRRQAUUUUAFFFFABRRRQAUUUUAFFFFABRRRQAUUUUAFFFFABRRRQAUUUUAFFFFABRRRQAUUUUAFFFFABRRRQAUUUUAFFFFABRRRQAUUUUAFFFFABRRRQAUUUUAFFFFABRRRQAUUUUAFFFFABRRRQAUUUUAFFFFABRRRQAUUUUAFFFFABRRRQAUUUUAFFFFABRRRQAUUUUAFFFFABRRRQAUUUUAFFFFABRRRQAUUUUAFFFFABRRRQAUUUUAFFFFABRRRQAUUUUAFFFFABRRRQAUUUUAFFFFABRRRQAUUUUAFFFFABRRRQAUUUUAFFFFABRRRQAUUUUAFFFFABRRRQAUUUUAFFFFABRRRQAUUUUAFFFFABRRRQAUUUUAFFFFABRRRQAUUUUAFFFFABRRRQAUUUUAFFFFABRRRQAUUUUAFFFFABRRRQAUUUUAFFFFABRRRQAUUUUAFFFFABRRRQAUUUUAFFFFABRRRQAUUUUAFFFFABRRRQAUUUUAFFFFABRRRQAUUUUAFFFFABRRRQAUUUUAFFFFABRRRQAUUUUAFFFFABRRRQAUUUUAFFFFABRRRQAUUUUAFFFFABRRRQAUUUUAFFFFABRRRQAUUUUAFFFFABRRRQAUUUUAFFFFABRRRQAUUUUAFFFFABRRRQAUUUUAFFFFABRRRQAUUUUAFFFFABRRRQAUUUUAFFFFABRRRQAUUUUAFFFFABRRRQAUUUUAFFFFABRRRQAUUUUAFFFFABRRRQAUUUUAFFFFABRRRQAUUUUAFFFFABRRRQAUUUUAFFFFABRRRQAUUUUAFFFFABRRRQAUUUUAFFFFABRRRQAUUUUAFFFFABRRRQAUUUUAFFFFABRRRQAUUUUAFFFFABRRRQAUUUUAFFFFABRRRQAUUUUAFFFFABRRRQAUUUUAFFFFABRRRQAUUUUAFFFFABRRRQAUUUUAFFFFABRRRQAUUUUAFFFFABRRRQAUUUUAFFFFABRRRQAUUUUAFFFFABRRRQAUUUUAFFFFABRRRQAUUUUAFFFFABRRRQAUUUUAFFFFABRRRQAUUUUAFFFFABRRRQAUUUUAFFFFABRRRQAUUUUAFFFFABRRRQAUUUUAFFFFABRRRQAUUUUAFFFFABRRRQAUUUUAFFFFABRRRQAUUUUAFFFFABRRRQAUUUUAFFFFABRRRQAUUUUAFFFFABRRRQAUUUUAFFFFABRRRQAUUUUAFFFFABRRRQAUUUUAFFFFABRRRQAUUUUAFFFFABRRRQAUUUUAFFFFABRRRQAUUUUAFFFFABRRRQAUUUUAFFFFABRRRQAUUUUAFFFFABRRRQAUUUUAFFFFABRRRQAUUUUAFFFFABRRRQAUUUUAFFFFABRRRQAUUUUAFFFFABRRRQAUUUUAFFFFABRRRQAUUUUAf/2Q==)"
      ],
      "metadata": {
        "id": "IT8mctbSrBVo"
      }
    },
    {
      "cell_type": "markdown",
      "source": [
        "# Conclusión\n",
        "\n",
        "Como conclusión del análisis, podemos decir que, para la población de estudio, las probabilidades de supervivencia son altas en general para todos los países observados. De todas maneras, las diferencias entre ellos en lo referente a sus respectivas tasas de mortalidad pueden guiar el camino a entender las claves del éxito/fracaso del manejo de la pandemia. Como vimos anteriormente, el envejecimiento de la población es uno de los factores claves del aumento del riesgo del COVID, pero no es el único. La falta de PCRs realizados puede subvalorar los números respecto a la pandemia, como también las políticas tomadas por cada país (ej.: cuarentena, mascarilla obligatoria, etc.) podrían arrojar mas luz sobre cual fue el camino óptimo a tomar para el dataset estudiado en su contexto temporal (febrero 2020)."
      ],
      "metadata": {
        "id": "EOgKnX6FuYqm"
      }
    }
  ]
}