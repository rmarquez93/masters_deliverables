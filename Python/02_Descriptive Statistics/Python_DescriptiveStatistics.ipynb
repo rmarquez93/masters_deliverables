{
  "nbformat": 4,
  "nbformat_minor": 0,
  "metadata": {
    "colab": {
      "name": "M2_AI2_MarquezRodrigo.ipynb",
      "provenance": [],
      "collapsed_sections": []
    },
    "kernelspec": {
      "name": "python3",
      "display_name": "Python 3"
    },
    "language_info": {
      "name": "python"
    }
  },
  "cells": [
    {
      "cell_type": "code",
      "execution_count": null,
      "metadata": {
        "id": "EORrS09RelGB"
      },
      "outputs": [],
      "source": [
        "import pandas as pd\n",
        "import numpy as np\n",
        "import scipy.stats as ss\n",
        "import seaborn as sns\n",
        "import matplotlib.pyplot as plt"
      ]
    },
    {
      "cell_type": "code",
      "source": [
        "url = \"https://raw.githubusercontent.com/md-lorente/data/master/datos_facturas.csv\"\n",
        "\n",
        "ventas_df = pd.read_csv(url, sep=\";\", parse_dates = [\"fecha\"])\n",
        "ventas_df.head(10)"
      ],
      "metadata": {
        "colab": {
          "base_uri": "https://localhost:8080/",
          "height": 363
        },
        "id": "YNRe6P7cen1w",
        "outputId": "2f85510c-5b04-415d-92cf-334068a62015"
      },
      "execution_count": null,
      "outputs": [
        {
          "output_type": "execute_result",
          "data": {
            "text/html": [
              "\n",
              "  <div id=\"df-299c3cc9-76c8-41db-a9cf-0d52a1197b05\">\n",
              "    <div class=\"colab-df-container\">\n",
              "      <div>\n",
              "<style scoped>\n",
              "    .dataframe tbody tr th:only-of-type {\n",
              "        vertical-align: middle;\n",
              "    }\n",
              "\n",
              "    .dataframe tbody tr th {\n",
              "        vertical-align: top;\n",
              "    }\n",
              "\n",
              "    .dataframe thead th {\n",
              "        text-align: right;\n",
              "    }\n",
              "</style>\n",
              "<table border=\"1\" class=\"dataframe\">\n",
              "  <thead>\n",
              "    <tr style=\"text-align: right;\">\n",
              "      <th></th>\n",
              "      <th>id</th>\n",
              "      <th>fecha</th>\n",
              "      <th>mes</th>\n",
              "      <th>cliente</th>\n",
              "      <th>factura_pagada</th>\n",
              "      <th>importe_factura</th>\n",
              "      <th>tipo_IVA</th>\n",
              "      <th>porcentaje_IVA</th>\n",
              "      <th>IVA</th>\n",
              "      <th>total_pagado</th>\n",
              "    </tr>\n",
              "  </thead>\n",
              "  <tbody>\n",
              "    <tr>\n",
              "      <th>0</th>\n",
              "      <td>1</td>\n",
              "      <td>2010-01-01</td>\n",
              "      <td>Enero</td>\n",
              "      <td>clienteA</td>\n",
              "      <td>si</td>\n",
              "      <td>100</td>\n",
              "      <td>normal</td>\n",
              "      <td>18</td>\n",
              "      <td>18</td>\n",
              "      <td>118</td>\n",
              "    </tr>\n",
              "    <tr>\n",
              "      <th>1</th>\n",
              "      <td>2</td>\n",
              "      <td>2010-02-01</td>\n",
              "      <td>Enero</td>\n",
              "      <td>clienteB</td>\n",
              "      <td>no</td>\n",
              "      <td>150</td>\n",
              "      <td>normal</td>\n",
              "      <td>18</td>\n",
              "      <td>27</td>\n",
              "      <td>177</td>\n",
              "    </tr>\n",
              "    <tr>\n",
              "      <th>2</th>\n",
              "      <td>3</td>\n",
              "      <td>2010-03-01</td>\n",
              "      <td>Enero</td>\n",
              "      <td>clienteC</td>\n",
              "      <td>si</td>\n",
              "      <td>75</td>\n",
              "      <td>normal</td>\n",
              "      <td>18</td>\n",
              "      <td>13,5</td>\n",
              "      <td>88,5</td>\n",
              "    </tr>\n",
              "    <tr>\n",
              "      <th>3</th>\n",
              "      <td>4</td>\n",
              "      <td>2010-04-01</td>\n",
              "      <td>Enero</td>\n",
              "      <td>clienteD</td>\n",
              "      <td>si</td>\n",
              "      <td>200</td>\n",
              "      <td>normal</td>\n",
              "      <td>18</td>\n",
              "      <td>36</td>\n",
              "      <td>236</td>\n",
              "    </tr>\n",
              "    <tr>\n",
              "      <th>4</th>\n",
              "      <td>5</td>\n",
              "      <td>2010-05-01</td>\n",
              "      <td>Enero</td>\n",
              "      <td>clienteA</td>\n",
              "      <td>no</td>\n",
              "      <td>125</td>\n",
              "      <td>normal</td>\n",
              "      <td>18</td>\n",
              "      <td>22,5</td>\n",
              "      <td>147,5</td>\n",
              "    </tr>\n",
              "    <tr>\n",
              "      <th>5</th>\n",
              "      <td>6</td>\n",
              "      <td>2010-06-01</td>\n",
              "      <td>Enero</td>\n",
              "      <td>clienteB</td>\n",
              "      <td>si</td>\n",
              "      <td>100</td>\n",
              "      <td>reducido</td>\n",
              "      <td>8</td>\n",
              "      <td>8</td>\n",
              "      <td>108</td>\n",
              "    </tr>\n",
              "    <tr>\n",
              "      <th>6</th>\n",
              "      <td>7</td>\n",
              "      <td>2010-07-01</td>\n",
              "      <td>Enero</td>\n",
              "      <td>clienteC</td>\n",
              "      <td>si</td>\n",
              "      <td>175</td>\n",
              "      <td>reducido</td>\n",
              "      <td>8</td>\n",
              "      <td>14</td>\n",
              "      <td>189</td>\n",
              "    </tr>\n",
              "    <tr>\n",
              "      <th>7</th>\n",
              "      <td>8</td>\n",
              "      <td>2010-08-01</td>\n",
              "      <td>Enero</td>\n",
              "      <td>clienteD</td>\n",
              "      <td>no</td>\n",
              "      <td>200</td>\n",
              "      <td>normal</td>\n",
              "      <td>18</td>\n",
              "      <td>36</td>\n",
              "      <td>236</td>\n",
              "    </tr>\n",
              "    <tr>\n",
              "      <th>8</th>\n",
              "      <td>9</td>\n",
              "      <td>2010-09-01</td>\n",
              "      <td>Enero</td>\n",
              "      <td>clienteA</td>\n",
              "      <td>si</td>\n",
              "      <td>100</td>\n",
              "      <td>normal</td>\n",
              "      <td>18</td>\n",
              "      <td>18</td>\n",
              "      <td>118</td>\n",
              "    </tr>\n",
              "    <tr>\n",
              "      <th>9</th>\n",
              "      <td>10</td>\n",
              "      <td>2010-10-01</td>\n",
              "      <td>Enero</td>\n",
              "      <td>clienteB</td>\n",
              "      <td>si</td>\n",
              "      <td>100</td>\n",
              "      <td>normal</td>\n",
              "      <td>18</td>\n",
              "      <td>18</td>\n",
              "      <td>118</td>\n",
              "    </tr>\n",
              "  </tbody>\n",
              "</table>\n",
              "</div>\n",
              "      <button class=\"colab-df-convert\" onclick=\"convertToInteractive('df-299c3cc9-76c8-41db-a9cf-0d52a1197b05')\"\n",
              "              title=\"Convert this dataframe to an interactive table.\"\n",
              "              style=\"display:none;\">\n",
              "        \n",
              "  <svg xmlns=\"http://www.w3.org/2000/svg\" height=\"24px\"viewBox=\"0 0 24 24\"\n",
              "       width=\"24px\">\n",
              "    <path d=\"M0 0h24v24H0V0z\" fill=\"none\"/>\n",
              "    <path d=\"M18.56 5.44l.94 2.06.94-2.06 2.06-.94-2.06-.94-.94-2.06-.94 2.06-2.06.94zm-11 1L8.5 8.5l.94-2.06 2.06-.94-2.06-.94L8.5 2.5l-.94 2.06-2.06.94zm10 10l.94 2.06.94-2.06 2.06-.94-2.06-.94-.94-2.06-.94 2.06-2.06.94z\"/><path d=\"M17.41 7.96l-1.37-1.37c-.4-.4-.92-.59-1.43-.59-.52 0-1.04.2-1.43.59L10.3 9.45l-7.72 7.72c-.78.78-.78 2.05 0 2.83L4 21.41c.39.39.9.59 1.41.59.51 0 1.02-.2 1.41-.59l7.78-7.78 2.81-2.81c.8-.78.8-2.07 0-2.86zM5.41 20L4 18.59l7.72-7.72 1.47 1.35L5.41 20z\"/>\n",
              "  </svg>\n",
              "      </button>\n",
              "      \n",
              "  <style>\n",
              "    .colab-df-container {\n",
              "      display:flex;\n",
              "      flex-wrap:wrap;\n",
              "      gap: 12px;\n",
              "    }\n",
              "\n",
              "    .colab-df-convert {\n",
              "      background-color: #E8F0FE;\n",
              "      border: none;\n",
              "      border-radius: 50%;\n",
              "      cursor: pointer;\n",
              "      display: none;\n",
              "      fill: #1967D2;\n",
              "      height: 32px;\n",
              "      padding: 0 0 0 0;\n",
              "      width: 32px;\n",
              "    }\n",
              "\n",
              "    .colab-df-convert:hover {\n",
              "      background-color: #E2EBFA;\n",
              "      box-shadow: 0px 1px 2px rgba(60, 64, 67, 0.3), 0px 1px 3px 1px rgba(60, 64, 67, 0.15);\n",
              "      fill: #174EA6;\n",
              "    }\n",
              "\n",
              "    [theme=dark] .colab-df-convert {\n",
              "      background-color: #3B4455;\n",
              "      fill: #D2E3FC;\n",
              "    }\n",
              "\n",
              "    [theme=dark] .colab-df-convert:hover {\n",
              "      background-color: #434B5C;\n",
              "      box-shadow: 0px 1px 3px 1px rgba(0, 0, 0, 0.15);\n",
              "      filter: drop-shadow(0px 1px 2px rgba(0, 0, 0, 0.3));\n",
              "      fill: #FFFFFF;\n",
              "    }\n",
              "  </style>\n",
              "\n",
              "      <script>\n",
              "        const buttonEl =\n",
              "          document.querySelector('#df-299c3cc9-76c8-41db-a9cf-0d52a1197b05 button.colab-df-convert');\n",
              "        buttonEl.style.display =\n",
              "          google.colab.kernel.accessAllowed ? 'block' : 'none';\n",
              "\n",
              "        async function convertToInteractive(key) {\n",
              "          const element = document.querySelector('#df-299c3cc9-76c8-41db-a9cf-0d52a1197b05');\n",
              "          const dataTable =\n",
              "            await google.colab.kernel.invokeFunction('convertToInteractive',\n",
              "                                                     [key], {});\n",
              "          if (!dataTable) return;\n",
              "\n",
              "          const docLinkHtml = 'Like what you see? Visit the ' +\n",
              "            '<a target=\"_blank\" href=https://colab.research.google.com/notebooks/data_table.ipynb>data table notebook</a>'\n",
              "            + ' to learn more about interactive tables.';\n",
              "          element.innerHTML = '';\n",
              "          dataTable['output_type'] = 'display_data';\n",
              "          await google.colab.output.renderOutput(dataTable, element);\n",
              "          const docLink = document.createElement('div');\n",
              "          docLink.innerHTML = docLinkHtml;\n",
              "          element.appendChild(docLink);\n",
              "        }\n",
              "      </script>\n",
              "    </div>\n",
              "  </div>\n",
              "  "
            ],
            "text/plain": [
              "   id      fecha    mes   cliente  ...  tipo_IVA  porcentaje_IVA   IVA  total_pagado\n",
              "0   1 2010-01-01  Enero  clienteA  ...    normal              18    18           118\n",
              "1   2 2010-02-01  Enero  clienteB  ...    normal              18    27           177\n",
              "2   3 2010-03-01  Enero  clienteC  ...    normal              18  13,5          88,5\n",
              "3   4 2010-04-01  Enero  clienteD  ...    normal              18    36           236\n",
              "4   5 2010-05-01  Enero  clienteA  ...    normal              18  22,5         147,5\n",
              "5   6 2010-06-01  Enero  clienteB  ...  reducido               8     8           108\n",
              "6   7 2010-07-01  Enero  clienteC  ...  reducido               8    14           189\n",
              "7   8 2010-08-01  Enero  clienteD  ...    normal              18    36           236\n",
              "8   9 2010-09-01  Enero  clienteA  ...    normal              18    18           118\n",
              "9  10 2010-10-01  Enero  clienteB  ...    normal              18    18           118\n",
              "\n",
              "[10 rows x 10 columns]"
            ]
          },
          "metadata": {},
          "execution_count": 2
        }
      ]
    },
    {
      "cell_type": "code",
      "source": [
        "ventas_df.info()"
      ],
      "metadata": {
        "colab": {
          "base_uri": "https://localhost:8080/"
        },
        "id": "Qw9P0pUxffDY",
        "outputId": "ea8e1532-ed59-4856-c6c3-e9be618db1c0"
      },
      "execution_count": null,
      "outputs": [
        {
          "output_type": "stream",
          "name": "stdout",
          "text": [
            "<class 'pandas.core.frame.DataFrame'>\n",
            "RangeIndex: 45 entries, 0 to 44\n",
            "Data columns (total 10 columns):\n",
            " #   Column           Non-Null Count  Dtype         \n",
            "---  ------           --------------  -----         \n",
            " 0   id               45 non-null     int64         \n",
            " 1   fecha            45 non-null     datetime64[ns]\n",
            " 2   mes              45 non-null     object        \n",
            " 3   cliente          45 non-null     object        \n",
            " 4   factura_pagada   45 non-null     object        \n",
            " 5   importe_factura  45 non-null     int64         \n",
            " 6   tipo_IVA         45 non-null     object        \n",
            " 7   porcentaje_IVA   45 non-null     int64         \n",
            " 8   IVA              45 non-null     object        \n",
            " 9   total_pagado     45 non-null     object        \n",
            "dtypes: datetime64[ns](1), int64(3), object(6)\n",
            "memory usage: 3.6+ KB\n"
          ]
        }
      ]
    },
    {
      "cell_type": "code",
      "source": [
        "ventas_df.isnull().values.any()"
      ],
      "metadata": {
        "colab": {
          "base_uri": "https://localhost:8080/"
        },
        "id": "_uaffbYDc6LU",
        "outputId": "6c67fb9a-1b7d-46f5-ec2b-f227233c338f"
      },
      "execution_count": null,
      "outputs": [
        {
          "output_type": "execute_result",
          "data": {
            "text/plain": [
              "False"
            ]
          },
          "metadata": {},
          "execution_count": 4
        }
      ]
    },
    {
      "cell_type": "markdown",
      "source": [
        "En esta exploración primaria del dataset se puede notar que no hay valores nulos en el mismo."
      ],
      "metadata": {
        "id": "IScN_hekd3l1"
      }
    },
    {
      "cell_type": "code",
      "source": [
        "#Convierto a base numérica las variables que voy a usar principalmente\n",
        "\n",
        "ventas_df[\"total_pagado\"].replace(\",\",\".\", inplace=True, regex=True)\n",
        "ventas_df[\"total_pagado\"] = ventas_df[\"total_pagado\"].astype(np.float64)\n",
        "\n",
        "ventas_df[\"IVA\"].replace(\",\",\".\", inplace=True, regex=True)\n",
        "ventas_df[\"IVA\"] = ventas_df[\"IVA\"].astype(np.float64)\n"
      ],
      "metadata": {
        "id": "HBgUKLgSftwM"
      },
      "execution_count": null,
      "outputs": []
    },
    {
      "cell_type": "markdown",
      "source": [
        "\n",
        "Fecha : variable estadística cuantitativa continua que a nivel de análisis se toma como variable analítica\n",
        "\n",
        "Mes: Al igual que fecha, es una variable cuantitativa continua pero que se toma de forma analítica para el análisis de datos\n",
        "\n",
        "Cliente: Variable estadística cualitativa nominal. Analítica para el análisis de datos\n",
        "\n",
        "Factura_Pagada: Variable dicotómica asimétrica (uno declara la ausencia del otro). A efectos del análisis es una variable analítica\n",
        "\n",
        "Importe_factura: Variable cuantitativa continua y utilizada como variable cuantitativa a efectos de su análisis\n",
        "\n",
        "Tipo_IVA: Variable dicotómica simétrica (Si bien siguen un orden, la variable no indica la ausencia/presencia de algo; ambas tienen sus propias características). A su vez, se supone que ambos valores son los únicos posibles para esta variable (normal y reducido). \n",
        "\t A efectos del análisis de datos es una variable analítica\n",
        "\n",
        "Porcentaje IVA: Variable cuantitativa continua. A efectos del análisis es una variable cuantitativa\n",
        "\n",
        "IVA: Variable cuantitativa continua que se toma como cuantitativa para su análisis\n",
        "\n",
        "Total_pagado: Variable cuantitativa continua que se toma como cuantitativa para su análisis"
      ],
      "metadata": {
        "id": "DrIDsFV0qXFR"
      }
    },
    {
      "cell_type": "code",
      "source": [
        "# Indica las medidas de centralización: media, mediana y moda. \n",
        "\n",
        "# Estudio de las principales medidas (Cuartiles, mínimo, máximo, media, recuento y desv. estandar)\n",
        "print(ventas_df[\"total_pagado\"].describe())\n",
        "\n",
        "# Por esta parte, se calcula la media. En este caso, la moda es tomada por dos valores que tienen la misma frecuencia.\n",
        "\n",
        "print(\"\"\"\\nModa: {} , {} \\nAmbos valores se repiten la misma cantidad de veces\"\"\".\\\n",
        "      format(ventas_df[\"total_pagado\"].mode()[0],\\\n",
        "             ventas_df[\"total_pagado\"].mode()[1]))\n",
        "\n",
        "#Cálculo de la mediana (que es igual al 2do cuartil)\n",
        "\n",
        "print(\"\\nMediana: {}\".format(ventas_df[\"total_pagado\"].median()))"
      ],
      "metadata": {
        "colab": {
          "base_uri": "https://localhost:8080/"
        },
        "id": "yg9N5tIJhaZY",
        "outputId": "544da05d-948d-43f9-aeef-036133b98fc8"
      },
      "execution_count": null,
      "outputs": [
        {
          "output_type": "stream",
          "name": "stdout",
          "text": [
            "count     45.000000\n",
            "mean     147.308889\n",
            "std       57.936116\n",
            "min       29.500000\n",
            "25%      108.000000\n",
            "50%      135.000000\n",
            "75%      189.000000\n",
            "max      236.000000\n",
            "Name: total_pagado, dtype: float64\n",
            "\n",
            "Moda: 118.0 , 236.0 \n",
            "Ambos valores se repiten la misma cantidad de veces\n",
            "\n",
            "Mediana: 135.0\n"
          ]
        }
      ]
    },
    {
      "cell_type": "markdown",
      "source": [
        "A partir de las medidas tomadas anteriormente, se puede notar que:\n",
        "\n",
        "1) El valor central (por posición de la distribución) es 135. Se podría decir que hasta ese punto se acumula el 50% del total de las factuas pagadas.\n",
        "\n",
        "2) La moda, que son los valores mas repetidos, corresponde a una forma bimodal que toma los valores 118 y 236. Esto de alguna manera puede ayudar a explicar también la media aritmética.\n",
        "\n",
        "3) La media es de 147,308889. En el punto 2 se dice que la moda puede explicar en parte la media y se debe principalmente al hecho de que ambos valores influyen de manera considerable en el cálculo de la misma. Como se puede ver en la distribución de frecuencias de debajo, ambos valores se repiten 8 veces. Esto hace que la media se posicione entre medio de ellos. Un motivo importante que hace que la media no esté tan cercana a 236 es el hecho de que hay varios valores pequeños que pesan en el cálculo de la media (ej.: 29,5 ; 32,4 ; etc.) "
      ],
      "metadata": {
        "id": "plWlOGjTeUeN"
      }
    },
    {
      "cell_type": "code",
      "source": [
        "frec_abs_df = pd.DataFrame(ventas_df[\"total_pagado\"].copy())\n",
        "\n",
        "frec_abs_df[\"Frec Absoluta\"] = frec_abs_df.groupby(\"total_pagado\")[\"total_pagado\"].transform(\"count\")\n",
        "frec_abs_df.drop_duplicates(subset= \"total_pagado\", inplace=True)\n",
        "frec_abs_df.sort_values(by= \"total_pagado\")"
      ],
      "metadata": {
        "colab": {
          "base_uri": "https://localhost:8080/",
          "height": 426
        },
        "id": "kTIl0kWofXXh",
        "outputId": "eb50aa92-08ca-4763-bc7b-d3c1ac505c0e"
      },
      "execution_count": null,
      "outputs": [
        {
          "output_type": "execute_result",
          "data": {
            "text/html": [
              "\n",
              "  <div id=\"df-09a461ce-f627-46fc-aa32-9d108711c0ef\">\n",
              "    <div class=\"colab-df-container\">\n",
              "      <div>\n",
              "<style scoped>\n",
              "    .dataframe tbody tr th:only-of-type {\n",
              "        vertical-align: middle;\n",
              "    }\n",
              "\n",
              "    .dataframe tbody tr th {\n",
              "        vertical-align: top;\n",
              "    }\n",
              "\n",
              "    .dataframe thead th {\n",
              "        text-align: right;\n",
              "    }\n",
              "</style>\n",
              "<table border=\"1\" class=\"dataframe\">\n",
              "  <thead>\n",
              "    <tr style=\"text-align: right;\">\n",
              "      <th></th>\n",
              "      <th>total_pagado</th>\n",
              "      <th>Frec Absoluta</th>\n",
              "    </tr>\n",
              "  </thead>\n",
              "  <tbody>\n",
              "    <tr>\n",
              "      <th>43</th>\n",
              "      <td>29.5</td>\n",
              "      <td>1</td>\n",
              "    </tr>\n",
              "    <tr>\n",
              "      <th>44</th>\n",
              "      <td>32.4</td>\n",
              "      <td>1</td>\n",
              "    </tr>\n",
              "    <tr>\n",
              "      <th>42</th>\n",
              "      <td>59.0</td>\n",
              "      <td>1</td>\n",
              "    </tr>\n",
              "    <tr>\n",
              "      <th>2</th>\n",
              "      <td>88.5</td>\n",
              "      <td>6</td>\n",
              "    </tr>\n",
              "    <tr>\n",
              "      <th>5</th>\n",
              "      <td>108.0</td>\n",
              "      <td>4</td>\n",
              "    </tr>\n",
              "    <tr>\n",
              "      <th>0</th>\n",
              "      <td>118.0</td>\n",
              "      <td>8</td>\n",
              "    </tr>\n",
              "    <tr>\n",
              "      <th>20</th>\n",
              "      <td>135.0</td>\n",
              "      <td>2</td>\n",
              "    </tr>\n",
              "    <tr>\n",
              "      <th>4</th>\n",
              "      <td>147.5</td>\n",
              "      <td>4</td>\n",
              "    </tr>\n",
              "    <tr>\n",
              "      <th>1</th>\n",
              "      <td>177.0</td>\n",
              "      <td>6</td>\n",
              "    </tr>\n",
              "    <tr>\n",
              "      <th>6</th>\n",
              "      <td>189.0</td>\n",
              "      <td>2</td>\n",
              "    </tr>\n",
              "    <tr>\n",
              "      <th>15</th>\n",
              "      <td>206.5</td>\n",
              "      <td>2</td>\n",
              "    </tr>\n",
              "    <tr>\n",
              "      <th>3</th>\n",
              "      <td>236.0</td>\n",
              "      <td>8</td>\n",
              "    </tr>\n",
              "  </tbody>\n",
              "</table>\n",
              "</div>\n",
              "      <button class=\"colab-df-convert\" onclick=\"convertToInteractive('df-09a461ce-f627-46fc-aa32-9d108711c0ef')\"\n",
              "              title=\"Convert this dataframe to an interactive table.\"\n",
              "              style=\"display:none;\">\n",
              "        \n",
              "  <svg xmlns=\"http://www.w3.org/2000/svg\" height=\"24px\"viewBox=\"0 0 24 24\"\n",
              "       width=\"24px\">\n",
              "    <path d=\"M0 0h24v24H0V0z\" fill=\"none\"/>\n",
              "    <path d=\"M18.56 5.44l.94 2.06.94-2.06 2.06-.94-2.06-.94-.94-2.06-.94 2.06-2.06.94zm-11 1L8.5 8.5l.94-2.06 2.06-.94-2.06-.94L8.5 2.5l-.94 2.06-2.06.94zm10 10l.94 2.06.94-2.06 2.06-.94-2.06-.94-.94-2.06-.94 2.06-2.06.94z\"/><path d=\"M17.41 7.96l-1.37-1.37c-.4-.4-.92-.59-1.43-.59-.52 0-1.04.2-1.43.59L10.3 9.45l-7.72 7.72c-.78.78-.78 2.05 0 2.83L4 21.41c.39.39.9.59 1.41.59.51 0 1.02-.2 1.41-.59l7.78-7.78 2.81-2.81c.8-.78.8-2.07 0-2.86zM5.41 20L4 18.59l7.72-7.72 1.47 1.35L5.41 20z\"/>\n",
              "  </svg>\n",
              "      </button>\n",
              "      \n",
              "  <style>\n",
              "    .colab-df-container {\n",
              "      display:flex;\n",
              "      flex-wrap:wrap;\n",
              "      gap: 12px;\n",
              "    }\n",
              "\n",
              "    .colab-df-convert {\n",
              "      background-color: #E8F0FE;\n",
              "      border: none;\n",
              "      border-radius: 50%;\n",
              "      cursor: pointer;\n",
              "      display: none;\n",
              "      fill: #1967D2;\n",
              "      height: 32px;\n",
              "      padding: 0 0 0 0;\n",
              "      width: 32px;\n",
              "    }\n",
              "\n",
              "    .colab-df-convert:hover {\n",
              "      background-color: #E2EBFA;\n",
              "      box-shadow: 0px 1px 2px rgba(60, 64, 67, 0.3), 0px 1px 3px 1px rgba(60, 64, 67, 0.15);\n",
              "      fill: #174EA6;\n",
              "    }\n",
              "\n",
              "    [theme=dark] .colab-df-convert {\n",
              "      background-color: #3B4455;\n",
              "      fill: #D2E3FC;\n",
              "    }\n",
              "\n",
              "    [theme=dark] .colab-df-convert:hover {\n",
              "      background-color: #434B5C;\n",
              "      box-shadow: 0px 1px 3px 1px rgba(0, 0, 0, 0.15);\n",
              "      filter: drop-shadow(0px 1px 2px rgba(0, 0, 0, 0.3));\n",
              "      fill: #FFFFFF;\n",
              "    }\n",
              "  </style>\n",
              "\n",
              "      <script>\n",
              "        const buttonEl =\n",
              "          document.querySelector('#df-09a461ce-f627-46fc-aa32-9d108711c0ef button.colab-df-convert');\n",
              "        buttonEl.style.display =\n",
              "          google.colab.kernel.accessAllowed ? 'block' : 'none';\n",
              "\n",
              "        async function convertToInteractive(key) {\n",
              "          const element = document.querySelector('#df-09a461ce-f627-46fc-aa32-9d108711c0ef');\n",
              "          const dataTable =\n",
              "            await google.colab.kernel.invokeFunction('convertToInteractive',\n",
              "                                                     [key], {});\n",
              "          if (!dataTable) return;\n",
              "\n",
              "          const docLinkHtml = 'Like what you see? Visit the ' +\n",
              "            '<a target=\"_blank\" href=https://colab.research.google.com/notebooks/data_table.ipynb>data table notebook</a>'\n",
              "            + ' to learn more about interactive tables.';\n",
              "          element.innerHTML = '';\n",
              "          dataTable['output_type'] = 'display_data';\n",
              "          await google.colab.output.renderOutput(dataTable, element);\n",
              "          const docLink = document.createElement('div');\n",
              "          docLink.innerHTML = docLinkHtml;\n",
              "          element.appendChild(docLink);\n",
              "        }\n",
              "      </script>\n",
              "    </div>\n",
              "  </div>\n",
              "  "
            ],
            "text/plain": [
              "    total_pagado  Frec Absoluta\n",
              "43          29.5              1\n",
              "44          32.4              1\n",
              "42          59.0              1\n",
              "2           88.5              6\n",
              "5          108.0              4\n",
              "0          118.0              8\n",
              "20         135.0              2\n",
              "4          147.5              4\n",
              "1          177.0              6\n",
              "6          189.0              2\n",
              "15         206.5              2\n",
              "3          236.0              8"
            ]
          },
          "metadata": {},
          "execution_count": 7
        }
      ]
    },
    {
      "cell_type": "code",
      "source": [
        "#Indica las medidas de dispersión: rango, varianza, desviación típica y coeficiente de variación.\n",
        "\n",
        "#Rango (tomando rango como la distancia entre el mínimo y el máximo, a diferencia del rango intercuartílico)\n",
        "print(\"El valor del rango es: {}\".format(ventas_df[\"total_pagado\"].max() - ventas_df[\"total_pagado\"].min()))\n",
        "\n",
        "#Varianza\n",
        "print(\"Varianza: {}\".format(ventas_df[\"total_pagado\"].var()))\n",
        "\n",
        "#Desv Típica\n",
        "print(\"Desviación típica: {}\".\\\n",
        "      format(\\\n",
        "             round(ventas_df[\"total_pagado\"].std(),4)\\\n",
        "             ))\n",
        "\n",
        "#Coeficiente de variación = Desv estandar / Media \n",
        "print(\"Coeficiente de variación: {}\".format(ventas_df[\"total_pagado\"].std() / ventas_df[\"total_pagado\"].mean()))"
      ],
      "metadata": {
        "colab": {
          "base_uri": "https://localhost:8080/"
        },
        "id": "7ouEH756ib7K",
        "outputId": "fbe27cab-1280-46a7-96fd-73e7f2845ec6"
      },
      "execution_count": null,
      "outputs": [
        {
          "output_type": "stream",
          "name": "stdout",
          "text": [
            "El valor del rango es: 206.5\n",
            "Varianza: 3356.5935555555566\n",
            "Desviación típica: 57.9361\n",
            "Coeficiente de variación: 0.39329681050279197\n"
          ]
        }
      ]
    },
    {
      "cell_type": "markdown",
      "source": [
        "El rango por si mismo da únicamente una noción de dispersión de los datos en términos \"brutos\" y no relativos. Dicho esto, nos muestra la amplitud que se genera entre el valor máximo y mínimo de una distribución pero no ahonda en la importancia relativa de esos valores. En este caso en particular, podemos decir que la ditribución abarca una amplitud de 206.5 $ pero a partir de esta medida no podemos determinar si los valores extremos tienen un peso importante o no en la distribución.\n",
        "\n",
        "La varianza por si misma es el cuadrado de las diferencias de los valores respecto a la media. Si bien el valor en este caso es alto (3356,5936) no podemos decir que esto se traduce en una alta desviación ya que en la práctica resulta ser poco explicativa. Para tomar la medida de dispersión, se suele utilizar la desviación típica.\n",
        "\n",
        "En este caso, podemos decir que los valores, siguiendo la campana de Gauss, donde se concentran la mayor cantidad de datos alrededor de la media es de +/- 57,9361.\n",
        "\n",
        "Por último, el coeficiente de variación ronda el 0,3933 (aproximando a 4 cifras, un 39,33 %). Dado esto, podemos decir que los datos tienden a ser homogéneos en lo que refiere al total pagado y que la media aritmética del dataset es una cifra representativa de la distribución analizada.\n"
      ],
      "metadata": {
        "id": "azfLgG0KgoOC"
      }
    },
    {
      "cell_type": "code",
      "source": [
        "#Indica las medidas de posición: \n",
        "# rango intercuartílico, cuartil primero y decil 3. ¿Cuál es la factura que tiene como mínimo el 10% del total pagado de las facturas?\n",
        "\n",
        "#Rango intercuartílico\n",
        "print(\"IQR: {}\".format(ventas_df[\"total_pagado\"].quantile(.75)-\n",
        "                       ventas_df[\"total_pagado\"].quantile(.25)))\n",
        "\n",
        "print(\"\\nPrimer cuartil: {}\".format(ventas_df[\"total_pagado\"].quantile(0.25)))\n",
        "\n",
        "print(\"\\nDecil tercero: {}\".format(ventas_df[\"total_pagado\"].quantile(0.30)))\n",
        "\n",
        "#Para obtener la factura que tiene como mínimo el 10% del total de facturas hay que buscar el decil 9 (90%)\n",
        "\n",
        "print(\"\\nDecil 9: {}\".format(ventas_df[\"total_pagado\"].quantile(0.9)))\n"
      ],
      "metadata": {
        "colab": {
          "base_uri": "https://localhost:8080/"
        },
        "id": "nTfNaWlymngu",
        "outputId": "0faefb2b-3c72-4816-af57-8070c1150e70"
      },
      "execution_count": null,
      "outputs": [
        {
          "output_type": "stream",
          "name": "stdout",
          "text": [
            "IQR: 81.0\n",
            "\n",
            "Primer cuartil: 108.0\n",
            "\n",
            "Decil tercero: 118.0\n",
            "\n",
            "Decil 9: 236.0\n"
          ]
        }
      ]
    },
    {
      "cell_type": "markdown",
      "source": [
        "El rango intercuartílico es la diferencia entre el tercer cuartil y el primero. En este rango estarían concentrados entonces el 50% de los datos de la distribución. Se puede ver que es bastante menor al rango (206,5 vs 81) y es por el hecho de que no toma valores extremos sino que solamente se centra en los valores cercanos a la mediana. Esto hace que el IQR sea un estadístico robusto, poco sensible a ese tipo de valores, y que nos de una idea de la amplitud de la distribución central del dataset.\n",
        "\n",
        "Con respecto a la pregunta que pide aquella factura que concentra como mínimo el 10% del total pagado, lo que estamos buscando es aquel dato que representa el umbral donde se encuentra el \"top 10%\" de facturas. En este caso, el valor coincide también con el valor máximo de la distribución."
      ],
      "metadata": {
        "id": "B97LrYW3jqM0"
      }
    },
    {
      "cell_type": "code",
      "source": [
        "# Indica las medidas de concentración y forma: curtosis, asimetría y un gráfico.\n",
        "\n",
        "#Asimetría\n",
        "print(\"Asimetría: {}\".format(ventas_df[\"total_pagado\"].skew()))\n",
        "\n",
        "#Curtosis\n",
        "print(\"Curtosis: {}\".format(ventas_df[\"total_pagado\"].kurt()))\n",
        "\n",
        "print(\"\\n\"+\"-\"*120)\n",
        "\n",
        "sns.displot(ventas_df[\"total_pagado\"], kind=\"kde\", bw_adjust = .85)\n",
        "#Se ajusta el smoothing minimamente para mostrar el quiebre en 236; valor que es bastante frecuente en la distribución.\n",
        "#En el gráfico también se nota de manera explícita la asimetría positiva y también la forma platicúrtica que tiene debido a la existencia de otros valores\n",
        "#Frecuentes (ej.:236).\n",
        "\n",
        "plt.show()"
      ],
      "metadata": {
        "colab": {
          "base_uri": "https://localhost:8080/",
          "height": 438
        },
        "id": "N_eskm6TnXDG",
        "outputId": "f083b83e-c5ac-4b60-d529-5832e145482c"
      },
      "execution_count": null,
      "outputs": [
        {
          "output_type": "stream",
          "name": "stdout",
          "text": [
            "Asimetría: 0.09644182245694456\n",
            "Curtosis: -0.7990963830478419\n",
            "\n",
            "------------------------------------------------------------------------------------------------------------------------\n"
          ]
        },
        {
          "output_type": "display_data",
          "data": {
            "image/png": "[encoded data removed]",
            "text/plain": [
              "<Figure size 360x360 with 1 Axes>"
            ]
          },
          "metadata": {
            "needs_background": "light"
          }
        }
      ]
    },
    {
      "cell_type": "markdown",
      "source": [
        "A nivel conceptual, la asimetría nos da una noción sobre la forma de la distribución respecto a la media. Busca entender si la distribución se comporta de forma similar tanto por encima como por debajo de la media. En este caso particular, podemos notar que es una asimetría positiva (0,09644182245694456) que se traduce en una mayor asimetría hacia la derecha de la media. Esto se puede notar gráficamente en la parte superior y se puede explicar principalmente al hecho de tener valores altamente frecuentes (236) por encima de la media.\n",
        "\n",
        "Por otro lado, la curtosis busca explicar cómo están concentrados los datos respecto a la campana de Gauss. En este caso, al tener una distribución bimodal, se influye en la forma platicúrtica del data set debido a que ambas generan peso relativo a ambos lados de la moda."
      ],
      "metadata": {
        "id": "DqYMt8cyllSD"
      }
    },
    {
      "cell_type": "code",
      "source": [
        "# Realiza un análisis rápido con box-plot y sus medidas.\n",
        "\n",
        "fig = plt.figure(figsize= (15,5))\n",
        "\n",
        "sns.boxplot(ventas_df[\"total_pagado\"])\n",
        "\n",
        "fig.show()"
      ],
      "metadata": {
        "colab": {
          "base_uri": "https://localhost:8080/",
          "height": 390
        },
        "id": "drT0EkXyotYj",
        "outputId": "70606edb-3e9b-4015-cf3a-1d542bbdc23a"
      },
      "execution_count": null,
      "outputs": [
        {
          "output_type": "stream",
          "name": "stderr",
          "text": [
            "/usr/local/lib/python3.7/dist-packages/seaborn/_decorators.py:43: FutureWarning: Pass the following variable as a keyword arg: x. From version 0.12, the only valid positional argument will be `data`, and passing other arguments without an explicit keyword will result in an error or misinterpretation.\n",
            "  FutureWarning\n"
          ]
        },
        {
          "output_type": "display_data",
          "data": {
            "image/png": "[encoded data removed]",
            "text/plain": [
              "<Figure size 1080x360 with 1 Axes>"
            ]
          },
          "metadata": {
            "needs_background": "light"
          }
        }
      ]
    },
    {
      "cell_type": "markdown",
      "source": [
        "En este diagrama de cajas, se refleja claramente algunos parámetros que fueron calculados inicialmente. Tanto los cuartiles como el rango se muestran de manera clara aquí. \n",
        "\n",
        "Por otra parte, el diagrama no señala valores extremos; todos se encuentran por encima del cerco inferior y por debajo del superior. Dado que no los superan, tanto el mínimo como el máximo pasan a ser esos cercos.\n",
        "\n",
        "Esto se puede constatar al hacer los cálculos matemáticos.\n",
        "\n",
        "IQR == 81\n",
        "\n",
        "Cerco inferior == Q1 - IQRx1.5 == 108 - 121.5 == -13.5\n",
        "\n",
        "Cerco superior == Q3 + IQRX1.5 == 189 + 121.5 == 310.5\n",
        "\n",
        "Mínimo --> 29.5 (Por encima del cerco superior) \n",
        "\n",
        "Máximo --> 236 (Por debajo del cerco superior)\n",
        "\n",
        "Por último, dentro de la caja se concentran la mayoría de los datos, lo cual también puede ser confirmado por el gráfico de frecuencias de la celda anterior. El único valor que \"trastoca\" la dist. de frecuencias es 236; el cual también explica la forma platicúrtica de las frecuencias."
      ],
      "metadata": {
        "id": "FA59SauzbQlo"
      }
    },
    {
      "cell_type": "code",
      "source": [
        "# Analiza los resultados e informa de quién es el cliente que ha pagado más en todas las facturas.\n",
        "\n",
        "#Antes de realizar el recuento, reviso si no hay valores distintos a si/no (ante, por ejemplo, un posible error de tipeo o valor no previsto)\n",
        "print(ventas_df[\"factura_pagada\"].unique())\n",
        "\n",
        "print(ventas_df.loc[(ventas_df[\"factura_pagada\"]== \"si\"),[\"cliente\",\"total_pagado\"]]\\\n",
        "                                                                              .groupby(\"cliente\").sum(\"total_pagado\")\\\n",
        "                                                                              .sort_values(\"total_pagado\", ascending=False))\n",
        "\n",
        "#Tanto el cliente A como el D han pagado 1534 en total y son, por lo tanto, los clientes que mas dinero han gastado."
      ],
      "metadata": {
        "colab": {
          "base_uri": "https://localhost:8080/"
        },
        "id": "I053_rOOpiNE",
        "outputId": "74f498df-4cd2-4806-a22d-b56946b45106"
      },
      "execution_count": null,
      "outputs": [
        {
          "output_type": "stream",
          "name": "stdout",
          "text": [
            "['si' 'no']\n",
            "          total_pagado\n",
            "cliente               \n",
            "clienteA        1534.0\n",
            "clienteD        1534.0\n",
            "clienteB         924.0\n",
            "clienteC         584.5\n"
          ]
        }
      ]
    },
    {
      "cell_type": "markdown",
      "source": [
        "Al agrupar por cliente y generar la sumatoria del total pagado por cada uno de ellos, llegamos a la conclusión de que tanto el cliente \"A\" como el cliente \"D\" han sido los que mayor monto han gastado (1534 $ Cada uno)."
      ],
      "metadata": {
        "id": "0h2_XF-rntns"
      }
    },
    {
      "cell_type": "code",
      "source": [
        "#¿Quién es el cliente que más facturas no ha pagado en el mes de febrero?\n",
        "\n",
        "\n",
        "#Filtrando el df por el mes de febrero. Posteriormente se agrupa por cliente para aplicar una función lambda que recuente los valores\n",
        "#factura_pagada== \"no\"\n",
        "\n",
        "print(ventas_df[(ventas_df[\"mes\"] == \"Febrero\")].\\\n",
        "                                          groupby(\"cliente\")\\\n",
        "                                          [\"factura_pagada\"].\\\n",
        "                                          apply(lambda x: x[x == \"no\"].count()).\\\n",
        "                                          sort_values(ascending = False))\n",
        "\n",
        "print(len(ventas_df[(ventas_df[\"cliente\"] == \"clienteC\") & (ventas_df[\"mes\"] == \"Febrero\")]))"
      ],
      "metadata": {
        "colab": {
          "base_uri": "https://localhost:8080/"
        },
        "id": "EDst-QnissNx",
        "outputId": "dd86b8fc-78b2-4050-c780-1e5ee7185f14"
      },
      "execution_count": null,
      "outputs": [
        {
          "output_type": "stream",
          "name": "stdout",
          "text": [
            "cliente\n",
            "clienteC    2\n",
            "clienteA    1\n",
            "clienteB    1\n",
            "clienteD    1\n",
            "Name: factura_pagada, dtype: int64\n",
            "3\n"
          ]
        }
      ]
    },
    {
      "cell_type": "code",
      "source": [
        "print(ventas_df[(ventas_df[\"mes\"] == \"Enero\")].\\\n",
        "                                          groupby(\"cliente\")\\\n",
        "                                          [\"factura_pagada\"].\\\n",
        "                                          apply(lambda x: x[x == \"no\"].count()).\\\n",
        "                                          sort_values(ascending = False))\n",
        "\n",
        "print(len(ventas_df[(ventas_df[\"cliente\"] == \"clienteC\") & (ventas_df[\"mes\"] == \"Enero\")]))"
      ],
      "metadata": {
        "colab": {
          "base_uri": "https://localhost:8080/"
        },
        "id": "aYw9sRWcoH3Z",
        "outputId": "41447a32-aea6-40e9-d33f-f8b5e13d09cf"
      },
      "execution_count": null,
      "outputs": [
        {
          "output_type": "stream",
          "name": "stdout",
          "text": [
            "cliente\n",
            "clienteA    3\n",
            "clienteB    2\n",
            "clienteC    2\n",
            "clienteD    2\n",
            "Name: factura_pagada, dtype: int64\n",
            "6\n"
          ]
        }
      ]
    },
    {
      "cell_type": "markdown",
      "source": [
        "El cliente \"C\" es quien tiene mas facturas pendiente de pago para el mes de febrero (2 facturas). Al comparar con el mes anterior podemos ir siguiendo la tendencia del cliente para reevaluar su riesgo de impago y mejorar nuestras previsiones de incobrabilidad. Tomando en cuenta que Febrero es posterior a Enero, podemos decir que el cliente \"C\" empeoró su calidad de deuda. Esto se debe a que durante enero mantenían un 33% de facturas morosas pero en febrero saltó a un 66% para los meses analizados."
      ],
      "metadata": {
        "id": "jdqWt4kQn7mM"
      }
    },
    {
      "cell_type": "code",
      "source": [
        "#Crea un gráfico que represente el total pagado de las facturas respecto del IVA aplicado.\n",
        "plt.figure(figsize = (12,7))\n",
        "\n",
        "meses_df = pd.DataFrame(ventas_df[[\"mes\",\"total_pagado\",\"IVA\"]].copy())\n",
        "meses_df[\"total_pagado\"] = meses_df.groupby(\"mes\")[\"total_pagado\"].transform(\"sum\")\n",
        "meses_df[\"IVA\"] = meses_df.groupby(\"mes\")[\"IVA\"].transform(\"sum\")\n",
        "meses_df.drop_duplicates(subset= \"mes\").reset_index(inplace= True)\n",
        "\n",
        "plt.bar(meses_df[\"mes\"], meses_df[\"total_pagado\"], color=\"slategray\" )\n",
        "plt.bar(meses_df[\"mes\"], meses_df[\"IVA\"], color= \"darkslategray\")\n",
        "plt.legend( [\"IVA pagado\", \"Total pagado\"])\n",
        "plt.title(\"Comparativa mensual del IVA pagado sobre el total pagado\")\n",
        "plt.show()"
      ],
      "metadata": {
        "id": "0VDEnhtB0cjd",
        "colab": {
          "base_uri": "https://localhost:8080/",
          "height": 444
        },
        "outputId": "48dde343-91f4-4055-d827-121bde989994"
      },
      "execution_count": null,
      "outputs": [
        {
          "output_type": "display_data",
          "data": {
            "image/png": "[encoded data removed]",
            "text/plain": [
              "<Figure size 864x504 with 1 Axes>"
            ]
          },
          "metadata": {
            "needs_background": "light"
          }
        }
      ]
    },
    {
      "cell_type": "code",
      "source": [
        "#Determina el valor de la covarianza de ambas variables. \n",
        "\n",
        "#Genero una tabla de varianzas\n",
        "print(ventas_df[[\"total_pagado\",\"IVA\"]].cov())\n",
        "\n",
        "#Calculando las varianzas de cada variable, para verificar que la covarianza es 526.7688\n",
        "#Se ve de manera clara en la tabla anterior (donde se cruzan ambas variables) pero de todas formas se calcula.\n",
        "\n",
        "print(\"\\nVar de total_pagado: {}\\n\".format(ventas_df[\"total_pagado\"].var()))\n",
        "print(\"\\nVar de IVA {}\".format(ventas_df[\"IVA\"].var()))\n"
      ],
      "metadata": {
        "colab": {
          "base_uri": "https://localhost:8080/"
        },
        "id": "m2TlO70O09rZ",
        "outputId": "907c076a-e0f9-4c37-b320-27ca256e998a"
      },
      "execution_count": null,
      "outputs": [
        {
          "output_type": "stream",
          "name": "stdout",
          "text": [
            "              total_pagado         IVA\n",
            "total_pagado   3356.593556  526.768808\n",
            "IVA             526.768808  100.529919\n",
            "\n",
            "Var de total_pagado: 3356.5935555555566\n",
            "\n",
            "\n",
            "Var de IVA 100.52991919191919\n"
          ]
        }
      ]
    },
    {
      "cell_type": "markdown",
      "source": [
        "Esta varianza positiva de 526.768808 denota que ambas variables se comportan de forma similar y tienen una relación creciente entre si. \n",
        "\n",
        "Esto era de presuponer, ya que el monto total tiene incluido dentro de sus valores cierta proporción de IVA y, por lo tanto, es una variable dependiente de la misma. \n",
        "\n",
        "Se podrá ver gráficamente en la siguiente celda."
      ],
      "metadata": {
        "id": "lrabeoQBp0vT"
      }
    },
    {
      "cell_type": "code",
      "source": [
        "plt.scatter(ventas_df[\"total_pagado\"],ventas_df[\"IVA\"])\n",
        "plt.xlabel(\"Total pagado\")\n",
        "plt.ylabel(\"Iva aplicado\")\n",
        "plt.title(\"Gráfico de dispersion entre total_pagado e IVA\")\n",
        "plt.show()"
      ],
      "metadata": {
        "colab": {
          "base_uri": "https://localhost:8080/",
          "height": 295
        },
        "id": "RNoLX6eAgGqF",
        "outputId": "9e440f41-ff52-4870-c721-11127b1af08c"
      },
      "execution_count": null,
      "outputs": [
        {
          "output_type": "display_data",
          "data": {
            "image/png": "[encoded data removed]",
            "text/plain": [
              "<Figure size 432x288 with 1 Axes>"
            ]
          },
          "metadata": {
            "needs_background": "light"
          }
        }
      ]
    }
  ]
}