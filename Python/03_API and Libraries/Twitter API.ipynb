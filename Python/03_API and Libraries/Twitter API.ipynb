{
 "cells": [
  {
   "cell_type": "code",
   "execution_count": 15,
   "metadata": {
    "id": "yT8TZMIMrwI2"
   },
   "outputs": [],
   "source": [
    "import json\n",
    "import tweepy\n",
    "import urllib\n",
    "import time\n",
    "import pandas as pd"
   ]
  },
  {
   "cell_type": "code",
   "execution_count": 16,
   "metadata": {
    "id": "gaLDZok4r9VV"
   },
   "outputs": [],
   "source": [
    "#Autenticación para utilizar la api.\n",
    "\n",
    "api_key = \"XXXXXXXXXXXXXXXX\"\n",
    "api_secret = \"XXXXXXXXXXXXXX\"\n",
    "\n",
    "access_token = \"XXXXXXXXXXXXXXXXXXXXXXXXX\"\n",
    "access_secret = \"XXXXXXXXXXXXXXXXXXXXXXX\"\n",
    "\n",
    "auth = tweepy.OAuthHandler(api_key,api_secret)\n",
    "auth.set_access_token(access_token,access_secret)\n",
    "api = tweepy.API(auth, wait_on_rate_limit=True)"
   ]
  },
  {
   "cell_type": "markdown",
   "metadata": {
    "id": "K_o3DVyorRX8"
   },
   "source": [
    "Los access_token y secret se dejaron vacíos para ser completados por el profesor.\n",
    "\n",
    "Por otro lado, se genera la autenticación para poder conectar con la API."
   ]
  },
  {
   "cell_type": "code",
   "execution_count": 17,
   "metadata": {
    "id": "5cmeyE85tmwB"
   },
   "outputs": [],
   "source": [
    "# Generando la variable user ligada al usuario de Rosalia. Con esta variable se podrán realizar las siguientes tareas solicitadas.\n",
    "user = api.get_user(id=\"rosalia\")"
   ]
  },
  {
   "cell_type": "code",
   "execution_count": 18,
   "metadata": {
    "colab": {
     "base_uri": "https://localhost:8080/"
    },
    "id": "J0vIOUDgtwe0",
    "outputId": "1e2a3e89-a52d-47cf-ce16-f15386f3c45d"
   },
   "outputs": [
    {
     "name": "stdout",
     "output_type": "stream",
     "text": [
      "1728956976\n"
     ]
    }
   ],
   "source": [
    "#¿Cuál es el id de @rosalia en twitter?\n",
    "print(user.id)\n"
   ]
  },
  {
   "cell_type": "markdown",
   "metadata": {
    "id": "XtZjZy4zjOyI"
   },
   "source": [
    "Por medio del método id, se obtiene el número de ID asociado al usuario. En este caso el mencionado número es 1728956976"
   ]
  },
  {
   "cell_type": "code",
   "execution_count": 41,
   "metadata": {
    "colab": {
     "base_uri": "https://localhost:8080/"
    },
    "id": "aazbYr7wjQBZ",
    "outputId": "bc67c1eb-d8c9-4ae3-9d8f-1292cade8276"
   },
   "outputs": [
    {
     "data": {
      "text/plain": [
       "55"
      ]
     },
     "execution_count": 41,
     "metadata": {},
     "output_type": "execute_result"
    }
   ],
   "source": [
    "#Lista los nombres de los usuarios a los que @rosalia está siguiendo.\n",
    "\n",
    "ids = []\n",
    "for page in tweepy.Cursor(api.friends_ids, screen_name=\"rosalia\").pages():\n",
    "    ids.extend(page)\n",
    "    if len(page)>=5000:\n",
    "        time.sleep(60)\n",
    "    \n",
    "len(ids)"
   ]
  },
  {
   "cell_type": "code",
   "execution_count": 20,
   "metadata": {
    "colab": {
     "base_uri": "https://localhost:8080/"
    },
    "id": "QU8g_s0tprTg",
    "outputId": "a79b7407-c664-4aff-ac24-35a8c28fcf72"
   },
   "outputs": [
    {
     "name": "stdout",
     "output_type": "stream",
     "text": [
      "El following que tiene Rosalía con mayor número de followers es elonmusk con un total de 77795218 followers.\n"
     ]
    }
   ],
   "source": [
    "#¿Cuál de ellos tiene más seguidores?\n",
    "followers = {}\n",
    "\n",
    "for i in ids:\n",
    "  user= api.get_user(id=i)\n",
    "  followers[user.screen_name] = user.followers_count\n",
    "\n",
    "followers = pd.Series(followers).sort_values(ascending= False)\n",
    "print(\"El following que tiene Rosalía con mayor número de followers es {0} con un total de {1} followers.\". format(followers.index[0],\\\n",
    "                                                                                                                   followers.iloc[0]))"
   ]
  },
  {
   "cell_type": "markdown",
   "metadata": {
    "id": "a3W9vQJRtUSg"
   },
   "source": [
    "Genero un diccionario con el ID y el recuento de followers para, por último, generar una serie de pandas y ordenar de forma descendente.\n",
    "\n",
    "Una vez hecho lo anterior, se obtiene el primer valor de la serie con su índice y correspondiente valor asociado."
   ]
  },
  {
   "cell_type": "code",
   "execution_count": 45,
   "metadata": {
    "colab": {
     "base_uri": "https://localhost:8080/"
    },
    "id": "oxtcaWgNqA4_",
    "outputId": "a941e237-9c40-452c-fb7e-a08210ab72e4"
   },
   "outputs": [
    {
     "name": "stdout",
     "output_type": "stream",
     "text": [
      "Fecha de creación: 2022-03-13 23:13:01\n",
      "\n",
      " Texto: RT @JANN_vt: HA COMENZADO LA #MOTOMAMI WEEK @ROSALIA\n",
      "-------------------- Siguiente tweet --------------------\n",
      "Fecha de creación: 2022-03-13 21:57:20\n",
      "\n",
      " Texto: RT @RosaliaSources: .@Rosalia hace una lectura de la letra de 'HENTAI' vía Tiktok. https://t.co/hahptNuJF7\n",
      "-------------------- Siguiente tweet --------------------\n",
      "Fecha de creación: 2022-03-13 21:14:40\n",
      "\n",
      " Texto: 🤪 @nbcsnl https://t.co/tOOILn2FlL\n",
      "-------------------- Siguiente tweet --------------------\n",
      "Fecha de creación: 2022-03-13 21:12:33\n",
      "\n",
      " Texto: ❤️ @nbcsnl https://t.co/bJHk0XzsrX\n",
      "-------------------- Siguiente tweet --------------------\n",
      "Fecha de creación: 2022-03-13 00:06:10\n",
      "\n",
      " Texto: RT @RosaliaSources: En 4 horas y 30 minutos comenzará #SNL, donde @Rosalia realizará 2 actuaciones.\n",
      "\n",
      "Link para verlo en directo: \n",
      "https://t…\n",
      "-------------------- Siguiente tweet --------------------\n"
     ]
    }
   ],
   "source": [
    "#Utiliza la get_users_tweets() para obtener el json completo con los cinco últimos tweets de Rosalia. \n",
    "#Muestra por pantalla el día, la hora de creación y el texto.\n",
    "\n",
    "timeline = api.user_timeline(\"rosalia\", count=5,)\n",
    "timeline\n",
    "\n",
    "for i in range(5):\n",
    "  print(\"Fecha de creación: {}\".format(timeline[i].created_at))\n",
    "  print(\"\\n Texto: {}\".format(timeline[i].text))\n",
    "  print(\"-\"*20, \"Siguiente tweet\", \"-\"*20)"
   ]
  },
  {
   "cell_type": "code",
   "execution_count": 42,
   "metadata": {
    "id": "xWHeEes1xHpW"
   },
   "outputs": [],
   "source": [
    "# Recupera los cinco primeros tweets, a partir de la SteamingClient, \n",
    "# desde de la entidad del país/región/ciudad de tu elección y que no sean retweets. \n",
    "#Muestra por pantalla el id del usuario que realiza el tweet, la fecha, la hora de creación y el texto. \n",
    "\n",
    "from tweepy import Stream, StreamListener\n",
    "\n",
    "class listener(StreamListener):\n",
    "  def __init__(self):\n",
    "    super().__init__()\n",
    "    self.counter= 0\n",
    "    self.limit = 5\n",
    "  def on_data(self,status):\n",
    "    json_data=json.loads(status)\n",
    "    print(\"Fecha de creación: \"+str(json_data[\"created_at\"]+\"\\nUsuario: \"+json_data[\"user\"][\"screen_name\"])+ \"\\nTexto: \"+ json_data[\"text\"]\n",
    "          + \"\\n\"+\"-\"*60)\n",
    "    self.counter += 1\n",
    "    if self.counter < self.limit:\n",
    "      return True\n",
    "    else:\n",
    "      twitterStream.disconnect()\n",
    "    def on_error(self,status):\n",
    "      print(status)"
   ]
  },
  {
   "cell_type": "markdown",
   "metadata": {
    "id": "ohgD2AYPsYK6"
   },
   "source": [
    "Defino en la clase el contenido a mostrar a la hora de generar el stream. Debajo se corre el stream que va imprimiendo la información requerida para las coordenadas especificadas (Montevideo).\n",
    "\n",
    "En la clase, limito el contenido a 5 tweets. Por otro lado, en el print de on_data declaro que campos quiero imprimir al correr el stream. Cuando el stream llega al limite seteado (5), el mismo se desconecta."
   ]
  },
  {
   "cell_type": "code",
   "execution_count": 44,
   "metadata": {
    "colab": {
     "base_uri": "https://localhost:8080/"
    },
    "id": "xp59OeAQxT1Y",
    "outputId": "499e7e2a-bbed-4579-951d-f029240eee7f"
   },
   "outputs": [
    {
     "name": "stdout",
     "output_type": "stream",
     "text": [
      "Fecha de creación: Mon Mar 14 18:29:09 +0000 2022\n",
      " Usuario: lumadruga21\n",
      " Texto: Ver a mi hermano o mi primo mal me parte el cora\n",
      "------------------------------------------------------------\n",
      "Fecha de creación: Mon Mar 14 18:29:45 +0000 2022\n",
      " Usuario: lumadruga21\n",
      " Texto: Podría haber estado mejor el piedra..\n",
      "------------------------------------------------------------\n",
      "Fecha de creación: Mon Mar 14 18:29:49 +0000 2022\n",
      " Usuario: Pelado42857038\n",
      " Texto: @TelemundoUY abiertos. Y, finalmente, para florón y remate de tanto privatizar, privatícense los Estados, entrégues… https://t.co/mGlyopV90c\n",
      "------------------------------------------------------------\n",
      "Fecha de creación: Mon Mar 14 18:30:01 +0000 2022\n",
      " Usuario: besenzoni_\n",
      " Texto: @CabeTrust @Alepint Pensé lo mismo.\n",
      "------------------------------------------------------------\n",
      "Fecha de creación: Mon Mar 14 18:30:02 +0000 2022\n",
      " Usuario: LucasM_UY\n",
      " Texto: @cabolo4 @MatiasTM71 @Protagonistas71 @GustavoPenades @lista71 @PNACIONAL @lucascabraluy @vickycasulo04… https://t.co/LwoHz5jQh6\n",
      "------------------------------------------------------------\n"
     ]
    }
   ],
   "source": [
    "twitterStream = Stream(auth, listener())\n",
    "lista = []\n",
    "twitterStream.filter(locations=[-56.172725,-34.936937,-56.010177,-34.877229],)"
   ]
  }
 ],
 "metadata": {
  "colab": {
   "collapsed_sections": [],
   "name": "M3_AI2_MarquezRodrigo.ipynb",
   "provenance": []
  },
  "kernelspec": {
   "display_name": "Python 3",
   "language": "python",
   "name": "python3"
  },
  "language_info": {
   "codemirror_mode": {
    "name": "ipython",
    "version": 3
   },
   "file_extension": ".py",
   "mimetype": "text/x-python",
   "name": "python",
   "nbconvert_exporter": "python",
   "pygments_lexer": "ipython3",
   "version": "3.8.3"
  }
 },
 "nbformat": 4,
 "nbformat_minor": 1
}
