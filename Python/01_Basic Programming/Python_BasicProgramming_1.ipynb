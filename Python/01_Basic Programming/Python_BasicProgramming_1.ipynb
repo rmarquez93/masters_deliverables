{
 "cells": [
  {
   "cell_type": "markdown",
   "metadata": {
    "id": "tW3jK_BDgjno"
   },
   "source": [
    "# **Herramientas de Análisis**\n",
    "\n",
    "---\n",
    "---\n",
    "\n",
    "<!-- script html for image -->\n",
    "\n",
    "<center>\n",
    "\n",
    "\n",
    "<img src=\"https://upload.wikimedia.org/wikipedia/commons/thumb/a/ac/Sw-ep1-logo.svg/1280px-Sw-ep1-logo.svg.png\"  width=\"500\" height=\"150\"/>\n",
    "\n",
    "\n",
    "<br>\n",
    "\n",
    "Fuente de la imagen: [https://es.wikipedia.org](https://es.wikipedia.org/wiki/Star_Wars:_Episodio_I_-_La_amenaza_fantasma)\n",
    "\n",
    "</center>\n",
    "\n",
    "<br>"
   ]
  },
  {
   "cell_type": "markdown",
   "metadata": {
    "id": "CLuiMPEMSvF6"
   },
   "source": [
    "# **Índice**\n",
    "\n",
    "---\n",
    "---\n",
    "\n",
    "> [Herramientas de Análisis](#scrollTo=tW3jK_BDgjno&line=20&uniqifier=1)\n",
    "<br>\n",
    ">>\n",
    ">> [Preparación del Entorno](#scrollTo=5zZfGqOugjnr&line=3&uniqifier=1) \\\\\n",
    ">>   \\\\\n",
    ">> [Ejercicio 1](#scrollTo=1J4h6kTngjn5&line=1&uniqifier=1) \\\\\n",
    ">>"
   ]
  },
  {
   "cell_type": "markdown",
   "metadata": {
    "id": "5zZfGqOugjnr"
   },
   "source": [
    "# Preparación del entorno\n",
    "\n",
    "Padawan! Cuando inicies sesión en Colab, prepara el entorno ejecutando el siguiente código."
   ]
  },
  {
   "cell_type": "code",
   "execution_count": 2,
   "metadata": {
    "id": "JiKiPQdQgjnu"
   },
   "outputs": [],
   "source": [
    "if 'google.colab' in str(get_ipython()):\n",
    "    !git clone https://github.com/griu/mbdds_fc20.git /content/mbdds_fc20\n",
    "    !git -C /content/mbdds_fc20 pull\n",
    "    %cd /content/mbdds_fc20/Python\n",
    "    !python -m pip install -r requirementsColab.txt"
   ]
  },
  {
   "cell_type": "markdown",
   "metadata": {
    "id": "1J4h6kTngjn5"
   },
   "source": [
    "# Ejercicio 1\n",
    "\n",
    "Para realizar el ejercicio cargamos los datos de *Especies* en STARWARS SWAPI y las librerías principales."
   ]
  },
  {
   "cell_type": "code",
   "execution_count": 3,
   "metadata": {
    "id": "2V3mrVHSgjn7"
   },
   "outputs": [
    {
     "data": {
      "text/html": [
       "<div>\n",
       "<style scoped>\n",
       "    .dataframe tbody tr th:only-of-type {\n",
       "        vertical-align: middle;\n",
       "    }\n",
       "\n",
       "    .dataframe tbody tr th {\n",
       "        vertical-align: top;\n",
       "    }\n",
       "\n",
       "    .dataframe thead th {\n",
       "        text-align: right;\n",
       "    }\n",
       "</style>\n",
       "<table border=\"1\" class=\"dataframe\">\n",
       "  <thead>\n",
       "    <tr style=\"text-align: right;\">\n",
       "      <th></th>\n",
       "      <th>height</th>\n",
       "      <th>mass</th>\n",
       "      <th>birth_year</th>\n",
       "      <th>gender</th>\n",
       "      <th>homeworld</th>\n",
       "    </tr>\n",
       "    <tr>\n",
       "      <th>name</th>\n",
       "      <th></th>\n",
       "      <th></th>\n",
       "      <th></th>\n",
       "      <th></th>\n",
       "      <th></th>\n",
       "    </tr>\n",
       "  </thead>\n",
       "  <tbody>\n",
       "    <tr>\n",
       "      <th>Luke Skywalker</th>\n",
       "      <td>172.0</td>\n",
       "      <td>77.0</td>\n",
       "      <td>19.0</td>\n",
       "      <td>male</td>\n",
       "      <td>http://swapi.dev/api/planets/1/</td>\n",
       "    </tr>\n",
       "    <tr>\n",
       "      <th>C-3PO</th>\n",
       "      <td>167.0</td>\n",
       "      <td>75.0</td>\n",
       "      <td>112.0</td>\n",
       "      <td>none</td>\n",
       "      <td>http://swapi.dev/api/planets/1/</td>\n",
       "    </tr>\n",
       "    <tr>\n",
       "      <th>R2-D2</th>\n",
       "      <td>96.0</td>\n",
       "      <td>32.0</td>\n",
       "      <td>33.0</td>\n",
       "      <td>none</td>\n",
       "      <td>http://swapi.dev/api/planets/8/</td>\n",
       "    </tr>\n",
       "    <tr>\n",
       "      <th>Darth Vader</th>\n",
       "      <td>202.0</td>\n",
       "      <td>136.0</td>\n",
       "      <td>41.9</td>\n",
       "      <td>male</td>\n",
       "      <td>http://swapi.dev/api/planets/1/</td>\n",
       "    </tr>\n",
       "    <tr>\n",
       "      <th>Leia Organa</th>\n",
       "      <td>150.0</td>\n",
       "      <td>49.0</td>\n",
       "      <td>19.0</td>\n",
       "      <td>female</td>\n",
       "      <td>http://swapi.dev/api/planets/2/</td>\n",
       "    </tr>\n",
       "    <tr>\n",
       "      <th>Owen Lars</th>\n",
       "      <td>178.0</td>\n",
       "      <td>120.0</td>\n",
       "      <td>52.0</td>\n",
       "      <td>male</td>\n",
       "      <td>http://swapi.dev/api/planets/1/</td>\n",
       "    </tr>\n",
       "    <tr>\n",
       "      <th>Beru Whitesun lars</th>\n",
       "      <td>165.0</td>\n",
       "      <td>75.0</td>\n",
       "      <td>47.0</td>\n",
       "      <td>female</td>\n",
       "      <td>http://swapi.dev/api/planets/1/</td>\n",
       "    </tr>\n",
       "    <tr>\n",
       "      <th>Biggs Darklighter</th>\n",
       "      <td>183.0</td>\n",
       "      <td>84.0</td>\n",
       "      <td>24.0</td>\n",
       "      <td>male</td>\n",
       "      <td>http://swapi.dev/api/planets/1/</td>\n",
       "    </tr>\n",
       "    <tr>\n",
       "      <th>Obi-Wan Kenobi</th>\n",
       "      <td>182.0</td>\n",
       "      <td>77.0</td>\n",
       "      <td>57.0</td>\n",
       "      <td>male</td>\n",
       "      <td>http://swapi.dev/api/planets/20/</td>\n",
       "    </tr>\n",
       "    <tr>\n",
       "      <th>Anakin Skywalker</th>\n",
       "      <td>188.0</td>\n",
       "      <td>84.0</td>\n",
       "      <td>41.9</td>\n",
       "      <td>male</td>\n",
       "      <td>http://swapi.dev/api/planets/1/</td>\n",
       "    </tr>\n",
       "    <tr>\n",
       "      <th>Chewbacca</th>\n",
       "      <td>228.0</td>\n",
       "      <td>112.0</td>\n",
       "      <td>200.0</td>\n",
       "      <td>male</td>\n",
       "      <td>http://swapi.dev/api/planets/14/</td>\n",
       "    </tr>\n",
       "    <tr>\n",
       "      <th>Han Solo</th>\n",
       "      <td>180.0</td>\n",
       "      <td>80.0</td>\n",
       "      <td>29.0</td>\n",
       "      <td>male</td>\n",
       "      <td>http://swapi.dev/api/planets/22/</td>\n",
       "    </tr>\n",
       "    <tr>\n",
       "      <th>Greedo</th>\n",
       "      <td>173.0</td>\n",
       "      <td>74.0</td>\n",
       "      <td>44.0</td>\n",
       "      <td>male</td>\n",
       "      <td>http://swapi.dev/api/planets/23/</td>\n",
       "    </tr>\n",
       "    <tr>\n",
       "      <th>Jabba Desilijic Tiure</th>\n",
       "      <td>175.0</td>\n",
       "      <td>1358.0</td>\n",
       "      <td>600.0</td>\n",
       "      <td>hermaphrodite</td>\n",
       "      <td>http://swapi.dev/api/planets/24/</td>\n",
       "    </tr>\n",
       "    <tr>\n",
       "      <th>Wedge Antilles</th>\n",
       "      <td>170.0</td>\n",
       "      <td>77.0</td>\n",
       "      <td>21.0</td>\n",
       "      <td>male</td>\n",
       "      <td>http://swapi.dev/api/planets/22/</td>\n",
       "    </tr>\n",
       "    <tr>\n",
       "      <th>Yoda</th>\n",
       "      <td>66.0</td>\n",
       "      <td>17.0</td>\n",
       "      <td>896.0</td>\n",
       "      <td>male</td>\n",
       "      <td>http://swapi.dev/api/planets/28/</td>\n",
       "    </tr>\n",
       "    <tr>\n",
       "      <th>Palpatine</th>\n",
       "      <td>170.0</td>\n",
       "      <td>75.0</td>\n",
       "      <td>82.0</td>\n",
       "      <td>male</td>\n",
       "      <td>http://swapi.dev/api/planets/8/</td>\n",
       "    </tr>\n",
       "    <tr>\n",
       "      <th>Boba Fett</th>\n",
       "      <td>183.0</td>\n",
       "      <td>78.2</td>\n",
       "      <td>31.5</td>\n",
       "      <td>male</td>\n",
       "      <td>http://swapi.dev/api/planets/10/</td>\n",
       "    </tr>\n",
       "    <tr>\n",
       "      <th>IG-88</th>\n",
       "      <td>200.0</td>\n",
       "      <td>140.0</td>\n",
       "      <td>15.0</td>\n",
       "      <td>none</td>\n",
       "      <td>http://swapi.dev/api/planets/28/</td>\n",
       "    </tr>\n",
       "    <tr>\n",
       "      <th>Bossk</th>\n",
       "      <td>190.0</td>\n",
       "      <td>113.0</td>\n",
       "      <td>53.0</td>\n",
       "      <td>male</td>\n",
       "      <td>http://swapi.dev/api/planets/29/</td>\n",
       "    </tr>\n",
       "    <tr>\n",
       "      <th>Lando Calrissian</th>\n",
       "      <td>177.0</td>\n",
       "      <td>79.0</td>\n",
       "      <td>31.0</td>\n",
       "      <td>male</td>\n",
       "      <td>http://swapi.dev/api/planets/30/</td>\n",
       "    </tr>\n",
       "    <tr>\n",
       "      <th>Lobot</th>\n",
       "      <td>175.0</td>\n",
       "      <td>79.0</td>\n",
       "      <td>37.0</td>\n",
       "      <td>male</td>\n",
       "      <td>http://swapi.dev/api/planets/6/</td>\n",
       "    </tr>\n",
       "    <tr>\n",
       "      <th>Ackbar</th>\n",
       "      <td>180.0</td>\n",
       "      <td>83.0</td>\n",
       "      <td>41.0</td>\n",
       "      <td>male</td>\n",
       "      <td>http://swapi.dev/api/planets/31/</td>\n",
       "    </tr>\n",
       "    <tr>\n",
       "      <th>Wicket Systri Warrick</th>\n",
       "      <td>88.0</td>\n",
       "      <td>20.0</td>\n",
       "      <td>8.0</td>\n",
       "      <td>male</td>\n",
       "      <td>http://swapi.dev/api/planets/7/</td>\n",
       "    </tr>\n",
       "    <tr>\n",
       "      <th>Qui-Gon Jinn</th>\n",
       "      <td>193.0</td>\n",
       "      <td>89.0</td>\n",
       "      <td>92.0</td>\n",
       "      <td>male</td>\n",
       "      <td>http://swapi.dev/api/planets/28/</td>\n",
       "    </tr>\n",
       "    <tr>\n",
       "      <th>Padmé Amidala</th>\n",
       "      <td>185.0</td>\n",
       "      <td>45.0</td>\n",
       "      <td>46.0</td>\n",
       "      <td>female</td>\n",
       "      <td>http://swapi.dev/api/planets/8/</td>\n",
       "    </tr>\n",
       "    <tr>\n",
       "      <th>Jar Jar Binks</th>\n",
       "      <td>196.0</td>\n",
       "      <td>66.0</td>\n",
       "      <td>52.0</td>\n",
       "      <td>male</td>\n",
       "      <td>http://swapi.dev/api/planets/8/</td>\n",
       "    </tr>\n",
       "    <tr>\n",
       "      <th>Darth Maul</th>\n",
       "      <td>175.0</td>\n",
       "      <td>80.0</td>\n",
       "      <td>54.0</td>\n",
       "      <td>male</td>\n",
       "      <td>http://swapi.dev/api/planets/36/</td>\n",
       "    </tr>\n",
       "    <tr>\n",
       "      <th>Ayla Secura</th>\n",
       "      <td>178.0</td>\n",
       "      <td>55.0</td>\n",
       "      <td>48.0</td>\n",
       "      <td>female</td>\n",
       "      <td>http://swapi.dev/api/planets/37/</td>\n",
       "    </tr>\n",
       "    <tr>\n",
       "      <th>Mace Windu</th>\n",
       "      <td>188.0</td>\n",
       "      <td>84.0</td>\n",
       "      <td>72.0</td>\n",
       "      <td>male</td>\n",
       "      <td>http://swapi.dev/api/planets/42/</td>\n",
       "    </tr>\n",
       "    <tr>\n",
       "      <th>Ki-Adi-Mundi</th>\n",
       "      <td>198.0</td>\n",
       "      <td>82.0</td>\n",
       "      <td>92.0</td>\n",
       "      <td>male</td>\n",
       "      <td>http://swapi.dev/api/planets/43/</td>\n",
       "    </tr>\n",
       "    <tr>\n",
       "      <th>Plo Koon</th>\n",
       "      <td>188.0</td>\n",
       "      <td>80.0</td>\n",
       "      <td>22.0</td>\n",
       "      <td>male</td>\n",
       "      <td>http://swapi.dev/api/planets/49/</td>\n",
       "    </tr>\n",
       "    <tr>\n",
       "      <th>Luminara Unduli</th>\n",
       "      <td>170.0</td>\n",
       "      <td>56.2</td>\n",
       "      <td>58.0</td>\n",
       "      <td>female</td>\n",
       "      <td>http://swapi.dev/api/planets/51/</td>\n",
       "    </tr>\n",
       "    <tr>\n",
       "      <th>Barriss Offee</th>\n",
       "      <td>166.0</td>\n",
       "      <td>50.0</td>\n",
       "      <td>40.0</td>\n",
       "      <td>female</td>\n",
       "      <td>http://swapi.dev/api/planets/51/</td>\n",
       "    </tr>\n",
       "    <tr>\n",
       "      <th>Dooku</th>\n",
       "      <td>193.0</td>\n",
       "      <td>80.0</td>\n",
       "      <td>102.0</td>\n",
       "      <td>male</td>\n",
       "      <td>http://swapi.dev/api/planets/52/</td>\n",
       "    </tr>\n",
       "    <tr>\n",
       "      <th>Jango Fett</th>\n",
       "      <td>183.0</td>\n",
       "      <td>79.0</td>\n",
       "      <td>66.0</td>\n",
       "      <td>male</td>\n",
       "      <td>http://swapi.dev/api/planets/53/</td>\n",
       "    </tr>\n",
       "  </tbody>\n",
       "</table>\n",
       "</div>"
      ],
      "text/plain": [
       "                       height    mass  birth_year         gender  \\\n",
       "name                                                               \n",
       "Luke Skywalker          172.0    77.0        19.0           male   \n",
       "C-3PO                   167.0    75.0       112.0           none   \n",
       "R2-D2                    96.0    32.0        33.0           none   \n",
       "Darth Vader             202.0   136.0        41.9           male   \n",
       "Leia Organa             150.0    49.0        19.0         female   \n",
       "Owen Lars               178.0   120.0        52.0           male   \n",
       "Beru Whitesun lars      165.0    75.0        47.0         female   \n",
       "Biggs Darklighter       183.0    84.0        24.0           male   \n",
       "Obi-Wan Kenobi          182.0    77.0        57.0           male   \n",
       "Anakin Skywalker        188.0    84.0        41.9           male   \n",
       "Chewbacca               228.0   112.0       200.0           male   \n",
       "Han Solo                180.0    80.0        29.0           male   \n",
       "Greedo                  173.0    74.0        44.0           male   \n",
       "Jabba Desilijic Tiure   175.0  1358.0       600.0  hermaphrodite   \n",
       "Wedge Antilles          170.0    77.0        21.0           male   \n",
       "Yoda                     66.0    17.0       896.0           male   \n",
       "Palpatine               170.0    75.0        82.0           male   \n",
       "Boba Fett               183.0    78.2        31.5           male   \n",
       "IG-88                   200.0   140.0        15.0           none   \n",
       "Bossk                   190.0   113.0        53.0           male   \n",
       "Lando Calrissian        177.0    79.0        31.0           male   \n",
       "Lobot                   175.0    79.0        37.0           male   \n",
       "Ackbar                  180.0    83.0        41.0           male   \n",
       "Wicket Systri Warrick    88.0    20.0         8.0           male   \n",
       "Qui-Gon Jinn            193.0    89.0        92.0           male   \n",
       "Padmé Amidala           185.0    45.0        46.0         female   \n",
       "Jar Jar Binks           196.0    66.0        52.0           male   \n",
       "Darth Maul              175.0    80.0        54.0           male   \n",
       "Ayla Secura             178.0    55.0        48.0         female   \n",
       "Mace Windu              188.0    84.0        72.0           male   \n",
       "Ki-Adi-Mundi            198.0    82.0        92.0           male   \n",
       "Plo Koon                188.0    80.0        22.0           male   \n",
       "Luminara Unduli         170.0    56.2        58.0         female   \n",
       "Barriss Offee           166.0    50.0        40.0         female   \n",
       "Dooku                   193.0    80.0       102.0           male   \n",
       "Jango Fett              183.0    79.0        66.0           male   \n",
       "\n",
       "                                              homeworld  \n",
       "name                                                     \n",
       "Luke Skywalker          http://swapi.dev/api/planets/1/  \n",
       "C-3PO                   http://swapi.dev/api/planets/1/  \n",
       "R2-D2                   http://swapi.dev/api/planets/8/  \n",
       "Darth Vader             http://swapi.dev/api/planets/1/  \n",
       "Leia Organa             http://swapi.dev/api/planets/2/  \n",
       "Owen Lars               http://swapi.dev/api/planets/1/  \n",
       "Beru Whitesun lars      http://swapi.dev/api/planets/1/  \n",
       "Biggs Darklighter       http://swapi.dev/api/planets/1/  \n",
       "Obi-Wan Kenobi         http://swapi.dev/api/planets/20/  \n",
       "Anakin Skywalker        http://swapi.dev/api/planets/1/  \n",
       "Chewbacca              http://swapi.dev/api/planets/14/  \n",
       "Han Solo               http://swapi.dev/api/planets/22/  \n",
       "Greedo                 http://swapi.dev/api/planets/23/  \n",
       "Jabba Desilijic Tiure  http://swapi.dev/api/planets/24/  \n",
       "Wedge Antilles         http://swapi.dev/api/planets/22/  \n",
       "Yoda                   http://swapi.dev/api/planets/28/  \n",
       "Palpatine               http://swapi.dev/api/planets/8/  \n",
       "Boba Fett              http://swapi.dev/api/planets/10/  \n",
       "IG-88                  http://swapi.dev/api/planets/28/  \n",
       "Bossk                  http://swapi.dev/api/planets/29/  \n",
       "Lando Calrissian       http://swapi.dev/api/planets/30/  \n",
       "Lobot                   http://swapi.dev/api/planets/6/  \n",
       "Ackbar                 http://swapi.dev/api/planets/31/  \n",
       "Wicket Systri Warrick   http://swapi.dev/api/planets/7/  \n",
       "Qui-Gon Jinn           http://swapi.dev/api/planets/28/  \n",
       "Padmé Amidala           http://swapi.dev/api/planets/8/  \n",
       "Jar Jar Binks           http://swapi.dev/api/planets/8/  \n",
       "Darth Maul             http://swapi.dev/api/planets/36/  \n",
       "Ayla Secura            http://swapi.dev/api/planets/37/  \n",
       "Mace Windu             http://swapi.dev/api/planets/42/  \n",
       "Ki-Adi-Mundi           http://swapi.dev/api/planets/43/  \n",
       "Plo Koon               http://swapi.dev/api/planets/49/  \n",
       "Luminara Unduli        http://swapi.dev/api/planets/51/  \n",
       "Barriss Offee          http://swapi.dev/api/planets/51/  \n",
       "Dooku                  http://swapi.dev/api/planets/52/  \n",
       "Jango Fett             http://swapi.dev/api/planets/53/  "
      ]
     },
     "execution_count": 3,
     "metadata": {},
     "output_type": "execute_result"
    }
   ],
   "source": [
    "import numpy as np\n",
    "import pandas as pd\n",
    "import matplotlib.pyplot as plt\n",
    "import seaborn as sns; sns.set()  # para el estilo de graficos\n",
    "\n",
    "entidades = ['planets','starships','vehicles','people','species']\n",
    "entidades_df = {x: pd.read_pickle('C:/Users/Rodri/mbdds_fc20/Python/www/' + x + '_df.pkl') for x in entidades}\n",
    "\n",
    "# Datos principales\n",
    "people_df = entidades_df['people'][[\"height\",\"mass\",\"birth_year\",\"gender\",\"homeworld\"]].dropna()\n",
    "\n",
    "people_df"
   ]
  },
  {
   "cell_type": "markdown",
   "metadata": {
    "id": "8y6PLIR-gjoF"
   },
   "source": [
    "## Ejercicio 1.1. \n",
    "\n",
    "Construye un gráfico de dispersión de los personajes donde se visualice: la altura (height), el peso (mass), la edad en años BBY (birth_year) y el género (gender). Para ello utiliza la función `sns.scatterplot()` de la librería seaborn. Aprovecha todos los parámetros: `x`, `y`, `size`, `hue` y `style` (consulta la ayuda de la función [.scatterplot()](https://seaborn.pydata.org/generated/seaborn.scatterplot.html)."
   ]
  },
  {
   "cell_type": "code",
   "execution_count": 4,
   "metadata": {
    "id": "fURT1ovigjoH"
   },
   "outputs": [
    {
     "data": {
      "text/plain": [
       "<matplotlib.axes._subplots.AxesSubplot at 0x29996675fd0>"
      ]
     },
     "execution_count": 4,
     "metadata": {},
     "output_type": "execute_result"
    },
    {
     "data": {
      "image/png": "[encoded data removed]",
      "text/plain": [
       "<Figure size 1080x576 with 1 Axes>"
      ]
     },
     "metadata": {},
     "output_type": "display_data"
    }
   ],
   "source": [
    "# Solución:\n",
    "\n",
    "# Aquí configuro el tamaño del gráfico, ya que de lo contrario saldría muy pequeño\n",
    "sns.set(rc = {'figure.figsize':(15,8)})\n",
    "\n",
    "''' x, y, hue y style son variables propias del data frame. Con el parametro sizes agrando el tamaño de los scatter points, ya \n",
    "que de lo contrario se hacían muy dificilmente diferenciables. '''\n",
    "\n",
    "sns.scatterplot(x = \"height\",\n",
    "                y= \"mass\",\n",
    "                size = \"birth_year\",\n",
    "                hue= \"gender\", \n",
    "                style = \"gender\",\n",
    "                sizes=(70, 310),\n",
    "                data = people_df\n",
    "               )\n",
    "\n"
   ]
  },
  {
   "cell_type": "markdown",
   "metadata": {
    "id": "1MofC8dugjoQ"
   },
   "source": [
    "## Ejercicio 1.2.\n",
    "\n",
    "Sobre el gráfico del ejercicio 1.1:\n",
    "\n",
    "- Pon título al gráfico y a los ejes x e y. \n",
    "- Modifica los límites del eje y para que aparezcan sólo personajes de menos de 150 Kg de peso.\n",
    "- Sitúa en el gráfico los nombres de \"Darth Vader\" y \"Anakin Skywalker\". ¿Cómo es posible tengan un peso y altura tan distintos si eran la misma persona?"
   ]
  },
  {
   "cell_type": "code",
   "execution_count": 5,
   "metadata": {
    "id": "iHmGn9OrgjoS"
   },
   "outputs": [
    {
     "data": {
      "image/png": "[encoded data removed]",
      "text/plain": [
       "<Figure size 1080x576 with 1 Axes>"
      ]
     },
     "metadata": {},
     "output_type": "display_data"
    }
   ],
   "source": [
    "# Solución:\n",
    "\n",
    "sns.scatterplot(x = \"height\",\n",
    "                y= \"mass\",\n",
    "                size = \"birth_year\",\n",
    "                hue= \"gender\", \n",
    "                style = \"gender\",\n",
    "                sizes=(70, 310),\n",
    "                data = people_df\n",
    "               )\n",
    "\n",
    "#Cambio de nombres de los labels X, Y como también del título del gráfico\n",
    "plt.xlabel(\"Height in cm\")\n",
    "plt.ylabel(\"Weight in KG\")\n",
    "plt.title(\"Distribution of weight and height for characters of Star Wars (grouped by gender and birth year)\")\n",
    "\n",
    "\n",
    "# En este caso, se aplica el filtro a la hora de generar la iteración, para luego alpicar las anotaciones hacia ambos\n",
    "# componentes\n",
    "for x1,y1,n1 in zip(people_df.height[(people_df.index == \"Darth Vader\") | (people_df.index == \"Anakin Skywalker\")],\n",
    "                    people_df.mass[(people_df.index == \"Darth Vader\") | (people_df.index == \"Anakin Skywalker\")], \n",
    "                    people_df.index[(people_df.index == \"Darth Vader\") | (people_df.index == \"Anakin Skywalker\")]):\n",
    "\n",
    "        plt.annotate(\n",
    "            n1,(x1, y1)\n",
    "            , arrowprops=dict(facecolor='black', shrink=0.05)\n",
    "            , textcoords=\"offset points\"\n",
    "            , xytext=(0,70)\n",
    "            , ha='center'\n",
    "        )\n",
    "    \n",
    "# Se tomó la opción anterior para evitar una ineficiencia en el cómputo. La otra alternativa explorada fue hacer una iteración\n",
    "# Sobre cada item del DF y luego aplicar el filtro lógico, lo cual tendría menor eficiencia.\n",
    "\n",
    "    \n",
    "#En este caso se hace una iteración por los ejes x, y como también por el índice del DF (que es el que contiene los nombres de \n",
    "#los personajes)\n",
    "# Se usa zip para generar una tupla única por cada iteración\n",
    "\n",
    "# for x1,y1,n1 in zip(people_df.height, people_df.mass, people_df.index):\n",
    "\n",
    "\n",
    "#     if n1 == \"Darth Vader\" or n1 == \"Anakin Skywalker\":\n",
    "#         plt.annotate(\n",
    "#             n1,(x1, y1)\n",
    "#             , arrowprops=dict(facecolor='black', shrink=0.05)\n",
    "#             , textcoords=\"offset points\"\n",
    "#             , xytext=(0,70)\n",
    "#             , ha='center'\n",
    "#         )\n"
   ]
  },
  {
   "cell_type": "markdown",
   "metadata": {},
   "source": [
    "Se puede ver en este caso que Darth Vader tiene tanto mayor peso como mayor altura que en su pasado como Anakin.\n",
    "Esto puede deberse a su mayor entrenamiento físico, como asi también su crecimiento como lord Sith.\n"
   ]
  },
  {
   "cell_type": "markdown",
   "metadata": {
    "id": "D2pjJXbcgjoa"
   },
   "source": [
    "## Ejercicio 1.3.\n",
    "\n",
    "Utiliza las *list comprehension* para calcular el cuadrado de los valores positivos de la siguiente lista:\n",
    "\n",
    "Muestra el resultado por pantalla."
   ]
  },
  {
   "cell_type": "code",
   "execution_count": 6,
   "metadata": {
    "id": "WJjNiT3Qgjoc"
   },
   "outputs": [],
   "source": [
    "val = [5, 6, -1, 2, -3, -7, 9, 1]"
   ]
  },
  {
   "cell_type": "code",
   "execution_count": 7,
   "metadata": {
    "id": "9Hf_uH8ugjol"
   },
   "outputs": [
    {
     "name": "stdout",
     "output_type": "stream",
     "text": [
      "[25, 36, 4, 81, 1]\n"
     ]
    }
   ],
   "source": [
    "# Solución:\n",
    "val_square = [x**2 for x in val if x > 0]\n",
    "\n",
    "print(val_square)"
   ]
  },
  {
   "cell_type": "markdown",
   "metadata": {
    "id": "AE6CcvVggjou"
   },
   "source": [
    "## Ejercicio 1.4.\n",
    "\n",
    "Construye un diccionario donde se identifique, mediante claves y valores, las siguientes características del personaje Yoda: \"nombre\", \"altura\", \"peso\", \"edad\" y \"genero\". Utiliza los datos de people_df.\n",
    "\n",
    "Muestra el diccionario por pantalla."
   ]
  },
  {
   "cell_type": "code",
   "execution_count": 8,
   "metadata": {
    "id": "eaq6M61-gjo4"
   },
   "outputs": [
    {
     "name": "stdout",
     "output_type": "stream",
     "text": [
      "{'name': 'Yoda', 'height': 66.0, 'mass': 17.0, 'birth_year': 896.0, 'gender': 'male'}\n"
     ]
    }
   ],
   "source": [
    "# Solución:\n",
    "\n",
    "#Creo el diccionario original solamente con el nombre de yoda. En el caso del dataframe es el nombre del índice\n",
    "yoda = {\"name\" : \"Yoda\"} \n",
    "#En yoda_media guardo el diccionario que creo a partir de obtener los valores referentes al índice \"Yoda\"\n",
    "yoda_media = dict(people_df.loc[\"Yoda\"])\n",
    "#Elimino el campo homeworld de yoda_media ya que no se solicita\n",
    "yoda_media.pop(\"homeworld\")\n",
    "#Fusiono ambos diccionarios para obtener el resultado final.\n",
    "yoda = {**yoda, **yoda_media}\n",
    "print(yoda)"
   ]
  },
  {
   "cell_type": "markdown",
   "metadata": {
    "id": "Z2bkPuuEgjpA"
   },
   "source": [
    "## Ejercicio 1.5.\n",
    "\n",
    "Calcula, a partir de los vectores numpy de altura y peso, definidos a continuación, el [índice de masa corporal (IMC)](https://es.wikipedia.org/wiki/%C3%8Dndice_de_masa_corporal) de los personajes de star wars contenidos en people_df: \n",
    "\n",
    "$IMC = \\frac{peso}{altura^{2}}$ donde altura está en metros y el peso en kg.\n",
    "\n",
    "Muestra los datos por pantalla."
   ]
  },
  {
   "cell_type": "code",
   "execution_count": 9,
   "metadata": {
    "id": "j6vDGHHngjpK"
   },
   "outputs": [
    {
     "name": "stdout",
     "output_type": "stream",
     "text": [
      "[ 26.02758248  26.89232314  34.72222222  33.33006568  21.77777778\n",
      "  37.87400581  27.54820937  25.08286303  23.24598478  23.76641014\n",
      "  21.5450908   24.69135802  24.72518293 443.42857143  26.64359862\n",
      "  39.02662994  25.95155709  23.35095106  35.          31.30193906\n",
      "  25.21625331  25.79591837  25.61728395  25.82644628  23.89325888\n",
      "  13.14828342  17.18034152  26.12244898  17.35891933  23.76641014\n",
      "  20.91623304  22.63467632  19.44636678  18.14486863  21.47708663\n",
      "  23.58983547]\n"
     ]
    }
   ],
   "source": [
    "# Solución:\n",
    "\n",
    "imc = np.array(people_df[\"mass\"]) / (np.array(people_df[\"height\"])/100)**2\n",
    "print(imc)\n"
   ]
  },
  {
   "cell_type": "markdown",
   "metadata": {
    "id": "165OA48hgjpR"
   },
   "source": [
    "## Ejercicio 1.6.\n",
    "\n",
    "A partir del IMC que has calculado en el ejercicio 1.5. Construye un panel con dos histogramas:\n",
    "\n",
    "- Un histograma con toda la muestra\n",
    "- Un histograma seleccionando los valores con un IMC inferior a 100."
   ]
  },
  {
   "cell_type": "code",
   "execution_count": 10,
   "metadata": {
    "id": "tRACj-JDgjpT"
   },
   "outputs": [
    {
     "data": {
      "text/plain": [
       "<matplotlib.legend.Legend at 0x2999c152ac0>"
      ]
     },
     "execution_count": 10,
     "metadata": {},
     "output_type": "execute_result"
    },
    {
     "data": {
      "image/png": "[encoded data removed]",
      "text/plain": [
       "<Figure size 1080x576 with 2 Axes>"
      ]
     },
     "metadata": {},
     "output_type": "display_data"
    }
   ],
   "source": [
    "# Solución:\n",
    "plt.figure()\n",
    "\n",
    "plt.subplot(2,1,1)\n",
    "plt.hist(imc, color= \"red\", label = \"Frecuencia del IMC en toda la muestra de personajes\")\n",
    "plt.xlabel(\"IMC\", labelpad = -10)\n",
    "plt.ylabel(\"Frecuencia\")\n",
    "plt.legend()\n",
    "\n",
    "plt.subplot(2,1,2)\n",
    "plt.hist(imc[imc > 100], color=\"green\", label = \"Frecuencia del IMC en casos de IMC > 100\")\n",
    "plt.xlabel(\"IMC\")\n",
    "plt.ylabel(\"Frecuencia\")\n",
    "plt.legend()\n"
   ]
  },
  {
   "cell_type": "markdown",
   "metadata": {
    "id": "zsqrzaingjpb"
   },
   "source": [
    "## Ejercicio 1.7.\n",
    "\n",
    "A partir del vector 1 y 2 que se definen a continuación contesta las siguientes preguntas:\n",
    "\n",
    "- Calcula el shape, ndim, size del vector1 y vector2\n",
    "- Explica cual es la diferencia entre vector1 y vector2 a partir de los que hayas observado"
   ]
  },
  {
   "cell_type": "code",
   "execution_count": 11,
   "metadata": {
    "id": "DYLofIqugjpc"
   },
   "outputs": [],
   "source": [
    "vector1 = np.hstack([people_df[\"height\"],people_df[\"mass\"]])\n",
    "vector2 = np.vstack([people_df[\"height\"],people_df[\"mass\"]])"
   ]
  },
  {
   "cell_type": "code",
   "execution_count": 12,
   "metadata": {
    "id": "1WBV3vUxgjpm"
   },
   "outputs": [
    {
     "name": "stdout",
     "output_type": "stream",
     "text": [
      " Información referente al vector 1 \n",
      " Shape: (72,) \n",
      " ndim: 1 \n",
      " size: (72,)\n",
      "----------------------------------------\n",
      " Información referente al vector 2 \n",
      " Shape: (2, 36) \n",
      " ndim: 2 \n",
      " size: (2, 36)\n"
     ]
    }
   ],
   "source": [
    "# Solución:\n",
    "\n",
    "print(\" Información referente al vector 1 \\n Shape: {} \\n ndim: {} \\n size: {}\".\n",
    "      format(vector1.shape, vector1.ndim, vector1.shape))\n",
    "\n",
    "print(\"-\"*40)\n",
    "\n",
    "print(\" Información referente al vector 2 \\n Shape: {} \\n ndim: {} \\n size: {}\".\n",
    "      format(vector2.shape, vector2.ndim, vector2.shape))\n"
   ]
  },
  {
   "cell_type": "markdown",
   "metadata": {},
   "source": [
    "La diferencia entre ambas formas de apilar surge del hecho de que el hstack junta ambos arrays en forma de fila (horizontal). Esto quiere decir que los elementos se concatenan de la siguiente forma.\n",
    "\n",
    "Ej.: array1 = [1,2]\n",
    "     array2 = [3,4]\n",
    "     vstack = [1,2,3,4]\n",
    "     \n",
    "Por otro lado, vstack concatena de forma vertical.\n",
    "\n",
    "Ej.: array1 = [1,2]\n",
    "     array2 = [3,4]\n",
    "     vstack = [[1,3],[2,4]]\n",
    "     \n",
    "Dado lo anterior, ese es el motivo por el cual las dimensiones cambian a 2 en el caso del vector 2 y el shape o cantidad de elementos se divide entre dos. Cada elemento del array es un array de dos elementos.\n"
   ]
  },
  {
   "cell_type": "markdown",
   "metadata": {
    "id": "PnkDGSu0gjpw"
   },
   "source": [
    "## Ejercicio 1.8.\n",
    "\n",
    "Crea una copia de people_df llamada personajes_df y renombra las columnas con su traducción al castellano. \n",
    "\n",
    "Muestra los 5 primeros registros del nuevo data frame con `.head()`."
   ]
  },
  {
   "cell_type": "code",
   "execution_count": 13,
   "metadata": {
    "id": "7jK-a6Engjpx"
   },
   "outputs": [
    {
     "data": {
      "text/html": [
       "<div>\n",
       "<style scoped>\n",
       "    .dataframe tbody tr th:only-of-type {\n",
       "        vertical-align: middle;\n",
       "    }\n",
       "\n",
       "    .dataframe tbody tr th {\n",
       "        vertical-align: top;\n",
       "    }\n",
       "\n",
       "    .dataframe thead th {\n",
       "        text-align: right;\n",
       "    }\n",
       "</style>\n",
       "<table border=\"1\" class=\"dataframe\">\n",
       "  <thead>\n",
       "    <tr style=\"text-align: right;\">\n",
       "      <th></th>\n",
       "      <th>altura</th>\n",
       "      <th>peso</th>\n",
       "      <th>anio_nacimiento</th>\n",
       "      <th>genero</th>\n",
       "      <th>planeta de origen</th>\n",
       "    </tr>\n",
       "    <tr>\n",
       "      <th>nombre</th>\n",
       "      <th></th>\n",
       "      <th></th>\n",
       "      <th></th>\n",
       "      <th></th>\n",
       "      <th></th>\n",
       "    </tr>\n",
       "  </thead>\n",
       "  <tbody>\n",
       "    <tr>\n",
       "      <th>Luke Skywalker</th>\n",
       "      <td>172.0</td>\n",
       "      <td>77.0</td>\n",
       "      <td>19.0</td>\n",
       "      <td>male</td>\n",
       "      <td>http://swapi.dev/api/planets/1/</td>\n",
       "    </tr>\n",
       "    <tr>\n",
       "      <th>C-3PO</th>\n",
       "      <td>167.0</td>\n",
       "      <td>75.0</td>\n",
       "      <td>112.0</td>\n",
       "      <td>none</td>\n",
       "      <td>http://swapi.dev/api/planets/1/</td>\n",
       "    </tr>\n",
       "    <tr>\n",
       "      <th>R2-D2</th>\n",
       "      <td>96.0</td>\n",
       "      <td>32.0</td>\n",
       "      <td>33.0</td>\n",
       "      <td>none</td>\n",
       "      <td>http://swapi.dev/api/planets/8/</td>\n",
       "    </tr>\n",
       "    <tr>\n",
       "      <th>Darth Vader</th>\n",
       "      <td>202.0</td>\n",
       "      <td>136.0</td>\n",
       "      <td>41.9</td>\n",
       "      <td>male</td>\n",
       "      <td>http://swapi.dev/api/planets/1/</td>\n",
       "    </tr>\n",
       "    <tr>\n",
       "      <th>Leia Organa</th>\n",
       "      <td>150.0</td>\n",
       "      <td>49.0</td>\n",
       "      <td>19.0</td>\n",
       "      <td>female</td>\n",
       "      <td>http://swapi.dev/api/planets/2/</td>\n",
       "    </tr>\n",
       "  </tbody>\n",
       "</table>\n",
       "</div>"
      ],
      "text/plain": [
       "                altura   peso  anio_nacimiento  genero  \\\n",
       "nombre                                                   \n",
       "Luke Skywalker   172.0   77.0             19.0    male   \n",
       "C-3PO            167.0   75.0            112.0    none   \n",
       "R2-D2             96.0   32.0             33.0    none   \n",
       "Darth Vader      202.0  136.0             41.9    male   \n",
       "Leia Organa      150.0   49.0             19.0  female   \n",
       "\n",
       "                              planeta de origen  \n",
       "nombre                                           \n",
       "Luke Skywalker  http://swapi.dev/api/planets/1/  \n",
       "C-3PO           http://swapi.dev/api/planets/1/  \n",
       "R2-D2           http://swapi.dev/api/planets/8/  \n",
       "Darth Vader     http://swapi.dev/api/planets/1/  \n",
       "Leia Organa     http://swapi.dev/api/planets/2/  "
      ]
     },
     "execution_count": 13,
     "metadata": {},
     "output_type": "execute_result"
    }
   ],
   "source": [
    "# Solución:\n",
    "\n",
    "personajes_df = people_df.copy()\n",
    "personajes_df.index.name = \"nombre\"\n",
    "personajes_df.columns =[\"altura\",\"peso\",\"anio_nacimiento\",\"genero\",\"planeta de origen\"]\n",
    "\n",
    "personajes_df.head(5)"
   ]
  },
  {
   "cell_type": "markdown",
   "metadata": {
    "id": "blkoKgizgjp5"
   },
   "source": [
    "## Ejercicio 1.9.\n",
    "\n",
    "Haz el mismo cálculo de IMC que has hecho en 1.5. pero directamente sobre el objeto personajes_df.\n",
    "\n",
    "Ordena el data frame de mayor a menor IMC y muestra el nombre e IMC de los personajes con IMC por encima de 30.\n",
    "\n",
    "> ¿Sabias que IMC por encima de 30 se considera obeso?\n"
   ]
  },
  {
   "cell_type": "code",
   "execution_count": 14,
   "metadata": {
    "id": "CHIIcuANgjp6"
   },
   "outputs": [
    {
     "data": {
      "text/html": [
       "<div>\n",
       "<style scoped>\n",
       "    .dataframe tbody tr th:only-of-type {\n",
       "        vertical-align: middle;\n",
       "    }\n",
       "\n",
       "    .dataframe tbody tr th {\n",
       "        vertical-align: top;\n",
       "    }\n",
       "\n",
       "    .dataframe thead th {\n",
       "        text-align: right;\n",
       "    }\n",
       "</style>\n",
       "<table border=\"1\" class=\"dataframe\">\n",
       "  <thead>\n",
       "    <tr style=\"text-align: right;\">\n",
       "      <th></th>\n",
       "      <th>IMC</th>\n",
       "    </tr>\n",
       "    <tr>\n",
       "      <th>nombre</th>\n",
       "      <th></th>\n",
       "    </tr>\n",
       "  </thead>\n",
       "  <tbody>\n",
       "    <tr>\n",
       "      <th>Jabba Desilijic Tiure</th>\n",
       "      <td>443.428571</td>\n",
       "    </tr>\n",
       "    <tr>\n",
       "      <th>Yoda</th>\n",
       "      <td>39.026630</td>\n",
       "    </tr>\n",
       "    <tr>\n",
       "      <th>Owen Lars</th>\n",
       "      <td>37.874006</td>\n",
       "    </tr>\n",
       "    <tr>\n",
       "      <th>IG-88</th>\n",
       "      <td>35.000000</td>\n",
       "    </tr>\n",
       "    <tr>\n",
       "      <th>R2-D2</th>\n",
       "      <td>34.722222</td>\n",
       "    </tr>\n",
       "    <tr>\n",
       "      <th>Darth Vader</th>\n",
       "      <td>33.330066</td>\n",
       "    </tr>\n",
       "    <tr>\n",
       "      <th>Bossk</th>\n",
       "      <td>31.301939</td>\n",
       "    </tr>\n",
       "  </tbody>\n",
       "</table>\n",
       "</div>"
      ],
      "text/plain": [
       "                              IMC\n",
       "nombre                           \n",
       "Jabba Desilijic Tiure  443.428571\n",
       "Yoda                    39.026630\n",
       "Owen Lars               37.874006\n",
       "IG-88                   35.000000\n",
       "R2-D2                   34.722222\n",
       "Darth Vader             33.330066\n",
       "Bossk                   31.301939"
      ]
     },
     "execution_count": 14,
     "metadata": {},
     "output_type": "execute_result"
    }
   ],
   "source": [
    "# Solución:\n",
    "\n",
    "personajes_df[\"IMC\"] = personajes_df[\"peso\"]/ (personajes_df[\"altura\"]/100)**2\n",
    "\n",
    "personajes_df.\\\n",
    "    sort_values(\"IMC\", ascending = False).\\\n",
    "    loc[ personajes_df.IMC > 30, [\"IMC\"]]\n"
   ]
  },
  {
   "cell_type": "markdown",
   "metadata": {
    "id": "E-goVaMEgjqB"
   },
   "source": [
    "## Ejercicio 1.10.\n",
    "\n",
    "Inserta un valor faltante en los valores de IMC que sean superiores a 100 y dibuja el histograma del IMC transformado con `.plot.hist()`."
   ]
  },
  {
   "cell_type": "code",
   "execution_count": 15,
   "metadata": {
    "id": "oWQQoDs_gjqD"
   },
   "outputs": [
    {
     "name": "stderr",
     "output_type": "stream",
     "text": [
      "C:\\Users\\Rodri\\Anaconda3\\lib\\site-packages\\numpy\\lib\\histograms.py:839: RuntimeWarning: invalid value encountered in greater_equal\n",
      "  keep = (tmp_a >= first_edge)\n",
      "C:\\Users\\Rodri\\Anaconda3\\lib\\site-packages\\numpy\\lib\\histograms.py:840: RuntimeWarning: invalid value encountered in less_equal\n",
      "  keep &= (tmp_a <= last_edge)\n"
     ]
    },
    {
     "data": {
      "text/plain": [
       "<matplotlib.legend.Legend at 0x2999c414430>"
      ]
     },
     "execution_count": 15,
     "metadata": {},
     "output_type": "execute_result"
    },
    {
     "data": {
      "image/png": "[encoded data removed]",
      "text/plain": [
       "<Figure size 1080x576 with 1 Axes>"
      ]
     },
     "metadata": {},
     "output_type": "display_data"
    }
   ],
   "source": [
    "# Solución:\n",
    "\n",
    "personajes_df[personajes_df.IMC > 100] = np.nan\n",
    "\n",
    "plt.hist(personajes_df.IMC, color= \"gray\", label= \"Histograma de frecuencia de IMC en personajes con IMC < 100\")\n",
    "plt.ylabel(\"Frecuencia\")\n",
    "plt.xlabel(\"IMC\")\n",
    "plt.legend()\n"
   ]
  }
 ],
 "metadata": {
  "colab": {
   "name": "M1_B2_AI_Python_I.ipynb",
   "provenance": []
  },
  "kernelspec": {
   "display_name": "Python 3",
   "language": "python",
   "name": "python3"
  },
  "language_info": {
   "codemirror_mode": {
    "name": "ipython",
    "version": 3
   },
   "file_extension": ".py",
   "mimetype": "text/x-python",
   "name": "python",
   "nbconvert_exporter": "python",
   "pygments_lexer": "ipython3",
   "version": "3.8.3"
  }
 },
 "nbformat": 4,
 "nbformat_minor": 1
}
