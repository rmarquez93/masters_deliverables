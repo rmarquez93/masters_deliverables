{
 "cells": [
  {
   "cell_type": "markdown",
   "metadata": {
    "id": "tW3jK_BDgjno"
   },
   "source": [
    "# **Herramientas de Análisis**\n",
    "\n",
    "---\n",
    "---\n",
    "\n",
    "<!-- script html for image -->\n",
    "\n",
    "<center>\n",
    "\n",
    "\n",
    "<img src=\"https://upload.wikimedia.org/wikipedia/commons/thumb/a/ac/Sw-ep1-logo.svg/1280px-Sw-ep1-logo.svg.png\"  width=\"500\" height=\"150\"/>\n",
    "\n",
    "\n",
    "<br>\n",
    "\n",
    "Fuente de la imagen: [https://es.wikipedia.org](https://es.wikipedia.org/wiki/Star_Wars:_Episodio_I_-_La_amenaza_fantasma)\n",
    "\n",
    "</center>\n",
    "\n",
    "<br>"
   ]
  },
  {
   "cell_type": "markdown",
   "metadata": {
    "id": "CLuiMPEMSvF6"
   },
   "source": [
    "# **Índice**\n",
    "\n",
    "---\n",
    "---\n",
    "\n",
    "> [Herramientas de Análisis](#scrollTo=tW3jK_BDgjno&line=20&uniqifier=1)\n",
    "<br>\n",
    ">>\n",
    ">> [Preparación del Entorno](#scrollTo=5zZfGqOugjnr&line=3&uniqifier=1) \\\\\n",
    ">>   \\\\\n",
    ">> [Ejercicio 2](#scrollTo=EljLebnxgjqM) \\\\"
   ]
  },
  {
   "cell_type": "markdown",
   "metadata": {
    "id": "5zZfGqOugjnr"
   },
   "source": [
    "# Preparación del entorno\n",
    "\n",
    "Padawan! Cuando inicies sesión en Colab, prepara el entorno ejecutando el siguiente código."
   ]
  },
  {
   "cell_type": "code",
   "execution_count": 17,
   "metadata": {
    "id": "JiKiPQdQgjnu"
   },
   "outputs": [],
   "source": [
    "if 'google.colab' in str(get_ipython()):\n",
    "    !git clone https://github.com/griu/mbdds_fc20.git /content/mbdds_fc20\n",
    "    !git -C /content/mbdds_fc20 pull\n",
    "    %cd /content/mbdds_fc20/Python\n",
    "    !python -m pip install -r requirementsColab.txt"
   ]
  },
  {
   "cell_type": "markdown",
   "metadata": {
    "id": "EljLebnxgjqM"
   },
   "source": [
    "# Ejercicio 2\n",
    "\n",
    "Para el ejercicio 2, añadimos los datos del ejercicio 1 los datos de planetas."
   ]
  },
  {
   "cell_type": "code",
   "execution_count": 18,
   "metadata": {
    "id": "2V3mrVHSgjn7"
   },
   "outputs": [
    {
     "data": {
      "text/html": [
       "<div>\n",
       "<style scoped>\n",
       "    .dataframe tbody tr th:only-of-type {\n",
       "        vertical-align: middle;\n",
       "    }\n",
       "\n",
       "    .dataframe tbody tr th {\n",
       "        vertical-align: top;\n",
       "    }\n",
       "\n",
       "    .dataframe thead th {\n",
       "        text-align: right;\n",
       "    }\n",
       "</style>\n",
       "<table border=\"1\" class=\"dataframe\">\n",
       "  <thead>\n",
       "    <tr style=\"text-align: right;\">\n",
       "      <th></th>\n",
       "      <th>orbital_period</th>\n",
       "      <th>url</th>\n",
       "    </tr>\n",
       "    <tr>\n",
       "      <th>name</th>\n",
       "      <th></th>\n",
       "      <th></th>\n",
       "    </tr>\n",
       "  </thead>\n",
       "  <tbody>\n",
       "    <tr>\n",
       "      <th>Tatooine</th>\n",
       "      <td>304.0</td>\n",
       "      <td>http://swapi.dev/api/planets/1/</td>\n",
       "    </tr>\n",
       "    <tr>\n",
       "      <th>Alderaan</th>\n",
       "      <td>364.0</td>\n",
       "      <td>http://swapi.dev/api/planets/2/</td>\n",
       "    </tr>\n",
       "    <tr>\n",
       "      <th>Yavin IV</th>\n",
       "      <td>4818.0</td>\n",
       "      <td>http://swapi.dev/api/planets/3/</td>\n",
       "    </tr>\n",
       "    <tr>\n",
       "      <th>Hoth</th>\n",
       "      <td>549.0</td>\n",
       "      <td>http://swapi.dev/api/planets/4/</td>\n",
       "    </tr>\n",
       "    <tr>\n",
       "      <th>Dagobah</th>\n",
       "      <td>341.0</td>\n",
       "      <td>http://swapi.dev/api/planets/5/</td>\n",
       "    </tr>\n",
       "  </tbody>\n",
       "</table>\n",
       "</div>"
      ],
      "text/plain": [
       "          orbital_period                              url\n",
       "name                                                     \n",
       "Tatooine           304.0  http://swapi.dev/api/planets/1/\n",
       "Alderaan           364.0  http://swapi.dev/api/planets/2/\n",
       "Yavin IV          4818.0  http://swapi.dev/api/planets/3/\n",
       "Hoth               549.0  http://swapi.dev/api/planets/4/\n",
       "Dagobah            341.0  http://swapi.dev/api/planets/5/"
      ]
     },
     "execution_count": 18,
     "metadata": {},
     "output_type": "execute_result"
    }
   ],
   "source": [
    "import numpy as np\n",
    "import pandas as pd\n",
    "import matplotlib.pyplot as plt\n",
    "import seaborn as sns; sns.set()  # para el estilo de graficos\n",
    "\n",
    "entidades = ['planets','starships','vehicles','people','species']\n",
    "entidades_df = {x: pd.read_pickle('www/' + x + '_df.pkl') for x in entidades}\n",
    "\n",
    "# Datos people\n",
    "people_df = entidades_df['people'][[\"height\",\"mass\",\"birth_year\",\"gender\",\"homeworld\"]].dropna()\n",
    "\n",
    "# planetas\n",
    "planets_df = entidades_df['planets'][[\"orbital_period\",\"url\"]].dropna()\n",
    "planets_df.head()"
   ]
  },
  {
   "cell_type": "markdown",
   "metadata": {
    "id": "XfAwzyybgjqV"
   },
   "source": [
    "## Ejercicio 2.1.\n",
    "\n",
    "Construye una función que diga \"buenos días\", \"buenas tardes\" o \"buenas noches\" en función de la hora del día.\n",
    "\n",
    "> Truco 1: Para testear la función haz que tenga un parametro de entrada que tenga como valor por defecto: `datetime.now()` (primero carga `from datetime import datetime`).\n",
    "\n",
    "> Truco 2: Puedes extraer la hora de un datetime con `.hour`."
   ]
  },
  {
   "cell_type": "code",
   "execution_count": 19,
   "metadata": {
    "id": "ztjRWz0kgjqW"
   },
   "outputs": [
    {
     "name": "stdout",
     "output_type": "stream",
     "text": [
      "Buenos días\n"
     ]
    }
   ],
   "source": [
    "# Solución:\n",
    "from datetime import datetime\n",
    "\n",
    "def saludo(hora=datetime.now()):\n",
    "#El formato de hora es en 24 Hs.\n",
    "    if hora.hour >= 4 and hora.hour < 12:\n",
    "        print(\"Buenos días\")\n",
    "    elif hora.hour >= 12 and hora.hour < 20:\n",
    "        print(\"Buenas tardes\")\n",
    "    else:\n",
    "        print(\"Buenas noches\")\n",
    "        \n",
    "saludo()"
   ]
  },
  {
   "cell_type": "markdown",
   "metadata": {
    "id": "N4CDynU2gjqe"
   },
   "source": [
    "## Ejercicio 2.2.\n",
    "\n",
    "En el data frame personajes_df, calcula de nuevo el IMC y crea una nueva variable con el trameado de la variable IMC definido en la siguiente tabla:\n",
    "\n",
    " | Categoría de nivel de peso | Intervalo del percentil |\n",
    " | -------------------------- | ----------------------- | \n",
    " | Bajo peso | < 18.5 |\n",
    " | Normal | >= 18.5 y < 25 |\n",
    " | Sobrepeso | >= 25 y <30 |\n",
    " | Obeso | >= 30 |\n",
    "\n",
    "> Truco: utiliza `pd.cut(..., right=False)` y modifica las etiquetas con `.cat.categories`.  "
   ]
  },
  {
   "cell_type": "code",
   "execution_count": 20,
   "metadata": {
    "id": "1DPbZLk4gjqf"
   },
   "outputs": [
    {
     "data": {
      "text/html": [
       "<div>\n",
       "<style scoped>\n",
       "    .dataframe tbody tr th:only-of-type {\n",
       "        vertical-align: middle;\n",
       "    }\n",
       "\n",
       "    .dataframe tbody tr th {\n",
       "        vertical-align: top;\n",
       "    }\n",
       "\n",
       "    .dataframe thead th {\n",
       "        text-align: right;\n",
       "    }\n",
       "</style>\n",
       "<table border=\"1\" class=\"dataframe\">\n",
       "  <thead>\n",
       "    <tr style=\"text-align: right;\">\n",
       "      <th></th>\n",
       "      <th>altura</th>\n",
       "      <th>peso</th>\n",
       "      <th>anio_nacimiento</th>\n",
       "      <th>genero</th>\n",
       "      <th>planeta de origen</th>\n",
       "      <th>IMC</th>\n",
       "      <th>IMC_cat</th>\n",
       "    </tr>\n",
       "    <tr>\n",
       "      <th>nombre</th>\n",
       "      <th></th>\n",
       "      <th></th>\n",
       "      <th></th>\n",
       "      <th></th>\n",
       "      <th></th>\n",
       "      <th></th>\n",
       "      <th></th>\n",
       "    </tr>\n",
       "  </thead>\n",
       "  <tbody>\n",
       "    <tr>\n",
       "      <th>Luke Skywalker</th>\n",
       "      <td>172.0</td>\n",
       "      <td>77.0</td>\n",
       "      <td>19.0</td>\n",
       "      <td>male</td>\n",
       "      <td>http://swapi.dev/api/planets/1/</td>\n",
       "      <td>26.027582</td>\n",
       "      <td>Sobrepeso</td>\n",
       "    </tr>\n",
       "    <tr>\n",
       "      <th>C-3PO</th>\n",
       "      <td>167.0</td>\n",
       "      <td>75.0</td>\n",
       "      <td>112.0</td>\n",
       "      <td>none</td>\n",
       "      <td>http://swapi.dev/api/planets/1/</td>\n",
       "      <td>26.892323</td>\n",
       "      <td>Sobrepeso</td>\n",
       "    </tr>\n",
       "    <tr>\n",
       "      <th>R2-D2</th>\n",
       "      <td>96.0</td>\n",
       "      <td>32.0</td>\n",
       "      <td>33.0</td>\n",
       "      <td>none</td>\n",
       "      <td>http://swapi.dev/api/planets/8/</td>\n",
       "      <td>34.722222</td>\n",
       "      <td>Obeso</td>\n",
       "    </tr>\n",
       "    <tr>\n",
       "      <th>Darth Vader</th>\n",
       "      <td>202.0</td>\n",
       "      <td>136.0</td>\n",
       "      <td>41.9</td>\n",
       "      <td>male</td>\n",
       "      <td>http://swapi.dev/api/planets/1/</td>\n",
       "      <td>33.330066</td>\n",
       "      <td>Obeso</td>\n",
       "    </tr>\n",
       "    <tr>\n",
       "      <th>Leia Organa</th>\n",
       "      <td>150.0</td>\n",
       "      <td>49.0</td>\n",
       "      <td>19.0</td>\n",
       "      <td>female</td>\n",
       "      <td>http://swapi.dev/api/planets/2/</td>\n",
       "      <td>21.777778</td>\n",
       "      <td>Normal</td>\n",
       "    </tr>\n",
       "    <tr>\n",
       "      <th>Owen Lars</th>\n",
       "      <td>178.0</td>\n",
       "      <td>120.0</td>\n",
       "      <td>52.0</td>\n",
       "      <td>male</td>\n",
       "      <td>http://swapi.dev/api/planets/1/</td>\n",
       "      <td>37.874006</td>\n",
       "      <td>Obeso</td>\n",
       "    </tr>\n",
       "    <tr>\n",
       "      <th>Beru Whitesun lars</th>\n",
       "      <td>165.0</td>\n",
       "      <td>75.0</td>\n",
       "      <td>47.0</td>\n",
       "      <td>female</td>\n",
       "      <td>http://swapi.dev/api/planets/1/</td>\n",
       "      <td>27.548209</td>\n",
       "      <td>Sobrepeso</td>\n",
       "    </tr>\n",
       "    <tr>\n",
       "      <th>Biggs Darklighter</th>\n",
       "      <td>183.0</td>\n",
       "      <td>84.0</td>\n",
       "      <td>24.0</td>\n",
       "      <td>male</td>\n",
       "      <td>http://swapi.dev/api/planets/1/</td>\n",
       "      <td>25.082863</td>\n",
       "      <td>Sobrepeso</td>\n",
       "    </tr>\n",
       "    <tr>\n",
       "      <th>Obi-Wan Kenobi</th>\n",
       "      <td>182.0</td>\n",
       "      <td>77.0</td>\n",
       "      <td>57.0</td>\n",
       "      <td>male</td>\n",
       "      <td>http://swapi.dev/api/planets/20/</td>\n",
       "      <td>23.245985</td>\n",
       "      <td>Normal</td>\n",
       "    </tr>\n",
       "    <tr>\n",
       "      <th>Anakin Skywalker</th>\n",
       "      <td>188.0</td>\n",
       "      <td>84.0</td>\n",
       "      <td>41.9</td>\n",
       "      <td>male</td>\n",
       "      <td>http://swapi.dev/api/planets/1/</td>\n",
       "      <td>23.766410</td>\n",
       "      <td>Normal</td>\n",
       "    </tr>\n",
       "  </tbody>\n",
       "</table>\n",
       "</div>"
      ],
      "text/plain": [
       "                    altura   peso  anio_nacimiento  genero  \\\n",
       "nombre                                                       \n",
       "Luke Skywalker       172.0   77.0             19.0    male   \n",
       "C-3PO                167.0   75.0            112.0    none   \n",
       "R2-D2                 96.0   32.0             33.0    none   \n",
       "Darth Vader          202.0  136.0             41.9    male   \n",
       "Leia Organa          150.0   49.0             19.0  female   \n",
       "Owen Lars            178.0  120.0             52.0    male   \n",
       "Beru Whitesun lars   165.0   75.0             47.0  female   \n",
       "Biggs Darklighter    183.0   84.0             24.0    male   \n",
       "Obi-Wan Kenobi       182.0   77.0             57.0    male   \n",
       "Anakin Skywalker     188.0   84.0             41.9    male   \n",
       "\n",
       "                                   planeta de origen        IMC    IMC_cat  \n",
       "nombre                                                                      \n",
       "Luke Skywalker       http://swapi.dev/api/planets/1/  26.027582  Sobrepeso  \n",
       "C-3PO                http://swapi.dev/api/planets/1/  26.892323  Sobrepeso  \n",
       "R2-D2                http://swapi.dev/api/planets/8/  34.722222      Obeso  \n",
       "Darth Vader          http://swapi.dev/api/planets/1/  33.330066      Obeso  \n",
       "Leia Organa          http://swapi.dev/api/planets/2/  21.777778     Normal  \n",
       "Owen Lars            http://swapi.dev/api/planets/1/  37.874006      Obeso  \n",
       "Beru Whitesun lars   http://swapi.dev/api/planets/1/  27.548209  Sobrepeso  \n",
       "Biggs Darklighter    http://swapi.dev/api/planets/1/  25.082863  Sobrepeso  \n",
       "Obi-Wan Kenobi      http://swapi.dev/api/planets/20/  23.245985     Normal  \n",
       "Anakin Skywalker     http://swapi.dev/api/planets/1/  23.766410     Normal  "
      ]
     },
     "execution_count": 20,
     "metadata": {},
     "output_type": "execute_result"
    }
   ],
   "source": [
    "# Solución:\n",
    "\n",
    "personajes_df = people_df.copy()\n",
    "personajes_df.index.name = \"nombre\"\n",
    "personajes_df.columns =[\"altura\",\"peso\",\"anio_nacimiento\",\"genero\",\"planeta de origen\"]\n",
    "\n",
    "personajes_df[\"IMC\"] = personajes_df[\"peso\"]/ (personajes_df[\"altura\"]/100)**2\n",
    "\n",
    "personajes_df[\"IMC_cat\"] = pd.cut(personajes_df.IMC, [-np.infty,18.5,25,30,np.infty], right = False)\n",
    "\n",
    "personajes_df[\"IMC_cat\"].cat.categories = [\"Bajo peso\",\"Normal\",\"Sobrepeso\",\"Obeso\"]\n",
    "\n",
    "personajes_df.head(10)"
   ]
  },
  {
   "cell_type": "markdown",
   "metadata": {
    "id": "edo1k7Y-gjqn"
   },
   "source": [
    "## Ejercicio 2.3.\n",
    "\n",
    "Muestra las frecuencias de la nueva variable definida en 2.2."
   ]
  },
  {
   "cell_type": "code",
   "execution_count": 21,
   "metadata": {
    "id": "6OxcRrVpgjqo"
   },
   "outputs": [
    {
     "data": {
      "text/plain": [
       "Bajo peso     4\n",
       "Normal       14\n",
       "Sobrepeso    11\n",
       "Obeso         7\n",
       "Name: IMC_cat, dtype: int64"
      ]
     },
     "execution_count": 21,
     "metadata": {},
     "output_type": "execute_result"
    }
   ],
   "source": [
    "# Solución:\n",
    "\n",
    "personajes_df[\"IMC_cat\"].value_counts().sort_index()\n"
   ]
  },
  {
   "cell_type": "markdown",
   "metadata": {
    "id": "1CKTldfbgjqv"
   },
   "source": [
    "## Ejercicio 2.4.\n",
    "\n",
    "Calcula ahora un trameado de la edad en 5 grupos equiprobables.\n",
    "\n",
    "Muestra los recuentos (frecuencias) de la nueva obtenida por pantalla.\n",
    "\n",
    "> Truco: Busca ayuda de la función [pd.qcut()](https://pandas.pydata.org/pandas-docs/stable/reference/api/pandas.qcut.html)"
   ]
  },
  {
   "cell_type": "code",
   "execution_count": 22,
   "metadata": {
    "id": "O_WpukQVgjqx"
   },
   "outputs": [
    {
     "data": {
      "text/plain": [
       "< 29              8\n",
       ">= 29 y < 41.9    8\n",
       ">= 41.9 y <52     6\n",
       ">= 52 y < 82      7\n",
       ">= 82             7\n",
       "Name: edad_cat, dtype: int64"
      ]
     },
     "execution_count": 22,
     "metadata": {},
     "output_type": "execute_result"
    }
   ],
   "source": [
    "# Solución:\n",
    "\n",
    "personajes_df[\"edad_cat\"] = pd.qcut(personajes_df.anio_nacimiento,5, \n",
    "                                    labels = [\"< 29\",\">= 29 y < 41.9\",\">= 41.9 y <52\", \">= 52 y < 82\", \">= 82\"])\n",
    "\n",
    "personajes_df.edad_cat.value_counts().sort_index()\n"
   ]
  },
  {
   "cell_type": "markdown",
   "metadata": {
    "id": "ounCvVAGgjq6"
   },
   "source": [
    "## Ejercicio 2.5.\n",
    "\n",
    "Presenta la tabla cruzada de tramos de edad (ej. 2.4) por tramos de IMC (ej. 2.2). \n",
    "\n",
    "¿Qué tramo de edad tiene un mayor número de personajes con Bajo peso?"
   ]
  },
  {
   "cell_type": "code",
   "execution_count": 23,
   "metadata": {
    "id": "umepvEN9gjq8"
   },
   "outputs": [
    {
     "data": {
      "text/html": [
       "<div>\n",
       "<style scoped>\n",
       "    .dataframe tbody tr th:only-of-type {\n",
       "        vertical-align: middle;\n",
       "    }\n",
       "\n",
       "    .dataframe tbody tr th {\n",
       "        vertical-align: top;\n",
       "    }\n",
       "\n",
       "    .dataframe thead th {\n",
       "        text-align: right;\n",
       "    }\n",
       "</style>\n",
       "<table border=\"1\" class=\"dataframe\">\n",
       "  <thead>\n",
       "    <tr style=\"text-align: right;\">\n",
       "      <th>edad_cat</th>\n",
       "      <th>&lt; 29</th>\n",
       "      <th>&gt;= 29 y &lt; 41.9</th>\n",
       "      <th>&gt;= 41.9 y &lt;52</th>\n",
       "      <th>&gt;= 52 y &lt; 82</th>\n",
       "      <th>&gt;= 82</th>\n",
       "    </tr>\n",
       "    <tr>\n",
       "      <th>IMC_cat</th>\n",
       "      <th></th>\n",
       "      <th></th>\n",
       "      <th></th>\n",
       "      <th></th>\n",
       "      <th></th>\n",
       "    </tr>\n",
       "  </thead>\n",
       "  <tbody>\n",
       "    <tr>\n",
       "      <th>Bajo peso</th>\n",
       "      <td>0</td>\n",
       "      <td>1</td>\n",
       "      <td>3</td>\n",
       "      <td>0</td>\n",
       "      <td>0</td>\n",
       "    </tr>\n",
       "    <tr>\n",
       "      <th>Normal</th>\n",
       "      <td>3</td>\n",
       "      <td>2</td>\n",
       "      <td>1</td>\n",
       "      <td>4</td>\n",
       "      <td>4</td>\n",
       "    </tr>\n",
       "    <tr>\n",
       "      <th>Sobrepeso</th>\n",
       "      <td>4</td>\n",
       "      <td>3</td>\n",
       "      <td>1</td>\n",
       "      <td>2</td>\n",
       "      <td>1</td>\n",
       "    </tr>\n",
       "    <tr>\n",
       "      <th>Obeso</th>\n",
       "      <td>1</td>\n",
       "      <td>2</td>\n",
       "      <td>1</td>\n",
       "      <td>1</td>\n",
       "      <td>2</td>\n",
       "    </tr>\n",
       "  </tbody>\n",
       "</table>\n",
       "</div>"
      ],
      "text/plain": [
       "edad_cat   < 29  >= 29 y < 41.9  >= 41.9 y <52  >= 52 y < 82  >= 82\n",
       "IMC_cat                                                            \n",
       "Bajo peso     0               1              3             0      0\n",
       "Normal        3               2              1             4      4\n",
       "Sobrepeso     4               3              1             2      1\n",
       "Obeso         1               2              1             1      2"
      ]
     },
     "execution_count": 23,
     "metadata": {},
     "output_type": "execute_result"
    }
   ],
   "source": [
    "# Solución:\n",
    "\n",
    "pd.crosstab(personajes_df.IMC_cat,personajes_df.edad_cat)"
   ]
  },
  {
   "cell_type": "markdown",
   "metadata": {},
   "source": [
    "#### Respuesta:\n",
    "El tramo de edad con mayor n° de personajes con Bajo Peso es el que va entre 41.9 años y 52.\n",
    "\n"
   ]
  },
  {
   "cell_type": "markdown",
   "metadata": {
    "id": "l2716nMZgjrE"
   },
   "source": [
    "## Ejercicio 2.6.\n",
    "\n",
    "Calcula una tabla resumen (data frame) donde se presente la media del IMC en cada tramo de edad calculado en ejercicio 2.4.\n",
    "\n",
    "Presenta por pantalla la nueva tabla resumen.\n"
   ]
  },
  {
   "cell_type": "code",
   "execution_count": 24,
   "metadata": {
    "id": "6fMs6ud7gjrG"
   },
   "outputs": [
    {
     "data": {
      "text/html": [
       "<div>\n",
       "<style scoped>\n",
       "    .dataframe tbody tr th:only-of-type {\n",
       "        vertical-align: middle;\n",
       "    }\n",
       "\n",
       "    .dataframe tbody tr th {\n",
       "        vertical-align: top;\n",
       "    }\n",
       "\n",
       "    .dataframe thead th {\n",
       "        text-align: right;\n",
       "    }\n",
       "</style>\n",
       "<table border=\"1\" class=\"dataframe\">\n",
       "  <thead>\n",
       "    <tr style=\"text-align: right;\">\n",
       "      <th></th>\n",
       "      <th>IMC_mean</th>\n",
       "      <th>anio_nacimiento_median</th>\n",
       "    </tr>\n",
       "    <tr>\n",
       "      <th>edad_cat</th>\n",
       "      <th></th>\n",
       "      <th></th>\n",
       "    </tr>\n",
       "  </thead>\n",
       "  <tbody>\n",
       "    <tr>\n",
       "      <th>&lt; 29</th>\n",
       "      <td>25.960538</td>\n",
       "      <td>20.0</td>\n",
       "    </tr>\n",
       "    <tr>\n",
       "      <th>&gt;= 29 y &lt; 41.9</th>\n",
       "      <td>26.242997</td>\n",
       "      <td>38.5</td>\n",
       "    </tr>\n",
       "    <tr>\n",
       "      <th>&gt;= 41.9 y &lt;52</th>\n",
       "      <td>22.972490</td>\n",
       "      <td>47.5</td>\n",
       "    </tr>\n",
       "    <tr>\n",
       "      <th>&gt;= 52 y &lt; 82</th>\n",
       "      <td>24.774935</td>\n",
       "      <td>58.0</td>\n",
       "    </tr>\n",
       "    <tr>\n",
       "      <th>&gt;= 82</th>\n",
       "      <td>85.311313</td>\n",
       "      <td>112.0</td>\n",
       "    </tr>\n",
       "  </tbody>\n",
       "</table>\n",
       "</div>"
      ],
      "text/plain": [
       "                 IMC_mean  anio_nacimiento_median\n",
       "edad_cat                                         \n",
       "< 29            25.960538                    20.0\n",
       ">= 29 y < 41.9  26.242997                    38.5\n",
       ">= 41.9 y <52   22.972490                    47.5\n",
       ">= 52 y < 82    24.774935                    58.0\n",
       ">= 82           85.311313                   112.0"
      ]
     },
     "execution_count": 24,
     "metadata": {},
     "output_type": "execute_result"
    }
   ],
   "source": [
    "# Solución:\n",
    "\n",
    "IMC_edad_df = personajes_df.groupby([\"edad_cat\"]).agg(IMC_mean=(\"IMC\",\"mean\"),\n",
    "                                                      anio_nacimiento_median=(\"anio_nacimiento\",\"median\"))\n",
    "        \n",
    "IMC_edad_df\n"
   ]
  },
  {
   "cell_type": "markdown",
   "metadata": {
    "id": "pcJwb6B5gjrO"
   },
   "source": [
    "## Ejercicio 2.7.\n",
    "\n",
    "Presenta los datos del ej. 2.6. como un gráfico de líneas donde el eje x sea la edad y el eje y el IMC medio.\n",
    "\n",
    "> Truco: Como eje x del gráfico de líneas, puedes calcular en 2.6., en el mismo cálculo del IMC medio, la mediana de edad de cada tramo de edad."
   ]
  },
  {
   "cell_type": "code",
   "execution_count": 25,
   "metadata": {
    "id": "U8dJ4dr5gjrQ"
   },
   "outputs": [
    {
     "data": {
      "text/plain": [
       "Text(0, 0.5, 'Promedio de IMC')"
      ]
     },
     "execution_count": 25,
     "metadata": {},
     "output_type": "execute_result"
    },
    {
     "data": {
      "image/png": "[encoded data removed]",
      "text/plain": [
       "<Figure size 1080x576 with 1 Axes>"
      ]
     },
     "metadata": {},
     "output_type": "display_data"
    }
   ],
   "source": [
    "# Solución:\n",
    "sns.set(rc = {'figure.figsize':(15,8)})\n",
    "\n",
    "sns.lineplot(x = IMC_edad_df.anio_nacimiento_median,\n",
    "             y = IMC_edad_df.IMC_mean)\n",
    "\n",
    "plt.xlabel(\"Edad\")\n",
    "plt.ylabel(\"Promedio de IMC\")\n"
   ]
  },
  {
   "cell_type": "markdown",
   "metadata": {
    "id": "qmjm1lwigjrY"
   },
   "source": [
    "## Ejercicio 2.8.\n",
    "\n",
    "Calcula el ratio del IMC sobre la mediana del IMC de su tramo de edad (definidos en el ejercicio 2.2.) mediante la función groupby(...).apply(...).\n",
    "\n",
    "> truco: primero crea una función que devuelva:  `x / np.nanmedian(x)`.\n",
    "\n",
    "Presenta los datos mediante un boxplot de la nueva variable: [pd.boxplot()](https://pandas.pydata.org/pandas-docs/stable/reference/api/pandas.DataFrame.boxplot.html). "
   ]
  },
  {
   "cell_type": "code",
   "execution_count": 26,
   "metadata": {
    "id": "XH3ijt6Dgjra"
   },
   "outputs": [
    {
     "data": {
      "text/plain": [
       "<matplotlib.axes._subplots.AxesSubplot at 0x1e8a682b250>"
      ]
     },
     "execution_count": 26,
     "metadata": {},
     "output_type": "execute_result"
    },
    {
     "data": {
      "image/png": "[encoded data removed]",
      "text/plain": [
       "<Figure size 1080x576 with 1 Axes>"
      ]
     },
     "metadata": {},
     "output_type": "display_data"
    }
   ],
   "source": [
    "# Solución:\n",
    "\n",
    "def ratio(x):\n",
    "     x[\"ratio_IMC\"]= x[\"IMC\"]/np.nanmedian(x[\"IMC\"])\n",
    "     return x\n",
    "\n",
    "personajes_df = personajes_df.groupby(\"edad_cat\").apply(ratio)\n",
    "\n",
    "personajes_df.boxplot(column= \"ratio_IMC\", by= \"edad_cat\")"
   ]
  },
  {
   "cell_type": "markdown",
   "metadata": {
    "id": "mkK-wUxCgjrg"
   },
   "source": [
    "## Ejercicio 2.9.\n",
    "\n",
    "¿Cual es planeta con un menor índice IMC medio de sus personajes?\n",
    "¿Que personaje/s son de ese planeta?"
   ]
  },
  {
   "cell_type": "code",
   "execution_count": 27,
   "metadata": {
    "id": "WsgelSYigjrh"
   },
   "outputs": [
    {
     "data": {
      "text/html": [
       "<div>\n",
       "<style scoped>\n",
       "    .dataframe tbody tr th:only-of-type {\n",
       "        vertical-align: middle;\n",
       "    }\n",
       "\n",
       "    .dataframe tbody tr th {\n",
       "        vertical-align: top;\n",
       "    }\n",
       "\n",
       "    .dataframe thead th {\n",
       "        text-align: right;\n",
       "    }\n",
       "</style>\n",
       "<table border=\"1\" class=\"dataframe\">\n",
       "  <thead>\n",
       "    <tr style=\"text-align: right;\">\n",
       "      <th></th>\n",
       "      <th>altura</th>\n",
       "      <th>peso</th>\n",
       "      <th>anio_nacimiento</th>\n",
       "      <th>genero</th>\n",
       "      <th>planeta de origen</th>\n",
       "      <th>IMC</th>\n",
       "      <th>IMC_cat</th>\n",
       "      <th>edad_cat</th>\n",
       "      <th>ratio_IMC</th>\n",
       "      <th>nombre_planeta</th>\n",
       "    </tr>\n",
       "    <tr>\n",
       "      <th>nombre</th>\n",
       "      <th></th>\n",
       "      <th></th>\n",
       "      <th></th>\n",
       "      <th></th>\n",
       "      <th></th>\n",
       "      <th></th>\n",
       "      <th></th>\n",
       "      <th></th>\n",
       "      <th></th>\n",
       "      <th></th>\n",
       "    </tr>\n",
       "  </thead>\n",
       "  <tbody>\n",
       "    <tr>\n",
       "      <th>Ayla Secura</th>\n",
       "      <td>178.0</td>\n",
       "      <td>55.0</td>\n",
       "      <td>48.0</td>\n",
       "      <td>female</td>\n",
       "      <td>http://swapi.dev/api/planets/37/</td>\n",
       "      <td>17.358919</td>\n",
       "      <td>Bajo peso</td>\n",
       "      <td>&gt;= 41.9 y &lt;52</td>\n",
       "      <td>0.824963</td>\n",
       "      <td>Ryloth</td>\n",
       "    </tr>\n",
       "  </tbody>\n",
       "</table>\n",
       "</div>"
      ],
      "text/plain": [
       "             altura  peso  anio_nacimiento  genero  \\\n",
       "nombre                                               \n",
       "Ayla Secura   178.0  55.0             48.0  female   \n",
       "\n",
       "                            planeta de origen        IMC    IMC_cat  \\\n",
       "nombre                                                                \n",
       "Ayla Secura  http://swapi.dev/api/planets/37/  17.358919  Bajo peso   \n",
       "\n",
       "                  edad_cat  ratio_IMC nombre_planeta  \n",
       "nombre                                                \n",
       "Ayla Secura  >= 41.9 y <52   0.824963         Ryloth  "
      ]
     },
     "execution_count": 27,
     "metadata": {},
     "output_type": "execute_result"
    }
   ],
   "source": [
    "# Solución:\n",
    "\n",
    "#Reset index para obtener el nombre de los planetas y para que, al hacer el merge, no perder la columna \"nombre\" de personajes\n",
    "planets_df = planets_df.reset_index()\n",
    "personajes_df =personajes_df.reset_index()\n",
    "\n",
    "#Merge de planetas y personajes\n",
    "personajes_df = pd.merge(personajes_df, planets_df[[\"url\",\"name\"]], \n",
    "                                           how=\"right\",\n",
    "                                           left_on = [\"planeta de origen\"], \n",
    "                                           right_on =[\"url\"]).set_index(\"nombre\")\n",
    "\n",
    "#Drop de la columna clave de planets_df\n",
    "personajes_df.drop(\"url\", axis= 1, inplace= True)\n",
    "#Renombrar columna para clarificar su información\n",
    "personajes_df.rename(columns={\"name\": \"nombre_planeta\"}, inplace= True)\n",
    "#Cálculo de media de IMC agrupado por planetas, DF temporal para este cálculo\n",
    "planetas_agrupados_df = personajes_df.groupby(\"planeta de origen\")[[\"IMC\"]].mean()\n",
    "#Filtro por planeta con minimo IMC promedio\n",
    "personajes_df[personajes_df[\"planeta de origen\"] == planetas_agrupados_df.IMC.idxmin()]\n"
   ]
  },
  {
   "cell_type": "markdown",
   "metadata": {},
   "source": [
    "#### Respuesta\n",
    "\n",
    "El planeta con menor IMC promedio es Ryloth, el cual es solo poblado por un solo personaje (Ayla Secura)."
   ]
  },
  {
   "cell_type": "markdown",
   "metadata": {
    "id": "7tWxDDGmgjrn"
   },
   "source": [
    "## Ejercicio 2.10.\n",
    "\n",
    "Convierte a datetime los siguientes strings con la función [datetime.strptime()](https://docs.python.org/3/library/datetime.html#strftime-strptime-behavior) (consulta la ayuda si es necesario) de la libreria datetime:\n",
    "\n",
    "- \"1 january, 2020\"\n",
    "- \"15-feb.-2017\"\n",
    "- \"20190701 22:30\"  # 1 de julio de 2019\n",
    "\n"
   ]
  },
  {
   "cell_type": "code",
   "execution_count": 28,
   "metadata": {
    "id": "ajD2V-K3gjrp"
   },
   "outputs": [
    {
     "name": "stdout",
     "output_type": "stream",
     "text": [
      "Primera Fecha\n",
      "<class 'datetime.datetime'>\n",
      "2020-01-01 00:00:00\n",
      "----------------------------------------\n",
      "Segunda Fecha\n",
      "<class 'datetime.datetime'>\n",
      "2017-02-15 00:00:00\n",
      "----------------------------------------\n",
      "Tercer Fecha\n",
      "<class 'datetime.datetime'>\n",
      "2019-07-01 22:30:00\n",
      "----------------------------------------\n"
     ]
    }
   ],
   "source": [
    "# Solución:\n",
    "\n",
    "#import locale\n",
    "#locale.setlocale(locale.LC_TIME, 'en_EN.UTF-8')\n",
    "\n",
    "primer_fecha = datetime.strptime(\"1 january, 2020\".replace(\",\",\"\"),\"%d %B %Y\")\n",
    "print(\"Primera Fecha\")\n",
    "print(type(primer_fecha))\n",
    "print(primer_fecha)\n",
    "print(\"-\"*40)\n",
    "\n",
    "segunda_fecha = datetime.strptime(\"15-feb.-2017\".replace(\"-\",\" \")\n",
    "                                                .replace(\".\",\"\"),\n",
    "                                  \"%d %b %Y\")\n",
    "print(\"Segunda Fecha\")\n",
    "print(type(segunda_fecha))\n",
    "print(segunda_fecha)\n",
    "print(\"-\"*40)\n",
    "\n",
    "tercera_fecha = datetime.strptime(\"20190701 22:30\", \"%Y%m%d %H:%M\")\n",
    "\n",
    "print(\"Tercer Fecha\")\n",
    "print(type(tercera_fecha))\n",
    "print(tercera_fecha)\n",
    "print(\"-\"*40)\n"
   ]
  }
 ],
 "metadata": {
  "colab": {
   "name": "M1_B2_AI_Python_II.ipynb",
   "provenance": []
  },
  "kernelspec": {
   "display_name": "Python 3",
   "language": "python",
   "name": "python3"
  },
  "language_info": {
   "codemirror_mode": {
    "name": "ipython",
    "version": 3
   },
   "file_extension": ".py",
   "mimetype": "text/x-python",
   "name": "python",
   "nbconvert_exporter": "python",
   "pygments_lexer": "ipython3",
   "version": "3.8.3"
  }
 },
 "nbformat": 4,
 "nbformat_minor": 1
}
